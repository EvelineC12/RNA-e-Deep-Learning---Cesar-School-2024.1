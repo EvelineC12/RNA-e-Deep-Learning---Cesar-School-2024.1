{
  "cells": [
    {
      "cell_type": "markdown",
      "source": [
        "**Atividade 3.5 da disciplina RNA e Deep Learning**\n",
        "\n",
        "**Aluna: Eveline Cavalcanti Feliciano Pontual**"
      ],
      "metadata": {
        "id": "hqfRSMy_C7bg"
      }
    },
    {
      "cell_type": "markdown",
      "metadata": {
        "id": "B3td_pl4mvQD"
      },
      "source": [
        "# Regressão Softmax com dados do MNIST"
      ]
    },
    {
      "cell_type": "markdown",
      "metadata": {
        "id": "DtkJT-FtmvQE"
      },
      "source": [
        "## Objetivo"
      ]
    },
    {
      "cell_type": "markdown",
      "metadata": {
        "id": "hF-ByQKJmvQF"
      },
      "source": [
        "O objetivo deste notebook é ilustrar o uso de praticamente a mesma rede desenvolvida para a classificação das flores Íris, porém agora com o problema de classificação de dígitos manuscritos utilizando o dataset MNIST.\n",
        "As principais diferenças são:\n",
        "- tipo do dado, agora imagem com muito atributos: 28 x 28 pixels\n",
        "- número de amostras, muito maior, 60 mil.\n",
        "Neste exercício será possível a interpretação do significado dos parâmetros treinados"
      ]
    },
    {
      "cell_type": "markdown",
      "metadata": {
        "id": "HGsYwaRemvQH"
      },
      "source": [
        "## Importação das bibliotecas"
      ]
    },
    {
      "cell_type": "code",
      "execution_count": 1,
      "metadata": {
        "ExecuteTime": {
          "end_time": "2017-11-24T15:44:50.097111",
          "start_time": "2017-11-24T15:44:48.915046"
        },
        "id": "JeBH-PI4mvQI"
      },
      "outputs": [],
      "source": [
        "%matplotlib inline\n",
        "import numpy as np\n",
        "import matplotlib.pyplot as plt\n",
        "import pandas as pd\n",
        "\n",
        "from torch.autograd import Variable\n",
        "import torch\n",
        "import torchvision"
      ]
    },
    {
      "cell_type": "markdown",
      "metadata": {
        "id": "FLEq8nmUmvQL"
      },
      "source": [
        "## Carregamento dos dados do MNIST"
      ]
    },
    {
      "cell_type": "code",
      "execution_count": 2,
      "metadata": {
        "colab": {
          "base_uri": "https://localhost:8080/"
        },
        "id": "5ueXR4zIo5wQ",
        "outputId": "a5fc533a-8b5c-440f-9e68-aa542f6e1a47"
      },
      "outputs": [
        {
          "output_type": "stream",
          "name": "stdout",
          "text": [
            "Cloning into 'MNIST'...\n",
            "remote: Enumerating objects: 10, done.\u001b[K\n",
            "remote: Total 10 (delta 0), reused 0 (delta 0), pack-reused 10 (from 1)\u001b[K\n",
            "Receiving objects: 100% (10/10), 11.01 MiB | 8.98 MiB/s, done.\n",
            "Resolving deltas: 100% (2/2), done.\n"
          ]
        }
      ],
      "source": [
        "! git clone https://github.com/vcasadei/MNIST.git"
      ]
    },
    {
      "cell_type": "code",
      "execution_count": 3,
      "metadata": {
        "ExecuteTime": {
          "end_time": "2017-11-24T15:44:50.638218",
          "start_time": "2017-11-24T15:44:50.098808"
        },
        "colab": {
          "base_uri": "https://localhost:8080/"
        },
        "id": "xZWPIWlumvQM",
        "outputId": "2f9533fa-273b-4359-a12d-80f583763b10"
      },
      "outputs": [
        {
          "output_type": "stream",
          "name": "stdout",
          "text": [
            "Amostras de treinamento: 60000\n",
            "\n",
            "Dimensões dos dados das imagens:    torch.Size([60000, 28, 28])\n",
            "Valores mínimo e máximo dos pixels: tensor(0, dtype=torch.uint8) tensor(255, dtype=torch.uint8)\n",
            "Tipo dos dados das imagens:         <class 'torch.Tensor'>\n",
            "Tipo das classes das imagens:       <class 'torch.Tensor'>\n"
          ]
        },
        {
          "output_type": "stream",
          "name": "stderr",
          "text": [
            "<ipython-input-3-6143b94785d1>:3: FutureWarning: You are using `torch.load` with `weights_only=False` (the current default value), which uses the default pickle module implicitly. It is possible to construct malicious pickle data which will execute arbitrary code during unpickling (See https://github.com/pytorch/pytorch/blob/main/SECURITY.md#untrusted-models for more details). In a future release, the default value for `weights_only` will be flipped to `True`. This limits the functions that could be executed during unpickling. Arbitrary objects will no longer be allowed to be loaded via this mode unless they are explicitly allowlisted by the user via `torch.serialization.add_safe_globals`. We recommend you start setting `weights_only=True` for any use case where you don't have full control of the loaded file. Please open an issue on GitHub for any issues related to this experimental feature.\n",
            "  x_train, y_train = torch.load(dataset_dir + 'processed/training.pt')\n"
          ]
        }
      ],
      "source": [
        "dataset_dir = 'MNIST/'\n",
        "\n",
        "x_train, y_train = torch.load(dataset_dir + 'processed/training.pt')\n",
        "\n",
        "print(\"Amostras de treinamento:\", x_train.size(0))\n",
        "\n",
        "print(\"\\nDimensões dos dados das imagens:   \", x_train.size())\n",
        "print(\"Valores mínimo e máximo dos pixels:\", torch.min(x_train), torch.max(x_train))\n",
        "print(\"Tipo dos dados das imagens:        \", type(x_train))\n",
        "print(\"Tipo das classes das imagens:      \", type(y_train))"
      ]
    },
    {
      "cell_type": "markdown",
      "metadata": {
        "id": "uR2L0QQgmvQU"
      },
      "source": [
        "### Carregamento, normalização e seleção dos dados do MNIST\n",
        "\n",
        "Neste exemplo utilizaremos apenas 1000 amostras de treinamento."
      ]
    },
    {
      "cell_type": "code",
      "execution_count": 4,
      "metadata": {
        "ExecuteTime": {
          "end_time": "2017-11-24T15:44:50.895668",
          "start_time": "2017-11-24T15:44:50.640110"
        },
        "colab": {
          "base_uri": "https://localhost:8080/"
        },
        "id": "C9Rh7wRemvQU",
        "outputId": "8a1538ec-b959-4442-fdf9-5c4a610d153b"
      },
      "outputs": [
        {
          "output_type": "stream",
          "name": "stdout",
          "text": [
            "Amostras de treinamento: 1000\n",
            "\n",
            "Dimensões dos dados das imagens:    torch.Size([1000, 28, 28])\n",
            "Valores mínimo e máximo dos pixels: tensor(0.) tensor(1.)\n",
            "Tipo dos dados das imagens:         <class 'torch.Tensor'>\n",
            "Tipo das classes das imagens:       <class 'torch.Tensor'>\n"
          ]
        }
      ],
      "source": [
        "x_train = x_train.float()\n",
        "\n",
        "x_train = x_train / 255.\n",
        "\n",
        "if True:\n",
        "    n_samples_train = 1000\n",
        "\n",
        "    x_train = x_train[:n_samples_train]\n",
        "    y_train = y_train[:n_samples_train]\n",
        "\n",
        "print(\"Amostras de treinamento:\", x_train.size(0))\n",
        "\n",
        "print(\"\\nDimensões dos dados das imagens:   \", x_train.size())\n",
        "print(\"Valores mínimo e máximo dos pixels:\", torch.min(x_train), torch.max(x_train))\n",
        "print(\"Tipo dos dados das imagens:        \", type(x_train))\n",
        "print(\"Tipo das classes das imagens:      \", type(y_train))"
      ]
    },
    {
      "cell_type": "markdown",
      "metadata": {
        "id": "6UtzmsQimvQa"
      },
      "source": [
        "### Visualizando os dados"
      ]
    },
    {
      "cell_type": "code",
      "execution_count": 5,
      "metadata": {
        "ExecuteTime": {
          "end_time": "2017-11-24T16:32:19.474568",
          "start_time": "2017-11-24T16:32:19.207270"
        },
        "colab": {
          "base_uri": "https://localhost:8080/",
          "height": 466
        },
        "id": "gFG0qpODmvQa",
        "outputId": "35fce1d6-eaa6-4d78-9ba3-0062de192bf2"
      },
      "outputs": [
        {
          "output_type": "execute_result",
          "data": {
            "text/plain": [
              "(-0.5, 232.5, 87.5, -0.5)"
            ]
          },
          "metadata": {},
          "execution_count": 5
        },
        {
          "output_type": "display_data",
          "data": {
            "text/plain": [
              "<Figure size 1500x1000 with 1 Axes>"
            ],
            "image/png": "[encoded data removed]"
          },
          "metadata": {}
        }
      ],
      "source": [
        "n_samples = 24\n",
        "\n",
        "# cria um grid com as imagens\n",
        "grid = torchvision.utils.make_grid(x_train[:n_samples].unsqueeze(1), pad_value=1.0, padding=1)\n",
        "\n",
        "plt.figure(figsize=(15, 10))\n",
        "plt.imshow(grid.numpy().transpose(1, 2, 0))\n",
        "plt.axis('off')"
      ]
    },
    {
      "cell_type": "markdown",
      "metadata": {
        "id": "075sVFBZmvQe"
      },
      "source": [
        "### Visualizando uma imagem com o matplotlib"
      ]
    },
    {
      "cell_type": "code",
      "execution_count": 6,
      "metadata": {
        "ExecuteTime": {
          "end_time": "2017-11-24T15:44:51.413232",
          "start_time": "2017-11-24T15:44:51.251376"
        },
        "colab": {
          "base_uri": "https://localhost:8080/",
          "height": 447
        },
        "id": "3W2NpeW0mvQg",
        "outputId": "f8164e90-a569-463e-9b30-fdd8309db899"
      },
      "outputs": [
        {
          "output_type": "stream",
          "name": "stdout",
          "text": [
            "class: tensor(5)\n"
          ]
        },
        {
          "output_type": "display_data",
          "data": {
            "text/plain": [
              "<Figure size 640x480 with 1 Axes>"
            ],
            "image/png": "[encoded data removed]"
          },
          "metadata": {}
        }
      ],
      "source": [
        "image  = x_train[0]\n",
        "target = y_train[0]\n",
        "\n",
        "plt.imshow(image.numpy().reshape(28,28), cmap='gray')\n",
        "print('class:', target)"
      ]
    },
    {
      "cell_type": "markdown",
      "metadata": {
        "id": "SU-PzteEmvQj"
      },
      "source": [
        "## Modelo"
      ]
    },
    {
      "cell_type": "code",
      "execution_count": 7,
      "metadata": {
        "ExecuteTime": {
          "end_time": "2017-11-24T15:44:51.419287",
          "start_time": "2017-11-24T15:44:51.415065"
        },
        "id": "VKMngBWzmvQk"
      },
      "outputs": [],
      "source": [
        "model = torch.nn.Linear(28*28, 10) # 28*28 atributos de entrada e 10 neurônios na sáida"
      ]
    },
    {
      "cell_type": "markdown",
      "metadata": {
        "id": "uzvpr1u6mvQo"
      },
      "source": [
        "### Testando um predict com poucas amostras"
      ]
    },
    {
      "cell_type": "code",
      "execution_count": 8,
      "metadata": {
        "id": "KiiO8WDAmvQq",
        "colab": {
          "base_uri": "https://localhost:8080/"
        },
        "outputId": "954494b4-6c61-4027-e44d-22a9caf095d5"
      },
      "outputs": [
        {
          "output_type": "stream",
          "name": "stdout",
          "text": [
            "Accuracy (com poucas amostras): 0.123\n"
          ]
        }
      ],
      "source": [
        "## TODO\n",
        "\n",
        "# Função de previsão\n",
        "def predict(model, input_data):\n",
        "    outputs = model(Variable(input_data))\n",
        "    _, predicts = torch.max(outputs, 1)\n",
        "    return predicts.data\n",
        "\n",
        "# Definir o número de amostras para o teste (100 amostras)\n",
        "n_samples_test = 1000\n",
        "\n",
        "# Testando com as primeiras 'n_samples_test' amostras\n",
        "y_pred = predict(model, x_train[:n_samples_test].view(-1, 28*28))\n",
        "\n",
        "# Calcular a acurácia com as poucas amostras\n",
        "accuracy = (y_pred.numpy() == y_train[:n_samples_test].numpy()).mean()\n",
        "\n",
        "print('Accuracy (com poucas amostras):', accuracy)"
      ]
    },
    {
      "cell_type": "markdown",
      "metadata": {
        "id": "tIIeicyGmvQs"
      },
      "source": [
        "## Treinamento"
      ]
    },
    {
      "cell_type": "markdown",
      "metadata": {
        "id": "tSfqKNW2mvQt"
      },
      "source": [
        "### Inicialização dos parâmetros"
      ]
    },
    {
      "cell_type": "code",
      "execution_count": 9,
      "metadata": {
        "ExecuteTime": {
          "end_time": "2017-11-24T15:44:51.425768",
          "start_time": "2017-11-24T15:44:51.420825"
        },
        "id": "I9W3OFvomvQu"
      },
      "outputs": [],
      "source": [
        "epochs = 5\n",
        "learningRate = 0.5\n",
        "\n",
        "# Utilizaremos CrossEntropyLoss como função de perda\n",
        "criterion = torch.nn.CrossEntropyLoss()\n",
        "\n",
        "# Gradiente descendente\n",
        "optimizer = torch.optim.SGD(model.parameters(), lr=learningRate)"
      ]
    },
    {
      "cell_type": "markdown",
      "metadata": {
        "id": "hlNgV_pgmvQx"
      },
      "source": [
        "### Visualização do grafo computacional da perda (loss)"
      ]
    },
    {
      "cell_type": "code",
      "execution_count": 10,
      "metadata": {
        "colab": {
          "base_uri": "https://localhost:8080/"
        },
        "id": "5ycGDyoWjMoR",
        "outputId": "eb3d4832-682a-4fb1-dd20-61963511eef1"
      },
      "outputs": [
        {
          "output_type": "stream",
          "name": "stdout",
          "text": [
            "Requirement already satisfied: graphviz in /usr/local/lib/python3.10/dist-packages (0.20.3)\n",
            "Collecting git+https://github.com/szagoruyko/pytorchviz\n",
            "  Cloning https://github.com/szagoruyko/pytorchviz to /tmp/pip-req-build-6q2370ac\n",
            "  Running command git clone --filter=blob:none --quiet https://github.com/szagoruyko/pytorchviz /tmp/pip-req-build-6q2370ac\n",
            "  Resolved https://github.com/szagoruyko/pytorchviz to commit 0adcd83af8aa7ab36d6afd139cabbd9df598edb7\n",
            "  Preparing metadata (setup.py) ... \u001b[?25l\u001b[?25hdone\n",
            "Requirement already satisfied: torch in /usr/local/lib/python3.10/dist-packages (from torchviz==0.0.2) (2.5.1+cu121)\n",
            "Requirement already satisfied: graphviz in /usr/local/lib/python3.10/dist-packages (from torchviz==0.0.2) (0.20.3)\n",
            "Requirement already satisfied: filelock in /usr/local/lib/python3.10/dist-packages (from torch->torchviz==0.0.2) (3.16.1)\n",
            "Requirement already satisfied: typing-extensions>=4.8.0 in /usr/local/lib/python3.10/dist-packages (from torch->torchviz==0.0.2) (4.12.2)\n",
            "Requirement already satisfied: networkx in /usr/local/lib/python3.10/dist-packages (from torch->torchviz==0.0.2) (3.4.2)\n",
            "Requirement already satisfied: jinja2 in /usr/local/lib/python3.10/dist-packages (from torch->torchviz==0.0.2) (3.1.4)\n",
            "Requirement already satisfied: fsspec in /usr/local/lib/python3.10/dist-packages (from torch->torchviz==0.0.2) (2024.10.0)\n",
            "Requirement already satisfied: sympy==1.13.1 in /usr/local/lib/python3.10/dist-packages (from torch->torchviz==0.0.2) (1.13.1)\n",
            "Requirement already satisfied: mpmath<1.4,>=1.1.0 in /usr/local/lib/python3.10/dist-packages (from sympy==1.13.1->torch->torchviz==0.0.2) (1.3.0)\n",
            "Requirement already satisfied: MarkupSafe>=2.0 in /usr/local/lib/python3.10/dist-packages (from jinja2->torch->torchviz==0.0.2) (3.0.2)\n",
            "Building wheels for collected packages: torchviz\n",
            "  Building wheel for torchviz (setup.py) ... \u001b[?25l\u001b[?25hdone\n",
            "  Created wheel for torchviz: filename=torchviz-0.0.2-py3-none-any.whl size=4972 sha256=d45aabf39e66918d19d903e3a1841dae13a3e70b4b08ba00d1a1be509c33eef3\n",
            "  Stored in directory: /tmp/pip-ephem-wheel-cache-hucorsz2/wheels/44/5a/39/48c1209682afcfc7ad8ae7b3cf7aa0ff08a72e3ac4e5931f1d\n",
            "Successfully built torchviz\n",
            "Installing collected packages: torchviz\n",
            "Successfully installed torchviz-0.0.2\n"
          ]
        }
      ],
      "source": [
        "!pip install graphviz\n",
        "!pip install git+https://github.com/szagoruyko/pytorchviz"
      ]
    },
    {
      "cell_type": "code",
      "execution_count": 11,
      "metadata": {
        "ExecuteTime": {
          "end_time": "2017-11-24T16:28:18.101867",
          "start_time": "2017-11-24T16:28:18.062312"
        },
        "colab": {
          "base_uri": "https://localhost:8080/",
          "height": 543
        },
        "id": "oYPRIePImvQz",
        "outputId": "6e36da55-4a87-4afb-93c3-8e804ebd743a"
      },
      "outputs": [
        {
          "output_type": "execute_result",
          "data": {
            "image/svg+xml": "<?xml version=\"1.0\" encoding=\"UTF-8\" standalone=\"no\"?>\n<!DOCTYPE svg PUBLIC \"-//W3C//DTD SVG 1.1//EN\"\n \"http://www.w3.org/Graphics/SVG/1.1/DTD/svg11.dtd\">\n<!-- Generated by graphviz version 2.43.0 (0)\n -->\n<!-- Title: %3 Pages: 1 -->\n<svg width=\"216pt\" height=\"391pt\"\n viewBox=\"0.00 0.00 216.00 391.00\" xmlns=\"http://www.w3.org/2000/svg\" xmlns:xlink=\"http://www.w3.org/1999/xlink\">\n<g id=\"graph0\" class=\"graph\" transform=\"scale(1 1) rotate(0) translate(4 387)\">\n<title>%3</title>\n<polygon fill=\"white\" stroke=\"transparent\" points=\"-4,4 -4,-387 212,-387 212,4 -4,4\"/>\n<!-- 140508894418944 -->\n<g id=\"node1\" class=\"node\">\n<title>140508894418944</title>\n<polygon fill=\"#caff70\" stroke=\"black\" points=\"130.5,-31 76.5,-31 76.5,0 130.5,0 130.5,-31\"/>\n<text text-anchor=\"middle\" x=\"103.5\" y=\"-7\" font-family=\"monospace\" font-size=\"10.00\"> ()</text>\n</g>\n<!-- 140508894168304 -->\n<g id=\"node2\" class=\"node\">\n<title>140508894168304</title>\n<polygon fill=\"lightgrey\" stroke=\"black\" points=\"160,-86 47,-86 47,-67 160,-67 160,-86\"/>\n<text text-anchor=\"middle\" x=\"103.5\" y=\"-74\" font-family=\"monospace\" font-size=\"10.00\">NllLossBackward0</text>\n</g>\n<!-- 140508894168304&#45;&gt;140508894418944 -->\n<g id=\"edge8\" class=\"edge\">\n<title>140508894168304&#45;&gt;140508894418944</title>\n<path fill=\"none\" stroke=\"black\" d=\"M103.5,-66.79C103.5,-60.07 103.5,-50.4 103.5,-41.34\"/>\n<polygon fill=\"black\" stroke=\"black\" points=\"107,-41.19 103.5,-31.19 100,-41.19 107,-41.19\"/>\n</g>\n<!-- 140508894167296 -->\n<g id=\"node3\" class=\"node\">\n<title>140508894167296</title>\n<polygon fill=\"lightgrey\" stroke=\"black\" points=\"169,-141 38,-141 38,-122 169,-122 169,-141\"/>\n<text text-anchor=\"middle\" x=\"103.5\" y=\"-129\" font-family=\"monospace\" font-size=\"10.00\">LogSoftmaxBackward0</text>\n</g>\n<!-- 140508894167296&#45;&gt;140508894168304 -->\n<g id=\"edge1\" class=\"edge\">\n<title>140508894167296&#45;&gt;140508894168304</title>\n<path fill=\"none\" stroke=\"black\" d=\"M103.5,-121.75C103.5,-114.8 103.5,-104.85 103.5,-96.13\"/>\n<polygon fill=\"black\" stroke=\"black\" points=\"107,-96.09 103.5,-86.09 100,-96.09 107,-96.09\"/>\n</g>\n<!-- 140508894168064 -->\n<g id=\"node4\" class=\"node\">\n<title>140508894168064</title>\n<polygon fill=\"lightgrey\" stroke=\"black\" points=\"154,-196 53,-196 53,-177 154,-177 154,-196\"/>\n<text text-anchor=\"middle\" x=\"103.5\" y=\"-184\" font-family=\"monospace\" font-size=\"10.00\">AddmmBackward0</text>\n</g>\n<!-- 140508894168064&#45;&gt;140508894167296 -->\n<g id=\"edge2\" class=\"edge\">\n<title>140508894168064&#45;&gt;140508894167296</title>\n<path fill=\"none\" stroke=\"black\" d=\"M103.5,-176.75C103.5,-169.8 103.5,-159.85 103.5,-151.13\"/>\n<polygon fill=\"black\" stroke=\"black\" points=\"107,-151.09 103.5,-141.09 100,-151.09 107,-151.09\"/>\n</g>\n<!-- 140508894168160 -->\n<g id=\"node5\" class=\"node\">\n<title>140508894168160</title>\n<polygon fill=\"lightgrey\" stroke=\"black\" points=\"101,-251 0,-251 0,-232 101,-232 101,-251\"/>\n<text text-anchor=\"middle\" x=\"50.5\" y=\"-239\" font-family=\"monospace\" font-size=\"10.00\">AccumulateGrad</text>\n</g>\n<!-- 140508894168160&#45;&gt;140508894168064 -->\n<g id=\"edge3\" class=\"edge\">\n<title>140508894168160&#45;&gt;140508894168064</title>\n<path fill=\"none\" stroke=\"black\" d=\"M59.25,-231.75C66.97,-224.03 78.4,-212.6 87.72,-203.28\"/>\n<polygon fill=\"black\" stroke=\"black\" points=\"90.31,-205.64 94.91,-196.09 85.36,-200.69 90.31,-205.64\"/>\n</g>\n<!-- 140512640278000 -->\n<g id=\"node6\" class=\"node\">\n<title>140512640278000</title>\n<polygon fill=\"lightblue\" stroke=\"black\" points=\"77.5,-317 23.5,-317 23.5,-287 77.5,-287 77.5,-317\"/>\n<text text-anchor=\"middle\" x=\"50.5\" y=\"-305\" font-family=\"monospace\" font-size=\"10.00\">bias</text>\n<text text-anchor=\"middle\" x=\"50.5\" y=\"-294\" font-family=\"monospace\" font-size=\"10.00\"> (10)</text>\n</g>\n<!-- 140512640278000&#45;&gt;140508894168160 -->\n<g id=\"edge4\" class=\"edge\">\n<title>140512640278000&#45;&gt;140508894168160</title>\n<path fill=\"none\" stroke=\"black\" d=\"M50.5,-286.84C50.5,-279.21 50.5,-269.7 50.5,-261.45\"/>\n<polygon fill=\"black\" stroke=\"black\" points=\"54,-261.27 50.5,-251.27 47,-261.27 54,-261.27\"/>\n</g>\n<!-- 140508894168256 -->\n<g id=\"node7\" class=\"node\">\n<title>140508894168256</title>\n<polygon fill=\"lightgrey\" stroke=\"black\" points=\"196,-251 119,-251 119,-232 196,-232 196,-251\"/>\n<text text-anchor=\"middle\" x=\"157.5\" y=\"-239\" font-family=\"monospace\" font-size=\"10.00\">TBackward0</text>\n</g>\n<!-- 140508894168256&#45;&gt;140508894168064 -->\n<g id=\"edge5\" class=\"edge\">\n<title>140508894168256&#45;&gt;140508894168064</title>\n<path fill=\"none\" stroke=\"black\" d=\"M148.58,-231.75C140.72,-224.03 129.07,-212.6 119.58,-203.28\"/>\n<polygon fill=\"black\" stroke=\"black\" points=\"121.84,-200.6 112.25,-196.09 116.94,-205.59 121.84,-200.6\"/>\n</g>\n<!-- 140508894167200 -->\n<g id=\"node8\" class=\"node\">\n<title>140508894167200</title>\n<polygon fill=\"lightgrey\" stroke=\"black\" points=\"208,-311.5 107,-311.5 107,-292.5 208,-292.5 208,-311.5\"/>\n<text text-anchor=\"middle\" x=\"157.5\" y=\"-299.5\" font-family=\"monospace\" font-size=\"10.00\">AccumulateGrad</text>\n</g>\n<!-- 140508894167200&#45;&gt;140508894168256 -->\n<g id=\"edge6\" class=\"edge\">\n<title>140508894167200&#45;&gt;140508894168256</title>\n<path fill=\"none\" stroke=\"black\" d=\"M157.5,-292.37C157.5,-284.25 157.5,-271.81 157.5,-261.39\"/>\n<polygon fill=\"black\" stroke=\"black\" points=\"161,-261.17 157.5,-251.17 154,-261.17 161,-261.17\"/>\n</g>\n<!-- 140508935195680 -->\n<g id=\"node9\" class=\"node\">\n<title>140508935195680</title>\n<polygon fill=\"lightblue\" stroke=\"black\" points=\"196,-383 119,-383 119,-353 196,-353 196,-383\"/>\n<text text-anchor=\"middle\" x=\"157.5\" y=\"-371\" font-family=\"monospace\" font-size=\"10.00\">weight</text>\n<text text-anchor=\"middle\" x=\"157.5\" y=\"-360\" font-family=\"monospace\" font-size=\"10.00\"> (10, 784)</text>\n</g>\n<!-- 140508935195680&#45;&gt;140508894167200 -->\n<g id=\"edge7\" class=\"edge\">\n<title>140508935195680&#45;&gt;140508894167200</title>\n<path fill=\"none\" stroke=\"black\" d=\"M157.5,-352.8C157.5,-343.7 157.5,-331.79 157.5,-321.9\"/>\n<polygon fill=\"black\" stroke=\"black\" points=\"161,-321.84 157.5,-311.84 154,-321.84 161,-321.84\"/>\n</g>\n</g>\n</svg>\n",
            "text/plain": [
              "<graphviz.graphs.Digraph at 0x7fcac6b98520>"
            ]
          },
          "metadata": {},
          "execution_count": 11
        }
      ],
      "source": [
        "y_pred = model(Variable(x_train.view(-1,28*28)))\n",
        "loss = criterion(y_pred, Variable(y_train))\n",
        "from torchviz import make_dot, make_dot_from_trace\n",
        "p = make_dot(loss, dict(model.named_parameters()))\n",
        "p"
      ]
    },
    {
      "cell_type": "markdown",
      "metadata": {
        "id": "Pq2yq8qAmvQ2"
      },
      "source": [
        "### Laço de treinamento dos pesos"
      ]
    },
    {
      "cell_type": "code",
      "execution_count": 12,
      "metadata": {
        "ExecuteTime": {
          "end_time": "2017-11-24T15:44:51.678678",
          "start_time": "2017-11-24T15:44:51.427695"
        },
        "colab": {
          "base_uri": "https://localhost:8080/",
          "height": 34
        },
        "id": "HPUUNKXxmvQ3",
        "outputId": "3c4a1573-22eb-4c67-cbef-6ad109cca9c6"
      },
      "outputs": [
        {
          "output_type": "display_data",
          "data": {
            "text/plain": [
              "<Figure size 1800x600 with 0 Axes>"
            ]
          },
          "metadata": {}
        }
      ],
      "source": [
        "from IPython import display\n",
        "import numpy\n",
        "a = 5\n",
        "losses = []\n",
        "zs = []\n",
        "fig = plt.figure(figsize=(18, 6))\n",
        "\n",
        "try:\n",
        "    for i in range(epochs):\n",
        "        # Transforma a entrada para uma dimensão\n",
        "        inputs = Variable(x_train.view(-1, 28 * 28))\n",
        "        # Predict da rede\n",
        "        outputs = model(inputs)\n",
        "        zs.append(outputs[1].detach().numpy())\n",
        "\n",
        "        # calcula a perda\n",
        "        loss = criterion(outputs, Variable(y_train))\n",
        "\n",
        "        # zero, backpropagation, ajusta parâmetros pelo gradiente descendente\n",
        "        optimizer.zero_grad()\n",
        "        loss.backward()\n",
        "        optimizer.step()\n",
        "\n",
        "        losses.append(loss.data)\n",
        "        _, predicts = torch.max(outputs, 1)\n",
        "\n",
        "        y_pred = predicts.data\n",
        "        accuracy = (y_pred.numpy() == y_train.numpy()).mean()\n",
        "\n",
        "except KeyboardInterrupt:\n",
        "    pass"
      ]
    },
    {
      "cell_type": "code",
      "execution_count": 13,
      "metadata": {
        "colab": {
          "base_uri": "https://localhost:8080/"
        },
        "id": "8wbN-_fnmvQ7",
        "outputId": "99ab8d14-4b51-4dec-9960-76d4bcf32f7a"
      },
      "outputs": [
        {
          "output_type": "execute_result",
          "data": {
            "text/plain": [
              "tensor([[0., 0., 0.,  ..., 0., 0., 0.],\n",
              "        [0., 0., 0.,  ..., 0., 0., 0.],\n",
              "        [0., 0., 0.,  ..., 0., 0., 0.],\n",
              "        ...,\n",
              "        [0., 0., 0.,  ..., 0., 0., 0.],\n",
              "        [0., 0., 0.,  ..., 0., 0., 0.],\n",
              "        [0., 0., 0.,  ..., 0., 0., 0.]])"
            ]
          },
          "metadata": {},
          "execution_count": 13
        }
      ],
      "source": [
        "model.weight.grad"
      ]
    },
    {
      "cell_type": "code",
      "execution_count": 14,
      "metadata": {
        "ExecuteTime": {
          "end_time": "2017-11-24T15:44:51.685301",
          "start_time": "2017-11-24T15:44:51.680419"
        },
        "colab": {
          "base_uri": "https://localhost:8080/"
        },
        "id": "mPWKRc_gmvRH",
        "outputId": "06ec1e32-bf1c-46e3-8a00-92a1b62651b5"
      },
      "outputs": [
        {
          "output_type": "stream",
          "name": "stdout",
          "text": [
            "Final loss: tensor(1.0904)\n"
          ]
        }
      ],
      "source": [
        "print('Final loss:', loss.data)"
      ]
    },
    {
      "cell_type": "markdown",
      "metadata": {
        "id": "PWIjRdCJmvRQ"
      },
      "source": [
        "### Visualizando gráfico de perda durante o treinamento"
      ]
    },
    {
      "cell_type": "code",
      "execution_count": 15,
      "metadata": {
        "ExecuteTime": {
          "end_time": "2017-11-24T15:44:56.787741",
          "start_time": "2017-11-24T15:44:56.627754"
        },
        "id": "gwV8aFcbmvRR",
        "outputId": "5547602a-1a23-4aa4-c727-ee0e954f156b",
        "colab": {
          "base_uri": "https://localhost:8080/",
          "height": 447
        }
      },
      "outputs": [
        {
          "output_type": "execute_result",
          "data": {
            "text/plain": [
              "[<matplotlib.lines.Line2D at 0x7fcac932e230>]"
            ]
          },
          "metadata": {},
          "execution_count": 15
        },
        {
          "output_type": "display_data",
          "data": {
            "text/plain": [
              "<Figure size 640x480 with 1 Axes>"
            ],
            "image/png": "[encoded data removed]"
          },
          "metadata": {}
        }
      ],
      "source": [
        "plt.plot(losses)"
      ]
    },
    {
      "cell_type": "markdown",
      "metadata": {
        "id": "H8og76PRmvRW"
      },
      "source": [
        "## Avaliação"
      ]
    },
    {
      "cell_type": "markdown",
      "metadata": {
        "id": "tIe0ngxWmvRY"
      },
      "source": [
        "### Acurácia tanto no conjunto de treinamento como no conjunto de testes"
      ]
    },
    {
      "cell_type": "code",
      "execution_count": 16,
      "metadata": {
        "ExecuteTime": {
          "end_time": "2017-11-24T15:50:29.922115",
          "start_time": "2017-11-24T15:50:29.914004"
        },
        "id": "tlL-lfF5mvRZ",
        "outputId": "85a65104-ed6c-4b5b-c84a-e151fd3d25f0",
        "colab": {
          "base_uri": "https://localhost:8080/"
        }
      },
      "outputs": [
        {
          "output_type": "stream",
          "name": "stdout",
          "text": [
            "Accuracy: 0.808\n"
          ]
        }
      ],
      "source": [
        "def predict(model, input_data):\n",
        "    outputs = model(Variable(input_data))\n",
        "    _, predicts = torch.max(outputs, 1)\n",
        "\n",
        "    return predicts.data\n",
        "\n",
        "y_pred = predict(model, x_train.view(-1, 28*28))\n",
        "accuracy = (y_pred.numpy() == y_train.numpy()).mean()\n",
        "print('Accuracy:', accuracy)"
      ]
    },
    {
      "cell_type": "markdown",
      "metadata": {
        "id": "CvWz9qeDmvRc"
      },
      "source": [
        "### Matriz de confusão com dados de treinamento e teste"
      ]
    },
    {
      "cell_type": "code",
      "execution_count": 17,
      "metadata": {
        "ExecuteTime": {
          "end_time": "2017-11-24T15:51:40.706177",
          "start_time": "2017-11-24T15:51:40.679474"
        },
        "id": "CqNe40IqmvRd",
        "outputId": "5c0d9262-0263-4620-db8a-e98d754aef8a",
        "colab": {
          "base_uri": "https://localhost:8080/",
          "height": 411
        }
      },
      "outputs": [
        {
          "output_type": "stream",
          "name": "stdout",
          "text": [
            "Matriz de confusão:\n"
          ]
        },
        {
          "output_type": "execute_result",
          "data": {
            "text/plain": [
              "col_0   0    1   2   3   4   5   6    7   8   9\n",
              "row_0                                          \n",
              "0      94    0   4   1   0   6   2    2   0   3\n",
              "1       0  109  11   1   2   4   3    6   8   1\n",
              "2       1    0  73   2   1   2   2    1   3   1\n",
              "3       0    0   0  78   1  19   0    0   9   3\n",
              "4       0    0   2   0  92   8   3    4   0   8\n",
              "5       0    2   0   4   0  45   1    0   1   0\n",
              "6       2    1   1   1   2   3  83    0   2   1\n",
              "7       0    1   5   4   0   1   0  101   0  11\n",
              "8       0    3   3   0   0   2   0    0  63   2\n",
              "9       0    0   0   2   7   2   0    3   1  70"
            ],
            "text/html": [
              "\n",
              "  <div id=\"df-a6b39fb9-29c6-4afd-ac48-52bd28cf8b4d\" class=\"colab-df-container\">\n",
              "    <div>\n",
              "<style scoped>\n",
              "    .dataframe tbody tr th:only-of-type {\n",
              "        vertical-align: middle;\n",
              "    }\n",
              "\n",
              "    .dataframe tbody tr th {\n",
              "        vertical-align: top;\n",
              "    }\n",
              "\n",
              "    .dataframe thead th {\n",
              "        text-align: right;\n",
              "    }\n",
              "</style>\n",
              "<table border=\"1\" class=\"dataframe\">\n",
              "  <thead>\n",
              "    <tr style=\"text-align: right;\">\n",
              "      <th>col_0</th>\n",
              "      <th>0</th>\n",
              "      <th>1</th>\n",
              "      <th>2</th>\n",
              "      <th>3</th>\n",
              "      <th>4</th>\n",
              "      <th>5</th>\n",
              "      <th>6</th>\n",
              "      <th>7</th>\n",
              "      <th>8</th>\n",
              "      <th>9</th>\n",
              "    </tr>\n",
              "    <tr>\n",
              "      <th>row_0</th>\n",
              "      <th></th>\n",
              "      <th></th>\n",
              "      <th></th>\n",
              "      <th></th>\n",
              "      <th></th>\n",
              "      <th></th>\n",
              "      <th></th>\n",
              "      <th></th>\n",
              "      <th></th>\n",
              "      <th></th>\n",
              "    </tr>\n",
              "  </thead>\n",
              "  <tbody>\n",
              "    <tr>\n",
              "      <th>0</th>\n",
              "      <td>94</td>\n",
              "      <td>0</td>\n",
              "      <td>4</td>\n",
              "      <td>1</td>\n",
              "      <td>0</td>\n",
              "      <td>6</td>\n",
              "      <td>2</td>\n",
              "      <td>2</td>\n",
              "      <td>0</td>\n",
              "      <td>3</td>\n",
              "    </tr>\n",
              "    <tr>\n",
              "      <th>1</th>\n",
              "      <td>0</td>\n",
              "      <td>109</td>\n",
              "      <td>11</td>\n",
              "      <td>1</td>\n",
              "      <td>2</td>\n",
              "      <td>4</td>\n",
              "      <td>3</td>\n",
              "      <td>6</td>\n",
              "      <td>8</td>\n",
              "      <td>1</td>\n",
              "    </tr>\n",
              "    <tr>\n",
              "      <th>2</th>\n",
              "      <td>1</td>\n",
              "      <td>0</td>\n",
              "      <td>73</td>\n",
              "      <td>2</td>\n",
              "      <td>1</td>\n",
              "      <td>2</td>\n",
              "      <td>2</td>\n",
              "      <td>1</td>\n",
              "      <td>3</td>\n",
              "      <td>1</td>\n",
              "    </tr>\n",
              "    <tr>\n",
              "      <th>3</th>\n",
              "      <td>0</td>\n",
              "      <td>0</td>\n",
              "      <td>0</td>\n",
              "      <td>78</td>\n",
              "      <td>1</td>\n",
              "      <td>19</td>\n",
              "      <td>0</td>\n",
              "      <td>0</td>\n",
              "      <td>9</td>\n",
              "      <td>3</td>\n",
              "    </tr>\n",
              "    <tr>\n",
              "      <th>4</th>\n",
              "      <td>0</td>\n",
              "      <td>0</td>\n",
              "      <td>2</td>\n",
              "      <td>0</td>\n",
              "      <td>92</td>\n",
              "      <td>8</td>\n",
              "      <td>3</td>\n",
              "      <td>4</td>\n",
              "      <td>0</td>\n",
              "      <td>8</td>\n",
              "    </tr>\n",
              "    <tr>\n",
              "      <th>5</th>\n",
              "      <td>0</td>\n",
              "      <td>2</td>\n",
              "      <td>0</td>\n",
              "      <td>4</td>\n",
              "      <td>0</td>\n",
              "      <td>45</td>\n",
              "      <td>1</td>\n",
              "      <td>0</td>\n",
              "      <td>1</td>\n",
              "      <td>0</td>\n",
              "    </tr>\n",
              "    <tr>\n",
              "      <th>6</th>\n",
              "      <td>2</td>\n",
              "      <td>1</td>\n",
              "      <td>1</td>\n",
              "      <td>1</td>\n",
              "      <td>2</td>\n",
              "      <td>3</td>\n",
              "      <td>83</td>\n",
              "      <td>0</td>\n",
              "      <td>2</td>\n",
              "      <td>1</td>\n",
              "    </tr>\n",
              "    <tr>\n",
              "      <th>7</th>\n",
              "      <td>0</td>\n",
              "      <td>1</td>\n",
              "      <td>5</td>\n",
              "      <td>4</td>\n",
              "      <td>0</td>\n",
              "      <td>1</td>\n",
              "      <td>0</td>\n",
              "      <td>101</td>\n",
              "      <td>0</td>\n",
              "      <td>11</td>\n",
              "    </tr>\n",
              "    <tr>\n",
              "      <th>8</th>\n",
              "      <td>0</td>\n",
              "      <td>3</td>\n",
              "      <td>3</td>\n",
              "      <td>0</td>\n",
              "      <td>0</td>\n",
              "      <td>2</td>\n",
              "      <td>0</td>\n",
              "      <td>0</td>\n",
              "      <td>63</td>\n",
              "      <td>2</td>\n",
              "    </tr>\n",
              "    <tr>\n",
              "      <th>9</th>\n",
              "      <td>0</td>\n",
              "      <td>0</td>\n",
              "      <td>0</td>\n",
              "      <td>2</td>\n",
              "      <td>7</td>\n",
              "      <td>2</td>\n",
              "      <td>0</td>\n",
              "      <td>3</td>\n",
              "      <td>1</td>\n",
              "      <td>70</td>\n",
              "    </tr>\n",
              "  </tbody>\n",
              "</table>\n",
              "</div>\n",
              "    <div class=\"colab-df-buttons\">\n",
              "\n",
              "  <div class=\"colab-df-container\">\n",
              "    <button class=\"colab-df-convert\" onclick=\"convertToInteractive('df-a6b39fb9-29c6-4afd-ac48-52bd28cf8b4d')\"\n",
              "            title=\"Convert this dataframe to an interactive table.\"\n",
              "            style=\"display:none;\">\n",
              "\n",
              "  <svg xmlns=\"http://www.w3.org/2000/svg\" height=\"24px\" viewBox=\"0 -960 960 960\">\n",
              "    <path d=\"M120-120v-720h720v720H120Zm60-500h600v-160H180v160Zm220 220h160v-160H400v160Zm0 220h160v-160H400v160ZM180-400h160v-160H180v160Zm440 0h160v-160H620v160ZM180-180h160v-160H180v160Zm440 0h160v-160H620v160Z\"/>\n",
              "  </svg>\n",
              "    </button>\n",
              "\n",
              "  <style>\n",
              "    .colab-df-container {\n",
              "      display:flex;\n",
              "      gap: 12px;\n",
              "    }\n",
              "\n",
              "    .colab-df-convert {\n",
              "      background-color: #E8F0FE;\n",
              "      border: none;\n",
              "      border-radius: 50%;\n",
              "      cursor: pointer;\n",
              "      display: none;\n",
              "      fill: #1967D2;\n",
              "      height: 32px;\n",
              "      padding: 0 0 0 0;\n",
              "      width: 32px;\n",
              "    }\n",
              "\n",
              "    .colab-df-convert:hover {\n",
              "      background-color: #E2EBFA;\n",
              "      box-shadow: 0px 1px 2px rgba(60, 64, 67, 0.3), 0px 1px 3px 1px rgba(60, 64, 67, 0.15);\n",
              "      fill: #174EA6;\n",
              "    }\n",
              "\n",
              "    .colab-df-buttons div {\n",
              "      margin-bottom: 4px;\n",
              "    }\n",
              "\n",
              "    [theme=dark] .colab-df-convert {\n",
              "      background-color: #3B4455;\n",
              "      fill: #D2E3FC;\n",
              "    }\n",
              "\n",
              "    [theme=dark] .colab-df-convert:hover {\n",
              "      background-color: #434B5C;\n",
              "      box-shadow: 0px 1px 3px 1px rgba(0, 0, 0, 0.15);\n",
              "      filter: drop-shadow(0px 1px 2px rgba(0, 0, 0, 0.3));\n",
              "      fill: #FFFFFF;\n",
              "    }\n",
              "  </style>\n",
              "\n",
              "    <script>\n",
              "      const buttonEl =\n",
              "        document.querySelector('#df-a6b39fb9-29c6-4afd-ac48-52bd28cf8b4d button.colab-df-convert');\n",
              "      buttonEl.style.display =\n",
              "        google.colab.kernel.accessAllowed ? 'block' : 'none';\n",
              "\n",
              "      async function convertToInteractive(key) {\n",
              "        const element = document.querySelector('#df-a6b39fb9-29c6-4afd-ac48-52bd28cf8b4d');\n",
              "        const dataTable =\n",
              "          await google.colab.kernel.invokeFunction('convertToInteractive',\n",
              "                                                    [key], {});\n",
              "        if (!dataTable) return;\n",
              "\n",
              "        const docLinkHtml = 'Like what you see? Visit the ' +\n",
              "          '<a target=\"_blank\" href=https://colab.research.google.com/notebooks/data_table.ipynb>data table notebook</a>'\n",
              "          + ' to learn more about interactive tables.';\n",
              "        element.innerHTML = '';\n",
              "        dataTable['output_type'] = 'display_data';\n",
              "        await google.colab.output.renderOutput(dataTable, element);\n",
              "        const docLink = document.createElement('div');\n",
              "        docLink.innerHTML = docLinkHtml;\n",
              "        element.appendChild(docLink);\n",
              "      }\n",
              "    </script>\n",
              "  </div>\n",
              "\n",
              "\n",
              "<div id=\"df-302baefd-fa03-48b2-ae31-ddc82973a014\">\n",
              "  <button class=\"colab-df-quickchart\" onclick=\"quickchart('df-302baefd-fa03-48b2-ae31-ddc82973a014')\"\n",
              "            title=\"Suggest charts\"\n",
              "            style=\"display:none;\">\n",
              "\n",
              "<svg xmlns=\"http://www.w3.org/2000/svg\" height=\"24px\"viewBox=\"0 0 24 24\"\n",
              "     width=\"24px\">\n",
              "    <g>\n",
              "        <path d=\"M19 3H5c-1.1 0-2 .9-2 2v14c0 1.1.9 2 2 2h14c1.1 0 2-.9 2-2V5c0-1.1-.9-2-2-2zM9 17H7v-7h2v7zm4 0h-2V7h2v10zm4 0h-2v-4h2v4z\"/>\n",
              "    </g>\n",
              "</svg>\n",
              "  </button>\n",
              "\n",
              "<style>\n",
              "  .colab-df-quickchart {\n",
              "      --bg-color: #E8F0FE;\n",
              "      --fill-color: #1967D2;\n",
              "      --hover-bg-color: #E2EBFA;\n",
              "      --hover-fill-color: #174EA6;\n",
              "      --disabled-fill-color: #AAA;\n",
              "      --disabled-bg-color: #DDD;\n",
              "  }\n",
              "\n",
              "  [theme=dark] .colab-df-quickchart {\n",
              "      --bg-color: #3B4455;\n",
              "      --fill-color: #D2E3FC;\n",
              "      --hover-bg-color: #434B5C;\n",
              "      --hover-fill-color: #FFFFFF;\n",
              "      --disabled-bg-color: #3B4455;\n",
              "      --disabled-fill-color: #666;\n",
              "  }\n",
              "\n",
              "  .colab-df-quickchart {\n",
              "    background-color: var(--bg-color);\n",
              "    border: none;\n",
              "    border-radius: 50%;\n",
              "    cursor: pointer;\n",
              "    display: none;\n",
              "    fill: var(--fill-color);\n",
              "    height: 32px;\n",
              "    padding: 0;\n",
              "    width: 32px;\n",
              "  }\n",
              "\n",
              "  .colab-df-quickchart:hover {\n",
              "    background-color: var(--hover-bg-color);\n",
              "    box-shadow: 0 1px 2px rgba(60, 64, 67, 0.3), 0 1px 3px 1px rgba(60, 64, 67, 0.15);\n",
              "    fill: var(--button-hover-fill-color);\n",
              "  }\n",
              "\n",
              "  .colab-df-quickchart-complete:disabled,\n",
              "  .colab-df-quickchart-complete:disabled:hover {\n",
              "    background-color: var(--disabled-bg-color);\n",
              "    fill: var(--disabled-fill-color);\n",
              "    box-shadow: none;\n",
              "  }\n",
              "\n",
              "  .colab-df-spinner {\n",
              "    border: 2px solid var(--fill-color);\n",
              "    border-color: transparent;\n",
              "    border-bottom-color: var(--fill-color);\n",
              "    animation:\n",
              "      spin 1s steps(1) infinite;\n",
              "  }\n",
              "\n",
              "  @keyframes spin {\n",
              "    0% {\n",
              "      border-color: transparent;\n",
              "      border-bottom-color: var(--fill-color);\n",
              "      border-left-color: var(--fill-color);\n",
              "    }\n",
              "    20% {\n",
              "      border-color: transparent;\n",
              "      border-left-color: var(--fill-color);\n",
              "      border-top-color: var(--fill-color);\n",
              "    }\n",
              "    30% {\n",
              "      border-color: transparent;\n",
              "      border-left-color: var(--fill-color);\n",
              "      border-top-color: var(--fill-color);\n",
              "      border-right-color: var(--fill-color);\n",
              "    }\n",
              "    40% {\n",
              "      border-color: transparent;\n",
              "      border-right-color: var(--fill-color);\n",
              "      border-top-color: var(--fill-color);\n",
              "    }\n",
              "    60% {\n",
              "      border-color: transparent;\n",
              "      border-right-color: var(--fill-color);\n",
              "    }\n",
              "    80% {\n",
              "      border-color: transparent;\n",
              "      border-right-color: var(--fill-color);\n",
              "      border-bottom-color: var(--fill-color);\n",
              "    }\n",
              "    90% {\n",
              "      border-color: transparent;\n",
              "      border-bottom-color: var(--fill-color);\n",
              "    }\n",
              "  }\n",
              "</style>\n",
              "\n",
              "  <script>\n",
              "    async function quickchart(key) {\n",
              "      const quickchartButtonEl =\n",
              "        document.querySelector('#' + key + ' button');\n",
              "      quickchartButtonEl.disabled = true;  // To prevent multiple clicks.\n",
              "      quickchartButtonEl.classList.add('colab-df-spinner');\n",
              "      try {\n",
              "        const charts = await google.colab.kernel.invokeFunction(\n",
              "            'suggestCharts', [key], {});\n",
              "      } catch (error) {\n",
              "        console.error('Error during call to suggestCharts:', error);\n",
              "      }\n",
              "      quickchartButtonEl.classList.remove('colab-df-spinner');\n",
              "      quickchartButtonEl.classList.add('colab-df-quickchart-complete');\n",
              "    }\n",
              "    (() => {\n",
              "      let quickchartButtonEl =\n",
              "        document.querySelector('#df-302baefd-fa03-48b2-ae31-ddc82973a014 button');\n",
              "      quickchartButtonEl.style.display =\n",
              "        google.colab.kernel.accessAllowed ? 'block' : 'none';\n",
              "    })();\n",
              "  </script>\n",
              "</div>\n",
              "\n",
              "    </div>\n",
              "  </div>\n"
            ],
            "application/vnd.google.colaboratory.intrinsic+json": {
              "type": "dataframe",
              "summary": "{\n  \"name\": \"pd\",\n  \"rows\": 10,\n  \"fields\": [\n    {\n      \"column\": \"row_0\",\n      \"properties\": {\n        \"dtype\": \"number\",\n        \"std\": 3,\n        \"min\": 0,\n        \"max\": 9,\n        \"num_unique_values\": 10,\n        \"samples\": [\n          8,\n          1,\n          5\n        ],\n        \"semantic_type\": \"\",\n        \"description\": \"\"\n      }\n    },\n    {\n      \"column\": 0,\n      \"properties\": {\n        \"dtype\": \"number\",\n        \"std\": 29,\n        \"min\": 0,\n        \"max\": 94,\n        \"num_unique_values\": 4,\n        \"samples\": [\n          0,\n          2,\n          94\n        ],\n        \"semantic_type\": \"\",\n        \"description\": \"\"\n      }\n    },\n    {\n      \"column\": 1,\n      \"properties\": {\n        \"dtype\": \"number\",\n        \"std\": 34,\n        \"min\": 0,\n        \"max\": 109,\n        \"num_unique_values\": 5,\n        \"samples\": [\n          109,\n          3,\n          2\n        ],\n        \"semantic_type\": \"\",\n        \"description\": \"\"\n      }\n    },\n    {\n      \"column\": 2,\n      \"properties\": {\n        \"dtype\": \"number\",\n        \"std\": 22,\n        \"min\": 0,\n        \"max\": 73,\n        \"num_unique_values\": 8,\n        \"samples\": [\n          11,\n          1,\n          4\n        ],\n        \"semantic_type\": \"\",\n        \"description\": \"\"\n      }\n    },\n    {\n      \"column\": 3,\n      \"properties\": {\n        \"dtype\": \"number\",\n        \"std\": 24,\n        \"min\": 0,\n        \"max\": 78,\n        \"num_unique_values\": 5,\n        \"samples\": [\n          2,\n          4,\n          78\n        ],\n        \"semantic_type\": \"\",\n        \"description\": \"\"\n      }\n    },\n    {\n      \"column\": 4,\n      \"properties\": {\n        \"dtype\": \"number\",\n        \"std\": 28,\n        \"min\": 0,\n        \"max\": 92,\n        \"num_unique_values\": 5,\n        \"samples\": [\n          2,\n          7,\n          1\n        ],\n        \"semantic_type\": \"\",\n        \"description\": \"\"\n      }\n    },\n    {\n      \"column\": 5,\n      \"properties\": {\n        \"dtype\": \"number\",\n        \"std\": 13,\n        \"min\": 1,\n        \"max\": 45,\n        \"num_unique_values\": 8,\n        \"samples\": [\n          4,\n          45,\n          6\n        ],\n        \"semantic_type\": \"\",\n        \"description\": \"\"\n      }\n    },\n    {\n      \"column\": 6,\n      \"properties\": {\n        \"dtype\": \"number\",\n        \"std\": 25,\n        \"min\": 0,\n        \"max\": 83,\n        \"num_unique_values\": 5,\n        \"samples\": [\n          3,\n          83,\n          0\n        ],\n        \"semantic_type\": \"\",\n        \"description\": \"\"\n      }\n    },\n    {\n      \"column\": 7,\n      \"properties\": {\n        \"dtype\": \"number\",\n        \"std\": 31,\n        \"min\": 0,\n        \"max\": 101,\n        \"num_unique_values\": 7,\n        \"samples\": [\n          2,\n          6,\n          101\n        ],\n        \"semantic_type\": \"\",\n        \"description\": \"\"\n      }\n    },\n    {\n      \"column\": 8,\n      \"properties\": {\n        \"dtype\": \"number\",\n        \"std\": 19,\n        \"min\": 0,\n        \"max\": 63,\n        \"num_unique_values\": 7,\n        \"samples\": [\n          0,\n          8,\n          2\n        ],\n        \"semantic_type\": \"\",\n        \"description\": \"\"\n      }\n    },\n    {\n      \"column\": 9,\n      \"properties\": {\n        \"dtype\": \"number\",\n        \"std\": 21,\n        \"min\": 0,\n        \"max\": 70,\n        \"num_unique_values\": 7,\n        \"samples\": [\n          3,\n          1,\n          2\n        ],\n        \"semantic_type\": \"\",\n        \"description\": \"\"\n      }\n    }\n  ]\n}"
            }
          },
          "metadata": {},
          "execution_count": 17
        }
      ],
      "source": [
        "print('Matriz de confusão:')\n",
        "pd.crosstab(y_pred.numpy(), y_train.numpy())"
      ]
    },
    {
      "cell_type": "markdown",
      "metadata": {
        "id": "RLjDGqb7mvRi"
      },
      "source": [
        "## Visualizando a matriz de pesos treinados"
      ]
    },
    {
      "cell_type": "markdown",
      "metadata": {
        "id": "AYuIu31KmvRj"
      },
      "source": [
        "Observe que a matriz de peso treinado para cada classe mostra a importância dos pesos associados aos caracteres de cada classe."
      ]
    },
    {
      "cell_type": "code",
      "execution_count": 18,
      "metadata": {
        "ExecuteTime": {
          "end_time": "2017-11-24T16:34:49.367135",
          "start_time": "2017-11-24T16:34:49.204452"
        },
        "id": "_QESuAB8mvRk",
        "outputId": "731d3d3c-052b-49f7-bdf5-7d6dc62a1a0d",
        "colab": {
          "base_uri": "https://localhost:8080/",
          "height": 465
        }
      },
      "outputs": [
        {
          "output_type": "stream",
          "name": "stdout",
          "text": [
            "weights: torch.Size([10, 784])\n",
            "bias:    torch.Size([10])\n"
          ]
        },
        {
          "output_type": "display_data",
          "data": {
            "text/plain": [
              "<Figure size 640x480 with 1 Axes>"
            ],
            "image/png": "[encoded data removed]"
          },
          "metadata": {}
        }
      ],
      "source": [
        "weights = model.state_dict()['weight']\n",
        "print('weights:', weights.shape)\n",
        "\n",
        "bias = model.state_dict()['bias']\n",
        "print('bias:   ', bias.shape)\n",
        "\n",
        "# Visualizando pesos da classe 3\n",
        "plt.imshow(weights[3, :].numpy().reshape((28,28)),cmap = 'gray')\n",
        "plt.show()"
      ]
    },
    {
      "cell_type": "markdown",
      "metadata": {
        "id": "eE1B62KamvRp"
      },
      "source": [
        "### Visualizando os pesos de todas as classes"
      ]
    },
    {
      "cell_type": "code",
      "execution_count": 19,
      "metadata": {
        "ExecuteTime": {
          "end_time": "2017-11-24T16:34:50.240218",
          "start_time": "2017-11-24T16:34:50.025515"
        },
        "id": "EHm39Pe_mvRp",
        "outputId": "84e11e14-ec59-4950-819e-31edc93d2f0b",
        "colab": {
          "base_uri": "https://localhost:8080/",
          "height": 148
        }
      },
      "outputs": [
        {
          "output_type": "display_data",
          "data": {
            "text/plain": [
              "<Figure size 1500x1000 with 1 Axes>"
            ],
            "image/png": "[encoded data removed]"
          },
          "metadata": {}
        }
      ],
      "source": [
        "# cria um grid com as imagens\n",
        "grid = torchvision.utils.make_grid(weights.view(-1, 1, 28, 28), normalize=True, pad_value=1.0, padding=1, nrow=10)\n",
        "\n",
        "plt.figure(figsize=(15, 10))\n",
        "plt.imshow(grid.numpy().transpose(1, 2, 0))\n",
        "plt.axis('off');"
      ]
    },
    {
      "cell_type": "markdown",
      "metadata": {
        "id": "odqHBFclmvRt"
      },
      "source": [
        "### Diagrama da regressão softmax com visualização dos pesos W"
      ]
    },
    {
      "cell_type": "markdown",
      "metadata": {
        "id": "UVKoDiM-mvRu"
      },
      "source": [
        "![alt text](https://raw.githubusercontent.com/vcasadei/images/master/RegressaoSoftmaxArgmaxNMIST.png)"
      ]
    },
    {
      "cell_type": "markdown",
      "metadata": {
        "id": "y0vTJyVbmvRv"
      },
      "source": [
        "# Atividades"
      ]
    },
    {
      "cell_type": "markdown",
      "metadata": {
        "id": "Rl-7WEDMmvRw"
      },
      "source": [
        "## Exercícios"
      ]
    },
    {
      "cell_type": "markdown",
      "metadata": {
        "id": "Vn4GzfSYmvR5"
      },
      "source": [
        "- 1) Insira código no laço do treinamento para que no final de cada época,\n",
        "     seja impresso: o número da época e a perda e a acurácia"
      ]
    },
    {
      "cell_type": "markdown",
      "metadata": {
        "id": "RtZPs6M6mvR6"
      },
      "source": [
        "- 2) Insira código no laço do treinamento para visualização dos valores dos gradientes referentes à classe do dígito 4, no final de cada época."
      ]
    },
    {
      "cell_type": "code",
      "source": [
        "#Primeira Questão\n",
        "\n",
        "# Inicializar a figura para plotagem\n",
        "fig = plt.figure(figsize=(18, 6))\n",
        "\n",
        "losses = []\n",
        "zs = []\n",
        "\n",
        "# Número de épocas\n",
        "epochs = 5\n",
        "\n",
        "try:\n",
        "    for epoch in range(epochs):\n",
        "        # Transformar a entrada para uma dimensão (flatten)\n",
        "        inputs = Variable(x_train.view(-1, 28 * 28))\n",
        "\n",
        "        # Passar os dados pela rede (forward pass)\n",
        "        outputs = model(inputs)\n",
        "\n",
        "        # Armazenar a saída de uma amostra\n",
        "        zs.append(outputs[1].detach().numpy())\n",
        "\n",
        "        # Calcular a perda (cross-entropy loss)\n",
        "        loss = criterion(outputs, Variable(y_train))\n",
        "\n",
        "        # Zero do gradiente, backpropagation e ajuste dos parâmetros\n",
        "        optimizer.zero_grad()\n",
        "        loss.backward()  # Cálculo do gradiente\n",
        "        optimizer.step()  # Atualiza os pesos com o gradiente descendente\n",
        "\n",
        "        losses.append(loss.data)\n",
        "\n",
        "        # Realizar a previsão (cálculo de classe predita)\n",
        "        _, predicts = torch.max(outputs, 1)\n",
        "        y_pred = predicts.data\n",
        "\n",
        "        # Calcular a acurácia da época\n",
        "        accuracy = (y_pred.numpy() == y_train.numpy()).mean()\n",
        "\n",
        "        # Exibir informações da época\n",
        "        print(f\"Época {epoch+1}/{epochs} - Perda: {loss.item():.4f} - Acurácia: {accuracy:.4f}\")\n",
        "\n",
        "except KeyboardInterrupt:\n",
        "    pass\n",
        "\n",
        "# Plotar a curva da perda ao longo das épocas\n",
        "plt.plot(losses, label=\"Loss\")\n",
        "plt.xlabel(\"Épocas\")\n",
        "plt.ylabel(\"Perda\")\n",
        "plt.title(\"Curva de Perda durante o Treinamento\")\n",
        "plt.legend()\n",
        "plt.show()\n",
        "\n",
        "# Se quiser ver a acurácia final em todas as amostras\n",
        "y_pred = predict(model, x_train.view(-1, 28 * 28))\n",
        "accuracy_final = (y_pred.numpy() == y_train.numpy()).mean()\n",
        "print(f\"Acurácia final: {accuracy_final:.4f}\")"
      ],
      "metadata": {
        "colab": {
          "base_uri": "https://localhost:8080/",
          "height": 535
        },
        "id": "RtaclwNnVmH9",
        "outputId": "720c28f3-b95f-4ce9-879c-664a5736f145"
      },
      "execution_count": 20,
      "outputs": [
        {
          "output_type": "stream",
          "name": "stdout",
          "text": [
            "Época 1/5 - Perda: 0.9828 - Acurácia: 0.8080\n",
            "Época 2/5 - Perda: 0.9035 - Acurácia: 0.8320\n",
            "Época 3/5 - Perda: 0.8420 - Acurácia: 0.8340\n",
            "Época 4/5 - Perda: 0.7928 - Acurácia: 0.8440\n",
            "Época 5/5 - Perda: 0.7521 - Acurácia: 0.8480\n"
          ]
        },
        {
          "output_type": "display_data",
          "data": {
            "text/plain": [
              "<Figure size 1800x600 with 1 Axes>"
            ],
            "image/png": "[encoded data removed]"
          },
          "metadata": {}
        },
        {
          "output_type": "stream",
          "name": "stdout",
          "text": [
            "Acurácia final: 0.8540\n"
          ]
        }
      ]
    },
    {
      "cell_type": "code",
      "source": [
        "# Segunda Questão\n",
        "# Inicializar a figura para plotagem\n",
        "fig = plt.figure(figsize=(18, 6))\n",
        "\n",
        "losses = []\n",
        "zs = []\n",
        "\n",
        "# Número de épocas\n",
        "epochs = 5\n",
        "\n",
        "try:\n",
        "    for epoch in range(epochs):\n",
        "        # Transformar a entrada para uma dimensão (flatten)\n",
        "        inputs = Variable(x_train.view(-1, 28 * 28))\n",
        "\n",
        "        # Passar os dados pela rede (forward pass)\n",
        "        outputs = model(inputs)\n",
        "\n",
        "        # Armazenar a saída de uma amostra (como exemplo)\n",
        "        zs.append(outputs[1].detach().numpy())\n",
        "\n",
        "        # Calcular a perda (cross-entropy loss)\n",
        "        loss = criterion(outputs, Variable(y_train))\n",
        "\n",
        "        # Zero do gradiente, backpropagation e ajuste dos parâmetros\n",
        "        optimizer.zero_grad()\n",
        "        loss.backward()\n",
        "        optimizer.step()\n",
        "\n",
        "        losses.append(loss.data)\n",
        "\n",
        "        # Realizar a previsão (cálculo de classe predita)\n",
        "        _, predicts = torch.max(outputs, 1)\n",
        "        y_pred = predicts.data\n",
        "\n",
        "        # Visualizar os gradientes para a classe 4\n",
        "        class_4_gradients = model.weight.grad[4].detach().numpy()  # Gradientes para a classe 4\n",
        "        print(f\"Gradientes da classe 4 na época {epoch+1}: {class_4_gradients[10:]}...\")\n",
        "\n",
        "except KeyboardInterrupt:\n",
        "    pass\n"
      ],
      "metadata": {
        "colab": {
          "base_uri": "https://localhost:8080/",
          "height": 1000
        },
        "id": "Yl9d7xCdfBSo",
        "outputId": "23e0255b-cd7c-409c-b29a-8175dfde00d8"
      },
      "execution_count": 21,
      "outputs": [
        {
          "output_type": "stream",
          "name": "stdout",
          "text": [
            "Gradientes da classe 4 na época 1: [ 0.00000000e+00  0.00000000e+00  0.00000000e+00  0.00000000e+00\n",
            "  0.00000000e+00  0.00000000e+00  0.00000000e+00  0.00000000e+00\n",
            "  0.00000000e+00  0.00000000e+00  0.00000000e+00  0.00000000e+00\n",
            "  0.00000000e+00  0.00000000e+00  0.00000000e+00  0.00000000e+00\n",
            "  0.00000000e+00  0.00000000e+00  0.00000000e+00  0.00000000e+00\n",
            "  0.00000000e+00  0.00000000e+00  0.00000000e+00  0.00000000e+00\n",
            "  0.00000000e+00  0.00000000e+00  0.00000000e+00  0.00000000e+00\n",
            "  1.92840507e-05  1.19561111e-04  0.00000000e+00  5.62108798e-05\n",
            "  2.26384931e-04  2.98546162e-04  2.19744237e-04  2.79195083e-04\n",
            "  1.35978858e-04  0.00000000e+00  0.00000000e+00  0.00000000e+00\n",
            "  0.00000000e+00  0.00000000e+00  0.00000000e+00  0.00000000e+00\n",
            "  0.00000000e+00  0.00000000e+00  0.00000000e+00  0.00000000e+00\n",
            "  0.00000000e+00  0.00000000e+00  0.00000000e+00  0.00000000e+00\n",
            "  0.00000000e+00  0.00000000e+00  0.00000000e+00  0.00000000e+00\n",
            "  2.28664940e-04  6.45836408e-04  4.55194502e-04  4.08625929e-04\n",
            "  8.30897945e-04  5.58927248e-04  3.55259166e-04  7.78089161e-04\n",
            "  5.77708939e-04  3.29246250e-04  1.35433045e-04  1.51986402e-04\n",
            "  7.46484293e-05  3.49030938e-06  0.00000000e+00  0.00000000e+00\n",
            "  0.00000000e+00  0.00000000e+00  0.00000000e+00  0.00000000e+00\n",
            "  0.00000000e+00  0.00000000e+00  0.00000000e+00  0.00000000e+00\n",
            "  6.47933803e-06  6.16665056e-05  4.45076184e-05  7.38676608e-05\n",
            "  5.90411073e-04  9.33079689e-04  1.13337731e-03  1.68884057e-03\n",
            "  1.69704924e-03  1.42589037e-03  1.26249751e-03  1.72572769e-03\n",
            "  1.46148528e-03  1.19605730e-03  7.53325992e-04  2.93534482e-04\n",
            " -4.55046902e-05  2.80742279e-06  0.00000000e+00  0.00000000e+00\n",
            "  0.00000000e+00  0.00000000e+00  0.00000000e+00  0.00000000e+00\n",
            "  0.00000000e+00  0.00000000e+00 -5.28200362e-05 -5.73376601e-05\n",
            "  1.52677341e-04  2.92712735e-04  1.78935152e-04 -7.01109064e-04\n",
            " -3.49778042e-04  1.17038377e-03  2.47218157e-03  2.82784249e-03\n",
            "  2.72545894e-03  3.10798455e-03  3.39499814e-03  3.51341767e-03\n",
            "  2.61188042e-03  1.71463680e-03  8.49730568e-05 -2.15296110e-04\n",
            " -5.11600112e-04 -2.99613515e-04  1.57558097e-05  0.00000000e+00\n",
            "  0.00000000e+00  0.00000000e+00  0.00000000e+00  0.00000000e+00\n",
            "  0.00000000e+00 -1.15709036e-05 -2.74000951e-04 -1.82179807e-04\n",
            "  2.78043823e-04  4.00855148e-04 -2.32424398e-04 -1.69141288e-03\n",
            " -1.65322842e-03 -3.50056143e-05  1.91345508e-03  2.76826322e-03\n",
            "  3.04759108e-03  4.38889442e-03  4.24915133e-03  3.47800669e-03\n",
            "  2.46928027e-03  1.25112326e-03 -2.73185200e-04 -2.24000844e-03\n",
            " -2.88224220e-03 -3.13609745e-03 -1.99205824e-03 -7.90454505e-04\n",
            "  2.46802647e-05  0.00000000e+00  0.00000000e+00  0.00000000e+00\n",
            "  0.00000000e+00 -2.25471347e-04 -5.34135615e-04 -5.60854503e-04\n",
            "  3.63780564e-04  5.77172032e-04 -7.82314164e-04 -2.09334423e-03\n",
            " -1.93522754e-03 -4.56405105e-04  2.76346086e-03  4.05025017e-03\n",
            "  7.38242269e-03  9.72105656e-03  9.65338480e-03  6.27364218e-03\n",
            "  3.77995358e-03  1.12353486e-03 -1.20811258e-03 -4.22528666e-03\n",
            " -5.21487882e-03 -4.41338215e-03 -2.28170957e-03 -7.99218251e-04\n",
            " -1.58189767e-04  8.69554569e-05  0.00000000e+00  0.00000000e+00\n",
            "  1.61747776e-05 -7.41158947e-05 -5.42666472e-04 -8.75135243e-04\n",
            "  3.56664532e-04  2.73434416e-04 -1.08134816e-03 -1.26553769e-03\n",
            "  6.63148239e-06  1.75044045e-03  5.03850309e-03  8.54265876e-03\n",
            "  1.20219300e-02  1.50105990e-02  1.28042167e-02  8.25048331e-03\n",
            "  3.75250052e-03  1.28785614e-03 -1.56017300e-03 -3.00720241e-03\n",
            " -4.69526090e-03 -4.07833606e-03 -1.84063707e-03 -4.85650060e-04\n",
            " -6.22701191e-05  4.95679014e-05  0.00000000e+00  0.00000000e+00\n",
            "  1.36770268e-05 -7.60398107e-05 -6.87692955e-04 -5.35286556e-04\n",
            " -3.93892173e-04 -4.46959602e-04  4.31974186e-05  3.99258570e-05\n",
            "  1.45272561e-03  3.69142229e-03  6.17941190e-03  8.74998886e-03\n",
            "  1.14916237e-02  1.35778254e-02  9.65763256e-03  5.96611667e-03\n",
            "  5.10133291e-03  1.02123898e-03 -5.03569434e-04 -1.76987937e-03\n",
            " -3.82087124e-03 -3.04035074e-03  7.94394873e-04  4.49924439e-04\n",
            "  1.49176281e-04  0.00000000e+00  0.00000000e+00  3.64446605e-05\n",
            "  6.55066469e-05 -2.23209354e-05 -2.98205472e-04 -3.89126159e-04\n",
            " -2.55356834e-04  3.65324435e-04  1.48855755e-03  1.45877502e-03\n",
            "  3.18083772e-03  3.13231768e-03  3.10049579e-03  4.49068379e-03\n",
            "  9.31779109e-03  1.02503095e-02  3.98097187e-03  2.97204289e-03\n",
            "  2.99311499e-03  7.46097881e-04 -1.14767568e-03 -2.12488230e-03\n",
            " -3.29735293e-03 -5.69681404e-04  1.00373290e-03  2.17315886e-04\n",
            "  7.18397278e-05  0.00000000e+00  0.00000000e+00  4.20515335e-06\n",
            "  3.43750056e-04  4.71323146e-04  4.32656030e-04 -2.90338881e-04\n",
            " -2.09998310e-04  3.60924430e-04  3.92879301e-04  2.69103446e-04\n",
            " -8.90909287e-05 -1.43494736e-03 -1.61087024e-03  2.16146163e-03\n",
            "  6.04496896e-03  6.51751552e-03  1.12479692e-03 -2.54614279e-05\n",
            "  7.77493347e-04 -1.35991781e-03 -2.03763880e-03 -1.80906907e-03\n",
            " -2.29381421e-03  2.73835438e-04  2.46430805e-04  3.03881789e-05\n",
            "  4.37403105e-06  0.00000000e+00  0.00000000e+00  0.00000000e+00\n",
            "  2.64261616e-04  4.83529933e-04  9.51562251e-05 -9.95799783e-04\n",
            " -1.45657250e-04 -6.32594281e-04 -6.39998296e-04 -2.88025383e-03\n",
            " -5.57517074e-03 -6.18939940e-03 -1.94576965e-03  2.79417960e-03\n",
            "  5.60472347e-03  4.13031224e-03 -1.88499258e-03 -2.93656206e-03\n",
            " -9.61550511e-04 -2.65109912e-03 -1.29871361e-03 -1.17661920e-03\n",
            " -1.39752147e-03  3.52818199e-04  2.40152105e-04  1.26008317e-05\n",
            "  2.14522479e-05  0.00000000e+00  0.00000000e+00  0.00000000e+00\n",
            "  6.13824377e-05  1.29574400e-04 -9.00102197e-04 -1.63290952e-03\n",
            " -9.09832190e-04 -2.41817674e-03 -3.07363924e-03 -7.30099436e-03\n",
            " -1.13423169e-02 -8.72208551e-03 -2.53609638e-03  1.95166597e-03\n",
            "  4.29052394e-03  1.90343882e-03 -3.89892049e-03 -3.74802575e-03\n",
            " -2.22547981e-03 -1.80054340e-03  9.10067465e-04 -3.88224027e-04\n",
            "  1.97772024e-05  1.06844807e-03  5.49497898e-04  1.28413769e-04\n",
            "  1.71024840e-05  0.00000000e+00  0.00000000e+00  0.00000000e+00\n",
            "  2.12023751e-05 -1.87416415e-04 -1.48147054e-03 -1.88153656e-03\n",
            " -3.06280027e-03 -5.41645661e-03 -6.92477077e-03 -9.94372461e-03\n",
            " -1.17104417e-02 -7.18957651e-03 -1.47335068e-03  3.16386344e-03\n",
            "  4.40433761e-03  2.03033676e-03 -3.83921573e-03 -7.01369951e-03\n",
            " -3.99432611e-03 -9.23280255e-04 -9.58456658e-04 -1.54094188e-03\n",
            " -8.76408885e-04  8.12852988e-04  5.18063898e-04  2.58941291e-04\n",
            "  1.97716577e-06  0.00000000e+00  0.00000000e+00  0.00000000e+00\n",
            "  0.00000000e+00 -1.44761521e-04 -1.90416409e-03 -3.06302262e-03\n",
            " -6.35056524e-03 -9.81063023e-03 -9.74185951e-03 -7.88104441e-03\n",
            " -6.96533173e-03 -5.28449891e-03 -1.72436179e-03  1.45048287e-03\n",
            "  1.46604166e-03 -8.40435387e-04 -6.47982722e-03 -1.07060485e-02\n",
            " -4.72806161e-03 -3.27902543e-03 -2.58621224e-03 -2.20109406e-03\n",
            " -9.47802793e-04  3.65124986e-04  5.63679030e-04  2.34734805e-04\n",
            "  7.32796479e-06  0.00000000e+00  0.00000000e+00  0.00000000e+00\n",
            "  0.00000000e+00 -2.33334242e-04 -1.72329263e-03 -3.14562512e-03\n",
            " -6.70693070e-03 -1.14973513e-02 -1.28014889e-02 -9.49181430e-03\n",
            " -7.88335688e-03 -6.68853940e-03 -5.72691811e-03 -5.14837261e-03\n",
            " -3.67650180e-03 -5.79266855e-03 -9.29952785e-03 -7.90883601e-03\n",
            " -5.50119206e-03 -4.77882614e-03 -2.18731770e-03 -1.00311381e-03\n",
            " -8.26466305e-04  2.14101048e-04  6.37030869e-04  4.23126039e-04\n",
            "  1.47379804e-04  0.00000000e+00  0.00000000e+00  0.00000000e+00\n",
            "  1.53276233e-05  5.00553506e-05 -1.01199246e-03 -2.79512675e-03\n",
            " -4.96687554e-03 -1.05396546e-02 -1.12797217e-02 -8.89396481e-03\n",
            " -7.15300767e-03 -5.41060232e-03 -4.51139081e-03 -4.02687443e-03\n",
            " -4.58755856e-03 -6.97766291e-03 -8.43749009e-03 -6.28854893e-03\n",
            " -6.11495087e-03 -2.52153585e-03  1.71024294e-04  6.60414924e-04\n",
            " -1.03035069e-03 -1.93925225e-04  5.24937001e-04  2.04125798e-04\n",
            "  6.25695466e-05  0.00000000e+00  0.00000000e+00  0.00000000e+00\n",
            "  2.16348235e-05  1.74191868e-04  2.87072791e-04 -5.03977702e-04\n",
            " -2.24856078e-03 -5.06509980e-03 -4.53754095e-03 -2.38285074e-03\n",
            " -5.75346116e-04 -8.08196201e-04 -3.66052543e-03 -4.81368741e-03\n",
            " -5.47961239e-03 -7.24107306e-03 -6.76946947e-03 -3.38156032e-03\n",
            " -1.88085099e-03  1.10696338e-03  1.66986301e-03  1.57517381e-03\n",
            "  8.82602704e-04  3.17984872e-04  5.11506107e-04  1.58922616e-04\n",
            "  0.00000000e+00  0.00000000e+00  0.00000000e+00  0.00000000e+00\n",
            "  1.33652618e-04  3.04177025e-04  1.12679077e-03  2.29602749e-03\n",
            "  2.59287772e-03  2.05422495e-03  5.02309354e-04  1.12015754e-03\n",
            "  2.90765171e-03  1.94046809e-03  1.66295096e-04 -1.95314083e-03\n",
            " -3.20851081e-03 -3.96615872e-03 -1.63129473e-03  7.06693507e-04\n",
            "  2.34545884e-03  2.61146016e-03  1.84110412e-03  1.00563176e-03\n",
            "  1.07129489e-03  8.20996473e-04  4.90994949e-04  7.23064586e-05\n",
            "  0.00000000e+00  0.00000000e+00  0.00000000e+00  0.00000000e+00\n",
            "  1.80508621e-04  4.14738926e-04  1.45203318e-03  3.10279476e-03\n",
            "  4.89181979e-03  5.59238950e-03  6.23809546e-03  6.65525580e-03\n",
            "  6.15237886e-03  5.67146856e-03  3.75708379e-03  2.43170792e-03\n",
            " -7.58813112e-05 -1.13654044e-03  1.94446038e-05  1.93668064e-03\n",
            "  1.94950099e-03  3.06324614e-03  1.34283362e-03  6.81189122e-04\n",
            "  7.47461279e-04  4.05623723e-04  8.09013291e-05  3.37952110e-06\n",
            "  0.00000000e+00  0.00000000e+00  0.00000000e+00  0.00000000e+00\n",
            "  1.02656537e-04  4.42081015e-04  1.47938461e-03  2.88599753e-03\n",
            "  4.62645385e-03  5.86985424e-03  6.85914792e-03  7.59454025e-03\n",
            "  8.87564942e-03  7.83425197e-03  7.25375768e-03  4.69238125e-03\n",
            "  2.92655139e-04  9.47686378e-04  2.03353819e-03  2.07531545e-03\n",
            "  1.44514139e-03  2.07308726e-03  7.24019716e-04 -2.98437488e-04\n",
            "  2.38836088e-04  3.32475291e-04  1.15477771e-04  1.41656274e-05\n",
            "  1.42355939e-05  0.00000000e+00  0.00000000e+00  0.00000000e+00\n",
            "  7.78733374e-05  3.01962864e-04  1.26604654e-03  2.49142642e-03\n",
            "  3.71825788e-03  5.42195467e-03  6.03446970e-03  7.01005524e-03\n",
            "  6.66171080e-03  5.43544115e-03  5.46276197e-03  2.36106105e-03\n",
            " -1.27310050e-03  7.83084193e-04  1.94323680e-03  1.37063803e-03\n",
            " -5.26108779e-04  8.95170611e-04  1.92316162e-04 -7.89496524e-04\n",
            "  2.60007946e-04  2.05712466e-04  4.32434317e-05  1.23038826e-05\n",
            "  2.72271027e-05  0.00000000e+00  0.00000000e+00  0.00000000e+00\n",
            "  2.81863549e-06  9.73385031e-05  5.76210790e-04  1.50406500e-03\n",
            "  2.63494719e-03  3.23337060e-03  4.07067593e-03  5.32250199e-03\n",
            "  3.68990703e-03  3.02326446e-03  3.21784033e-03 -7.64288648e-04\n",
            " -2.10726610e-03 -5.88480674e-04  8.30853824e-04  2.01096002e-04\n",
            " -1.40769628e-03 -2.15863402e-04 -5.68090123e-04 -6.98778487e-04\n",
            " -5.79917469e-06  1.60620591e-04  3.12597585e-05  6.12921394e-06\n",
            "  1.40378770e-05  0.00000000e+00  0.00000000e+00  0.00000000e+00\n",
            "  2.79006883e-07  8.95737612e-05  4.34319343e-04  8.96509096e-04\n",
            "  1.38163473e-03  1.83001603e-03  3.04440595e-03  2.32396391e-03\n",
            "  1.60530629e-03  1.88323716e-03  1.00309623e-03 -2.13679951e-03\n",
            " -2.54404475e-03 -1.04392157e-03  1.09386793e-03 -8.39534099e-04\n",
            " -1.35881768e-03 -1.58662791e-03 -1.35619985e-03 -1.40790638e-04\n",
            "  4.06633480e-05  7.65972727e-05  7.00929231e-05  0.00000000e+00\n",
            "  0.00000000e+00  0.00000000e+00  0.00000000e+00  0.00000000e+00\n",
            "  0.00000000e+00  1.06005791e-04  3.90406523e-04  6.73075090e-04\n",
            "  3.02796194e-04  1.29429623e-03  2.50616111e-03  5.92914701e-04\n",
            "  2.01798324e-03  1.74282445e-03  1.84417202e-03 -5.64092421e-04\n",
            "  1.55250222e-04  3.43549345e-03  1.49574969e-03 -5.19391266e-04\n",
            " -1.05785369e-03 -5.42295922e-04  9.43527702e-05  2.69214768e-04\n",
            "  4.13629750e-05  6.62458551e-05  6.85029081e-05  0.00000000e+00\n",
            "  0.00000000e+00  0.00000000e+00  0.00000000e+00  0.00000000e+00\n",
            "  0.00000000e+00  6.61663489e-06  1.57686794e-04  4.31251741e-04\n",
            "  8.53344798e-04  1.45063899e-03  1.36675721e-03  7.05179875e-04\n",
            "  3.43659846e-03  3.79085913e-03  3.39614484e-03  2.65537063e-03\n",
            "  2.43250560e-03  3.09806713e-03  2.97429343e-03  1.69730093e-03\n",
            "  1.43292046e-03  5.63240959e-04  4.08761844e-04  1.23592879e-04\n",
            "  1.16455623e-04  1.42911231e-04  3.12987431e-05  0.00000000e+00\n",
            "  0.00000000e+00  0.00000000e+00  0.00000000e+00  0.00000000e+00\n",
            "  0.00000000e+00  8.74175930e-06  9.75388830e-05  1.91576997e-04\n",
            "  4.09688539e-04  4.56834474e-04 -1.42190192e-05  4.86436184e-04\n",
            "  9.59269644e-04  6.39327511e-04  7.51304964e-04  7.49437662e-04\n",
            "  1.24529249e-03  1.27561996e-03  1.24022260e-03  1.13461481e-03\n",
            "  7.91888218e-04  5.31792582e-04  1.09001827e-04  2.86033155e-05\n",
            "  0.00000000e+00  0.00000000e+00  0.00000000e+00  0.00000000e+00\n",
            "  0.00000000e+00  0.00000000e+00  0.00000000e+00  0.00000000e+00\n",
            "  0.00000000e+00  0.00000000e+00  0.00000000e+00  3.39407125e-05\n",
            "  7.82802745e-05  7.65747318e-05  3.82949402e-05  1.48048557e-05\n",
            "  1.64098128e-05  1.11293390e-04  1.76655813e-04  1.81477502e-04\n",
            "  1.31721463e-04  1.50500229e-04  1.80483854e-04  1.24902173e-04\n",
            "  2.04636366e-04  8.46099865e-05  0.00000000e+00  0.00000000e+00\n",
            "  0.00000000e+00  0.00000000e+00  0.00000000e+00  0.00000000e+00\n",
            "  0.00000000e+00  0.00000000e+00]...\n",
            "Gradientes da classe 4 na época 2: [ 0.00000000e+00  0.00000000e+00  0.00000000e+00  0.00000000e+00\n",
            "  0.00000000e+00  0.00000000e+00  0.00000000e+00  0.00000000e+00\n",
            "  0.00000000e+00  0.00000000e+00  0.00000000e+00  0.00000000e+00\n",
            "  0.00000000e+00  0.00000000e+00  0.00000000e+00  0.00000000e+00\n",
            "  0.00000000e+00  0.00000000e+00  0.00000000e+00  0.00000000e+00\n",
            "  0.00000000e+00  0.00000000e+00  0.00000000e+00  0.00000000e+00\n",
            "  0.00000000e+00  0.00000000e+00  0.00000000e+00  0.00000000e+00\n",
            "  1.94205622e-05  1.20407480e-04  0.00000000e+00  5.37682026e-05\n",
            "  2.18996342e-04  2.87806790e-04  2.06740864e-04  2.67146941e-04\n",
            "  1.30425542e-04  0.00000000e+00  0.00000000e+00  0.00000000e+00\n",
            "  0.00000000e+00  0.00000000e+00  0.00000000e+00  0.00000000e+00\n",
            "  0.00000000e+00  0.00000000e+00  0.00000000e+00  0.00000000e+00\n",
            "  0.00000000e+00  0.00000000e+00  0.00000000e+00  0.00000000e+00\n",
            "  0.00000000e+00  0.00000000e+00  0.00000000e+00  0.00000000e+00\n",
            "  2.28619552e-04  6.40078157e-04  4.45362879e-04  3.95554263e-04\n",
            "  8.02743132e-04  5.16375469e-04  2.86950555e-04  7.13770161e-04\n",
            "  5.31013007e-04  2.98529252e-04  1.23651407e-04  1.43168552e-04\n",
            "  7.01451572e-05  3.04380160e-06  0.00000000e+00  0.00000000e+00\n",
            "  0.00000000e+00  0.00000000e+00  0.00000000e+00  0.00000000e+00\n",
            "  0.00000000e+00  0.00000000e+00  0.00000000e+00  0.00000000e+00\n",
            "  5.94441826e-06  6.07421462e-05  4.06283289e-05  6.79661534e-05\n",
            "  5.83724410e-04  9.12470976e-04  1.09370647e-03  1.62909040e-03\n",
            "  1.59786036e-03  1.27728551e-03  1.09809940e-03  1.56821799e-03\n",
            "  1.34271465e-03  1.11221243e-03  7.19166710e-04  2.91345816e-04\n",
            " -3.31407064e-05  2.44827515e-06  0.00000000e+00  0.00000000e+00\n",
            "  0.00000000e+00  0.00000000e+00  0.00000000e+00  0.00000000e+00\n",
            "  0.00000000e+00  0.00000000e+00 -4.98285481e-05 -5.45515140e-05\n",
            "  1.46753562e-04  2.87590257e-04  1.70705418e-04 -6.99726690e-04\n",
            " -3.60747741e-04  1.09941559e-03  2.35133152e-03  2.64076493e-03\n",
            "  2.45154672e-03  2.77155754e-03  3.04833683e-03  3.23198945e-03\n",
            "  2.46221223e-03  1.61490962e-03  1.00502919e-04 -1.63010613e-04\n",
            " -4.53439512e-04 -2.70458404e-04  1.42281133e-05  0.00000000e+00\n",
            "  0.00000000e+00  0.00000000e+00  0.00000000e+00  0.00000000e+00\n",
            "  0.00000000e+00 -1.05929548e-05 -2.58358603e-04 -1.74550310e-04\n",
            "  2.79085623e-04  4.00766439e-04 -2.18667919e-04 -1.65148720e-03\n",
            " -1.63926044e-03 -6.71298621e-05  1.78524503e-03  2.49158475e-03\n",
            "  2.60472391e-03  3.86307808e-03  3.71823716e-03  3.03591345e-03\n",
            "  2.22783629e-03  1.18182111e-03 -1.85220750e-04 -2.05994863e-03\n",
            " -2.69655488e-03 -2.95485696e-03 -1.87052891e-03 -7.53441651e-04\n",
            "  2.35549451e-05  0.00000000e+00  0.00000000e+00  0.00000000e+00\n",
            "  0.00000000e+00 -2.08821701e-04 -4.96303663e-04 -5.29398676e-04\n",
            "  3.65608779e-04  5.82414214e-04 -7.55479326e-04 -2.02827970e-03\n",
            " -1.86656206e-03 -4.46653255e-04  2.59566540e-03  3.67822777e-03\n",
            "  6.74298918e-03  8.97318870e-03  8.96462798e-03  5.72495721e-03\n",
            "  3.50101851e-03  1.15828426e-03 -1.01316557e-03 -3.93798621e-03\n",
            " -4.91370168e-03 -4.13161516e-03 -2.08568689e-03 -7.52984488e-04\n",
            " -1.50052423e-04  8.36762629e-05  0.00000000e+00  0.00000000e+00\n",
            "  1.41850578e-05 -6.40337894e-05 -5.03457966e-04 -8.17412802e-04\n",
            "  3.56870005e-04  2.77618994e-04 -1.06932654e-03 -1.19503506e-03\n",
            "  5.90772834e-05  1.67639391e-03  4.67471825e-03  7.96710420e-03\n",
            "  1.12079289e-02  1.41132968e-02  1.20119313e-02  7.64635298e-03\n",
            "  3.52050015e-03  1.43584888e-03 -1.26285525e-03 -2.73458543e-03\n",
            " -4.36999602e-03 -3.77270603e-03 -1.66197738e-03 -4.25010658e-04\n",
            " -5.80533306e-05  4.72899919e-05  0.00000000e+00  0.00000000e+00\n",
            "  1.20175082e-05 -7.05555722e-05 -6.48682180e-04 -4.94701671e-04\n",
            " -3.80856334e-04 -4.53854853e-04  2.54584302e-05  1.00355188e-04\n",
            "  1.46342663e-03  3.47840623e-03  5.78512298e-03  8.14305246e-03\n",
            "  1.07052932e-02  1.27529725e-02  8.98715295e-03  5.48872817e-03\n",
            "  4.99047991e-03  1.29872921e-03 -1.08571810e-04 -1.41982152e-03\n",
            " -3.46524036e-03 -2.74539227e-03  8.54552898e-04  4.90367180e-04\n",
            "  1.45475205e-04  0.00000000e+00  0.00000000e+00  3.62887513e-05\n",
            "  6.59552315e-05 -8.20036803e-06 -2.69774318e-04 -3.62127932e-04\n",
            " -2.37981978e-04  3.53718031e-04  1.51193247e-03  1.54469511e-03\n",
            "  3.12659820e-03  2.98687886e-03  2.94933654e-03  4.16783383e-03\n",
            "  8.77824612e-03  9.69556347e-03  3.56835453e-03  2.72066612e-03\n",
            "  3.05234222e-03  1.09652570e-03 -6.51043549e-04 -1.72046362e-03\n",
            " -2.98682181e-03 -4.29569161e-04  1.04203750e-03  2.36604115e-04\n",
            "  7.23259946e-05  0.00000000e+00  0.00000000e+00  4.18716354e-06\n",
            "  3.53096344e-04  4.85524157e-04  4.53745539e-04 -2.52478436e-04\n",
            " -1.61971780e-04  4.34333779e-04  5.64665359e-04  4.17381816e-04\n",
            "  1.15677511e-04 -1.24089140e-03 -1.51358487e-03  2.02890974e-03\n",
            "  5.75359119e-03  6.18516095e-03  9.09597962e-04 -3.68464971e-05\n",
            "  1.04179280e-03 -8.34151404e-04 -1.50600215e-03 -1.52349181e-03\n",
            " -2.15540268e-03  3.11941956e-04  2.74613325e-04  3.52802017e-05\n",
            "  3.70966518e-06  0.00000000e+00  0.00000000e+00  0.00000000e+00\n",
            "  2.69563578e-04  4.97808738e-04  1.25151448e-04 -9.26125795e-04\n",
            " -2.13602325e-05 -3.66720429e-04 -3.38424114e-04 -2.55346089e-03\n",
            " -5.04107494e-03 -5.79032907e-03 -1.87224813e-03  2.58972449e-03\n",
            "  5.30877011e-03  3.87318130e-03 -1.96668226e-03 -2.74402415e-03\n",
            " -5.35747386e-04 -2.09053420e-03 -8.88555893e-04 -1.00782991e-03\n",
            " -1.32242986e-03  3.95399431e-04  2.52262224e-04  1.13516226e-05\n",
            "  1.91165454e-05  0.00000000e+00  0.00000000e+00  0.00000000e+00\n",
            "  5.89488773e-05  1.41363809e-04 -8.54029611e-04 -1.52777997e-03\n",
            " -6.76273950e-04 -2.00286857e-03 -2.58811703e-03 -6.66596973e-03\n",
            " -1.07042687e-02 -8.39463808e-03 -2.61821551e-03  1.66763971e-03\n",
            "  3.98066081e-03  1.64684537e-03 -3.94618558e-03 -3.47133377e-03\n",
            " -1.66194083e-03 -1.32451940e-03  1.11612701e-03 -3.35079618e-04\n",
            "  5.04138297e-05  1.09104009e-03  5.50600002e-04  1.29660853e-04\n",
            "  1.52403800e-05  0.00000000e+00  0.00000000e+00  0.00000000e+00\n",
            "  2.02037572e-05 -1.73957131e-04 -1.39653438e-03 -1.67877367e-03\n",
            " -2.67495331e-03 -4.79615200e-03 -6.13459479e-03 -9.12196562e-03\n",
            " -1.11063663e-02 -6.99802348e-03 -1.61270355e-03  2.89009023e-03\n",
            "  4.08211164e-03  1.74772390e-03 -3.74845951e-03 -6.51850319e-03\n",
            " -3.47233424e-03 -6.37107529e-04 -8.40599765e-04 -1.47804711e-03\n",
            " -8.16821237e-04  8.25452153e-04  5.14582964e-04  2.63369788e-04\n",
            "  1.76189360e-06  0.00000000e+00  0.00000000e+00  0.00000000e+00\n",
            "  0.00000000e+00 -1.30874585e-04 -1.78101216e-03 -2.76525645e-03\n",
            " -5.77675272e-03 -8.92137643e-03 -8.70358571e-03 -6.95613818e-03\n",
            " -6.25811378e-03 -4.91717132e-03 -1.57575810e-03  1.38515665e-03\n",
            "  1.33133598e-03 -8.28009914e-04 -6.08584285e-03 -1.00159133e-02\n",
            " -4.20148810e-03 -2.94532417e-03 -2.40186905e-03 -2.10771477e-03\n",
            " -9.02532367e-04  3.84067593e-04  5.55548002e-04  2.36344786e-04\n",
            "  7.36061656e-06  0.00000000e+00  0.00000000e+00  0.00000000e+00\n",
            "  0.00000000e+00 -2.21993410e-04 -1.61852431e-03 -2.82090669e-03\n",
            " -5.99468267e-03 -1.04680164e-02 -1.16871819e-02 -8.51642806e-03\n",
            " -6.97855558e-03 -5.91376610e-03 -5.09020640e-03 -4.66768816e-03\n",
            " -3.27679701e-03 -5.32473251e-03 -8.56651645e-03 -7.19157793e-03\n",
            " -4.89956466e-03 -4.40591155e-03 -2.03210069e-03 -9.69302491e-04\n",
            " -7.89939018e-04  2.37766915e-04  6.20905601e-04  4.17344068e-04\n",
            "  1.47753468e-04  0.00000000e+00  0.00000000e+00  0.00000000e+00\n",
            "  1.59056399e-05  4.65163830e-05 -9.37411038e-04 -2.49283016e-03\n",
            " -4.35156981e-03 -9.66631807e-03 -1.03143072e-02 -7.98636768e-03\n",
            " -6.29321812e-03 -4.62199561e-03 -3.77859711e-03 -3.35983071e-03\n",
            " -3.96997854e-03 -6.32428564e-03 -7.67256273e-03 -5.55763161e-03\n",
            " -5.49330562e-03 -2.28976458e-03  2.21705297e-04  6.38172554e-04\n",
            " -1.02154526e-03 -2.15159336e-04  4.96651046e-04  1.99361675e-04\n",
            "  6.28483394e-05  0.00000000e+00  0.00000000e+00  0.00000000e+00\n",
            "  2.07914054e-05  1.64983838e-04  2.90128723e-04 -3.72823299e-04\n",
            " -1.95989525e-03 -4.62633325e-03 -4.14309604e-03 -2.07775831e-03\n",
            " -2.94005789e-04 -4.93066153e-04 -3.28636612e-03 -4.43046447e-03\n",
            " -5.04640164e-03 -6.66340999e-03 -6.19423622e-03 -2.91405176e-03\n",
            " -1.57450477e-03  1.18140352e-03  1.67521043e-03  1.52152660e-03\n",
            "  8.13797058e-04  2.59700435e-04  4.79178998e-04  1.54067398e-04\n",
            "  0.00000000e+00  0.00000000e+00  0.00000000e+00  0.00000000e+00\n",
            "  1.34410642e-04  2.89538701e-04  1.07133132e-03  2.21420149e-03\n",
            "  2.52867537e-03  1.99906086e-03  4.32363886e-04  9.92330606e-04\n",
            "  2.71466793e-03  1.79835828e-03  9.54335555e-05 -1.87872606e-03\n",
            " -3.05005047e-03 -3.68394260e-03 -1.46283966e-03  7.76623026e-04\n",
            "  2.30987254e-03  2.54289899e-03  1.76852231e-03  9.35371092e-04\n",
            "  1.00572314e-03  7.68944039e-04  4.68958402e-04  6.98047661e-05\n",
            "  0.00000000e+00  0.00000000e+00  0.00000000e+00  0.00000000e+00\n",
            "  1.83469136e-04  3.86929139e-04  1.35942374e-03  2.92144646e-03\n",
            "  4.62244498e-03  5.25760977e-03  5.85096795e-03  6.21503545e-03\n",
            "  5.71457995e-03  5.28681371e-03  3.52325826e-03  2.34004599e-03\n",
            "  1.04428036e-05 -1.09366141e-03 -1.45903323e-05  1.78485329e-03\n",
            "  1.84467935e-03  2.97345081e-03  1.33381342e-03  6.41348190e-04\n",
            "  7.05375744e-04  3.72062088e-04  7.21002580e-05  2.74815739e-06\n",
            "  0.00000000e+00  0.00000000e+00  0.00000000e+00  0.00000000e+00\n",
            "  9.64687497e-05  4.05844999e-04  1.36368838e-03  2.66709249e-03\n",
            "  4.30328352e-03  5.48654422e-03  6.39370410e-03  7.06426846e-03\n",
            "  8.32783058e-03  7.38058891e-03  6.93197036e-03  4.53200890e-03\n",
            "  2.57327978e-04  8.84157373e-04  1.87789660e-03  1.91305985e-03\n",
            "  1.38865807e-03  2.07759789e-03  7.55946035e-04 -2.83527159e-04\n",
            "  2.24904332e-04  3.04839137e-04  1.05898165e-04  1.28364700e-05\n",
            "  1.26856339e-05  0.00000000e+00  0.00000000e+00  0.00000000e+00\n",
            "  7.27095030e-05  2.73658370e-04  1.16323575e-03  2.28939392e-03\n",
            "  3.42730386e-03  5.04040113e-03  5.58403227e-03  6.47112122e-03\n",
            "  6.14446495e-03  5.04043326e-03  5.21365041e-03  2.26053339e-03\n",
            " -1.28355552e-03  7.36267888e-04  1.74401503e-03  1.26482430e-03\n",
            " -4.91492974e-04  9.49441339e-04  2.48400873e-04 -7.52024876e-04\n",
            "  2.46483134e-04  1.87135476e-04  3.78687691e-05  1.08790437e-05\n",
            "  2.41832840e-05  0.00000000e+00  0.00000000e+00  0.00000000e+00\n",
            "  2.33306787e-06  8.62899324e-05  5.20933012e-04  1.37270137e-03\n",
            "  2.42522894e-03  2.94894935e-03  3.70387733e-03  4.86881798e-03\n",
            "  3.34082241e-03  2.80196569e-03  3.12129245e-03 -7.29624706e-04\n",
            " -1.99518725e-03 -5.98174171e-04  6.95022056e-04  1.64153811e-04\n",
            " -1.32745784e-03 -9.70417022e-05 -4.68063692e-04 -6.58607867e-04\n",
            " -6.31503212e-07  1.51692089e-04  2.89899508e-05  5.46186993e-06\n",
            "  1.25094448e-05  0.00000000e+00  0.00000000e+00  0.00000000e+00\n",
            "  2.22655416e-07  8.35197279e-05  4.05057886e-04  8.29908298e-04\n",
            "  1.27431541e-03  1.66046515e-03  2.77174893e-03  2.06028018e-03\n",
            "  1.41653256e-03  1.79177441e-03  9.77503834e-04 -2.05761497e-03\n",
            " -2.44783703e-03 -1.02029659e-03  1.00667321e-03 -8.09125719e-04\n",
            " -1.22828363e-03 -1.42060744e-03 -1.24152785e-03 -1.10033783e-04\n",
            "  4.68536564e-05  8.02577124e-05  6.78916040e-05  0.00000000e+00\n",
            "  0.00000000e+00  0.00000000e+00  0.00000000e+00  0.00000000e+00\n",
            "  0.00000000e+00  1.00138888e-04  3.72882234e-04  6.35638775e-04\n",
            "  2.69875396e-04  1.20669894e-03  2.36601452e-03  4.77592053e-04\n",
            "  1.91414147e-03  1.68007181e-03  1.79071992e-03 -5.94961050e-04\n",
            "  1.42273115e-04  3.30872717e-03  1.41198607e-03 -4.64184297e-04\n",
            " -9.38552956e-04 -4.32138710e-04  1.56850161e-04  2.77063984e-04\n",
            "  4.99326889e-05  7.13585978e-05  6.65024927e-05  0.00000000e+00\n",
            "  0.00000000e+00  0.00000000e+00  0.00000000e+00  0.00000000e+00\n",
            "  0.00000000e+00  6.14399414e-06  1.52562599e-04  4.14333743e-04\n",
            "  8.19260546e-04  1.39949087e-03  1.29973167e-03  6.30663941e-04\n",
            "  3.31043825e-03  3.64495371e-03  3.26198153e-03  2.56353314e-03\n",
            "  2.37088790e-03  2.98252841e-03  2.86913593e-03  1.66495063e-03\n",
            "  1.42667640e-03  5.88925497e-04  4.17568488e-04  1.22556929e-04\n",
            "  1.12849491e-04  1.38737960e-04  3.03847610e-05  0.00000000e+00\n",
            "  0.00000000e+00  0.00000000e+00  0.00000000e+00  0.00000000e+00\n",
            "  0.00000000e+00  8.46108469e-06  9.32528492e-05  1.81996948e-04\n",
            "  3.81385180e-04  4.16919793e-04 -6.36040422e-05  4.15630318e-04\n",
            "  8.78692954e-04  5.84229245e-04  7.00165052e-04  7.00946373e-04\n",
            "  1.20190775e-03  1.22685207e-03  1.18487782e-03  1.09799358e-03\n",
            "  7.84590840e-04  5.32085600e-04  1.05622275e-04  2.77164836e-05\n",
            "  0.00000000e+00  0.00000000e+00  0.00000000e+00  0.00000000e+00\n",
            "  0.00000000e+00  0.00000000e+00  0.00000000e+00  0.00000000e+00\n",
            "  0.00000000e+00  0.00000000e+00  0.00000000e+00  3.09099269e-05\n",
            "  7.18423325e-05  6.97129071e-05  3.32791315e-05  1.25584947e-05\n",
            "  1.46257071e-05  1.06346102e-04  1.66608836e-04  1.69611798e-04\n",
            "  1.21724908e-04  1.38208867e-04  1.65699923e-04  1.16202202e-04\n",
            "  2.02144074e-04  8.44384194e-05  0.00000000e+00  0.00000000e+00\n",
            "  0.00000000e+00  0.00000000e+00  0.00000000e+00  0.00000000e+00\n",
            "  0.00000000e+00  0.00000000e+00]...\n",
            "Gradientes da classe 4 na época 3: [ 0.00000000e+00  0.00000000e+00  0.00000000e+00  0.00000000e+00\n",
            "  0.00000000e+00  0.00000000e+00  0.00000000e+00  0.00000000e+00\n",
            "  0.00000000e+00  0.00000000e+00  0.00000000e+00  0.00000000e+00\n",
            "  0.00000000e+00  0.00000000e+00  0.00000000e+00  0.00000000e+00\n",
            "  0.00000000e+00  0.00000000e+00  0.00000000e+00  0.00000000e+00\n",
            "  0.00000000e+00  0.00000000e+00  0.00000000e+00  0.00000000e+00\n",
            "  0.00000000e+00  0.00000000e+00  0.00000000e+00  0.00000000e+00\n",
            "  1.94778659e-05  1.20762765e-04  0.00000000e+00  5.12738770e-05\n",
            "  2.11436956e-04  2.77463987e-04  1.94584616e-04  2.54972751e-04\n",
            "  1.24728409e-04  0.00000000e+00  0.00000000e+00  0.00000000e+00\n",
            "  0.00000000e+00  0.00000000e+00  0.00000000e+00  0.00000000e+00\n",
            "  0.00000000e+00  0.00000000e+00  0.00000000e+00  0.00000000e+00\n",
            "  0.00000000e+00  0.00000000e+00  0.00000000e+00  0.00000000e+00\n",
            "  0.00000000e+00  0.00000000e+00  0.00000000e+00  0.00000000e+00\n",
            "  2.27616983e-04  6.31820585e-04  4.34364716e-04  3.82362487e-04\n",
            "  7.75530178e-04  4.77418536e-04  2.25778858e-04  6.56995457e-04\n",
            "  4.90401348e-04  2.72257428e-04  1.13471302e-04  1.34955364e-04\n",
            "  6.59966827e-05  2.66757843e-06  0.00000000e+00  0.00000000e+00\n",
            "  0.00000000e+00  0.00000000e+00  0.00000000e+00  0.00000000e+00\n",
            "  0.00000000e+00  0.00000000e+00  0.00000000e+00  0.00000000e+00\n",
            "  5.44316572e-06  5.97994294e-05  3.71253154e-05  6.26370966e-05\n",
            "  5.75685408e-04  8.90582683e-04  1.05416169e-03  1.57033629e-03\n",
            "  1.50525954e-03  1.14133791e-03  9.49422712e-04  1.42777467e-03\n",
            "  1.23751676e-03  1.03699823e-03  6.86320709e-04  2.86109251e-04\n",
            " -2.44347466e-05  2.14566103e-06  0.00000000e+00  0.00000000e+00\n",
            "  0.00000000e+00  0.00000000e+00  0.00000000e+00  0.00000000e+00\n",
            "  0.00000000e+00  0.00000000e+00 -4.74830958e-05 -5.28028177e-05\n",
            "  1.40992255e-04  2.82283436e-04  1.62298777e-04 -6.99589495e-04\n",
            " -3.72946350e-04  1.03280786e-03  2.23877281e-03  2.46929144e-03\n",
            "  2.20512995e-03  2.47173524e-03  2.74078618e-03  2.98190443e-03\n",
            "  2.32305913e-03  1.51927199e-03  1.02555845e-04 -1.28482454e-04\n",
            " -4.09431465e-04 -2.47414893e-04  1.28527090e-05  0.00000000e+00\n",
            "  0.00000000e+00  0.00000000e+00  0.00000000e+00  0.00000000e+00\n",
            "  0.00000000e+00 -9.81478024e-06 -2.46116077e-04 -1.69682797e-04\n",
            "  2.77281477e-04  3.96958494e-04 -2.11516133e-04 -1.62200991e-03\n",
            " -1.63499999e-03 -1.09736749e-04  1.65410340e-03  2.23235413e-03\n",
            "  2.20492808e-03  3.39241303e-03  3.24697886e-03  2.63769762e-03\n",
            "  1.99942198e-03  1.10117719e-03 -1.34316637e-04 -1.92738534e-03\n",
            " -2.55369232e-03 -2.81193457e-03 -1.77247275e-03 -7.22383091e-04\n",
            "  2.24234136e-05  0.00000000e+00  0.00000000e+00  0.00000000e+00\n",
            "  0.00000000e+00 -1.95621848e-04 -4.66328347e-04 -5.05467993e-04\n",
            "  3.61954852e-04  5.79775195e-04 -7.40329968e-04 -1.98560045e-03\n",
            " -1.82967773e-03 -4.71667969e-04  2.40936177e-03  3.31071205e-03\n",
            "  6.14012778e-03  8.27398524e-03  8.31303932e-03  5.19428868e-03\n",
            "  3.20269447e-03  1.12838252e-03 -8.93939985e-04 -3.72925261e-03\n",
            " -4.68449341e-03 -3.91142257e-03 -1.92949874e-03 -7.14499271e-04\n",
            " -1.43492129e-04  8.02929790e-05  0.00000000e+00  0.00000000e+00\n",
            "  1.24992721e-05 -5.69124095e-05 -4.72957967e-04 -7.72660715e-04\n",
            "  3.50744900e-04  2.70820048e-04 -1.07260607e-03 -1.16350444e-03\n",
            "  5.77725586e-05  1.54844497e-03  4.28751204e-03  7.38056796e-03\n",
            "  1.04139103e-02  1.32471276e-02  1.12353377e-02  7.03823008e-03\n",
            "  3.23109003e-03  1.47168385e-03 -1.08274049e-03 -2.55436450e-03\n",
            " -4.12855623e-03 -3.53642576e-03 -1.52162137e-03 -3.77613876e-04\n",
            " -5.57985695e-05  4.50368279e-05  0.00000000e+00  0.00000000e+00\n",
            "  1.06102516e-05 -6.73888644e-05 -6.18144928e-04 -4.65795776e-04\n",
            " -3.80403682e-04 -4.76914924e-04 -1.65936362e-05  9.83761856e-05\n",
            "  1.39262818e-03  3.19518498e-03  5.33462409e-03  7.51252426e-03\n",
            "  9.93456319e-03  1.19624361e-02  8.33013467e-03  4.99536749e-03\n",
            "  4.79313545e-03  1.42790785e-03  1.32653237e-04 -1.18979742e-03\n",
            " -3.20685469e-03 -2.52278522e-03  8.89929826e-04  5.14790358e-04\n",
            "  1.41266850e-04  0.00000000e+00  0.00000000e+00  3.60141021e-05\n",
            "  6.63331302e-05  1.32104469e-06 -2.50427693e-04 -3.48519796e-04\n",
            " -2.40139663e-04  3.16273421e-04  1.48504507e-03  1.53419888e-03\n",
            "  2.96802819e-03  2.74082692e-03  2.70234467e-03  3.79408314e-03\n",
            "  8.24235287e-03  9.16440412e-03  3.16234422e-03  2.43089884e-03\n",
            "  2.99663260e-03  1.27840764e-03 -3.25096567e-04 -1.44243380e-03\n",
            " -2.76241358e-03 -3.30971146e-04  1.06401159e-03  2.48045893e-04\n",
            "  7.22140976e-05  0.00000000e+00  0.00000000e+00  4.15547311e-06\n",
            "  3.60884995e-04  4.93965636e-04  4.63649922e-04 -2.35052663e-04\n",
            " -1.42691701e-04  4.59787523e-04  6.43508625e-04  4.37997864e-04\n",
            "  1.62352138e-04 -1.19837350e-03 -1.52512686e-03  1.85339816e-03\n",
            "  5.46620600e-03  5.86938905e-03  6.84564468e-04 -1.20617682e-04\n",
            "  1.15458621e-03 -5.08886704e-04 -1.14834064e-03 -1.33769901e-03\n",
            " -2.06257030e-03  3.37126374e-04  2.95973674e-04  3.87371401e-05\n",
            "  3.17360309e-06  0.00000000e+00  0.00000000e+00  0.00000000e+00\n",
            "  2.73754238e-04  5.07011195e-04  1.42826641e-04 -8.82632623e-04\n",
            "  5.70828852e-05 -1.93306303e-04 -1.72509695e-04 -2.39884038e-03\n",
            " -4.71441355e-03 -5.55391191e-03 -1.87467702e-03  2.37867236e-03\n",
            "  5.03113260e-03  3.62887001e-03 -2.07831245e-03 -2.66670994e-03\n",
            " -3.03301727e-04 -1.75152766e-03 -6.31382107e-04 -9.14644857e-04\n",
            " -1.27266697e-03  4.28587518e-04  2.62034126e-04  1.02899248e-05\n",
            "  1.71128140e-05  0.00000000e+00  0.00000000e+00  0.00000000e+00\n",
            "  5.64779693e-05  1.50415784e-04 -8.23116919e-04 -1.45454344e-03\n",
            " -5.14230516e-04 -1.72111171e-03 -2.28571286e-03 -6.25907630e-03\n",
            " -1.02800326e-02 -8.19566846e-03 -2.73240451e-03  1.39878911e-03\n",
            "  3.68883996e-03  1.38822454e-03 -4.05815803e-03 -3.35412798e-03\n",
            " -1.33732997e-03 -1.05782039e-03  1.20769802e-03 -3.26788344e-04\n",
            "  6.72132446e-05  1.10829901e-03  5.50527184e-04  1.30406042e-04\n",
            "  1.36429353e-05  0.00000000e+00  0.00000000e+00  0.00000000e+00\n",
            "  1.91888266e-05 -1.62789976e-04 -1.33061805e-03 -1.52564584e-03\n",
            " -2.39045010e-03 -4.35116887e-03 -5.58369979e-03 -8.55742395e-03\n",
            " -1.07012391e-02 -6.91235764e-03 -1.78414234e-03  2.60589481e-03\n",
            "  3.74193047e-03  1.41899579e-03 -3.79270734e-03 -6.25366345e-03\n",
            " -3.19382362e-03 -5.19314373e-04 -8.08048761e-04 -1.45102374e-03\n",
            " -7.76767731e-04  8.32523569e-04  5.10320126e-04  2.66416464e-04\n",
            "  1.57721797e-06  0.00000000e+00  0.00000000e+00  0.00000000e+00\n",
            "  0.00000000e+00 -1.19635966e-04 -1.68137485e-03 -2.53545889e-03\n",
            " -5.33910329e-03 -8.25063791e-03 -7.94282556e-03 -6.30773930e-03\n",
            " -5.78411622e-03 -4.71427757e-03 -1.55420438e-03  1.21936831e-03\n",
            "  1.09816180e-03 -9.46310000e-04 -5.90143539e-03 -9.60063655e-03\n",
            " -3.90955247e-03 -2.77010864e-03 -2.29890388e-03 -2.05227919e-03\n",
            " -8.74457997e-04  3.95873474e-04  5.46554977e-04  2.36859632e-04\n",
            "  7.37186156e-06  0.00000000e+00  0.00000000e+00  0.00000000e+00\n",
            "  0.00000000e+00 -2.12469691e-04 -1.53350853e-03 -2.56714597e-03\n",
            " -5.44122187e-03 -9.67421569e-03 -1.08604487e-02 -7.83332251e-03\n",
            " -6.36403449e-03 -5.40659996e-03 -4.69746860e-03 -4.40659374e-03\n",
            " -3.08704562e-03 -5.07457601e-03 -8.10969807e-03 -6.75627822e-03\n",
            " -4.53551579e-03 -4.17991634e-03 -1.94675219e-03 -9.65415384e-04\n",
            " -7.71456223e-04  2.51890073e-04  6.03887835e-04  4.10474866e-04\n",
            "  1.47607396e-04  0.00000000e+00  0.00000000e+00  0.00000000e+00\n",
            "  1.64029025e-05  4.30888867e-05 -8.79165076e-04 -2.25700648e-03\n",
            " -3.87740019e-03 -8.99800286e-03 -9.59756970e-03 -7.34337931e-03\n",
            " -5.69981197e-03 -4.08773310e-03 -3.28996079e-03 -2.92336592e-03\n",
            " -3.58260144e-03 -5.91832818e-03 -7.18900468e-03 -5.10688964e-03\n",
            " -5.09536639e-03 -2.16799416e-03  2.22543138e-04  5.95836900e-04\n",
            " -1.02493144e-03 -2.37772998e-04  4.70283499e-04  1.94662687e-04\n",
            "  6.29443603e-05  0.00000000e+00  0.00000000e+00  0.00000000e+00\n",
            "  1.98764337e-05  1.55873917e-04  2.87926639e-04 -2.78981344e-04\n",
            " -1.74606417e-03 -4.30475874e-03 -3.87172331e-03 -1.89711177e-03\n",
            " -1.37864379e-04 -3.07783397e-04 -3.04473820e-03 -4.18886542e-03\n",
            " -4.78880526e-03 -6.31044619e-03 -5.86032774e-03 -2.66404264e-03\n",
            " -1.41802104e-03  1.18435698e-03  1.64075219e-03  1.45005924e-03\n",
            "  7.44303688e-04  2.06586774e-04  4.49577346e-04  1.49259271e-04\n",
            "  0.00000000e+00  0.00000000e+00  0.00000000e+00  0.00000000e+00\n",
            "  1.34640883e-04  2.75457685e-04  1.01937703e-03  2.13115965e-03\n",
            "  2.44868780e-03  1.91780983e-03  3.35934223e-04  8.43319634e-04\n",
            "  2.50211614e-03  1.62646186e-03 -1.98429334e-05 -1.88973721e-03\n",
            " -3.01793288e-03 -3.57605820e-03 -1.45445159e-03  7.25822523e-04\n",
            "  2.20002839e-03  2.43623112e-03  1.67180796e-03  8.54579615e-04\n",
            "  9.39451274e-04  7.22191238e-04  4.49003594e-04  6.74441762e-05\n",
            "  0.00000000e+00  0.00000000e+00  0.00000000e+00  0.00000000e+00\n",
            "  1.85873068e-04  3.61779326e-04  1.27570028e-03  2.75574275e-03\n",
            "  4.37113876e-03  4.94553847e-03  5.49406046e-03  5.80729311e-03\n",
            "  5.29944897e-03  4.90967743e-03  3.26001178e-03  2.17350316e-03\n",
            " -3.02637927e-05 -1.17781269e-03 -1.50758089e-04  1.57057738e-03\n",
            "  1.68925920e-03  2.85106688e-03  1.29878707e-03  5.94547892e-04\n",
            "  6.64682710e-04  3.42670828e-04  6.46972403e-05  2.26766088e-06\n",
            "  0.00000000e+00  0.00000000e+00  0.00000000e+00  0.00000000e+00\n",
            "  9.06645946e-05  3.73525691e-04  1.26012298e-03  2.47022486e-03\n",
            "  4.00897162e-03  5.13564935e-03  5.96870854e-03  6.57783309e-03\n",
            "  7.81475101e-03  6.93694176e-03  6.58064522e-03  4.29571420e-03\n",
            "  1.17066491e-04  7.26304250e-04  1.66181056e-03  1.70502882e-03\n",
            "  1.28337450e-03  2.03946815e-03  7.57288828e-04 -2.81996734e-04\n",
            "  2.08866157e-04  2.80275533e-04  9.74026916e-05  1.17153595e-05\n",
            "  1.13559690e-05  0.00000000e+00  0.00000000e+00  0.00000000e+00\n",
            "  6.80110461e-05  2.49092293e-04  1.07169652e-03  2.11001653e-03\n",
            "  3.16753751e-03  4.69622947e-03  5.17525570e-03  5.98067092e-03\n",
            "  5.66359470e-03  4.64958884e-03  4.92573576e-03  2.08331412e-03\n",
            " -1.38042460e-03  6.17350976e-04  1.50898239e-03  1.11616380e-03\n",
            " -5.09665813e-04  9.58029530e-04  2.71338387e-04 -7.30848929e-04\n",
            "  2.30336780e-04  1.70579035e-04  3.33350763e-05  9.67302276e-06\n",
            "  2.15953405e-05  0.00000000e+00  0.00000000e+00  0.00000000e+00\n",
            "  1.97891541e-06  7.72189669e-05  4.73087828e-04  1.25746033e-03\n",
            "  2.23973743e-03  2.69636861e-03  3.37790255e-03  4.46114130e-03\n",
            "  3.01041617e-03  2.56100111e-03  2.97130854e-03 -7.75985071e-04\n",
            " -1.96812488e-03 -6.66830631e-04  5.23089606e-04  8.22608708e-05\n",
            " -1.30213657e-03 -2.82164474e-05 -4.01655503e-04 -6.33814430e-04\n",
            " -1.39266376e-09  1.43149999e-04  2.69130833e-05  4.88937530e-06\n",
            "  1.11982472e-05  0.00000000e+00  0.00000000e+00  0.00000000e+00\n",
            "  1.83316658e-07  7.82542484e-05  3.78882134e-04  7.70989049e-04\n",
            "  1.17881491e-03  1.50887715e-03  2.53080134e-03  1.82053226e-03\n",
            "  1.22529850e-03  1.66432466e-03  8.96479585e-04 -2.04708497e-03\n",
            " -2.41674343e-03 -1.04818516e-03  8.82591354e-04 -8.27344309e-04\n",
            " -1.15285499e-03 -1.30189466e-03 -1.15700718e-03 -9.03263426e-05\n",
            "  4.94946471e-05  8.14056402e-05  6.54382602e-05  0.00000000e+00\n",
            "  0.00000000e+00  0.00000000e+00  0.00000000e+00  0.00000000e+00\n",
            "  0.00000000e+00  9.47915250e-05  3.56592209e-04  6.01656677e-04\n",
            "  2.38350854e-04  1.12556946e-03  2.23823893e-03  3.64959065e-04\n",
            "  1.79462810e-03  1.58427563e-03  1.70040177e-03 -6.60151883e-04\n",
            "  9.18051519e-05  3.16474796e-03  1.30285567e-03 -4.52117703e-04\n",
            " -8.60953820e-04 -3.54261923e-04  2.00020091e-04  2.81005166e-04\n",
            "  5.48578973e-05  7.37914452e-05  6.42192244e-05  0.00000000e+00\n",
            "  0.00000000e+00  0.00000000e+00  0.00000000e+00  0.00000000e+00\n",
            "  0.00000000e+00  5.71262899e-06  1.47399114e-04  3.97817756e-04\n",
            "  7.86620483e-04  1.35142426e-03  1.23704982e-03  5.55570936e-04\n",
            "  3.17944703e-03  3.49577283e-03  3.12134577e-03  2.46184319e-03\n",
            "  2.29731319e-03  2.86624581e-03  2.75822077e-03  1.61897996e-03\n",
            "  1.41017092e-03  6.03343651e-04  4.19314485e-04  1.20734512e-04\n",
            "  1.08790329e-04  1.33974580e-04  2.93415414e-05  0.00000000e+00\n",
            "  0.00000000e+00  0.00000000e+00  0.00000000e+00  0.00000000e+00\n",
            "  0.00000000e+00  8.17363343e-06  8.89595394e-05  1.72582557e-04\n",
            "  3.55482509e-04  3.81312449e-04 -1.08181062e-04  3.51301220e-04\n",
            "  8.05928779e-04  5.35149709e-04  6.53616735e-04  6.55751443e-04\n",
            "  1.15980755e-03  1.17986044e-03  1.13112282e-03  1.05927035e-03\n",
            "  7.74560904e-04  5.29764802e-04  1.01630307e-04  2.66689458e-05\n",
            "  0.00000000e+00  0.00000000e+00  0.00000000e+00  0.00000000e+00\n",
            "  0.00000000e+00  0.00000000e+00  0.00000000e+00  0.00000000e+00\n",
            "  0.00000000e+00  0.00000000e+00  0.00000000e+00  2.81996035e-05\n",
            "  6.60286532e-05  6.36712357e-05  2.91411834e-05  1.07369542e-05\n",
            "  1.31219231e-05  1.01368831e-04  1.57069007e-04  1.58657625e-04\n",
            "  1.12686590e-04  1.27081716e-04  1.52315260e-04  1.08175198e-04\n",
            "  1.99107395e-04  8.39426939e-05  0.00000000e+00  0.00000000e+00\n",
            "  0.00000000e+00  0.00000000e+00  0.00000000e+00  0.00000000e+00\n",
            "  0.00000000e+00  0.00000000e+00]...\n",
            "Gradientes da classe 4 na época 4: [ 0.00000000e+00  0.00000000e+00  0.00000000e+00  0.00000000e+00\n",
            "  0.00000000e+00  0.00000000e+00  0.00000000e+00  0.00000000e+00\n",
            "  0.00000000e+00  0.00000000e+00  0.00000000e+00  0.00000000e+00\n",
            "  0.00000000e+00  0.00000000e+00  0.00000000e+00  0.00000000e+00\n",
            "  0.00000000e+00  0.00000000e+00  0.00000000e+00  0.00000000e+00\n",
            "  0.00000000e+00  0.00000000e+00  0.00000000e+00  0.00000000e+00\n",
            "  0.00000000e+00  0.00000000e+00  0.00000000e+00  0.00000000e+00\n",
            "  1.95148023e-05  1.20991768e-04  0.00000000e+00  4.88970181e-05\n",
            "  2.04319047e-04  2.68165022e-04  1.83713928e-04  2.43607195e-04\n",
            "  1.19368662e-04  0.00000000e+00  0.00000000e+00  0.00000000e+00\n",
            "  0.00000000e+00  0.00000000e+00  0.00000000e+00  0.00000000e+00\n",
            "  0.00000000e+00  0.00000000e+00  0.00000000e+00  0.00000000e+00\n",
            "  0.00000000e+00  0.00000000e+00  0.00000000e+00  0.00000000e+00\n",
            "  0.00000000e+00  0.00000000e+00  0.00000000e+00  0.00000000e+00\n",
            "  2.26412827e-04  6.23333268e-04  4.23801714e-04  3.70246038e-04\n",
            "  7.51192274e-04  4.43290948e-04  1.73075809e-04  6.08378730e-04\n",
            "  4.55929199e-04  2.50228273e-04  1.04947707e-04  1.27911597e-04\n",
            "  6.24898748e-05  2.35715129e-06  0.00000000e+00  0.00000000e+00\n",
            "  0.00000000e+00  0.00000000e+00  0.00000000e+00  0.00000000e+00\n",
            "  0.00000000e+00  0.00000000e+00  0.00000000e+00  0.00000000e+00\n",
            "  5.00649230e-06  5.90112541e-05  3.41404666e-05  5.81101849e-05\n",
            "  5.68499439e-04  8.70570831e-04  1.01832498e-03  1.51780737e-03\n",
            "  1.42473355e-03  1.02509512e-03  8.23526410e-04  1.30892091e-03\n",
            "  1.14910037e-03  9.73779242e-04  6.58737728e-04  2.81347311e-04\n",
            " -1.71760912e-05  1.89596960e-06  0.00000000e+00  0.00000000e+00\n",
            "  0.00000000e+00  0.00000000e+00  0.00000000e+00  0.00000000e+00\n",
            "  0.00000000e+00  0.00000000e+00 -4.53926550e-05 -5.11826438e-05\n",
            "  1.35968745e-04  2.77876126e-04  1.55594971e-04 -6.97403797e-04\n",
            " -3.80708487e-04  9.75302362e-04  2.14227755e-03  2.32351478e-03\n",
            "  1.99837261e-03  2.22021388e-03  2.48369994e-03  2.77583534e-03\n",
            "  2.21318030e-03  1.44657411e-03  1.12134745e-04 -9.59540193e-05\n",
            " -3.70005961e-04 -2.26751406e-04  1.17539275e-05  0.00000000e+00\n",
            "  0.00000000e+00  0.00000000e+00  0.00000000e+00  0.00000000e+00\n",
            "  0.00000000e+00 -9.13633085e-06 -2.35185071e-04 -1.65038422e-04\n",
            "  2.76127597e-04  3.94330447e-04 -2.03472155e-04 -1.59082166e-03\n",
            " -1.62300456e-03 -1.34817848e-04  1.55393244e-03  2.02530390e-03\n",
            "  1.88018125e-03  3.00450018e-03  2.85830745e-03  2.31362111e-03\n",
            "  1.82539411e-03  1.05274876e-03 -7.33954803e-05 -1.79991382e-03\n",
            " -2.41998862e-03 -2.68153660e-03 -1.68360746e-03 -6.93611975e-04\n",
            "  2.14326210e-05  0.00000000e+00  0.00000000e+00  0.00000000e+00\n",
            "  0.00000000e+00 -1.83996352e-04 -4.39649273e-04 -4.83701995e-04\n",
            "  3.59985046e-04  5.78247302e-04 -7.22747413e-04 -1.93887716e-03\n",
            " -1.78120821e-03 -4.69270250e-04  2.27271486e-03  3.02325143e-03\n",
            "  5.64883649e-03  7.69552169e-03  7.77528947e-03  4.76389192e-03\n",
            "  2.97624385e-03  1.13392028e-03 -7.64729688e-04 -3.52667319e-03\n",
            " -4.46989574e-03 -3.71199148e-03 -1.78958010e-03 -6.78922632e-04\n",
            " -1.37329538e-04  7.72817075e-05  0.00000000e+00  0.00000000e+00\n",
            "  1.10858418e-05 -5.03627089e-05 -4.45585116e-04 -7.32472341e-04\n",
            "  3.46382090e-04  2.67148134e-04 -1.06822350e-03 -1.12178188e-03\n",
            "  7.91753992e-05  1.46834552e-03  3.98472697e-03  6.90845167e-03\n",
            "  9.75905731e-03  1.25232143e-02  1.05907451e-02  6.54366007e-03\n",
            "  3.01657431e-03  1.53878494e-03 -8.95349542e-04 -2.37470842e-03\n",
            " -3.90083855e-03 -3.32037755e-03 -1.39366905e-03 -3.33210774e-04\n",
            " -5.31676560e-05  4.30589171e-05  0.00000000e+00  0.00000000e+00\n",
            "  9.42959559e-06 -6.41455044e-05 -5.90107637e-04 -4.39153606e-04\n",
            " -3.77879187e-04 -4.91987506e-04 -4.39514697e-05  1.13985327e-04\n",
            "  1.35946984e-03  2.98636639e-03  4.98649711e-03  7.00535951e-03\n",
            "  9.29818116e-03  1.12993205e-02  7.78748468e-03  4.60317824e-03\n",
            "  4.66189627e-03  1.57922914e-03  3.73908668e-04 -9.64572944e-04\n",
            " -2.96214293e-03 -2.31627957e-03  9.25047265e-04  5.38244087e-04\n",
            "  1.37722207e-04  0.00000000e+00  0.00000000e+00  3.57493191e-05\n",
            "  6.68046123e-05  1.01981568e-05 -2.32287988e-04 -3.34692566e-04\n",
            " -2.38920242e-04  2.89375370e-04  1.47154788e-03  1.54685369e-03\n",
            "  2.86326231e-03  2.57175462e-03  2.53773411e-03  3.51052382e-03\n",
            "  7.80159794e-03  8.71923938e-03  2.83597736e-03  2.21821666e-03\n",
            "  2.98993383e-03  1.47436745e-03 -1.01080223e-05 -1.17389113e-03\n",
            " -2.54882569e-03 -2.36037304e-04  1.08652329e-03  2.58910237e-04\n",
            "  7.21370161e-05  0.00000000e+00  0.00000000e+00  4.12492136e-06\n",
            "  3.68261448e-04  5.02051960e-04  4.73510707e-04 -2.18359113e-04\n",
            " -1.22169338e-04  4.88985446e-04  7.27285282e-04  4.83696291e-04\n",
            "  2.46132782e-04 -1.10684545e-03 -1.48568582e-03  1.73641311e-03\n",
            "  5.23480866e-03  5.61059359e-03  5.18959423e-04 -1.49212778e-04\n",
            "  1.29700964e-03 -1.86239020e-04 -8.07954406e-04 -1.15409656e-03\n",
            " -1.96862640e-03  3.64847598e-04  3.17678292e-04  4.22493977e-05\n",
            "  2.74542595e-06  0.00000000e+00  0.00000000e+00  0.00000000e+00\n",
            "  2.77710758e-04  5.15603111e-04  1.59445568e-04 -8.43300950e-04\n",
            "  1.28566651e-04 -3.29325558e-05 -1.08032837e-05 -2.22864887e-03\n",
            " -4.37324308e-03 -5.28729847e-03 -1.83304760e-03  2.22084299e-03\n",
            "  4.80549643e-03  3.43660568e-03 -2.13503651e-03 -2.54522613e-03\n",
            " -5.47101954e-05 -1.41856214e-03 -3.81992082e-04 -8.16192012e-04\n",
            " -1.21879380e-03  4.62141266e-04  2.71814904e-04  9.40904465e-06\n",
            "  1.54267309e-05  0.00000000e+00  0.00000000e+00  0.00000000e+00\n",
            "  5.41501322e-05  1.58951356e-04 -7.95464264e-04 -1.38857367e-03\n",
            " -3.67249944e-04 -1.46452058e-03 -1.99901173e-03 -5.85572235e-03\n",
            " -9.84268729e-03 -7.95964897e-03 -2.79014185e-03  1.19068148e-03\n",
            "  3.45855183e-03  1.19699724e-03 -4.09973180e-03 -3.19062127e-03\n",
            " -1.00545282e-03 -7.90075865e-04  1.30816142e-03 -3.05237016e-04\n",
            "  8.87047645e-05  1.12533511e-03  5.50766883e-04  1.31082357e-04\n",
            "  1.22987312e-05  0.00000000e+00  0.00000000e+00  0.00000000e+00\n",
            "  1.82497915e-05 -1.52762979e-04 -1.27214054e-03 -1.38882746e-03\n",
            " -2.13524140e-03 -3.94874811e-03 -5.06925490e-03 -8.00823141e-03\n",
            " -1.02791600e-02 -6.78045675e-03 -1.89453992e-03  2.38989270e-03\n",
            "  3.48202931e-03  1.18203741e-03 -3.76332994e-03 -5.95685141e-03\n",
            " -2.90214783e-03 -3.83579347e-04 -7.56527414e-04 -1.41274428e-03\n",
            " -7.36741640e-04  8.39659246e-04  5.06797107e-04  2.69066426e-04\n",
            "  1.42181864e-06  0.00000000e+00  0.00000000e+00  0.00000000e+00\n",
            "  0.00000000e+00 -1.09654502e-04 -1.59296847e-03 -2.33088247e-03\n",
            " -4.94817877e-03 -7.64348404e-03 -7.23793078e-03 -5.68314875e-03\n",
            " -5.30551048e-03 -4.48030373e-03 -1.48878200e-03  1.12130796e-03\n",
            "  9.47574386e-04 -9.85475373e-04 -5.66612137e-03 -9.16624442e-03\n",
            " -3.60323023e-03 -2.58058868e-03 -2.18468788e-03 -1.99298188e-03\n",
            " -8.46051029e-04  4.08133026e-04  5.38784254e-04  2.37216518e-04\n",
            "  7.38661220e-06  0.00000000e+00  0.00000000e+00  0.00000000e+00\n",
            "  0.00000000e+00 -2.03622723e-04 -1.45783217e-03 -2.34134402e-03\n",
            " -4.94878367e-03 -8.95624515e-03 -1.00964420e-02 -7.18158530e-03\n",
            " -5.77024836e-03 -4.91140224e-03 -4.30136034e-03 -4.12279228e-03\n",
            " -2.86350446e-03 -4.78783343e-03 -7.63608702e-03 -6.30750367e-03\n",
            " -4.16759774e-03 -3.94787313e-03 -1.85065530e-03 -9.53260518e-04\n",
            " -7.49385159e-04  2.67797033e-04  5.89083182e-04  4.04221297e-04\n",
            "  1.47542902e-04  0.00000000e+00  0.00000000e+00  0.00000000e+00\n",
            "  1.68720162e-05  4.02588703e-05 -8.26168980e-04 -2.04593339e-03\n",
            " -3.45380721e-03 -8.39196052e-03 -8.93532205e-03 -6.73624082e-03\n",
            " -5.13619976e-03 -3.57921724e-03 -2.82111811e-03 -2.49631959e-03\n",
            " -3.19111114e-03 -5.49532380e-03 -6.69225957e-03 -4.64913435e-03\n",
            " -4.69743554e-03 -2.02966854e-03  2.40945548e-04  5.68590127e-04\n",
            " -1.02010753e-03 -2.54953047e-04  4.47771687e-04  1.90698222e-04\n",
            "  6.30703071e-05  0.00000000e+00  0.00000000e+00  0.00000000e+00\n",
            "  1.90656374e-05  1.48026855e-04  2.88903713e-04 -1.90962077e-04\n",
            " -1.54704740e-03 -4.00431035e-03 -3.60823586e-03 -1.71001675e-03\n",
            "  2.61478126e-05 -1.16578856e-04 -2.79786228e-03 -3.93377058e-03\n",
            " -4.50872723e-03 -5.93148032e-03 -5.49928891e-03 -2.39285128e-03\n",
            " -1.24166056e-03  1.21152308e-03  1.62398792e-03  1.39426533e-03\n",
            "  6.87151216e-04  1.62653130e-04  4.25039616e-04  1.45411032e-04\n",
            "  0.00000000e+00  0.00000000e+00  0.00000000e+00  0.00000000e+00\n",
            "  1.35019800e-04  2.63366295e-04  9.77659249e-04  2.06599990e-03\n",
            "  2.38972181e-03  1.86322012e-03  2.70427263e-04  7.34785106e-04\n",
            "  2.33887928e-03  1.50070549e-03 -8.96456186e-05 -1.85885082e-03\n",
            " -2.93460349e-03 -3.41568375e-03 -1.39182422e-03  7.20810727e-04\n",
            "  2.13203835e-03  2.35855859e-03  1.59369095e-03  7.88829639e-04\n",
            "  8.84984853e-04  6.83278427e-04  4.32370784e-04  6.54663672e-05\n",
            "  0.00000000e+00  0.00000000e+00  0.00000000e+00  0.00000000e+00\n",
            "  1.88389531e-04  3.40732833e-04  1.20659533e-03  2.61886232e-03\n",
            "  4.16227011e-03  4.68704198e-03  5.19823749e-03  5.46984188e-03\n",
            "  4.95846150e-03  4.60386695e-03  3.06096766e-03  2.06657615e-03\n",
            " -9.89774708e-06 -1.19020033e-03 -2.22324103e-04  1.41673023e-03\n",
            "  1.57499546e-03  2.75409920e-03  1.27336255e-03  5.58217813e-04\n",
            "  6.31736126e-04  3.18452629e-04  5.85975140e-05  1.89992306e-06\n",
            "  0.00000000e+00  0.00000000e+00  0.00000000e+00  0.00000000e+00\n",
            "  8.57979830e-05  3.46522778e-04  1.17361150e-03  2.30514165e-03\n",
            "  3.76100885e-03  4.84128483e-03  5.61294751e-03  6.17331266e-03\n",
            "  7.38934614e-03  6.57492131e-03  6.30557071e-03  4.13060980e-03\n",
            "  4.97674919e-05  6.41158433e-04  1.51245645e-03  1.55056198e-03\n",
            "  1.20848126e-03  2.01442558e-03  7.63492426e-04 -2.77871179e-04\n",
            "  1.96441702e-04  2.59788358e-04  9.02036263e-05  1.07905871e-05\n",
            "  1.02370941e-05  0.00000000e+00  0.00000000e+00  0.00000000e+00\n",
            "  6.40841026e-05  2.28702411e-04  9.94824572e-04  1.95960770e-03\n",
            "  2.94957194e-03  4.40721121e-03  4.83543985e-03  5.57490345e-03\n",
            "  5.27069485e-03  4.34109010e-03  4.71280003e-03  1.97590399e-03\n",
            " -1.41148153e-03  5.60745480e-04  1.33575662e-03  1.00787077e-03\n",
            " -5.11740334e-04  9.72223177e-04  2.94654339e-04 -7.10820197e-04\n",
            "  2.17109628e-04  1.56838199e-04  2.96374747e-05  8.66928531e-06\n",
            "  1.94316071e-05  0.00000000e+00  0.00000000e+00  0.00000000e+00\n",
            "  1.69368332e-06  6.94535920e-05  4.32721776e-04  1.16053270e-03\n",
            "  2.08406127e-03  2.48646806e-03  3.10979038e-03  4.12581954e-03\n",
            "  2.74975644e-03  2.38556042e-03  2.87912670e-03 -7.70210288e-04\n",
            " -1.89659186e-03 -6.87274267e-04  3.96998599e-04  2.63483380e-05\n",
            " -1.27026252e-03  3.62019491e-05 -3.42073094e-04 -6.11592201e-04\n",
            "  7.13452096e-07  1.35660244e-04  2.51510792e-05  4.40763733e-06\n",
            "  1.00949119e-05  0.00000000e+00  0.00000000e+00  0.00000000e+00\n",
            "  1.52526169e-07  7.35846625e-05  3.56125936e-04  7.20475509e-04\n",
            "  1.09839649e-03  1.38401054e-03  2.33088993e-03  1.62892882e-03\n",
            "  1.08136027e-03  1.58080610e-03  8.58859916e-04 -1.99983665e-03\n",
            " -2.35216413e-03 -1.04560994e-03  7.90231163e-04 -8.31397600e-04\n",
            " -1.08128693e-03 -1.19534228e-03 -1.08170579e-03 -7.29526073e-05\n",
            "  5.14045096e-05  8.18661865e-05  6.31141738e-05  0.00000000e+00\n",
            "  0.00000000e+00  0.00000000e+00  0.00000000e+00  0.00000000e+00\n",
            "  0.00000000e+00  9.00425803e-05  3.42304673e-04  5.71879034e-04\n",
            "  2.12582076e-04  1.05726882e-03  2.13078782e-03  2.76939914e-04\n",
            "  1.70348876e-03  1.51757954e-03  1.64104649e-03 -6.93422218e-04\n",
            "  6.74236508e-05  3.04708909e-03  1.21539901e-03 -4.34295420e-04\n",
            " -7.90223363e-04 -2.85167829e-04  2.37749293e-04  2.84418871e-04\n",
            "  5.85402959e-05  7.52801134e-05  6.20328792e-05  0.00000000e+00\n",
            "  0.00000000e+00  0.00000000e+00  0.00000000e+00  0.00000000e+00\n",
            "  0.00000000e+00  5.32505146e-06  1.42819728e-04  3.83365317e-04\n",
            "  7.58499082e-04  1.31090498e-03  1.18548842e-03  4.95458080e-04\n",
            "  3.06965853e-03  3.36989039e-03  3.00280284e-03  2.37799250e-03\n",
            "  2.23785895e-03  2.76690000e-03  2.66284472e-03  1.57950423e-03\n",
            "  1.39566255e-03  6.15838100e-04  4.20622877e-04  1.19065829e-04\n",
            "  1.04968058e-04  1.29413427e-04  2.83426107e-05  0.00000000e+00\n",
            "  0.00000000e+00  0.00000000e+00  0.00000000e+00  0.00000000e+00\n",
            "  0.00000000e+00  7.91975162e-06  8.51349178e-05  1.64169222e-04\n",
            "  3.33129399e-04  3.50974675e-04 -1.45941493e-04  2.96721119e-04\n",
            "  7.44259392e-04  4.93866624e-04  6.13897981e-04  6.16919482e-04\n",
            "  1.12363603e-03  1.13949482e-03  1.08458649e-03  1.02507137e-03\n",
            "  7.65591627e-04  5.27184573e-04  9.78631069e-05  2.56803887e-05\n",
            "  0.00000000e+00  0.00000000e+00  0.00000000e+00  0.00000000e+00\n",
            "  0.00000000e+00  0.00000000e+00  0.00000000e+00  0.00000000e+00\n",
            "  0.00000000e+00  0.00000000e+00  0.00000000e+00  2.58519231e-05\n",
            "  6.09543022e-05  5.84856498e-05  2.57629454e-05  9.27457404e-06\n",
            "  1.18777152e-05  9.67481901e-05  1.48481238e-04  1.48955034e-04\n",
            "  1.04777086e-04  1.17324940e-04  1.40583259e-04  1.01060825e-04\n",
            "  1.96314970e-04  8.34748207e-05  0.00000000e+00  0.00000000e+00\n",
            "  0.00000000e+00  0.00000000e+00  0.00000000e+00  0.00000000e+00\n",
            "  0.00000000e+00  0.00000000e+00]...\n",
            "Gradientes da classe 4 na época 5: [ 0.00000000e+00  0.00000000e+00  0.00000000e+00  0.00000000e+00\n",
            "  0.00000000e+00  0.00000000e+00  0.00000000e+00  0.00000000e+00\n",
            "  0.00000000e+00  0.00000000e+00  0.00000000e+00  0.00000000e+00\n",
            "  0.00000000e+00  0.00000000e+00  0.00000000e+00  0.00000000e+00\n",
            "  0.00000000e+00  0.00000000e+00  0.00000000e+00  0.00000000e+00\n",
            "  0.00000000e+00  0.00000000e+00  0.00000000e+00  0.00000000e+00\n",
            "  0.00000000e+00  0.00000000e+00  0.00000000e+00  0.00000000e+00\n",
            "  1.95192588e-05  1.21019402e-04  0.00000000e+00  4.66074416e-05\n",
            "  1.97498506e-04  2.59614433e-04  1.73837063e-04  2.32849983e-04\n",
            "  1.14259179e-04  0.00000000e+00  0.00000000e+00  0.00000000e+00\n",
            "  0.00000000e+00  0.00000000e+00  0.00000000e+00  0.00000000e+00\n",
            "  0.00000000e+00  0.00000000e+00  0.00000000e+00  0.00000000e+00\n",
            "  0.00000000e+00  0.00000000e+00  0.00000000e+00  0.00000000e+00\n",
            "  0.00000000e+00  0.00000000e+00  0.00000000e+00  0.00000000e+00\n",
            "  2.24873424e-04  6.14195480e-04  4.13226313e-04  3.58723773e-04\n",
            "  7.28767307e-04  4.12765454e-04  1.26668645e-04  5.65846043e-04\n",
            "  4.26032348e-04  2.31346814e-04  9.75879302e-05  1.21548685e-04\n",
            "  5.93555815e-05  2.09555833e-06  0.00000000e+00  0.00000000e+00\n",
            "  0.00000000e+00  0.00000000e+00  0.00000000e+00  0.00000000e+00\n",
            "  0.00000000e+00  0.00000000e+00  0.00000000e+00  0.00000000e+00\n",
            "  4.61149057e-06  5.82854263e-05  3.14920508e-05  5.40901528e-05\n",
            "  5.61265682e-04  8.51122430e-04  9.84452083e-04  1.46875286e-03\n",
            "  1.35200552e-03  9.21788567e-04  7.12521258e-04  1.20461872e-03\n",
            "  1.07183005e-03  9.18133243e-04  6.33634685e-04  2.75922153e-04\n",
            " -1.15551338e-05  1.68555778e-06  0.00000000e+00  0.00000000e+00\n",
            "  0.00000000e+00  0.00000000e+00  0.00000000e+00  0.00000000e+00\n",
            "  0.00000000e+00  0.00000000e+00 -4.36202063e-05 -4.99506023e-05\n",
            "  1.31331864e-04  2.73754093e-04  1.49407235e-04 -6.95071823e-04\n",
            " -3.87362204e-04  9.22986888e-04  2.05516140e-03  2.19364837e-03\n",
            "  1.81692722e-03  2.00005365e-03  2.25924747e-03  2.59648287e-03\n",
            "  2.11692601e-03  1.38277421e-03  1.19043398e-04 -7.03944970e-05\n",
            " -3.37271544e-04 -2.09222999e-04  1.07991491e-05  0.00000000e+00\n",
            "  0.00000000e+00  0.00000000e+00  0.00000000e+00  0.00000000e+00\n",
            "  0.00000000e+00 -8.56249153e-06 -2.25915355e-04 -1.61390111e-04\n",
            "  2.74289108e-04  3.90907575e-04 -1.97470217e-04 -1.56309106e-03\n",
            " -1.61197199e-03 -1.57552800e-04  1.46404642e-03  1.84382487e-03\n",
            "  1.59832009e-03  2.66634021e-03  2.52018543e-03  2.03100196e-03\n",
            "  1.67421764e-03  1.01016881e-03 -2.34926265e-05 -1.69221475e-03\n",
            " -2.30562710e-03 -2.56989431e-03 -1.60692364e-03 -6.68081630e-04\n",
            "  2.05097222e-05  0.00000000e+00  0.00000000e+00  0.00000000e+00\n",
            "  0.00000000e+00 -1.74135712e-04 -4.16916329e-04 -4.65302612e-04\n",
            "  3.56889621e-04  5.74675621e-04 -7.08537700e-04 -1.89883588e-03\n",
            " -1.74023444e-03 -4.69372782e-04  2.14814139e-03  2.76749977e-03\n",
            "  5.21264179e-03  7.17968633e-03  7.29332399e-03  4.37717047e-03\n",
            "  2.76883855e-03  1.12801965e-03 -6.60750142e-04 -3.35606304e-03\n",
            " -4.28757817e-03 -3.54281021e-03 -1.67034357e-03 -6.47456502e-04\n",
            " -1.31897847e-04  7.44252393e-05  0.00000000e+00  0.00000000e+00\n",
            "  9.88346619e-06 -4.50145817e-05 -4.22344165e-04 -6.98324293e-04\n",
            "  3.40842322e-04  2.61213863e-04 -1.06626796e-03 -1.08977605e-03\n",
            "  9.02847969e-05  1.38760963e-03  3.70632717e-03  6.47688285e-03\n",
            "  9.16527398e-03  1.18657276e-02  1.00027472e-02  6.09133253e-03\n",
            "  2.80989474e-03  1.57703739e-03 -7.48208666e-04 -2.22941162e-03\n",
            " -3.70962732e-03 -3.13760224e-03 -1.28490455e-03 -2.95276404e-04\n",
            " -5.11375656e-05  4.12277113e-05  0.00000000e+00  0.00000000e+00\n",
            "  8.42430927e-06 -6.16386533e-05 -5.65963739e-04 -4.17143630e-04\n",
            " -3.78418685e-04 -5.08932630e-04 -7.36006477e-05  1.15407602e-04\n",
            "  1.31327705e-03  2.78294529e-03  4.65891091e-03  6.53805863e-03\n",
            "  8.71930923e-03  1.06976479e-02  7.29376590e-03  4.24431823e-03\n",
            "  4.52481769e-03  1.68592436e-03  5.60054905e-04 -7.84955686e-04\n",
            " -2.75889901e-03 -2.14309990e-03  9.50400659e-04  5.54975995e-04\n",
            "  1.34204165e-04  0.00000000e+00  0.00000000e+00  3.54461954e-05\n",
            "  6.72649621e-05  1.72831351e-05 -2.17646259e-04 -3.25067085e-04\n",
            " -2.42500217e-04  2.58514425e-04  1.44685409e-03  1.53642253e-03\n",
            "  2.74504581e-03  2.39876425e-03  2.37106369e-03  3.24271317e-03\n",
            "  7.39765819e-03  8.31447635e-03  2.54117534e-03  2.02030665e-03\n",
            "  2.96075852e-03  1.61613757e-03  2.39815185e-04 -9.55212396e-04\n",
            " -2.37127813e-03 -1.58353650e-04  1.10279443e-03  2.66456627e-04\n",
            "  7.18016745e-05  0.00000000e+00  0.00000000e+00  4.08994538e-06\n",
            "  3.74840136e-04  5.08062541e-04  4.79679264e-04 -2.08428799e-04\n",
            " -1.10510227e-04  5.03927586e-04  7.81958632e-04  4.96738707e-04\n",
            "  2.90868222e-04 -1.04953418e-03 -1.46710756e-03  1.62371364e-03\n",
            "  5.02375932e-03  5.37736155e-03  3.70582973e-04 -1.83617696e-04\n",
            "  1.39719038e-03  6.54674368e-05 -5.35272935e-04 -1.00715761e-03\n",
            " -1.89114106e-03  3.88472283e-04  3.36733297e-04  4.51924861e-05\n",
            "  2.39727638e-06  0.00000000e+00  0.00000000e+00  0.00000000e+00\n",
            "  2.81144952e-04  5.22231043e-04  1.71546097e-04 -8.14045139e-04\n",
            "  1.82219403e-04  9.11753741e-05  1.04166975e-04 -2.11041374e-03\n",
            " -4.09925450e-03 -5.06881252e-03 -1.80500478e-03  2.07785238e-03\n",
            "  4.60408721e-03  3.26693058e-03 -2.18299590e-03 -2.44804402e-03\n",
            "  1.33814174e-04 -1.16338651e-03 -1.88326347e-04 -7.42299540e-04\n",
            " -1.17289671e-03  4.92060091e-04  2.80625798e-04  8.66192113e-06\n",
            "  1.39827007e-05  0.00000000e+00  0.00000000e+00  0.00000000e+00\n",
            "  5.19033674e-05  1.66263431e-04 -7.74029875e-04 -1.33604847e-03\n",
            " -2.50400917e-04 -1.26262265e-03 -1.77988480e-03 -5.53272059e-03\n",
            " -9.47781745e-03 -7.75929075e-03 -2.84184888e-03  1.00867916e-03\n",
            "  3.25630698e-03  1.02930760e-03 -4.13806643e-03 -3.06500169e-03\n",
            " -7.52277148e-04 -5.92592871e-04  1.37358182e-03 -2.94119935e-04\n",
            "  1.06923922e-04  1.14017166e-03  5.50660247e-04  1.31552180e-04\n",
            "  1.11474992e-05  0.00000000e+00  0.00000000e+00  0.00000000e+00\n",
            "  1.73516382e-05 -1.44044199e-04 -1.22302433e-03 -1.27538864e-03\n",
            " -1.92669418e-03 -3.62240453e-03 -4.65120934e-03 -7.55576836e-03\n",
            " -9.92410630e-03 -6.67205919e-03 -1.99563592e-03  2.19439319e-03\n",
            "  3.24525777e-03  9.63476719e-04 -3.75349144e-03 -5.72757144e-03\n",
            " -2.68785958e-03 -2.96862097e-04 -7.26030092e-04 -1.38252729e-03\n",
            " -7.03310070e-04  8.45038565e-04  5.03274903e-04  2.71073019e-04\n",
            "  1.28872819e-06  0.00000000e+00  0.00000000e+00  0.00000000e+00\n",
            "  0.00000000e+00 -1.01141544e-04 -1.51709013e-03 -2.15946720e-03\n",
            " -4.62204777e-03 -7.13634538e-03 -6.65112305e-03 -5.16580325e-03\n",
            " -4.90947347e-03 -4.29427344e-03 -1.45241036e-03  1.01319957e-03\n",
            "  7.93898536e-04 -1.04098814e-03 -5.48562361e-03 -8.82012956e-03\n",
            " -3.37134139e-03 -2.43919296e-03 -2.09381245e-03 -1.94481027e-03\n",
            " -8.23004579e-04  4.18175827e-04  5.31232276e-04  2.37149201e-04\n",
            "  7.39603320e-06  0.00000000e+00  0.00000000e+00  0.00000000e+00\n",
            "  0.00000000e+00 -1.95760615e-04 -1.39268069e-03 -2.15074816e-03\n",
            " -4.53441078e-03 -8.34937766e-03 -9.45678446e-03 -6.64389040e-03\n",
            " -5.28590661e-03 -4.51397663e-03 -3.98934633e-03 -3.90741695e-03\n",
            " -2.70090229e-03 -4.56455629e-03 -7.25368597e-03 -5.95235219e-03\n",
            " -3.88020370e-03 -3.76409944e-03 -1.77439197e-03 -9.47437948e-04\n",
            " -7.31918204e-04  2.81008455e-04  5.74983656e-04  3.97955009e-04\n",
            "  1.47341809e-04  0.00000000e+00  0.00000000e+00  0.00000000e+00\n",
            "  1.72958935e-05  3.76802418e-05 -7.81024399e-04 -1.86752900e-03\n",
            " -3.09857586e-03 -7.88134336e-03 -8.38077441e-03 -6.23455318e-03\n",
            " -4.67578555e-03 -3.16800689e-03 -2.44428101e-03 -2.15387880e-03\n",
            " -2.87944614e-03 -5.15378686e-03 -6.29038457e-03 -4.28738678e-03\n",
            " -4.37822845e-03 -1.92335062e-03  2.49037374e-04  5.40651148e-04\n",
            " -1.01643195e-03 -2.70434888e-04  4.27533872e-04  1.87078782e-04\n",
            "  6.31507428e-05  0.00000000e+00  0.00000000e+00  0.00000000e+00\n",
            "  1.82829699e-05  1.40701435e-04  2.88948126e-04 -1.18657947e-04\n",
            " -1.38072844e-03 -3.75345256e-03 -3.39103700e-03 -1.56300480e-03\n",
            "  1.50962675e-04  3.25769361e-05 -2.59560766e-03 -3.72459553e-03\n",
            " -4.28328058e-03 -5.62336901e-03 -5.21382364e-03 -2.18979968e-03\n",
            " -1.11048855e-03  1.22290477e-03  1.60039519e-03  1.33874873e-03\n",
            "  6.34687196e-04  1.23982361e-04  4.03341197e-04  1.41883880e-04\n",
            "  0.00000000e+00  0.00000000e+00  0.00000000e+00  0.00000000e+00\n",
            "  1.35265786e-04  2.52222235e-04  9.40605183e-04  2.00644252e-03\n",
            "  2.33213790e-03  1.80851156e-03  2.07307748e-04  6.34454249e-04\n",
            "  2.18806067e-03  1.38205593e-03 -1.58998009e-04 -1.84413255e-03\n",
            " -2.87807593e-03 -3.29792593e-03 -1.36409677e-03  6.91778376e-04\n",
            "  2.05472717e-03  2.27925461e-03  1.51532085e-03  7.25531776e-04\n",
            "  8.34808103e-04  6.49026595e-04  4.17627627e-04  6.36649056e-05\n",
            "  0.00000000e+00  0.00000000e+00  0.00000000e+00  0.00000000e+00\n",
            "  1.90689534e-04  3.22077802e-04  1.14568579e-03  2.49760342e-03\n",
            "  3.97459231e-03  4.45540296e-03  4.93520219e-03  5.16991084e-03\n",
            "  4.65319678e-03  4.32726089e-03  2.87439767e-03  1.95466937e-03\n",
            " -1.24602811e-05 -1.22054771e-03 -3.04426445e-04  1.26497634e-03\n",
            "  1.45983510e-03  2.65668309e-03  1.24311016e-03  5.23239607e-04\n",
            "  6.01898995e-04  2.97427585e-04  5.34226128e-05  1.61121170e-06\n",
            "  0.00000000e+00  0.00000000e+00  0.00000000e+00  0.00000000e+00\n",
            "  8.14141822e-05  3.22774664e-04  1.09741173e-03  2.15917150e-03\n",
            "  3.53971706e-03  4.57799248e-03  5.29591925e-03  5.81336953e-03\n",
            "  7.00774416e-03  6.24575838e-03  6.04751240e-03  3.96489305e-03\n",
            " -2.74428166e-05  5.50539058e-04  1.36773090e-03  1.40128029e-03\n",
            "  1.12905994e-03  1.98029005e-03  7.61175121e-04 -2.77450366e-04\n",
            "  1.84510136e-04  2.41820890e-04  8.38695851e-05  1.00026464e-05\n",
            "  9.27884321e-06  0.00000000e+00  0.00000000e+00  0.00000000e+00\n",
            "  6.05966634e-05  2.11083679e-04  9.27248213e-04  1.82759762e-03\n",
            "  2.75752833e-03  4.15069563e-03  4.53408295e-03  5.21559548e-03\n",
            "  4.92093340e-03  4.06212825e-03  4.51216009e-03  1.86615076e-03\n",
            " -1.44932128e-03  5.01542003e-04  1.17369695e-03  9.00748710e-04\n",
            " -5.25576703e-04  9.73229413e-04  3.07002076e-04 -6.96736271e-04\n",
            "  2.04110736e-04  1.44807098e-04  2.65115013e-05  7.81700328e-06\n",
            "  1.75878722e-05  0.00000000e+00  0.00000000e+00  0.00000000e+00\n",
            "  1.47103776e-06  6.28989219e-05  3.97769385e-04  1.07600680e-03\n",
            "  1.94759993e-03  2.30286876e-03  2.87609268e-03  3.83190811e-03\n",
            "  2.51928507e-03  2.22522160e-03  2.78766942e-03 -7.75293331e-04\n",
            " -1.84001657e-03 -7.11055007e-04  2.76457868e-04 -3.44352447e-05\n",
            " -1.25435251e-03  8.20884234e-05 -2.96342187e-04 -5.95359306e-04\n",
            "  2.72009402e-08  1.28739455e-04  2.35727566e-05  3.99505734e-06\n",
            "  9.14997054e-06  0.00000000e+00  0.00000000e+00  0.00000000e+00\n",
            "  1.29245763e-07  6.94888877e-05  3.35964171e-04  6.76033553e-04\n",
            "  1.02777779e-03  1.27494463e-03  2.15670513e-03  1.46235316e-03\n",
            "  9.52745904e-04  1.49988383e-03  8.16811109e-04 -1.96432089e-03\n",
            " -2.29915557e-03 -1.04961102e-03  6.98448275e-04 -8.45948525e-04\n",
            " -1.02961902e-03 -1.10940007e-03 -1.02004339e-03 -6.00490457e-05\n",
            "  5.19984969e-05  8.13769875e-05  6.07958500e-05  0.00000000e+00\n",
            "  0.00000000e+00  0.00000000e+00  0.00000000e+00  0.00000000e+00\n",
            "  0.00000000e+00  8.57814957e-05  3.29399598e-04  5.45252988e-04\n",
            "  1.89728060e-04  9.96303977e-04  2.03553052e-03  1.98935246e-04\n",
            "  1.61756400e-03  1.45030115e-03  1.58037501e-03 -7.27176899e-04\n",
            "  4.00268473e-05  2.93487730e-03  1.12906669e-03 -4.28155705e-04\n",
            " -7.35999958e-04 -2.30140562e-04  2.67109805e-04  2.86416354e-04\n",
            "  6.07017100e-05  7.56677764e-05  5.98306760e-05  0.00000000e+00\n",
            "  0.00000000e+00  0.00000000e+00  0.00000000e+00  0.00000000e+00\n",
            "  0.00000000e+00  4.97616202e-06  1.38520438e-04  3.69968649e-04\n",
            "  7.32758839e-04  1.27444766e-03  1.13968935e-03  4.40915523e-04\n",
            "  2.96688103e-03  3.25241708e-03  2.89120083e-03  2.29805987e-03\n",
            "  2.18010508e-03  2.67470209e-03  2.57249572e-03  1.53844617e-03\n",
            "  1.37870968e-03  6.24019129e-04  4.19622695e-04  1.17226795e-04\n",
            "  1.01148122e-04  1.24819169e-04  2.73364294e-05  0.00000000e+00\n",
            "  0.00000000e+00  0.00000000e+00  0.00000000e+00  0.00000000e+00\n",
            "  0.00000000e+00  7.67694473e-06  8.15189123e-05  1.56271650e-04\n",
            "  3.13041790e-04  3.24234075e-04 -1.79340786e-04  2.48284108e-04\n",
            "  6.89693145e-04  4.57675982e-04  5.78550738e-04  5.81895816e-04\n",
            "  1.09035696e-03  1.10246474e-03  1.04172574e-03  9.92290908e-04\n",
            "  7.56208436e-04  5.23692870e-04  9.40463869e-05  2.46788386e-05\n",
            "  0.00000000e+00  0.00000000e+00  0.00000000e+00  0.00000000e+00\n",
            "  0.00000000e+00  0.00000000e+00  0.00000000e+00  0.00000000e+00\n",
            "  0.00000000e+00  0.00000000e+00  0.00000000e+00  2.37721888e-05\n",
            "  5.64224429e-05  5.39246830e-05  2.29394227e-05  8.07330525e-06\n",
            "  1.08190998e-05  9.23340340e-05  1.40537479e-04  1.40134187e-04\n",
            "  9.76949086e-05  1.08590990e-04  1.30085784e-04  9.46144137e-05\n",
            "  1.93459593e-04  8.29061391e-05  0.00000000e+00  0.00000000e+00\n",
            "  0.00000000e+00  0.00000000e+00  0.00000000e+00  0.00000000e+00\n",
            "  0.00000000e+00  0.00000000e+00]...\n"
          ]
        },
        {
          "output_type": "display_data",
          "data": {
            "text/plain": [
              "<Figure size 1800x600 with 0 Axes>"
            ]
          },
          "metadata": {}
        }
      ]
    },
    {
      "cell_type": "markdown",
      "metadata": {
        "id": "8UjOANOOe4Es"
      },
      "source": [
        "<details>\n",
        "<summary>Mostrar Resultado</summary>\n",
        "\n",
        "```python\n",
        "from IPython import display\n",
        "import numpy\n",
        "a = 5\n",
        "losses = []\n",
        "zs = []\n",
        "fig = plt.figure(figsize=(18, 6))\n",
        "\n",
        "try:\n",
        "    for i in range(epochs):\n",
        "        # Transforma a entrada para uma dimensão\n",
        "        inputs = Variable(x_train.view(-1, 28 * 28))\n",
        "        # Predict da rede\n",
        "        outputs = model(inputs)\n",
        "        zs.append(outputs[1].detach().numpy())\n",
        "\n",
        "        # calcula a perda\n",
        "        loss = criterion(outputs, Variable(y_train))\n",
        "\n",
        "        # zero, backpropagation, ajusta parâmetros pelo gradiente descendente\n",
        "        optimizer.zero_grad()\n",
        "        loss.backward()\n",
        "        optimizer.step()\n",
        "\n",
        "        losses.append(loss.data)\n",
        "        weights_d = model.weight.data[4].numpy().reshape(28,28)\n",
        "        weights_g = model.weight.grad.data[4].numpy().reshape(28,28)\n",
        "        ww = np.concatenate((weights_d,weights_g),1)\n",
        "        plt.imshow(ww.reshape((28,28*2)),cmap = 'gray')\n",
        "        display.display(fig)\n",
        "        display.clear_output(wait=True)\n",
        "        input(i)\n",
        "        \n",
        "        _, predicts = torch.max(outputs, 1)\n",
        "\n",
        "        y_pred = predicts.data\n",
        "        accuracy = (y_pred.numpy() == y_train.numpy()).mean()\n",
        "        print('Accuracy:', accuracy)\n",
        "        print(\"epoca: \" + str(i + 1))\n",
        "        print(\"perda: \" + str(loss.data.detach().numpy()))\n",
        "except KeyboardInterrupt:\n",
        "    pass\n",
        "```\n",
        "\n",
        "</details>\n",
        "\n"
      ]
    },
    {
      "cell_type": "markdown",
      "metadata": {
        "heading_collapsed": true,
        "id": "WNYt_-zhmvR7"
      },
      "source": [
        "## Perguntas"
      ]
    },
    {
      "cell_type": "markdown",
      "metadata": {
        "hidden": true,
        "id": "joaXY_W3mvR9"
      },
      "source": [
        "1. Qual é o shape da matriz de entrada na rede?\n",
        "2. Qual é o shape da saída da rede?\n",
        "3. Qual é o número total de parâmetros da rede, incluindo o bias?"
      ]
    },
    {
      "cell_type": "markdown",
      "source": [
        "Considerando esses dados, amostras de treinamento: 60000, dimensões dos dados das imagens:    torch.Size([60000, 28, 28]), model = torch.nn.Linear(28*28, 10) # 28*28 atributos de entrada e 10 neurônios na sáida\n",
        "e n_samples_train = 1000, serão realizadas as seguintes análises:\n",
        "\n",
        "**1.shape da matriz de entrada na rede**\n",
        "\n",
        "Shape da matriz de entrada: (1000, 784)\n",
        "\n",
        "* 1000 amostras de entrada e cada amostra tem 784 características- 28x28 (pixels da imagem achatados).\n",
        "\n",
        "**2.shape da matriz de saída na rede**\n",
        "\n",
        "Shape da matriz de saída: (1000, 10)\n",
        "\n",
        "Para cada uma das 1000 amostras, a rede retorna 10 valores, correspondendo às probabilidades dos 10 dígitos possíveis (0 a 9).\n",
        "\n",
        "**3.Número total de parâmetros da rede, incluindo o bias**\n",
        "\n",
        "**Parâmetros de peso:**\n",
        "\n",
        "Cada entrada (784) está conectada a cada neurônio de saída (10). Portanto, o número de parâmetros de peso é: 784 x 10 = 7840\n",
        "\n",
        "**Parâmetros de bias:**\n",
        "\n",
        "10 - cada neurônio de saída tem um parâmetro de bias.\n",
        "\n",
        "**Número total de parâmetros da rede**\n",
        "\n",
        "Número total de parâmetros: 7840 + 10 =**7850**\n",
        "\n",
        "\n"
      ],
      "metadata": {
        "id": "ZgjE0R2NlOrx"
      }
    },
    {
      "cell_type": "markdown",
      "metadata": {
        "id": "WzWdNQ6PmvR9"
      },
      "source": [
        "# Aprendizados\n"
      ]
    },
    {
      "cell_type": "markdown",
      "source": [
        "Este notebook realizou a tarefa de classificar dígitos manuscritos utilizando o famoso dataset MNIST. O conjunto de dados, composto por 60 mil amostras, apresenta uma grande quantidade de características: 28x28 pixels por imagem. Por isso, foi necessário trabalhar com uma amostra menor para facilitar a análise.\n",
        "\n",
        "Inicialmente, os dados do MNIST foram carregados integralmente. Em seguida, foi feita uma segunda importação com a seleção de apenas 1000 elementos, acompanhada de uma etapa de normalização. Além disso, foram explorados os dados e visualizadas imagens individuais utilizando a biblioteca Matplotlib.\n",
        "\n",
        "No processo, foi testada uma previsão (predict) com poucas amostras, e em seguida ocorreu o treinamento do modelo. Esse treinamento incluiu a inicialização dos parâmetros, a análise do grafo computacional da função de perda (loss), a execução do laço de treinamento para ajustar os pesos e a geração de um gráfico que ilustra a evolução da perda ao longo das iterações.\n",
        "\n",
        "Na etapa de avaliação, foram calculadas a acurácia do modelo e gerada a matriz de confusão. Também foi feita a visualização dos pesos associados a cada classe, bem como do diagrama de regressão softmax, destacando os pesos \\( w \\).\n",
        "\n",
        "Durante o treinamento, foram adicionados códigos que permitiram, ao final de cada época, imprimir o número da época, os valores da perda e da acurácia, além de visualizar os gradientes relacionados à classe do dígito 4.\n",
        "\n",
        "Por fim, o estudo incluiu a análise do formato (shape) das matrizes de entrada e saída da rede, além do cálculo do número total de parâmetros do modelo, incluindo os termos de bias."
      ],
      "metadata": {
        "id": "lglr3O19q5jk"
      }
    }
  ],
  "metadata": {
    "colab": {
      "provenance": [],
      "toc_visible": true
    },
    "kernelspec": {
      "display_name": "Python 3",
      "name": "python3"
    },
    "language_info": {
      "name": "python",
      "version": "3.10.2"
    },
    "vscode": {
      "interpreter": {
        "hash": "5fe3e6f0cdaab8afdc61c52912fda83f7c0a71baaea1897dd7498e2df01e69ec"
      }
    }
  },
  "nbformat": 4,
  "nbformat_minor": 0
}