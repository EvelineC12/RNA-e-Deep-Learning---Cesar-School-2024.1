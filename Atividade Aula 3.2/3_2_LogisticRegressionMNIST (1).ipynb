{
  "cells": [
    {
      "cell_type": "markdown",
      "source": [
        "**Atividade 3.2 disciplina RNA e Deep Learning**\n",
        "\n",
        "**Aluna: Eveline Cavalcanti Feliciano Pontual**"
      ],
      "metadata": {
        "id": "4KkWTyYNg0Tb"
      }
    },
    {
      "cell_type": "markdown",
      "metadata": {
        "id": "Ot79tGiPOl08"
      },
      "source": [
        "# Regressão Softmax com dados do MNIST"
      ]
    },
    {
      "cell_type": "markdown",
      "metadata": {
        "id": "21fecJPyOl0-"
      },
      "source": [
        "## Objetivo"
      ]
    },
    {
      "cell_type": "markdown",
      "metadata": {
        "id": "z8SxRSoLOl1I"
      },
      "source": [
        "O objetivo deste notebook é ilustrar o uso de praticamente a mesma rede desenvolvida para a classificação das flores Íris, porém agora com o problema de classificação de dígitos manuscritos utilizando o dataset MNIST.\n",
        "As principais diferenças são:\n",
        "- tipo do dado, agora imagem com muito atributos: 28 x 28 pixels\n",
        "- número de amostras, muito maior, 60 mil\n",
        "Neste exercício será possível a interpretação do significado dos parâmetros treinados"
      ]
    },
    {
      "cell_type": "markdown",
      "metadata": {
        "id": "RKVT1A6zOl1J"
      },
      "source": [
        "## Importação das bibliotecas"
      ]
    },
    {
      "cell_type": "code",
      "execution_count": 1,
      "metadata": {
        "colab": {
          "base_uri": "https://localhost:8080/"
        },
        "id": "EVN-NfMTNk73",
        "outputId": "a5a04ca8-a0a7-4fc6-b710-3aa9497bd69a"
      },
      "outputs": [
        {
          "output_type": "stream",
          "name": "stdout",
          "text": [
            "Requirement already satisfied: Pillow in /usr/local/lib/python3.10/dist-packages (11.0.0)\n"
          ]
        }
      ],
      "source": [
        "! pip install Pillow"
      ]
    },
    {
      "cell_type": "code",
      "execution_count": 2,
      "metadata": {
        "ExecuteTime": {
          "end_time": "2017-11-24T15:44:50.097111",
          "start_time": "2017-11-24T15:44:48.915046"
        },
        "id": "2oKVJHVNOl1k"
      },
      "outputs": [],
      "source": [
        "%matplotlib inline\n",
        "import numpy as np\n",
        "import matplotlib.pyplot as plt\n",
        "import pandas as pd\n",
        "\n",
        "import torch\n",
        "from torch.autograd import Variable\n",
        "\n",
        "import torchvision"
      ]
    },
    {
      "cell_type": "markdown",
      "metadata": {
        "id": "BmeldMPaOl1p"
      },
      "source": [
        "## Carregamento dos dados do MNIST"
      ]
    },
    {
      "cell_type": "code",
      "execution_count": 3,
      "metadata": {
        "colab": {
          "base_uri": "https://localhost:8080/"
        },
        "id": "vzrUS_xbgvry",
        "outputId": "8433504f-eb94-416a-d511-0a82f415a53a"
      },
      "outputs": [
        {
          "output_type": "stream",
          "name": "stdout",
          "text": [
            "Cloning into 'MNIST'...\n",
            "remote: Enumerating objects: 10, done.\u001b[K\n",
            "remote: Total 10 (delta 0), reused 0 (delta 0), pack-reused 10 (from 1)\u001b[K\n",
            "Receiving objects: 100% (10/10), 11.01 MiB | 13.99 MiB/s, done.\n",
            "Resolving deltas: 100% (2/2), done.\n"
          ]
        }
      ],
      "source": [
        "! git clone https://github.com/vcasadei/MNIST.git"
      ]
    },
    {
      "cell_type": "code",
      "execution_count": 4,
      "metadata": {
        "colab": {
          "base_uri": "https://localhost:8080/"
        },
        "id": "f6tbsAECg5JB",
        "outputId": "45700955-293b-4ac9-8db9-facb34f9d748"
      },
      "outputs": [
        {
          "output_type": "stream",
          "name": "stdout",
          "text": [
            "processed  raw\n"
          ]
        }
      ],
      "source": [
        "!ls MNIST"
      ]
    },
    {
      "cell_type": "code",
      "execution_count": 5,
      "metadata": {
        "ExecuteTime": {
          "end_time": "2017-11-24T15:44:50.638218",
          "start_time": "2017-11-24T15:44:50.098808"
        },
        "colab": {
          "base_uri": "https://localhost:8080/"
        },
        "id": "q0KuxPGVOl1q",
        "outputId": "042240c4-3b46-4682-fe19-b605a9577604"
      },
      "outputs": [
        {
          "output_type": "stream",
          "name": "stdout",
          "text": [
            "Amostras de treinamento: 60000\n",
            "\n",
            "Dimensões dos dados das imagens:    torch.Size([60000, 28, 28])\n",
            "Valores mínimo e máximo dos pixels: tensor(0, dtype=torch.uint8) tensor(255, dtype=torch.uint8)\n",
            "Tipo dos dados das imagens:         <class 'torch.Tensor'>\n",
            "Tipo das classes das imagens:       <class 'torch.Tensor'>\n"
          ]
        },
        {
          "output_type": "stream",
          "name": "stderr",
          "text": [
            "<ipython-input-5-6143b94785d1>:3: FutureWarning: You are using `torch.load` with `weights_only=False` (the current default value), which uses the default pickle module implicitly. It is possible to construct malicious pickle data which will execute arbitrary code during unpickling (See https://github.com/pytorch/pytorch/blob/main/SECURITY.md#untrusted-models for more details). In a future release, the default value for `weights_only` will be flipped to `True`. This limits the functions that could be executed during unpickling. Arbitrary objects will no longer be allowed to be loaded via this mode unless they are explicitly allowlisted by the user via `torch.serialization.add_safe_globals`. We recommend you start setting `weights_only=True` for any use case where you don't have full control of the loaded file. Please open an issue on GitHub for any issues related to this experimental feature.\n",
            "  x_train, y_train = torch.load(dataset_dir + 'processed/training.pt')\n"
          ]
        }
      ],
      "source": [
        "dataset_dir = 'MNIST/'\n",
        "\n",
        "x_train, y_train = torch.load(dataset_dir + 'processed/training.pt')\n",
        "\n",
        "print(\"Amostras de treinamento:\", x_train.size(0))\n",
        "\n",
        "print(\"\\nDimensões dos dados das imagens:   \", x_train.size())\n",
        "print(\"Valores mínimo e máximo dos pixels:\", torch.min(x_train), torch.max(x_train))\n",
        "print(\"Tipo dos dados das imagens:        \", type(x_train))\n",
        "print(\"Tipo das classes das imagens:      \", type(y_train))"
      ]
    },
    {
      "cell_type": "markdown",
      "metadata": {
        "id": "DccnsPRCOl1y"
      },
      "source": [
        "### Carregamento, normalização e seleção dos dados do MNIST\n",
        "\n",
        "Neste exemplo utilizaremos apenas 1000 amostras de treinamento."
      ]
    },
    {
      "cell_type": "code",
      "execution_count": 6,
      "metadata": {
        "ExecuteTime": {
          "end_time": "2017-11-24T15:44:50.895668",
          "start_time": "2017-11-24T15:44:50.640110"
        },
        "colab": {
          "base_uri": "https://localhost:8080/"
        },
        "id": "jRfSlVpnOl10",
        "outputId": "b52d2917-c154-48ca-cee3-04d6f9a9fde2"
      },
      "outputs": [
        {
          "output_type": "stream",
          "name": "stdout",
          "text": [
            "Amostras de treinamento: 1000\n",
            "\n",
            "Dimensões dos dados das imagens:    torch.Size([1000, 28, 28])\n",
            "Valores mínimo e máximo dos pixels: tensor(0.) tensor(1.)\n",
            "Tipo dos dados das imagens:         <class 'torch.Tensor'>\n",
            "Tipo das classes das imagens:       <class 'torch.Tensor'>\n"
          ]
        }
      ],
      "source": [
        "x_train = x_train.float()\n",
        "\n",
        "x_train = x_train / 255.\n",
        "\n",
        "if True:\n",
        "    n_samples_train = 1000\n",
        "\n",
        "    x_train = x_train[:n_samples_train]\n",
        "    y_train = y_train[:n_samples_train]\n",
        "\n",
        "print(\"Amostras de treinamento:\", x_train.size(0))\n",
        "\n",
        "print(\"\\nDimensões dos dados das imagens:   \", x_train.size())\n",
        "print(\"Valores mínimo e máximo dos pixels:\", torch.min(x_train), torch.max(x_train))\n",
        "print(\"Tipo dos dados das imagens:        \", type(x_train))\n",
        "print(\"Tipo das classes das imagens:      \", type(y_train))"
      ]
    },
    {
      "cell_type": "markdown",
      "metadata": {
        "id": "0tXHwvS_Ol13"
      },
      "source": [
        "### Visualizando os dados"
      ]
    },
    {
      "cell_type": "code",
      "execution_count": 7,
      "metadata": {
        "ExecuteTime": {
          "end_time": "2017-11-24T16:32:19.474568",
          "start_time": "2017-11-24T16:32:19.207270"
        },
        "colab": {
          "base_uri": "https://localhost:8080/",
          "height": 466
        },
        "id": "zV7-8V9UOl15",
        "outputId": "435520bc-d276-4723-dad3-31b33f7b4802"
      },
      "outputs": [
        {
          "output_type": "execute_result",
          "data": {
            "text/plain": [
              "(-0.5, 232.5, 87.5, -0.5)"
            ]
          },
          "metadata": {},
          "execution_count": 7
        },
        {
          "output_type": "display_data",
          "data": {
            "text/plain": [
              "<Figure size 1500x1000 with 1 Axes>"
            ],
            "image/png": "[encoded data removed]"
          },
          "metadata": {}
        }
      ],
      "source": [
        "n_samples = 24\n",
        "\n",
        "# cria um grid com as imagens\n",
        "grid = torchvision.utils.make_grid(x_train[:n_samples].unsqueeze(dim=1), pad_value=1.0, padding=1)\n",
        "\n",
        "plt.figure(figsize=(15, 10))\n",
        "plt.imshow(grid.numpy().transpose(1, 2, 0))\n",
        "plt.axis('off')"
      ]
    },
    {
      "cell_type": "markdown",
      "metadata": {
        "id": "biPfk_htOl2H"
      },
      "source": [
        "### Visualizando uma imagem com o matplotlib"
      ]
    },
    {
      "cell_type": "code",
      "execution_count": 8,
      "metadata": {
        "ExecuteTime": {
          "end_time": "2017-11-24T15:44:51.413232",
          "start_time": "2017-11-24T15:44:51.251376"
        },
        "colab": {
          "base_uri": "https://localhost:8080/",
          "height": 447
        },
        "id": "tAs2Zy28Ol2I",
        "outputId": "2dab4372-7c73-4bcd-c87a-0344c5879b5c",
        "scrolled": true
      },
      "outputs": [
        {
          "output_type": "stream",
          "name": "stdout",
          "text": [
            "class: tensor(5)\n"
          ]
        },
        {
          "output_type": "display_data",
          "data": {
            "text/plain": [
              "<Figure size 640x480 with 1 Axes>"
            ],
            "image/png": "[encoded data removed]"
          },
          "metadata": {}
        }
      ],
      "source": [
        "image  = x_train[0]\n",
        "target = y_train[0]\n",
        "\n",
        "plt.imshow(image.numpy(), cmap='gray')\n",
        "print('class:', target)"
      ]
    },
    {
      "cell_type": "markdown",
      "metadata": {
        "id": "jWlWHjOvOl2R"
      },
      "source": [
        "## Modelo"
      ]
    },
    {
      "cell_type": "code",
      "execution_count": 9,
      "metadata": {
        "ExecuteTime": {
          "end_time": "2017-11-24T15:44:51.419287",
          "start_time": "2017-11-24T15:44:51.415065"
        },
        "id": "8OeUJnUqOl2T"
      },
      "outputs": [],
      "source": [
        "model = torch.nn.Linear(28*28, 10) # 28*28 atributos de entrada e 10 neurônios na sáida"
      ]
    },
    {
      "cell_type": "markdown",
      "metadata": {
        "id": "COKUqRSGOl2d"
      },
      "source": [
        "### Testando um predict com poucas amostras"
      ]
    },
    {
      "cell_type": "code",
      "execution_count": 10,
      "metadata": {
        "colab": {
          "base_uri": "https://localhost:8080/"
        },
        "id": "Rxf7FUZOOl2g",
        "outputId": "424d7c75-d446-40dd-c4ce-826a464c8f7a"
      },
      "outputs": [
        {
          "output_type": "execute_result",
          "data": {
            "text/plain": [
              "tensor([[ 0.0933,  0.2589, -0.1744, -0.0617,  0.1163, -0.2235,  0.2270,  0.3124,\n",
              "         -0.1353, -0.2085],\n",
              "        [-0.3083,  0.2278, -0.0763, -0.1015,  0.3361, -0.3803,  0.1346,  0.3272,\n",
              "         -0.1216, -0.2108],\n",
              "        [-0.0742, -0.1081, -0.0142, -0.2581,  0.0354, -0.2989,  0.0145, -0.2080,\n",
              "          0.0999, -0.2138],\n",
              "        [ 0.1079,  0.1210, -0.0575, -0.0593,  0.1141, -0.0651,  0.1196,  0.1618,\n",
              "         -0.2145,  0.0080],\n",
              "        [ 0.0710,  0.0368, -0.4225, -0.0871,  0.1226, -0.2939, -0.2792,  0.1465,\n",
              "         -0.2014, -0.0587]], grad_fn=<AddmmBackward0>)"
            ]
          },
          "metadata": {},
          "execution_count": 10
        }
      ],
      "source": [
        "xin = x_train[:5].view(-1,28*28)\n",
        "score = model(Variable(xin))\n",
        "score"
      ]
    },
    {
      "cell_type": "markdown",
      "metadata": {
        "id": "JsyINWhBOl2m"
      },
      "source": [
        "## Treinamento"
      ]
    },
    {
      "cell_type": "markdown",
      "metadata": {
        "id": "Cj7WB9NzOl2n"
      },
      "source": [
        "### Inicialização dos parâmetros"
      ]
    },
    {
      "cell_type": "code",
      "execution_count": 11,
      "metadata": {
        "ExecuteTime": {
          "end_time": "2017-11-24T15:44:51.425768",
          "start_time": "2017-11-24T15:44:51.420825"
        },
        "id": "xgTvQXGCOl2o"
      },
      "outputs": [],
      "source": [
        "epochs = 100\n",
        "learningRate = 0.5\n",
        "\n",
        "# Utilizaremos CrossEntropyLoss como função de perda\n",
        "criterion = torch.nn.CrossEntropyLoss()\n",
        "\n",
        "# Gradiente descendente\n",
        "optimizer = torch.optim.SGD(model.parameters(), lr=learningRate)"
      ]
    },
    {
      "cell_type": "markdown",
      "metadata": {
        "id": "fK50bgRzOl2z"
      },
      "source": [
        "### Visualização do grafo computacional da perda (loss)"
      ]
    },
    {
      "cell_type": "code",
      "execution_count": 12,
      "metadata": {
        "colab": {
          "base_uri": "https://localhost:8080/"
        },
        "id": "sLuv_VgNENQf",
        "outputId": "0f49f8eb-5e14-4a3e-e673-58eb3b857522"
      },
      "outputs": [
        {
          "output_type": "stream",
          "name": "stdout",
          "text": [
            "Requirement already satisfied: graphviz in /usr/local/lib/python3.10/dist-packages (0.20.3)\n",
            "Collecting git+https://github.com/szagoruyko/pytorchviz\n",
            "  Cloning https://github.com/szagoruyko/pytorchviz to /tmp/pip-req-build-sp41aslz\n",
            "  Running command git clone --filter=blob:none --quiet https://github.com/szagoruyko/pytorchviz /tmp/pip-req-build-sp41aslz\n",
            "  Resolved https://github.com/szagoruyko/pytorchviz to commit 0adcd83af8aa7ab36d6afd139cabbd9df598edb7\n",
            "  Preparing metadata (setup.py) ... \u001b[?25l\u001b[?25hdone\n",
            "Requirement already satisfied: torch in /usr/local/lib/python3.10/dist-packages (from torchviz==0.0.2) (2.5.1+cu121)\n",
            "Requirement already satisfied: graphviz in /usr/local/lib/python3.10/dist-packages (from torchviz==0.0.2) (0.20.3)\n",
            "Requirement already satisfied: filelock in /usr/local/lib/python3.10/dist-packages (from torch->torchviz==0.0.2) (3.16.1)\n",
            "Requirement already satisfied: typing-extensions>=4.8.0 in /usr/local/lib/python3.10/dist-packages (from torch->torchviz==0.0.2) (4.12.2)\n",
            "Requirement already satisfied: networkx in /usr/local/lib/python3.10/dist-packages (from torch->torchviz==0.0.2) (3.4.2)\n",
            "Requirement already satisfied: jinja2 in /usr/local/lib/python3.10/dist-packages (from torch->torchviz==0.0.2) (3.1.4)\n",
            "Requirement already satisfied: fsspec in /usr/local/lib/python3.10/dist-packages (from torch->torchviz==0.0.2) (2024.10.0)\n",
            "Requirement already satisfied: sympy==1.13.1 in /usr/local/lib/python3.10/dist-packages (from torch->torchviz==0.0.2) (1.13.1)\n",
            "Requirement already satisfied: mpmath<1.4,>=1.1.0 in /usr/local/lib/python3.10/dist-packages (from sympy==1.13.1->torch->torchviz==0.0.2) (1.3.0)\n",
            "Requirement already satisfied: MarkupSafe>=2.0 in /usr/local/lib/python3.10/dist-packages (from jinja2->torch->torchviz==0.0.2) (3.0.2)\n",
            "Building wheels for collected packages: torchviz\n",
            "  Building wheel for torchviz (setup.py) ... \u001b[?25l\u001b[?25hdone\n",
            "  Created wheel for torchviz: filename=torchviz-0.0.2-py3-none-any.whl size=4972 sha256=40fcd44966db0e3c53b1fe60aaa0bd5f124ca8db357b002974f3d358bb0e65fa\n",
            "  Stored in directory: /tmp/pip-ephem-wheel-cache-_uvq1ikm/wheels/44/5a/39/48c1209682afcfc7ad8ae7b3cf7aa0ff08a72e3ac4e5931f1d\n",
            "Successfully built torchviz\n",
            "Installing collected packages: torchviz\n",
            "Successfully installed torchviz-0.0.2\n"
          ]
        }
      ],
      "source": [
        "!pip install graphviz\n",
        "!pip install git+https://github.com/szagoruyko/pytorchviz"
      ]
    },
    {
      "cell_type": "code",
      "execution_count": 13,
      "metadata": {
        "ExecuteTime": {
          "end_time": "2017-11-24T16:28:18.101867",
          "start_time": "2017-11-24T16:28:18.062312"
        },
        "colab": {
          "base_uri": "https://localhost:8080/"
        },
        "id": "icZLveYLOl20",
        "outputId": "beb1408f-141d-4d33-e3ee-87610e862438"
      },
      "outputs": [
        {
          "output_type": "execute_result",
          "data": {
            "text/plain": [
              "tensor(2.3349, grad_fn=<NllLossBackward0>)"
            ]
          },
          "metadata": {},
          "execution_count": 13
        }
      ],
      "source": [
        "from torchviz import make_dot, make_dot_from_trace\n",
        "y_pred = model(Variable(x_train.view(-1,28*28)))\n",
        "loss = criterion(y_pred, Variable(y_train))\n",
        "loss\n"
      ]
    },
    {
      "cell_type": "code",
      "source": [
        "p = make_dot(loss, dict(model.named_parameters()))\n",
        "p"
      ],
      "metadata": {
        "id": "U15ie_7ni0JE",
        "outputId": "a5c37e14-7a60-4255-b4a1-25261d877ad8",
        "colab": {
          "base_uri": "https://localhost:8080/",
          "height": 543
        }
      },
      "execution_count": 14,
      "outputs": [
        {
          "output_type": "execute_result",
          "data": {
            "image/svg+xml": "<?xml version=\"1.0\" encoding=\"UTF-8\" standalone=\"no\"?>\n<!DOCTYPE svg PUBLIC \"-//W3C//DTD SVG 1.1//EN\"\n \"http://www.w3.org/Graphics/SVG/1.1/DTD/svg11.dtd\">\n<!-- Generated by graphviz version 2.43.0 (0)\n -->\n<!-- Title: %3 Pages: 1 -->\n<svg width=\"216pt\" height=\"391pt\"\n viewBox=\"0.00 0.00 216.00 391.00\" xmlns=\"http://www.w3.org/2000/svg\" xmlns:xlink=\"http://www.w3.org/1999/xlink\">\n<g id=\"graph0\" class=\"graph\" transform=\"scale(1 1) rotate(0) translate(4 387)\">\n<title>%3</title>\n<polygon fill=\"white\" stroke=\"transparent\" points=\"-4,4 -4,-387 212,-387 212,4 -4,4\"/>\n<!-- 132450396748784 -->\n<g id=\"node1\" class=\"node\">\n<title>132450396748784</title>\n<polygon fill=\"#caff70\" stroke=\"black\" points=\"130.5,-31 76.5,-31 76.5,0 130.5,0 130.5,-31\"/>\n<text text-anchor=\"middle\" x=\"103.5\" y=\"-7\" font-family=\"monospace\" font-size=\"10.00\"> ()</text>\n</g>\n<!-- 132450438688976 -->\n<g id=\"node2\" class=\"node\">\n<title>132450438688976</title>\n<polygon fill=\"lightgrey\" stroke=\"black\" points=\"160,-86 47,-86 47,-67 160,-67 160,-86\"/>\n<text text-anchor=\"middle\" x=\"103.5\" y=\"-74\" font-family=\"monospace\" font-size=\"10.00\">NllLossBackward0</text>\n</g>\n<!-- 132450438688976&#45;&gt;132450396748784 -->\n<g id=\"edge8\" class=\"edge\">\n<title>132450438688976&#45;&gt;132450396748784</title>\n<path fill=\"none\" stroke=\"black\" d=\"M103.5,-66.79C103.5,-60.07 103.5,-50.4 103.5,-41.34\"/>\n<polygon fill=\"black\" stroke=\"black\" points=\"107,-41.19 103.5,-31.19 100,-41.19 107,-41.19\"/>\n</g>\n<!-- 132450438685808 -->\n<g id=\"node3\" class=\"node\">\n<title>132450438685808</title>\n<polygon fill=\"lightgrey\" stroke=\"black\" points=\"169,-141 38,-141 38,-122 169,-122 169,-141\"/>\n<text text-anchor=\"middle\" x=\"103.5\" y=\"-129\" font-family=\"monospace\" font-size=\"10.00\">LogSoftmaxBackward0</text>\n</g>\n<!-- 132450438685808&#45;&gt;132450438688976 -->\n<g id=\"edge1\" class=\"edge\">\n<title>132450438685808&#45;&gt;132450438688976</title>\n<path fill=\"none\" stroke=\"black\" d=\"M103.5,-121.75C103.5,-114.8 103.5,-104.85 103.5,-96.13\"/>\n<polygon fill=\"black\" stroke=\"black\" points=\"107,-96.09 103.5,-86.09 100,-96.09 107,-96.09\"/>\n</g>\n<!-- 132450438690992 -->\n<g id=\"node4\" class=\"node\">\n<title>132450438690992</title>\n<polygon fill=\"lightgrey\" stroke=\"black\" points=\"154,-196 53,-196 53,-177 154,-177 154,-196\"/>\n<text text-anchor=\"middle\" x=\"103.5\" y=\"-184\" font-family=\"monospace\" font-size=\"10.00\">AddmmBackward0</text>\n</g>\n<!-- 132450438690992&#45;&gt;132450438685808 -->\n<g id=\"edge2\" class=\"edge\">\n<title>132450438690992&#45;&gt;132450438685808</title>\n<path fill=\"none\" stroke=\"black\" d=\"M103.5,-176.75C103.5,-169.8 103.5,-159.85 103.5,-151.13\"/>\n<polygon fill=\"black\" stroke=\"black\" points=\"107,-151.09 103.5,-141.09 100,-151.09 107,-151.09\"/>\n</g>\n<!-- 132450438692240 -->\n<g id=\"node5\" class=\"node\">\n<title>132450438692240</title>\n<polygon fill=\"lightgrey\" stroke=\"black\" points=\"101,-251 0,-251 0,-232 101,-232 101,-251\"/>\n<text text-anchor=\"middle\" x=\"50.5\" y=\"-239\" font-family=\"monospace\" font-size=\"10.00\">AccumulateGrad</text>\n</g>\n<!-- 132450438692240&#45;&gt;132450438690992 -->\n<g id=\"edge3\" class=\"edge\">\n<title>132450438692240&#45;&gt;132450438690992</title>\n<path fill=\"none\" stroke=\"black\" d=\"M59.25,-231.75C66.97,-224.03 78.4,-212.6 87.72,-203.28\"/>\n<polygon fill=\"black\" stroke=\"black\" points=\"90.31,-205.64 94.91,-196.09 85.36,-200.69 90.31,-205.64\"/>\n</g>\n<!-- 132450437582336 -->\n<g id=\"node6\" class=\"node\">\n<title>132450437582336</title>\n<polygon fill=\"lightblue\" stroke=\"black\" points=\"77.5,-317 23.5,-317 23.5,-287 77.5,-287 77.5,-317\"/>\n<text text-anchor=\"middle\" x=\"50.5\" y=\"-305\" font-family=\"monospace\" font-size=\"10.00\">bias</text>\n<text text-anchor=\"middle\" x=\"50.5\" y=\"-294\" font-family=\"monospace\" font-size=\"10.00\"> (10)</text>\n</g>\n<!-- 132450437582336&#45;&gt;132450438692240 -->\n<g id=\"edge4\" class=\"edge\">\n<title>132450437582336&#45;&gt;132450438692240</title>\n<path fill=\"none\" stroke=\"black\" d=\"M50.5,-286.84C50.5,-279.21 50.5,-269.7 50.5,-261.45\"/>\n<polygon fill=\"black\" stroke=\"black\" points=\"54,-261.27 50.5,-251.27 47,-261.27 54,-261.27\"/>\n</g>\n<!-- 132450438687248 -->\n<g id=\"node7\" class=\"node\">\n<title>132450438687248</title>\n<polygon fill=\"lightgrey\" stroke=\"black\" points=\"196,-251 119,-251 119,-232 196,-232 196,-251\"/>\n<text text-anchor=\"middle\" x=\"157.5\" y=\"-239\" font-family=\"monospace\" font-size=\"10.00\">TBackward0</text>\n</g>\n<!-- 132450438687248&#45;&gt;132450438690992 -->\n<g id=\"edge5\" class=\"edge\">\n<title>132450438687248&#45;&gt;132450438690992</title>\n<path fill=\"none\" stroke=\"black\" d=\"M148.58,-231.75C140.72,-224.03 129.07,-212.6 119.58,-203.28\"/>\n<polygon fill=\"black\" stroke=\"black\" points=\"121.84,-200.6 112.25,-196.09 116.94,-205.59 121.84,-200.6\"/>\n</g>\n<!-- 132450438686960 -->\n<g id=\"node8\" class=\"node\">\n<title>132450438686960</title>\n<polygon fill=\"lightgrey\" stroke=\"black\" points=\"208,-311.5 107,-311.5 107,-292.5 208,-292.5 208,-311.5\"/>\n<text text-anchor=\"middle\" x=\"157.5\" y=\"-299.5\" font-family=\"monospace\" font-size=\"10.00\">AccumulateGrad</text>\n</g>\n<!-- 132450438686960&#45;&gt;132450438687248 -->\n<g id=\"edge6\" class=\"edge\">\n<title>132450438686960&#45;&gt;132450438687248</title>\n<path fill=\"none\" stroke=\"black\" d=\"M157.5,-292.37C157.5,-284.25 157.5,-271.81 157.5,-261.39\"/>\n<polygon fill=\"black\" stroke=\"black\" points=\"161,-261.17 157.5,-251.17 154,-261.17 161,-261.17\"/>\n</g>\n<!-- 132450396610512 -->\n<g id=\"node9\" class=\"node\">\n<title>132450396610512</title>\n<polygon fill=\"lightblue\" stroke=\"black\" points=\"196,-383 119,-383 119,-353 196,-353 196,-383\"/>\n<text text-anchor=\"middle\" x=\"157.5\" y=\"-371\" font-family=\"monospace\" font-size=\"10.00\">weight</text>\n<text text-anchor=\"middle\" x=\"157.5\" y=\"-360\" font-family=\"monospace\" font-size=\"10.00\"> (10, 784)</text>\n</g>\n<!-- 132450396610512&#45;&gt;132450438686960 -->\n<g id=\"edge7\" class=\"edge\">\n<title>132450396610512&#45;&gt;132450438686960</title>\n<path fill=\"none\" stroke=\"black\" d=\"M157.5,-352.8C157.5,-343.7 157.5,-331.79 157.5,-321.9\"/>\n<polygon fill=\"black\" stroke=\"black\" points=\"161,-321.84 157.5,-311.84 154,-321.84 161,-321.84\"/>\n</g>\n</g>\n</svg>\n",
            "text/plain": [
              "<graphviz.graphs.Digraph at 0x7876855924a0>"
            ]
          },
          "metadata": {},
          "execution_count": 14
        }
      ]
    },
    {
      "cell_type": "markdown",
      "metadata": {
        "id": "jnUCb6j_Ol23"
      },
      "source": [
        "### Laço de treinamento dos pesos"
      ]
    },
    {
      "cell_type": "code",
      "execution_count": 15,
      "metadata": {
        "ExecuteTime": {
          "end_time": "2017-11-24T15:44:51.678678",
          "start_time": "2017-11-24T15:44:51.427695"
        },
        "id": "g5aavLLTOl24"
      },
      "outputs": [],
      "source": [
        "import numpy\n",
        "losses = []\n",
        "zs = []\n",
        "\n",
        "for i in range(epochs):\n",
        "    # Transforma a entrada para uma dimensão\n",
        "    inputs = Variable(x_train.view(-1, 28 * 28))\n",
        "    # Predict da rede\n",
        "    outputs = model(inputs)\n",
        "\n",
        "    # z0 a z9\n",
        "    zs.append(outputs[1].detach().numpy())\n",
        "\n",
        "    # calcula a perda\n",
        "    loss = criterion(outputs, Variable(y_train))\n",
        "\n",
        "    # zero, backpropagation, ajusta parâmetros pelo gradiente descendente\n",
        "    optimizer.zero_grad()\n",
        "    loss.backward()\n",
        "    optimizer.step()\n",
        "\n",
        "    losses.append(loss.item())\n",
        "\n",
        "    _, predicts = torch.max(outputs, 1)\n",
        "\n",
        "    y_pred = predicts.data\n",
        "    accuracy = (y_pred.numpy() == y_train.numpy()).mean()\n"
      ]
    },
    {
      "cell_type": "code",
      "execution_count": 16,
      "metadata": {
        "ExecuteTime": {
          "end_time": "2017-11-24T15:44:51.685301",
          "start_time": "2017-11-24T15:44:51.680419"
        },
        "colab": {
          "base_uri": "https://localhost:8080/"
        },
        "id": "menkKvteOl27",
        "outputId": "4d4a88d7-679c-47af-942c-26a22f1f8def"
      },
      "outputs": [
        {
          "output_type": "stream",
          "name": "stdout",
          "text": [
            "Final loss: 0.26528891921043396\n"
          ]
        }
      ],
      "source": [
        "print('Final loss:', loss.item())"
      ]
    },
    {
      "cell_type": "markdown",
      "metadata": {
        "id": "j1pLKxlqOl3F"
      },
      "source": [
        "### Visualizando gráfico de perda durante o treinamento"
      ]
    },
    {
      "cell_type": "code",
      "execution_count": 17,
      "metadata": {
        "ExecuteTime": {
          "end_time": "2017-11-24T15:44:56.787741",
          "start_time": "2017-11-24T15:44:56.627754"
        },
        "colab": {
          "base_uri": "https://localhost:8080/",
          "height": 447
        },
        "id": "UlivLNgcOl3G",
        "outputId": "aa57139b-fe64-4d2f-8d57-00eb8a6f3521"
      },
      "outputs": [
        {
          "output_type": "execute_result",
          "data": {
            "text/plain": [
              "[<matplotlib.lines.Line2D at 0x78768555b910>]"
            ]
          },
          "metadata": {},
          "execution_count": 17
        },
        {
          "output_type": "display_data",
          "data": {
            "text/plain": [
              "<Figure size 640x480 with 1 Axes>"
            ],
            "image/png": "[encoded data removed]"
          },
          "metadata": {}
        }
      ],
      "source": [
        "plt.plot(losses)"
      ]
    },
    {
      "cell_type": "markdown",
      "metadata": {
        "id": "zUTfdh5VOl3N"
      },
      "source": [
        "## Avaliação"
      ]
    },
    {
      "cell_type": "markdown",
      "metadata": {
        "id": "XgFPZ9hNOl3O"
      },
      "source": [
        "### Acurácia tanto no conjunto de treinamento como no conjunto de testes"
      ]
    },
    {
      "cell_type": "code",
      "execution_count": 18,
      "metadata": {
        "ExecuteTime": {
          "end_time": "2017-11-24T15:50:29.922115",
          "start_time": "2017-11-24T15:50:29.914004"
        },
        "colab": {
          "base_uri": "https://localhost:8080/"
        },
        "id": "JMo5hSBhOl3P",
        "outputId": "be0e0f6a-b8b6-43ed-a8c1-7e846ccb0572"
      },
      "outputs": [
        {
          "output_type": "stream",
          "name": "stdout",
          "text": [
            "Accuracy: 0.941\n"
          ]
        }
      ],
      "source": [
        "def predict(model, input_data):\n",
        "    outputs = model(Variable(input_data))\n",
        "    _, predicts = torch.max(outputs, 1)\n",
        "\n",
        "    return predicts.data\n",
        "\n",
        "y_pred = predict(model, x_train.view(-1, 28*28))\n",
        "accuracy = (y_pred.numpy() == y_train.numpy()).mean()\n",
        "print('Accuracy:', accuracy)"
      ]
    },
    {
      "cell_type": "markdown",
      "metadata": {
        "id": "Po0mlGpCOl3W"
      },
      "source": [
        "### Matriz de confusão com dados de treinamento e teste"
      ]
    },
    {
      "cell_type": "code",
      "execution_count": 19,
      "metadata": {
        "ExecuteTime": {
          "end_time": "2017-11-24T15:51:40.706177",
          "start_time": "2017-11-24T15:51:40.679474"
        },
        "colab": {
          "base_uri": "https://localhost:8080/",
          "height": 411
        },
        "id": "PtA3ZAUjOl3X",
        "outputId": "726dbb44-c4d0-4641-a34c-9a27802f7759"
      },
      "outputs": [
        {
          "output_type": "stream",
          "name": "stdout",
          "text": [
            "Matriz de confusão:\n"
          ]
        },
        {
          "output_type": "execute_result",
          "data": {
            "text/plain": [
              "col_0   0    1   2   3    4   5   6    7   8   9\n",
              "row_0                                           \n",
              "0      96    0   1   0    0   0   1    0   0   2\n",
              "1       0  110   1   0    0   0   2    3   1   0\n",
              "2       0    1  91   1    0   1   0    1   2   1\n",
              "3       0    0   0  88    0   2   0    0   0   0\n",
              "4       0    0   1   0  102   2   1    1   0   3\n",
              "5       0    2   0   1    0  81   0    0   2   1\n",
              "6       1    0   1   1    2   2  90    0   0   0\n",
              "7       0    1   1   1    0   0   0  111   0   3\n",
              "8       0    2   2   0    0   2   0    0  82   0\n",
              "9       0    0   1   1    1   2   0    1   0  90"
            ],
            "text/html": [
              "\n",
              "  <div id=\"df-4b86c274-2b5a-4f73-aa44-0b4822b5836f\" class=\"colab-df-container\">\n",
              "    <div>\n",
              "<style scoped>\n",
              "    .dataframe tbody tr th:only-of-type {\n",
              "        vertical-align: middle;\n",
              "    }\n",
              "\n",
              "    .dataframe tbody tr th {\n",
              "        vertical-align: top;\n",
              "    }\n",
              "\n",
              "    .dataframe thead th {\n",
              "        text-align: right;\n",
              "    }\n",
              "</style>\n",
              "<table border=\"1\" class=\"dataframe\">\n",
              "  <thead>\n",
              "    <tr style=\"text-align: right;\">\n",
              "      <th>col_0</th>\n",
              "      <th>0</th>\n",
              "      <th>1</th>\n",
              "      <th>2</th>\n",
              "      <th>3</th>\n",
              "      <th>4</th>\n",
              "      <th>5</th>\n",
              "      <th>6</th>\n",
              "      <th>7</th>\n",
              "      <th>8</th>\n",
              "      <th>9</th>\n",
              "    </tr>\n",
              "    <tr>\n",
              "      <th>row_0</th>\n",
              "      <th></th>\n",
              "      <th></th>\n",
              "      <th></th>\n",
              "      <th></th>\n",
              "      <th></th>\n",
              "      <th></th>\n",
              "      <th></th>\n",
              "      <th></th>\n",
              "      <th></th>\n",
              "      <th></th>\n",
              "    </tr>\n",
              "  </thead>\n",
              "  <tbody>\n",
              "    <tr>\n",
              "      <th>0</th>\n",
              "      <td>96</td>\n",
              "      <td>0</td>\n",
              "      <td>1</td>\n",
              "      <td>0</td>\n",
              "      <td>0</td>\n",
              "      <td>0</td>\n",
              "      <td>1</td>\n",
              "      <td>0</td>\n",
              "      <td>0</td>\n",
              "      <td>2</td>\n",
              "    </tr>\n",
              "    <tr>\n",
              "      <th>1</th>\n",
              "      <td>0</td>\n",
              "      <td>110</td>\n",
              "      <td>1</td>\n",
              "      <td>0</td>\n",
              "      <td>0</td>\n",
              "      <td>0</td>\n",
              "      <td>2</td>\n",
              "      <td>3</td>\n",
              "      <td>1</td>\n",
              "      <td>0</td>\n",
              "    </tr>\n",
              "    <tr>\n",
              "      <th>2</th>\n",
              "      <td>0</td>\n",
              "      <td>1</td>\n",
              "      <td>91</td>\n",
              "      <td>1</td>\n",
              "      <td>0</td>\n",
              "      <td>1</td>\n",
              "      <td>0</td>\n",
              "      <td>1</td>\n",
              "      <td>2</td>\n",
              "      <td>1</td>\n",
              "    </tr>\n",
              "    <tr>\n",
              "      <th>3</th>\n",
              "      <td>0</td>\n",
              "      <td>0</td>\n",
              "      <td>0</td>\n",
              "      <td>88</td>\n",
              "      <td>0</td>\n",
              "      <td>2</td>\n",
              "      <td>0</td>\n",
              "      <td>0</td>\n",
              "      <td>0</td>\n",
              "      <td>0</td>\n",
              "    </tr>\n",
              "    <tr>\n",
              "      <th>4</th>\n",
              "      <td>0</td>\n",
              "      <td>0</td>\n",
              "      <td>1</td>\n",
              "      <td>0</td>\n",
              "      <td>102</td>\n",
              "      <td>2</td>\n",
              "      <td>1</td>\n",
              "      <td>1</td>\n",
              "      <td>0</td>\n",
              "      <td>3</td>\n",
              "    </tr>\n",
              "    <tr>\n",
              "      <th>5</th>\n",
              "      <td>0</td>\n",
              "      <td>2</td>\n",
              "      <td>0</td>\n",
              "      <td>1</td>\n",
              "      <td>0</td>\n",
              "      <td>81</td>\n",
              "      <td>0</td>\n",
              "      <td>0</td>\n",
              "      <td>2</td>\n",
              "      <td>1</td>\n",
              "    </tr>\n",
              "    <tr>\n",
              "      <th>6</th>\n",
              "      <td>1</td>\n",
              "      <td>0</td>\n",
              "      <td>1</td>\n",
              "      <td>1</td>\n",
              "      <td>2</td>\n",
              "      <td>2</td>\n",
              "      <td>90</td>\n",
              "      <td>0</td>\n",
              "      <td>0</td>\n",
              "      <td>0</td>\n",
              "    </tr>\n",
              "    <tr>\n",
              "      <th>7</th>\n",
              "      <td>0</td>\n",
              "      <td>1</td>\n",
              "      <td>1</td>\n",
              "      <td>1</td>\n",
              "      <td>0</td>\n",
              "      <td>0</td>\n",
              "      <td>0</td>\n",
              "      <td>111</td>\n",
              "      <td>0</td>\n",
              "      <td>3</td>\n",
              "    </tr>\n",
              "    <tr>\n",
              "      <th>8</th>\n",
              "      <td>0</td>\n",
              "      <td>2</td>\n",
              "      <td>2</td>\n",
              "      <td>0</td>\n",
              "      <td>0</td>\n",
              "      <td>2</td>\n",
              "      <td>0</td>\n",
              "      <td>0</td>\n",
              "      <td>82</td>\n",
              "      <td>0</td>\n",
              "    </tr>\n",
              "    <tr>\n",
              "      <th>9</th>\n",
              "      <td>0</td>\n",
              "      <td>0</td>\n",
              "      <td>1</td>\n",
              "      <td>1</td>\n",
              "      <td>1</td>\n",
              "      <td>2</td>\n",
              "      <td>0</td>\n",
              "      <td>1</td>\n",
              "      <td>0</td>\n",
              "      <td>90</td>\n",
              "    </tr>\n",
              "  </tbody>\n",
              "</table>\n",
              "</div>\n",
              "    <div class=\"colab-df-buttons\">\n",
              "\n",
              "  <div class=\"colab-df-container\">\n",
              "    <button class=\"colab-df-convert\" onclick=\"convertToInteractive('df-4b86c274-2b5a-4f73-aa44-0b4822b5836f')\"\n",
              "            title=\"Convert this dataframe to an interactive table.\"\n",
              "            style=\"display:none;\">\n",
              "\n",
              "  <svg xmlns=\"http://www.w3.org/2000/svg\" height=\"24px\" viewBox=\"0 -960 960 960\">\n",
              "    <path d=\"M120-120v-720h720v720H120Zm60-500h600v-160H180v160Zm220 220h160v-160H400v160Zm0 220h160v-160H400v160ZM180-400h160v-160H180v160Zm440 0h160v-160H620v160ZM180-180h160v-160H180v160Zm440 0h160v-160H620v160Z\"/>\n",
              "  </svg>\n",
              "    </button>\n",
              "\n",
              "  <style>\n",
              "    .colab-df-container {\n",
              "      display:flex;\n",
              "      gap: 12px;\n",
              "    }\n",
              "\n",
              "    .colab-df-convert {\n",
              "      background-color: #E8F0FE;\n",
              "      border: none;\n",
              "      border-radius: 50%;\n",
              "      cursor: pointer;\n",
              "      display: none;\n",
              "      fill: #1967D2;\n",
              "      height: 32px;\n",
              "      padding: 0 0 0 0;\n",
              "      width: 32px;\n",
              "    }\n",
              "\n",
              "    .colab-df-convert:hover {\n",
              "      background-color: #E2EBFA;\n",
              "      box-shadow: 0px 1px 2px rgba(60, 64, 67, 0.3), 0px 1px 3px 1px rgba(60, 64, 67, 0.15);\n",
              "      fill: #174EA6;\n",
              "    }\n",
              "\n",
              "    .colab-df-buttons div {\n",
              "      margin-bottom: 4px;\n",
              "    }\n",
              "\n",
              "    [theme=dark] .colab-df-convert {\n",
              "      background-color: #3B4455;\n",
              "      fill: #D2E3FC;\n",
              "    }\n",
              "\n",
              "    [theme=dark] .colab-df-convert:hover {\n",
              "      background-color: #434B5C;\n",
              "      box-shadow: 0px 1px 3px 1px rgba(0, 0, 0, 0.15);\n",
              "      filter: drop-shadow(0px 1px 2px rgba(0, 0, 0, 0.3));\n",
              "      fill: #FFFFFF;\n",
              "    }\n",
              "  </style>\n",
              "\n",
              "    <script>\n",
              "      const buttonEl =\n",
              "        document.querySelector('#df-4b86c274-2b5a-4f73-aa44-0b4822b5836f button.colab-df-convert');\n",
              "      buttonEl.style.display =\n",
              "        google.colab.kernel.accessAllowed ? 'block' : 'none';\n",
              "\n",
              "      async function convertToInteractive(key) {\n",
              "        const element = document.querySelector('#df-4b86c274-2b5a-4f73-aa44-0b4822b5836f');\n",
              "        const dataTable =\n",
              "          await google.colab.kernel.invokeFunction('convertToInteractive',\n",
              "                                                    [key], {});\n",
              "        if (!dataTable) return;\n",
              "\n",
              "        const docLinkHtml = 'Like what you see? Visit the ' +\n",
              "          '<a target=\"_blank\" href=https://colab.research.google.com/notebooks/data_table.ipynb>data table notebook</a>'\n",
              "          + ' to learn more about interactive tables.';\n",
              "        element.innerHTML = '';\n",
              "        dataTable['output_type'] = 'display_data';\n",
              "        await google.colab.output.renderOutput(dataTable, element);\n",
              "        const docLink = document.createElement('div');\n",
              "        docLink.innerHTML = docLinkHtml;\n",
              "        element.appendChild(docLink);\n",
              "      }\n",
              "    </script>\n",
              "  </div>\n",
              "\n",
              "\n",
              "<div id=\"df-6c454416-a9fc-45bd-a4bc-0072c5ce8a3f\">\n",
              "  <button class=\"colab-df-quickchart\" onclick=\"quickchart('df-6c454416-a9fc-45bd-a4bc-0072c5ce8a3f')\"\n",
              "            title=\"Suggest charts\"\n",
              "            style=\"display:none;\">\n",
              "\n",
              "<svg xmlns=\"http://www.w3.org/2000/svg\" height=\"24px\"viewBox=\"0 0 24 24\"\n",
              "     width=\"24px\">\n",
              "    <g>\n",
              "        <path d=\"M19 3H5c-1.1 0-2 .9-2 2v14c0 1.1.9 2 2 2h14c1.1 0 2-.9 2-2V5c0-1.1-.9-2-2-2zM9 17H7v-7h2v7zm4 0h-2V7h2v10zm4 0h-2v-4h2v4z\"/>\n",
              "    </g>\n",
              "</svg>\n",
              "  </button>\n",
              "\n",
              "<style>\n",
              "  .colab-df-quickchart {\n",
              "      --bg-color: #E8F0FE;\n",
              "      --fill-color: #1967D2;\n",
              "      --hover-bg-color: #E2EBFA;\n",
              "      --hover-fill-color: #174EA6;\n",
              "      --disabled-fill-color: #AAA;\n",
              "      --disabled-bg-color: #DDD;\n",
              "  }\n",
              "\n",
              "  [theme=dark] .colab-df-quickchart {\n",
              "      --bg-color: #3B4455;\n",
              "      --fill-color: #D2E3FC;\n",
              "      --hover-bg-color: #434B5C;\n",
              "      --hover-fill-color: #FFFFFF;\n",
              "      --disabled-bg-color: #3B4455;\n",
              "      --disabled-fill-color: #666;\n",
              "  }\n",
              "\n",
              "  .colab-df-quickchart {\n",
              "    background-color: var(--bg-color);\n",
              "    border: none;\n",
              "    border-radius: 50%;\n",
              "    cursor: pointer;\n",
              "    display: none;\n",
              "    fill: var(--fill-color);\n",
              "    height: 32px;\n",
              "    padding: 0;\n",
              "    width: 32px;\n",
              "  }\n",
              "\n",
              "  .colab-df-quickchart:hover {\n",
              "    background-color: var(--hover-bg-color);\n",
              "    box-shadow: 0 1px 2px rgba(60, 64, 67, 0.3), 0 1px 3px 1px rgba(60, 64, 67, 0.15);\n",
              "    fill: var(--button-hover-fill-color);\n",
              "  }\n",
              "\n",
              "  .colab-df-quickchart-complete:disabled,\n",
              "  .colab-df-quickchart-complete:disabled:hover {\n",
              "    background-color: var(--disabled-bg-color);\n",
              "    fill: var(--disabled-fill-color);\n",
              "    box-shadow: none;\n",
              "  }\n",
              "\n",
              "  .colab-df-spinner {\n",
              "    border: 2px solid var(--fill-color);\n",
              "    border-color: transparent;\n",
              "    border-bottom-color: var(--fill-color);\n",
              "    animation:\n",
              "      spin 1s steps(1) infinite;\n",
              "  }\n",
              "\n",
              "  @keyframes spin {\n",
              "    0% {\n",
              "      border-color: transparent;\n",
              "      border-bottom-color: var(--fill-color);\n",
              "      border-left-color: var(--fill-color);\n",
              "    }\n",
              "    20% {\n",
              "      border-color: transparent;\n",
              "      border-left-color: var(--fill-color);\n",
              "      border-top-color: var(--fill-color);\n",
              "    }\n",
              "    30% {\n",
              "      border-color: transparent;\n",
              "      border-left-color: var(--fill-color);\n",
              "      border-top-color: var(--fill-color);\n",
              "      border-right-color: var(--fill-color);\n",
              "    }\n",
              "    40% {\n",
              "      border-color: transparent;\n",
              "      border-right-color: var(--fill-color);\n",
              "      border-top-color: var(--fill-color);\n",
              "    }\n",
              "    60% {\n",
              "      border-color: transparent;\n",
              "      border-right-color: var(--fill-color);\n",
              "    }\n",
              "    80% {\n",
              "      border-color: transparent;\n",
              "      border-right-color: var(--fill-color);\n",
              "      border-bottom-color: var(--fill-color);\n",
              "    }\n",
              "    90% {\n",
              "      border-color: transparent;\n",
              "      border-bottom-color: var(--fill-color);\n",
              "    }\n",
              "  }\n",
              "</style>\n",
              "\n",
              "  <script>\n",
              "    async function quickchart(key) {\n",
              "      const quickchartButtonEl =\n",
              "        document.querySelector('#' + key + ' button');\n",
              "      quickchartButtonEl.disabled = true;  // To prevent multiple clicks.\n",
              "      quickchartButtonEl.classList.add('colab-df-spinner');\n",
              "      try {\n",
              "        const charts = await google.colab.kernel.invokeFunction(\n",
              "            'suggestCharts', [key], {});\n",
              "      } catch (error) {\n",
              "        console.error('Error during call to suggestCharts:', error);\n",
              "      }\n",
              "      quickchartButtonEl.classList.remove('colab-df-spinner');\n",
              "      quickchartButtonEl.classList.add('colab-df-quickchart-complete');\n",
              "    }\n",
              "    (() => {\n",
              "      let quickchartButtonEl =\n",
              "        document.querySelector('#df-6c454416-a9fc-45bd-a4bc-0072c5ce8a3f button');\n",
              "      quickchartButtonEl.style.display =\n",
              "        google.colab.kernel.accessAllowed ? 'block' : 'none';\n",
              "    })();\n",
              "  </script>\n",
              "</div>\n",
              "\n",
              "    </div>\n",
              "  </div>\n"
            ],
            "application/vnd.google.colaboratory.intrinsic+json": {
              "type": "dataframe",
              "summary": "{\n  \"name\": \"pd\",\n  \"rows\": 10,\n  \"fields\": [\n    {\n      \"column\": \"row_0\",\n      \"properties\": {\n        \"dtype\": \"number\",\n        \"std\": 3,\n        \"min\": 0,\n        \"max\": 9,\n        \"num_unique_values\": 10,\n        \"samples\": [\n          8,\n          1,\n          5\n        ],\n        \"semantic_type\": \"\",\n        \"description\": \"\"\n      }\n    },\n    {\n      \"column\": 0,\n      \"properties\": {\n        \"dtype\": \"number\",\n        \"std\": 30,\n        \"min\": 0,\n        \"max\": 96,\n        \"num_unique_values\": 3,\n        \"samples\": [\n          96,\n          0,\n          1\n        ],\n        \"semantic_type\": \"\",\n        \"description\": \"\"\n      }\n    },\n    {\n      \"column\": 1,\n      \"properties\": {\n        \"dtype\": \"number\",\n        \"std\": 34,\n        \"min\": 0,\n        \"max\": 110,\n        \"num_unique_values\": 4,\n        \"samples\": [\n          110,\n          2,\n          0\n        ],\n        \"semantic_type\": \"\",\n        \"description\": \"\"\n      }\n    },\n    {\n      \"column\": 2,\n      \"properties\": {\n        \"dtype\": \"number\",\n        \"std\": 28,\n        \"min\": 0,\n        \"max\": 91,\n        \"num_unique_values\": 4,\n        \"samples\": [\n          91,\n          2,\n          1\n        ],\n        \"semantic_type\": \"\",\n        \"description\": \"\"\n      }\n    },\n    {\n      \"column\": 3,\n      \"properties\": {\n        \"dtype\": \"number\",\n        \"std\": 27,\n        \"min\": 0,\n        \"max\": 88,\n        \"num_unique_values\": 3,\n        \"samples\": [\n          0,\n          1,\n          88\n        ],\n        \"semantic_type\": \"\",\n        \"description\": \"\"\n      }\n    },\n    {\n      \"column\": 4,\n      \"properties\": {\n        \"dtype\": \"number\",\n        \"std\": 32,\n        \"min\": 0,\n        \"max\": 102,\n        \"num_unique_values\": 4,\n        \"samples\": [\n          102,\n          1,\n          0\n        ],\n        \"semantic_type\": \"\",\n        \"description\": \"\"\n      }\n    },\n    {\n      \"column\": 5,\n      \"properties\": {\n        \"dtype\": \"number\",\n        \"std\": 25,\n        \"min\": 0,\n        \"max\": 81,\n        \"num_unique_values\": 4,\n        \"samples\": [\n          1,\n          81,\n          0\n        ],\n        \"semantic_type\": \"\",\n        \"description\": \"\"\n      }\n    },\n    {\n      \"column\": 6,\n      \"properties\": {\n        \"dtype\": \"number\",\n        \"std\": 28,\n        \"min\": 0,\n        \"max\": 90,\n        \"num_unique_values\": 4,\n        \"samples\": [\n          2,\n          90,\n          1\n        ],\n        \"semantic_type\": \"\",\n        \"description\": \"\"\n      }\n    },\n    {\n      \"column\": 7,\n      \"properties\": {\n        \"dtype\": \"number\",\n        \"std\": 34,\n        \"min\": 0,\n        \"max\": 111,\n        \"num_unique_values\": 4,\n        \"samples\": [\n          3,\n          111,\n          0\n        ],\n        \"semantic_type\": \"\",\n        \"description\": \"\"\n      }\n    },\n    {\n      \"column\": 8,\n      \"properties\": {\n        \"dtype\": \"number\",\n        \"std\": 25,\n        \"min\": 0,\n        \"max\": 82,\n        \"num_unique_values\": 4,\n        \"samples\": [\n          1,\n          82,\n          0\n        ],\n        \"semantic_type\": \"\",\n        \"description\": \"\"\n      }\n    },\n    {\n      \"column\": 9,\n      \"properties\": {\n        \"dtype\": \"number\",\n        \"std\": 28,\n        \"min\": 0,\n        \"max\": 90,\n        \"num_unique_values\": 5,\n        \"samples\": [\n          0,\n          90,\n          1\n        ],\n        \"semantic_type\": \"\",\n        \"description\": \"\"\n      }\n    }\n  ]\n}"
            }
          },
          "metadata": {},
          "execution_count": 19
        }
      ],
      "source": [
        "print('Matriz de confusão:')\n",
        "pd.crosstab(y_pred.numpy(), y_train.numpy())"
      ]
    },
    {
      "cell_type": "markdown",
      "metadata": {
        "id": "6Df5Xz6rOl3c"
      },
      "source": [
        "## Visualizando a matriz de pesos treinados"
      ]
    },
    {
      "cell_type": "markdown",
      "metadata": {
        "id": "DLo6HaWGOl3n"
      },
      "source": [
        "Observe que a matriz de peso treinado para cada classe mostra a importância dos pesos associados aos caracteres de cada classe."
      ]
    },
    {
      "cell_type": "code",
      "execution_count": 20,
      "metadata": {
        "ExecuteTime": {
          "end_time": "2017-11-24T16:34:49.367135",
          "start_time": "2017-11-24T16:34:49.204452"
        },
        "colab": {
          "base_uri": "https://localhost:8080/",
          "height": 465
        },
        "id": "uoBSV4EqOl3q",
        "outputId": "9a75ebdb-a8ee-40b6-be0d-adf839c823a6"
      },
      "outputs": [
        {
          "output_type": "stream",
          "name": "stdout",
          "text": [
            "weights: torch.Size([10, 784])\n",
            "bias:    torch.Size([10])\n"
          ]
        },
        {
          "output_type": "display_data",
          "data": {
            "text/plain": [
              "<Figure size 640x480 with 1 Axes>"
            ],
            "image/png": "[encoded data removed]"
          },
          "metadata": {}
        }
      ],
      "source": [
        "weights = model.state_dict()['weight']\n",
        "print('weights:', weights.shape)\n",
        "\n",
        "bias = model.state_dict()['bias']\n",
        "print('bias:   ', bias.shape)\n",
        "\n",
        "# Visualizando pesos da classe 3\n",
        "plt.imshow(weights[3, :].numpy().reshape((28,28)),cmap = 'gray')\n",
        "plt.show()"
      ]
    },
    {
      "cell_type": "markdown",
      "metadata": {
        "id": "eN6W4vnfOl3w"
      },
      "source": [
        "### Visualizando os pesos de todas as classes"
      ]
    },
    {
      "cell_type": "code",
      "execution_count": 21,
      "metadata": {
        "ExecuteTime": {
          "end_time": "2017-11-24T16:34:50.240218",
          "start_time": "2017-11-24T16:34:50.025515"
        },
        "colab": {
          "base_uri": "https://localhost:8080/",
          "height": 148
        },
        "id": "0Vz_WwiDOl3x",
        "outputId": "23a86c17-1ec0-4297-a1ec-13e3e5f6df7f"
      },
      "outputs": [
        {
          "output_type": "display_data",
          "data": {
            "text/plain": [
              "<Figure size 1500x1000 with 1 Axes>"
            ],
            "image/png": "[encoded data removed]"
          },
          "metadata": {}
        }
      ],
      "source": [
        "# cria um grid com as imagens\n",
        "grid = torchvision.utils.make_grid(weights.view(-1, 1, 28, 28), normalize=True, pad_value=1.0, padding=1, nrow=10)\n",
        "\n",
        "plt.figure(figsize=(15, 10))\n",
        "plt.imshow(grid.numpy().transpose(1, 2, 0))\n",
        "plt.axis('off');"
      ]
    },
    {
      "cell_type": "markdown",
      "metadata": {
        "id": "IAwjpjUzOl3z"
      },
      "source": [
        "### Diagrama da regressão softmax com visualização dos pesos W"
      ]
    },
    {
      "cell_type": "markdown",
      "metadata": {
        "id": "Io0kz0bDOl31"
      },
      "source": [
        "![alt text](https://raw.githubusercontent.com/vcasadei/images/master/RegressaoSoftmaxArgmaxNMIST.png)"
      ]
    },
    {
      "cell_type": "markdown",
      "metadata": {
        "id": "KKKZDmIvOl31"
      },
      "source": [
        "# Atividades"
      ]
    },
    {
      "cell_type": "markdown",
      "metadata": {
        "id": "fMcK8rnnOl31"
      },
      "source": [
        "## Exercícios"
      ]
    },
    {
      "cell_type": "markdown",
      "metadata": {
        "id": "bcYvj-5dOl4I"
      },
      "source": [
        "- 1) Insira código no laço do treinamento para que no final de cada época,\n",
        "     seja impresso: o número da época e a perda e a acurácia"
      ]
    },
    {
      "cell_type": "code",
      "source": [
        "losses = []\n",
        "zs = []\n",
        "\n",
        "for i in range(epochs):\n",
        "    # Transformar a entrada para uma dimensão\n",
        "    inputs = Variable(x_train.view(-1, 28 * 28))\n",
        "    # Predição da rede\n",
        "    outputs = model(inputs)\n",
        "\n",
        "    # z0 a z9\n",
        "    zs.append(outputs[1].detach().numpy())\n",
        "\n",
        "    # Calcular a perda\n",
        "    loss = criterion(outputs, Variable(y_train))\n",
        "\n",
        "    # Zero, backpropagation, ajustar parâmetros pelo gradiente descendente\n",
        "    optimizer.zero_grad()\n",
        "    loss.backward()\n",
        "    optimizer.step()\n",
        "\n",
        "    losses.append(loss.item())\n",
        "\n",
        "    _, predicts = torch.max(outputs, 1)\n",
        "\n",
        "    y_pred = predicts.data\n",
        "    accuracy = (y_pred.numpy() == y_train.numpy()).mean()\n",
        "\n",
        "    # Imprimir o número da época, a perda e a acurácia\n",
        "    print(f'Época [{i+1}/{epochs}], Perda: {loss.item():.4f}, Acurácia: {accuracy:.4f}')\n"
      ],
      "metadata": {
        "colab": {
          "base_uri": "https://localhost:8080/"
        },
        "id": "GuWNYx92z03_",
        "outputId": "986c32a5-69f6-470e-95d6-75e4f4efba14"
      },
      "execution_count": 22,
      "outputs": [
        {
          "output_type": "stream",
          "name": "stdout",
          "text": [
            "Época [1/100], Perda: 0.2640, Acurácia: 0.9410\n",
            "Época [2/100], Perda: 0.2626, Acurácia: 0.9410\n",
            "Época [3/100], Perda: 0.2613, Acurácia: 0.9410\n",
            "Época [4/100], Perda: 0.2600, Acurácia: 0.9410\n",
            "Época [5/100], Perda: 0.2588, Acurácia: 0.9420\n",
            "Época [6/100], Perda: 0.2575, Acurácia: 0.9420\n",
            "Época [7/100], Perda: 0.2563, Acurácia: 0.9420\n",
            "Época [8/100], Perda: 0.2550, Acurácia: 0.9430\n",
            "Época [9/100], Perda: 0.2538, Acurácia: 0.9440\n",
            "Época [10/100], Perda: 0.2526, Acurácia: 0.9440\n",
            "Época [11/100], Perda: 0.2514, Acurácia: 0.9440\n",
            "Época [12/100], Perda: 0.2502, Acurácia: 0.9440\n",
            "Época [13/100], Perda: 0.2491, Acurácia: 0.9440\n",
            "Época [14/100], Perda: 0.2479, Acurácia: 0.9450\n",
            "Época [15/100], Perda: 0.2468, Acurácia: 0.9450\n",
            "Época [16/100], Perda: 0.2457, Acurácia: 0.9460\n",
            "Época [17/100], Perda: 0.2445, Acurácia: 0.9460\n",
            "Época [18/100], Perda: 0.2434, Acurácia: 0.9460\n",
            "Época [19/100], Perda: 0.2423, Acurácia: 0.9480\n",
            "Época [20/100], Perda: 0.2413, Acurácia: 0.9480\n",
            "Época [21/100], Perda: 0.2402, Acurácia: 0.9480\n",
            "Época [22/100], Perda: 0.2391, Acurácia: 0.9490\n",
            "Época [23/100], Perda: 0.2381, Acurácia: 0.9490\n",
            "Época [24/100], Perda: 0.2370, Acurácia: 0.9490\n",
            "Época [25/100], Perda: 0.2360, Acurácia: 0.9510\n",
            "Época [26/100], Perda: 0.2350, Acurácia: 0.9520\n",
            "Época [27/100], Perda: 0.2340, Acurácia: 0.9520\n",
            "Época [28/100], Perda: 0.2330, Acurácia: 0.9520\n",
            "Época [29/100], Perda: 0.2320, Acurácia: 0.9530\n",
            "Época [30/100], Perda: 0.2310, Acurácia: 0.9530\n",
            "Época [31/100], Perda: 0.2300, Acurácia: 0.9530\n",
            "Época [32/100], Perda: 0.2290, Acurácia: 0.9530\n",
            "Época [33/100], Perda: 0.2281, Acurácia: 0.9530\n",
            "Época [34/100], Perda: 0.2271, Acurácia: 0.9540\n",
            "Época [35/100], Perda: 0.2262, Acurácia: 0.9540\n",
            "Época [36/100], Perda: 0.2253, Acurácia: 0.9540\n",
            "Época [37/100], Perda: 0.2243, Acurácia: 0.9540\n",
            "Época [38/100], Perda: 0.2234, Acurácia: 0.9540\n",
            "Época [39/100], Perda: 0.2225, Acurácia: 0.9540\n",
            "Época [40/100], Perda: 0.2216, Acurácia: 0.9540\n",
            "Época [41/100], Perda: 0.2207, Acurácia: 0.9540\n",
            "Época [42/100], Perda: 0.2198, Acurácia: 0.9540\n",
            "Época [43/100], Perda: 0.2190, Acurácia: 0.9540\n",
            "Época [44/100], Perda: 0.2181, Acurácia: 0.9540\n",
            "Época [45/100], Perda: 0.2172, Acurácia: 0.9550\n",
            "Época [46/100], Perda: 0.2164, Acurácia: 0.9550\n",
            "Época [47/100], Perda: 0.2155, Acurácia: 0.9550\n",
            "Época [48/100], Perda: 0.2147, Acurácia: 0.9550\n",
            "Época [49/100], Perda: 0.2138, Acurácia: 0.9550\n",
            "Época [50/100], Perda: 0.2130, Acurácia: 0.9550\n",
            "Época [51/100], Perda: 0.2122, Acurácia: 0.9560\n",
            "Época [52/100], Perda: 0.2114, Acurácia: 0.9560\n",
            "Época [53/100], Perda: 0.2106, Acurácia: 0.9560\n",
            "Época [54/100], Perda: 0.2098, Acurácia: 0.9560\n",
            "Época [55/100], Perda: 0.2090, Acurácia: 0.9560\n",
            "Época [56/100], Perda: 0.2082, Acurácia: 0.9560\n",
            "Época [57/100], Perda: 0.2074, Acurácia: 0.9570\n",
            "Época [58/100], Perda: 0.2066, Acurácia: 0.9580\n",
            "Época [59/100], Perda: 0.2059, Acurácia: 0.9580\n",
            "Época [60/100], Perda: 0.2051, Acurácia: 0.9580\n",
            "Época [61/100], Perda: 0.2043, Acurácia: 0.9580\n",
            "Época [62/100], Perda: 0.2036, Acurácia: 0.9580\n",
            "Época [63/100], Perda: 0.2028, Acurácia: 0.9580\n",
            "Época [64/100], Perda: 0.2021, Acurácia: 0.9580\n",
            "Época [65/100], Perda: 0.2013, Acurácia: 0.9590\n",
            "Época [66/100], Perda: 0.2006, Acurácia: 0.9590\n",
            "Época [67/100], Perda: 0.1999, Acurácia: 0.9610\n",
            "Época [68/100], Perda: 0.1992, Acurácia: 0.9610\n",
            "Época [69/100], Perda: 0.1984, Acurácia: 0.9610\n",
            "Época [70/100], Perda: 0.1977, Acurácia: 0.9620\n",
            "Época [71/100], Perda: 0.1970, Acurácia: 0.9630\n",
            "Época [72/100], Perda: 0.1963, Acurácia: 0.9630\n",
            "Época [73/100], Perda: 0.1956, Acurácia: 0.9630\n",
            "Época [74/100], Perda: 0.1949, Acurácia: 0.9630\n",
            "Época [75/100], Perda: 0.1943, Acurácia: 0.9640\n",
            "Época [76/100], Perda: 0.1936, Acurácia: 0.9640\n",
            "Época [77/100], Perda: 0.1929, Acurácia: 0.9640\n",
            "Época [78/100], Perda: 0.1922, Acurácia: 0.9640\n",
            "Época [79/100], Perda: 0.1916, Acurácia: 0.9640\n",
            "Época [80/100], Perda: 0.1909, Acurácia: 0.9650\n",
            "Época [81/100], Perda: 0.1902, Acurácia: 0.9650\n",
            "Época [82/100], Perda: 0.1896, Acurácia: 0.9650\n",
            "Época [83/100], Perda: 0.1889, Acurácia: 0.9660\n",
            "Época [84/100], Perda: 0.1883, Acurácia: 0.9660\n",
            "Época [85/100], Perda: 0.1877, Acurácia: 0.9660\n",
            "Época [86/100], Perda: 0.1870, Acurácia: 0.9660\n",
            "Época [87/100], Perda: 0.1864, Acurácia: 0.9660\n",
            "Época [88/100], Perda: 0.1858, Acurácia: 0.9660\n",
            "Época [89/100], Perda: 0.1851, Acurácia: 0.9660\n",
            "Época [90/100], Perda: 0.1845, Acurácia: 0.9660\n",
            "Época [91/100], Perda: 0.1839, Acurácia: 0.9660\n",
            "Época [92/100], Perda: 0.1833, Acurácia: 0.9660\n",
            "Época [93/100], Perda: 0.1827, Acurácia: 0.9660\n",
            "Época [94/100], Perda: 0.1821, Acurácia: 0.9660\n",
            "Época [95/100], Perda: 0.1815, Acurácia: 0.9660\n",
            "Época [96/100], Perda: 0.1809, Acurácia: 0.9660\n",
            "Época [97/100], Perda: 0.1803, Acurácia: 0.9660\n",
            "Época [98/100], Perda: 0.1797, Acurácia: 0.9670\n",
            "Época [99/100], Perda: 0.1791, Acurácia: 0.9670\n",
            "Época [100/100], Perda: 0.1785, Acurácia: 0.9670\n"
          ]
        }
      ]
    },
    {
      "cell_type": "markdown",
      "metadata": {
        "id": "0xttWrUbOl4J"
      },
      "source": [
        "- 2) Insira código no laço do treinamento para visualização dos valores dos gradientes referentes à classe do dígito 4, no final de cada época."
      ]
    },
    {
      "cell_type": "code",
      "source": [
        "optimizer = torch.optim.SGD(model.parameters(), lr=learningRate)\n",
        "losses = []\n",
        "zs = []\n",
        "\n",
        "for i in range(epochs):\n",
        "    # Transformar a entrada para uma dimensão\n",
        "    inputs = Variable(x_train.view(-1, 28 * 28))\n",
        "    # Predição da rede\n",
        "    outputs = model(inputs)\n",
        "\n",
        "    # z0 a z9\n",
        "    zs.append(outputs[1].detach().numpy())\n",
        "\n",
        "    # Calcular a perda\n",
        "    loss = criterion(outputs, Variable(y_train))\n",
        "\n",
        "    # Zero, backpropagation, ajustar parâmetros pelo gradiente descendente\n",
        "    optimizer.zero_grad()\n",
        "    loss.backward()\n",
        "    optimizer.step()\n",
        "\n",
        "    losses.append(loss.item())\n",
        "\n",
        "    _, predicts = torch.max(outputs, 1)\n",
        "\n",
        "    y_pred = predicts.data\n",
        "    accuracy = (y_pred.numpy() == y_train.numpy()).mean()\n",
        "\n",
        "    # Imprimir o número da época, a perda e a acurácia\n",
        "    print(f'Época [{i+1}/{epochs}], Perda: {loss.item():.4f}, Acurácia: {accuracy:.4f}')\n",
        "\n",
        "    # Visualizar gradientes referentes à classe 4\n",
        "    if i % 1 == 0:\n",
        "        # Pega os gradientes dos parâmetros para a classe 4\n",
        "        for name, param in model.named_parameters():\n",
        "            if param.grad is not None:\n",
        "                # Extrair e mostrar o gradiente médio para a classe 4\n",
        "                grads_class_4 = param.grad.data\n",
        "                print(f'Gradientes para o parâmetro {name} (Classe 4):')\n",
        "                print(grads_class_4.mean().item())  # Média do gradiente de cada parâmetro\n"
      ],
      "metadata": {
        "colab": {
          "base_uri": "https://localhost:8080/"
        },
        "id": "EEmNi1L73ifK",
        "outputId": "a17456ce-55b0-462b-a3a2-e4ee74b0acbd"
      },
      "execution_count": 23,
      "outputs": [
        {
          "output_type": "stream",
          "name": "stdout",
          "text": [
            "Época [1/100], Perda: 0.1780, Acurácia: 0.9670\n",
            "Gradientes para o parâmetro weight (Classe 4):\n",
            "-5.835614977356407e-12\n",
            "Gradientes para o parâmetro bias (Classe 4):\n",
            "1.6298144778215118e-10\n",
            "Época [2/100], Perda: 0.1774, Acurácia: 0.9670\n",
            "Gradientes para o parâmetro weight (Classe 4):\n",
            "-3.409305823764974e-11\n",
            "Gradientes para o parâmetro bias (Classe 4):\n",
            "-3.376044444003412e-10\n",
            "Época [3/100], Perda: 0.1768, Acurácia: 0.9670\n",
            "Gradientes para o parâmetro weight (Classe 4):\n",
            "1.0186340486384449e-11\n",
            "Gradientes para o parâmetro bias (Classe 4):\n",
            "6.984919587171845e-11\n",
            "Época [4/100], Perda: 0.1763, Acurácia: 0.9680\n",
            "Gradientes para o parâmetro weight (Classe 4):\n",
            "1.0446195991553608e-11\n",
            "Gradientes para o parâmetro bias (Classe 4):\n",
            "1.396983917434369e-10\n",
            "Época [5/100], Perda: 0.1757, Acurácia: 0.9680\n",
            "Gradientes para o parâmetro weight (Classe 4):\n",
            "1.934810818504662e-11\n",
            "Gradientes para o parâmetro bias (Classe 4):\n",
            "1.396983917434369e-10\n",
            "Época [6/100], Perda: 0.1751, Acurácia: 0.9680\n",
            "Gradientes para o parâmetro weight (Classe 4):\n",
            "-1.0490742823054955e-11\n",
            "Gradientes para o parâmetro bias (Classe 4):\n",
            "-2.3283064712331658e-11\n",
            "Época [7/100], Perda: 0.1746, Acurácia: 0.9680\n",
            "Gradientes para o parâmetro weight (Classe 4):\n",
            "9.221162895756141e-12\n",
            "Gradientes para o parâmetro bias (Classe 4):\n",
            "2.3283064712331658e-11\n",
            "Época [8/100], Perda: 0.1740, Acurácia: 0.9680\n",
            "Gradientes para o parâmetro weight (Classe 4):\n",
            "-1.2577012348247152e-11\n",
            "Gradientes para o parâmetro bias (Classe 4):\n",
            "-4.6566129424663316e-11\n",
            "Época [9/100], Perda: 0.1735, Acurácia: 0.9680\n",
            "Gradientes para o parâmetro weight (Classe 4):\n",
            "-3.141283413943263e-11\n",
            "Gradientes para o parâmetro bias (Classe 4):\n",
            "-3.0267982564780027e-10\n",
            "Época [10/100], Perda: 0.1729, Acurácia: 0.9680\n",
            "Gradientes para o parâmetro weight (Classe 4):\n",
            "-8.887062093176912e-12\n",
            "Gradientes para o parâmetro bias (Classe 4):\n",
            "4.6566129424663316e-11\n",
            "Época [11/100], Perda: 0.1724, Acurácia: 0.9680\n",
            "Gradientes para o parâmetro weight (Classe 4):\n",
            "4.2601474431469555e-11\n",
            "Gradientes para o parâmetro bias (Classe 4):\n",
            "3.2596289556430236e-10\n",
            "Época [12/100], Perda: 0.1718, Acurácia: 0.9680\n",
            "Gradientes para o parâmetro weight (Classe 4):\n",
            "-2.3854746303286767e-11\n",
            "Gradientes para o parâmetro bias (Classe 4):\n",
            "5.820766091346741e-11\n",
            "Época [13/100], Perda: 0.1713, Acurácia: 0.9680\n",
            "Gradientes para o parâmetro weight (Classe 4):\n",
            "-8.649480437439294e-12\n",
            "Gradientes para o parâmetro bias (Classe 4):\n",
            "-6.984919587171845e-11\n",
            "Época [14/100], Perda: 0.1708, Acurácia: 0.9680\n",
            "Gradientes para o parâmetro weight (Classe 4):\n",
            "1.551709281899516e-12\n",
            "Gradientes para o parâmetro bias (Classe 4):\n",
            "0.0\n",
            "Época [15/100], Perda: 0.1702, Acurácia: 0.9680\n",
            "Gradientes para o parâmetro weight (Classe 4):\n",
            "2.4441278861919713e-11\n",
            "Gradientes para o parâmetro bias (Classe 4):\n",
            "2.3283064365386963e-10\n",
            "Época [16/100], Perda: 0.1697, Acurácia: 0.9680\n",
            "Gradientes para o parâmetro weight (Classe 4):\n",
            "-3.76567943494166e-11\n",
            "Gradientes para o parâmetro bias (Classe 4):\n",
            "-1.8626451769865326e-10\n",
            "Época [17/100], Perda: 0.1692, Acurácia: 0.9680\n",
            "Gradientes para o parâmetro weight (Classe 4):\n",
            "-3.3640167040882574e-11\n",
            "Gradientes para o parâmetro bias (Classe 4):\n",
            "-2.3283064365386963e-10\n",
            "Época [18/100], Perda: 0.1687, Acurácia: 0.9680\n",
            "Gradientes para o parâmetro weight (Classe 4):\n",
            "4.625430247151563e-12\n",
            "Gradientes para o parâmetro bias (Classe 4):\n",
            "-2.3283064712331658e-11\n",
            "Época [19/100], Perda: 0.1682, Acurácia: 0.9680\n",
            "Gradientes para o parâmetro weight (Classe 4):\n",
            "-3.535521528319485e-11\n",
            "Gradientes para o parâmetro bias (Classe 4):\n",
            "-4.0745362639427185e-10\n",
            "Época [20/100], Perda: 0.1676, Acurácia: 0.9680\n",
            "Gradientes para o parâmetro weight (Classe 4):\n",
            "-2.7915918274917795e-12\n",
            "Gradientes para o parâmetro bias (Classe 4):\n",
            "0.0\n",
            "Época [21/100], Perda: 0.1671, Acurácia: 0.9680\n",
            "Gradientes para o parâmetro weight (Classe 4):\n",
            "-1.8048829791839083e-11\n",
            "Gradientes para o parâmetro bias (Classe 4):\n",
            "-3.0267982564780027e-10\n",
            "Época [22/100], Perda: 0.1666, Acurácia: 0.9680\n",
            "Gradientes para o parâmetro weight (Classe 4):\n",
            "9.243435877825945e-12\n",
            "Gradientes para o parâmetro bias (Classe 4):\n",
            "2.0954757373736754e-10\n",
            "Época [23/100], Perda: 0.1661, Acurácia: 0.9680\n",
            "Gradientes para o parâmetro weight (Classe 4):\n",
            "3.667676405638698e-12\n",
            "Gradientes para o parâmetro bias (Classe 4):\n",
            "-4.6566129424663316e-11\n",
            "Época [24/100], Perda: 0.1656, Acurácia: 0.9680\n",
            "Gradientes para o parâmetro weight (Classe 4):\n",
            "1.3772348712859372e-11\n",
            "Gradientes para o parâmetro bias (Classe 4):\n",
            "2.2118910869561859e-10\n",
            "Época [25/100], Perda: 0.1651, Acurácia: 0.9680\n",
            "Gradientes para o parâmetro weight (Classe 4):\n",
            "4.130961892001572e-11\n",
            "Gradientes para o parâmetro bias (Classe 4):\n",
            "1.979060526569043e-10\n",
            "Época [26/100], Perda: 0.1646, Acurácia: 0.9680\n",
            "Gradientes para o parâmetro weight (Classe 4):\n",
            "2.942308202635857e-11\n",
            "Gradientes para o parâmetro bias (Classe 4):\n",
            "1.7462298274040222e-10\n",
            "Época [27/100], Perda: 0.1641, Acurácia: 0.9680\n",
            "Gradientes para o parâmetro weight (Classe 4):\n",
            "9.792845354072988e-12\n",
            "Gradientes para o parâmetro bias (Classe 4):\n",
            "-4.6566129424663316e-11\n",
            "Época [28/100], Perda: 0.1636, Acurácia: 0.9690\n",
            "Gradientes para o parâmetro weight (Classe 4):\n",
            "-1.7967160962154005e-12\n",
            "Gradientes para o parâmetro bias (Classe 4):\n",
            "5.820766091346741e-11\n",
            "Época [29/100], Perda: 0.1631, Acurácia: 0.9690\n",
            "Gradientes para o parâmetro weight (Classe 4):\n",
            "-1.704652911882487e-11\n",
            "Gradientes para o parâmetro bias (Classe 4):\n",
            "-1.2805685678518586e-10\n",
            "Época [30/100], Perda: 0.1626, Acurácia: 0.9690\n",
            "Gradientes para o parâmetro weight (Classe 4):\n",
            "-1.302990354501432e-11\n",
            "Gradientes para o parâmetro bias (Classe 4):\n",
            "-2.793967834868738e-10\n",
            "Época [31/100], Perda: 0.1622, Acurácia: 0.9700\n",
            "Gradientes para o parâmetro weight (Classe 4):\n",
            "-1.2747775057775357e-11\n",
            "Gradientes para o parâmetro bias (Classe 4):\n",
            "-2.3283064365386963e-10\n",
            "Época [32/100], Perda: 0.1617, Acurácia: 0.9700\n",
            "Gradientes para o parâmetro weight (Classe 4):\n",
            "3.5629919153956635e-11\n",
            "Gradientes para o parâmetro bias (Classe 4):\n",
            "1.7462298274040222e-10\n",
            "Época [33/100], Perda: 0.1612, Acurácia: 0.9710\n",
            "Gradientes para o parâmetro weight (Classe 4):\n",
            "2.953444780406933e-11\n",
            "Gradientes para o parâmetro bias (Classe 4):\n",
            "2.561137135703717e-10\n",
            "Época [34/100], Perda: 0.1607, Acurácia: 0.9710\n",
            "Gradientes para o parâmetro weight (Classe 4):\n",
            "-2.1946663236738218e-11\n",
            "Gradientes para o parâmetro bias (Classe 4):\n",
            "-2.9103830456733704e-10\n",
            "Época [35/100], Perda: 0.1603, Acurácia: 0.9720\n",
            "Gradientes para o parâmetro weight (Classe 4):\n",
            "1.0394225627777254e-12\n",
            "Gradientes para o parâmetro bias (Classe 4):\n",
            "0.0\n",
            "Época [36/100], Perda: 0.1598, Acurácia: 0.9720\n",
            "Gradientes para o parâmetro weight (Classe 4):\n",
            "2.8517299632824233e-11\n",
            "Gradientes para o parâmetro bias (Classe 4):\n",
            "2.3283064365386963e-10\n",
            "Época [37/100], Perda: 0.1593, Acurácia: 0.9720\n",
            "Gradientes para o parâmetro weight (Classe 4):\n",
            "-4.359634875328311e-11\n",
            "Gradientes para o parâmetro bias (Classe 4):\n",
            "-3.376044444003412e-10\n",
            "Época [38/100], Perda: 0.1588, Acurácia: 0.9720\n",
            "Gradientes para o parâmetro weight (Classe 4):\n",
            "4.243071172194135e-11\n",
            "Gradientes para o parâmetro bias (Classe 4):\n",
            "2.793967834868738e-10\n",
            "Época [39/100], Perda: 0.1584, Acurácia: 0.9720\n",
            "Gradientes para o parâmetro weight (Classe 4):\n",
            "-1.2109271918525621e-11\n",
            "Gradientes para o parâmetro bias (Classe 4):\n",
            "-1.2805685678518586e-10\n",
            "Época [40/100], Perda: 0.1579, Acurácia: 0.9720\n",
            "Gradientes para o parâmetro weight (Classe 4):\n",
            "1.1196065775875841e-11\n",
            "Gradientes para o parâmetro bias (Classe 4):\n",
            "0.0\n",
            "Época [41/100], Perda: 0.1575, Acurácia: 0.9720\n",
            "Gradientes para o parâmetro weight (Classe 4):\n",
            "2.7255142587279124e-11\n",
            "Gradientes para o parâmetro bias (Classe 4):\n",
            "1.2805685678518586e-10\n",
            "Época [42/100], Perda: 0.1570, Acurácia: 0.9720\n",
            "Gradientes para o parâmetro weight (Classe 4):\n",
            "6.927008446011573e-12\n",
            "Gradientes para o parâmetro bias (Classe 4):\n",
            "2.793967834868738e-10\n",
            "Época [43/100], Perda: 0.1566, Acurácia: 0.9730\n",
            "Gradientes para o parâmetro weight (Classe 4):\n",
            "4.86820965484025e-11\n",
            "Gradientes para o parâmetro bias (Classe 4):\n",
            "4.190951474747351e-10\n",
            "Época [44/100], Perda: 0.1561, Acurácia: 0.9730\n",
            "Gradientes para o parâmetro weight (Classe 4):\n",
            "-2.7737732249955016e-11\n",
            "Gradientes para o parâmetro bias (Classe 4):\n",
            "-2.4447216473433286e-10\n",
            "Época [45/100], Perda: 0.1557, Acurácia: 0.9730\n",
            "Gradientes para o parâmetro weight (Classe 4):\n",
            "-3.741921269367898e-12\n",
            "Gradientes para o parâmetro bias (Classe 4):\n",
            "4.6566129424663316e-11\n",
            "Época [46/100], Perda: 0.1552, Acurácia: 0.9740\n",
            "Gradientes para o parâmetro weight (Classe 4):\n",
            "-1.599225786519387e-11\n",
            "Gradientes para o parâmetro bias (Classe 4):\n",
            "-1.5133991282390014e-10\n",
            "Época [47/100], Perda: 0.1548, Acurácia: 0.9740\n",
            "Gradientes para o parâmetro weight (Classe 4):\n",
            "-1.2606709946794137e-11\n",
            "Gradientes para o parâmetro bias (Classe 4):\n",
            "-1.1641532182693481e-10\n",
            "Época [48/100], Perda: 0.1543, Acurácia: 0.9740\n",
            "Gradientes para o parâmetro weight (Classe 4):\n",
            "3.7723612428264275e-11\n",
            "Gradientes para o parâmetro bias (Classe 4):\n",
            "2.6775523465083495e-10\n",
            "Época [49/100], Perda: 0.1539, Acurácia: 0.9740\n",
            "Gradientes para o parâmetro weight (Classe 4):\n",
            "-1.875415274465997e-11\n",
            "Gradientes para o parâmetro bias (Classe 4):\n",
            "-1.5133991282390014e-10\n",
            "Época [50/100], Perda: 0.1535, Acurácia: 0.9740\n",
            "Gradientes para o parâmetro weight (Classe 4):\n",
            "1.98826684283393e-11\n",
            "Gradientes para o parâmetro bias (Classe 4):\n",
            "2.0954757373736754e-10\n",
            "Época [51/100], Perda: 0.1530, Acurácia: 0.9740\n",
            "Gradientes para o parâmetro weight (Classe 4):\n",
            "-9.124644616276267e-12\n",
            "Gradientes para o parâmetro bias (Classe 4):\n",
            "-9.313225884932663e-11\n",
            "Época [52/100], Perda: 0.1526, Acurácia: 0.9740\n",
            "Gradientes para o parâmetro weight (Classe 4):\n",
            "3.522157565605255e-11\n",
            "Gradientes para o parâmetro bias (Classe 4):\n",
            "3.143213744838391e-10\n",
            "Época [53/100], Perda: 0.1522, Acurácia: 0.9740\n",
            "Gradientes para o parâmetro weight (Classe 4):\n",
            "4.582368512418e-11\n",
            "Gradientes para o parâmetro bias (Classe 4):\n",
            "3.2596289556430236e-10\n",
            "Época [54/100], Perda: 0.1517, Acurácia: 0.9740\n",
            "Gradientes para o parâmetro weight (Classe 4):\n",
            "4.5979598600753846e-11\n",
            "Gradientes para o parâmetro bias (Classe 4):\n",
            "3.8417055647776976e-10\n",
            "Época [55/100], Perda: 0.1513, Acurácia: 0.9740\n",
            "Gradientes para o parâmetro weight (Classe 4):\n",
            "9.919060364738108e-12\n",
            "Gradientes para o parâmetro bias (Classe 4):\n",
            "6.984919587171845e-11\n",
            "Época [56/100], Perda: 0.1509, Acurácia: 0.9740\n",
            "Gradientes para o parâmetro weight (Classe 4):\n",
            "-2.7752581482909378e-11\n",
            "Gradientes para o parâmetro bias (Classe 4):\n",
            "-1.8626451769865326e-10\n",
            "Época [57/100], Perda: 0.1505, Acurácia: 0.9740\n",
            "Gradientes para o parâmetro weight (Classe 4):\n",
            "-7.372475546718604e-11\n",
            "Gradientes para o parâmetro bias (Classe 4):\n",
            "-3.8417055647776976e-10\n",
            "Época [58/100], Perda: 0.1500, Acurácia: 0.9740\n",
            "Gradientes para o parâmetro weight (Classe 4):\n",
            "-1.848687218933276e-12\n",
            "Gradientes para o parâmetro bias (Classe 4):\n",
            "2.561137135703717e-10\n",
            "Época [59/100], Perda: 0.1496, Acurácia: 0.9740\n",
            "Gradientes para o parâmetro weight (Classe 4):\n",
            "-4.7516456914975524e-12\n",
            "Gradientes para o parâmetro bias (Classe 4):\n",
            "1.0477378686868377e-10\n",
            "Época [60/100], Perda: 0.1492, Acurácia: 0.9740\n",
            "Gradientes para o parâmetro weight (Classe 4):\n",
            "2.2058030749172453e-11\n",
            "Gradientes para o parâmetro bias (Classe 4):\n",
            "1.2805685678518586e-10\n",
            "Época [61/100], Perda: 0.1488, Acurácia: 0.9740\n",
            "Gradientes para o parâmetro weight (Classe 4):\n",
            "-5.9284202547083e-11\n",
            "Gradientes para o parâmetro bias (Classe 4):\n",
            "-4.773028083882025e-10\n",
            "Época [62/100], Perda: 0.1484, Acurácia: 0.9740\n",
            "Gradientes para o parâmetro weight (Classe 4):\n",
            "1.7001983154685263e-11\n",
            "Gradientes para o parâmetro bias (Classe 4):\n",
            "2.3283064712331658e-11\n",
            "Época [63/100], Perda: 0.1480, Acurácia: 0.9740\n",
            "Gradientes para o parâmetro weight (Classe 4):\n",
            "3.4746409308811232e-12\n",
            "Gradientes para o parâmetro bias (Classe 4):\n",
            "-2.3283064712331658e-11\n",
            "Época [64/100], Perda: 0.1476, Acurácia: 0.9740\n",
            "Gradientes para o parâmetro weight (Classe 4):\n",
            "8.204013163259916e-11\n",
            "Gradientes para o parâmetro bias (Classe 4):\n",
            "7.217749731225354e-10\n",
            "Época [65/100], Perda: 0.1472, Acurácia: 0.9740\n",
            "Gradientes para o parâmetro weight (Classe 4):\n",
            "2.1285887982780416e-11\n",
            "Gradientes para o parâmetro bias (Classe 4):\n",
            "-2.3283064712331658e-11\n",
            "Época [66/100], Perda: 0.1468, Acurácia: 0.9750\n",
            "Gradientes para o parâmetro weight (Classe 4):\n",
            "-6.8379152166897494e-12\n",
            "Gradientes para o parâmetro bias (Classe 4):\n",
            "-3.4924597935859225e-11\n",
            "Época [67/100], Perda: 0.1464, Acurácia: 0.9750\n",
            "Gradientes para o parâmetro weight (Classe 4):\n",
            "-9.74087390609446e-12\n",
            "Gradientes para o parâmetro bias (Classe 4):\n",
            "-1.1641532182693481e-10\n",
            "Época [68/100], Perda: 0.1460, Acurácia: 0.9750\n",
            "Gradientes para o parâmetro weight (Classe 4):\n",
            "1.5197841249370292e-11\n",
            "Gradientes para o parâmetro bias (Classe 4):\n",
            "0.0\n",
            "Época [69/100], Perda: 0.1456, Acurácia: 0.9750\n",
            "Gradientes para o parâmetro weight (Classe 4):\n",
            "-4.675174136714588e-11\n",
            "Gradientes para o parâmetro bias (Classe 4):\n",
            "-3.958121053138086e-10\n",
            "Época [70/100], Perda: 0.1452, Acurácia: 0.9750\n",
            "Gradientes para o parâmetro weight (Classe 4):\n",
            "5.5297277173904646e-11\n",
            "Gradientes para o parâmetro bias (Classe 4):\n",
            "3.7252903539730653e-10\n",
            "Época [71/100], Perda: 0.1448, Acurácia: 0.9750\n",
            "Gradientes para o parâmetro weight (Classe 4):\n",
            "-1.6719852932722823e-11\n",
            "Gradientes para o parâmetro bias (Classe 4):\n",
            "3.4924597935859225e-11\n",
            "Época [72/100], Perda: 0.1444, Acurácia: 0.9750\n",
            "Gradientes para o parâmetro weight (Classe 4):\n",
            "-3.8993194090286565e-11\n",
            "Gradientes para o parâmetro bias (Classe 4):\n",
            "-1.979060526569043e-10\n",
            "Época [73/100], Perda: 0.1440, Acurácia: 0.9750\n",
            "Gradientes para o parâmetro weight (Classe 4):\n",
            "-9.622082644544783e-12\n",
            "Gradientes para o parâmetro bias (Classe 4):\n",
            "-4.6566129424663316e-11\n",
            "Época [74/100], Perda: 0.1436, Acurácia: 0.9750\n",
            "Gradientes para o parâmetro weight (Classe 4):\n",
            "4.1576902511109015e-12\n",
            "Gradientes para o parâmetro bias (Classe 4):\n",
            "-4.6566129424663316e-11\n",
            "Época [75/100], Perda: 0.1432, Acurácia: 0.9750\n",
            "Gradientes para o parâmetro weight (Classe 4):\n",
            "-1.1485618879591986e-11\n",
            "Gradientes para o parâmetro bias (Classe 4):\n",
            "-2.3283064365386963e-10\n",
            "Época [76/100], Perda: 0.1428, Acurácia: 0.9750\n",
            "Gradientes para o parâmetro weight (Classe 4):\n",
            "1.5368604826260235e-12\n",
            "Gradientes para o parâmetro bias (Classe 4):\n",
            "-3.4924597935859225e-11\n",
            "Época [77/100], Perda: 0.1425, Acurácia: 0.9760\n",
            "Gradientes para o parâmetro weight (Classe 4):\n",
            "1.1389100600112112e-11\n",
            "Gradientes para o parâmetro bias (Classe 4):\n",
            "1.7462298274040222e-10\n",
            "Época [78/100], Perda: 0.1421, Acurácia: 0.9760\n",
            "Gradientes para o parâmetro weight (Classe 4):\n",
            "3.87110656030476e-11\n",
            "Gradientes para o parâmetro bias (Classe 4):\n",
            "2.3283064712331658e-11\n",
            "Época [79/100], Perda: 0.1417, Acurácia: 0.9760\n",
            "Gradientes para o parâmetro weight (Classe 4):\n",
            "-5.47775678982898e-11\n",
            "Gradientes para o parâmetro bias (Classe 4):\n",
            "-2.2118910869561859e-10\n",
            "Época [80/100], Perda: 0.1413, Acurácia: 0.9760\n",
            "Gradientes para o parâmetro weight (Classe 4):\n",
            "1.0691202697449276e-12\n",
            "Gradientes para o parâmetro bias (Classe 4):\n",
            "-2.3283064712331658e-11\n",
            "Época [81/100], Perda: 0.1410, Acurácia: 0.9760\n",
            "Gradientes para o parâmetro weight (Classe 4):\n",
            "3.58155310964392e-11\n",
            "Gradientes para o parâmetro bias (Classe 4):\n",
            "1.396983917434369e-10\n",
            "Época [82/100], Perda: 0.1406, Acurácia: 0.9760\n",
            "Gradientes para o parâmetro weight (Classe 4):\n",
            "-5.030804939298861e-11\n",
            "Gradientes para o parâmetro bias (Classe 4):\n",
            "-3.608874865612677e-10\n",
            "Época [83/100], Perda: 0.1402, Acurácia: 0.9760\n",
            "Gradientes para o parâmetro weight (Classe 4):\n",
            "2.019449494780612e-12\n",
            "Gradientes para o parâmetro bias (Classe 4):\n",
            "5.820766091346741e-11\n",
            "Época [84/100], Perda: 0.1399, Acurácia: 0.9760\n",
            "Gradientes para o parâmetro weight (Classe 4):\n",
            "-7.320504445684772e-12\n",
            "Gradientes para o parâmetro bias (Classe 4):\n",
            "-6.984919587171845e-11\n",
            "Época [85/100], Perda: 0.1395, Acurácia: 0.9760\n",
            "Gradientes para o parâmetro weight (Classe 4):\n",
            "2.389929400214985e-11\n",
            "Gradientes para o parâmetro bias (Classe 4):\n",
            "2.561137135703717e-10\n",
            "Época [86/100], Perda: 0.1391, Acurácia: 0.9760\n",
            "Gradientes para o parâmetro weight (Classe 4):\n",
            "6.229110543348737e-12\n",
            "Gradientes para o parâmetro bias (Classe 4):\n",
            "8.149072389107559e-11\n",
            "Época [87/100], Perda: 0.1388, Acurácia: 0.9760\n",
            "Gradientes para o parâmetro weight (Classe 4):\n",
            "4.448728538331004e-11\n",
            "Gradientes para o parâmetro bias (Classe 4):\n",
            "3.376044444003412e-10\n",
            "Época [88/100], Perda: 0.1384, Acurácia: 0.9760\n",
            "Gradientes para o parâmetro weight (Classe 4):\n",
            "-3.425639633070077e-11\n",
            "Gradientes para o parâmetro bias (Classe 4):\n",
            "-2.793967834868738e-10\n",
            "Época [89/100], Perda: 0.1380, Acurácia: 0.9760\n",
            "Gradientes para o parâmetro weight (Classe 4):\n",
            "-1.4722677937895057e-11\n",
            "Gradientes para o parâmetro bias (Classe 4):\n",
            "-6.984919587171845e-11\n",
            "Época [90/100], Perda: 0.1377, Acurácia: 0.9760\n",
            "Gradientes para o parâmetro weight (Classe 4):\n",
            "-1.553194205194952e-11\n",
            "Gradientes para o parâmetro bias (Classe 4):\n",
            "-1.396983917434369e-10\n",
            "Época [91/100], Perda: 0.1373, Acurácia: 0.9760\n",
            "Gradientes para o parâmetro weight (Classe 4):\n",
            "5.402027436485213e-11\n",
            "Gradientes para o parâmetro bias (Classe 4):\n",
            "2.561137135703717e-10\n",
            "Época [92/100], Perda: 0.1370, Acurácia: 0.9760\n",
            "Gradientes para o parâmetro weight (Classe 4):\n",
            "2.434476058243984e-11\n",
            "Gradientes para o parâmetro bias (Classe 4):\n",
            "1.979060526569043e-10\n",
            "Época [93/100], Perda: 0.1366, Acurácia: 0.9760\n",
            "Gradientes para o parâmetro weight (Classe 4):\n",
            "-2.6594367333321323e-11\n",
            "Gradientes para o parâmetro bias (Classe 4):\n",
            "-2.0954757373736754e-10\n",
            "Época [94/100], Perda: 0.1363, Acurácia: 0.9760\n",
            "Gradientes para o parâmetro weight (Classe 4):\n",
            "1.1790021216262492e-11\n",
            "Gradientes para o parâmetro bias (Classe 4):\n",
            "2.4447216473433286e-10\n",
            "Época [95/100], Perda: 0.1359, Acurácia: 0.9760\n",
            "Gradientes para o parâmetro weight (Classe 4):\n",
            "-2.3446402805382682e-11\n",
            "Gradientes para o parâmetro bias (Classe 4):\n",
            "-2.561137135703717e-10\n",
            "Época [96/100], Perda: 0.1356, Acurácia: 0.9760\n",
            "Gradientes para o parâmetro weight (Classe 4):\n",
            "-2.190954188907579e-11\n",
            "Gradientes para o parâmetro bias (Classe 4):\n",
            "-2.2118910869561859e-10\n",
            "Época [97/100], Perda: 0.1352, Acurácia: 0.9770\n",
            "Gradientes para o parâmetro weight (Classe 4):\n",
            "-1.0668929281698603e-11\n",
            "Gradientes para o parâmetro bias (Classe 4):\n",
            "-6.984919587171845e-11\n",
            "Época [98/100], Perda: 0.1349, Acurácia: 0.9770\n",
            "Gradientes para o parâmetro weight (Classe 4):\n",
            "9.74087390609446e-12\n",
            "Gradientes para o parâmetro bias (Classe 4):\n",
            "4.6566129424663316e-11\n",
            "Época [99/100], Perda: 0.1345, Acurácia: 0.9770\n",
            "Gradientes para o parâmetro weight (Classe 4):\n",
            "-2.640133250908505e-11\n",
            "Gradientes para o parâmetro bias (Classe 4):\n",
            "-3.7252903539730653e-10\n",
            "Época [100/100], Perda: 0.1342, Acurácia: 0.9770\n",
            "Gradientes para o parâmetro weight (Classe 4):\n",
            "-3.116782526513262e-11\n",
            "Gradientes para o parâmetro bias (Classe 4):\n",
            "-2.2118910869561859e-10\n"
          ]
        }
      ]
    },
    {
      "cell_type": "markdown",
      "source": [
        "<details>\n",
        "<summary>Mostrar Resultado</summary>\n",
        "\n",
        "```python\n",
        "losses = []\n",
        "import numpy\n",
        "\n",
        "import numpy\n",
        "zs = []\n",
        "\n",
        "for i in range(epochs):\n",
        "    # Transforma a entrada para uma dimensão\n",
        "    inputs = Variable(x_train.view(-1, 28 * 28))\n",
        "    # Predict da rede\n",
        "    outputs = model(inputs)\n",
        "    \n",
        "    # z0 a z9\n",
        "    zs.append(outputs[1].detach().numpy())\n",
        "\n",
        "    # calcula a perda\n",
        "    loss = criterion(outputs, Variable(y_train))\n",
        "\n",
        "    # zero, backpropagation, ajusta parâmetros pelo gradiente descendente\n",
        "    optimizer.zero_grad()\n",
        "    loss.backward()\n",
        "    optimizer.step()\n",
        "\n",
        "    losses.append(loss.item())\n",
        "    \n",
        "    _, predicts = torch.max(outputs, 1)\n",
        "    \n",
        "    y_pred = predicts.data\n",
        "    accuracy = (y_pred.numpy() == y_train.numpy()).mean()\n",
        "    \n",
        "    print('Epoch[{}/{}], loss: {:.6f}, acc: {:.6f}'\n",
        "              .format(i+1, epochs, loss.data, accuracy))\n",
        "    \n",
        "    weights = model.state_dict()['weight']\n",
        "    print('weights:', weights.shape)\n",
        "\n",
        "    bias = model.state_dict()['bias']\n",
        "    print('bias:   ', bias.shape)\n",
        "\n",
        "    # Visualizando pesos da classe 3\n",
        "    plt.imshow(weights[4, :].numpy().reshape((28,28)),cmap = 'gray')\n",
        "    plt.show()\n",
        "```\n",
        "\n",
        "</details>"
      ],
      "metadata": {
        "id": "28SnX4gHjeLj"
      }
    },
    {
      "cell_type": "markdown",
      "metadata": {
        "id": "yDhND6p3Ol4J"
      },
      "source": [
        "## Perguntas"
      ]
    },
    {
      "cell_type": "markdown",
      "metadata": {
        "id": "AXg8GBrsOl4L"
      },
      "source": [
        "**1. Qual é o shape da matriz de entrada na rede?**\n",
        "  Para responder as três questões, levei em consideração as seguintes dimensões dos dados das imagens:    torch.Size([1000, 28, 28]) e o código do modelo - model = torch.nn.Linear(28*28, 10) # 28*28 atributos de entrada e 10 neurônios na sáida.\n",
        "\n",
        "  O número de entradas para cada imagem é 28*28 = 784. Portanto, o shape da entrada será (1000, 784).\n",
        "\n",
        "**2. Qual é o shape da saída da rede?**\n",
        "O modelo possui 10 neurônios na camada de saída, portanto a saída será um vetor de 10 valores para cada imagem no lote.  Portanto, o shape da saída será (1000, 10).\n",
        "\n",
        "**3. Qual é o número total de parâmetros da rede, incluindo o bias?**\n",
        "\n",
        "A camada torch.nn.Linear(28*28, 10) possui pesos e vieses(bias).\n",
        "\n",
        "Pesos: Para cada neurônio na camada de saída (10 neurônios), existe um peso para cada entrada (784 entradas). Ou seja, para cada um dos 10 neurônios, há 784 pesos. Portanto, o número de pesos é:\n",
        "\n",
        "Número de pesos = 784 x 10 = 7840\n",
        "\n",
        "Vieses: Cada neurônio na camada de saída possui um viés. Como há 10 neurônios na camada de saída, o número de vieses é 10.\n",
        "\n",
        "Total de parâmetros: O número total de parâmetros é a soma dos pesos e vieses:\n",
        "\n",
        "**Total de parâmetros =** 7840 + 10 = 7850"
      ]
    },
    {
      "cell_type": "markdown",
      "metadata": {
        "id": "0aj1pg_ZOl4L"
      },
      "source": [
        "# Aprendizados\n"
      ]
    },
    {
      "cell_type": "markdown",
      "source": [
        "Neste estudo, foram realizadas a importação de bibliotecas, a leitura e normalização dos dados, seguidas da construção de um modelo de rede. O funcionamento do predict foi testado utilizando um pequeno conjunto de amostras.  \n",
        "\n",
        "O treinamento incluiu a inicialização dos parâmetros e a visualização da função de perda (loss). Foi estabelecido um laço para ajuste dos pesos e monitorada a variação da perda ao longo do treinamento.  \n",
        "\n",
        "A etapa de avaliação foi estruturada com a análise da acurácia e a geração de uma matriz de confusão.  \n",
        "\n",
        "Na visualização dos pesos treinados, foram identificados os valores dos pesos para todas as classes, acompanhados de um diagrama de regressão softmax que representava os pesos \\( w \\).  \n",
        "\n",
        "Nos exercícios, foram resolvidas diversas questões, incluindo a modificação do código do laço de treinamento para exibir, ao final de cada época, informações como o número da época, a perda e a acurácia. Também foi calculado e apresentado o valor dos gradientes correspondentes à classe do dígito 4.  \n",
        "\n",
        "Adicionalmente, foram abordadas questões relacionadas à estrutura da rede, como as dimensões (shape) da matriz de entrada e saída, e o cálculo do número total de parâmetros da rede, incluindo o bias.\n"
      ],
      "metadata": {
        "id": "4mpv8b-HHppr"
      }
    }
  ],
  "metadata": {
    "colab": {
      "provenance": [],
      "toc_visible": true
    },
    "kernelspec": {
      "display_name": "Python 3",
      "name": "python3"
    },
    "language_info": {
      "name": "python",
      "version": "3.10.2"
    },
    "vscode": {
      "interpreter": {
        "hash": "5fe3e6f0cdaab8afdc61c52912fda83f7c0a71baaea1897dd7498e2df01e69ec"
      }
    }
  },
  "nbformat": 4,
  "nbformat_minor": 0
}