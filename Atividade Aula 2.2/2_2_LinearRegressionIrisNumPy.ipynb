{
  "cells": [
    {
      "cell_type": "markdown",
      "source": [
        "**Disciplina RNA e Deep Learning**\n",
        "\n",
        "Aluna: Eveline Cavalcanti Feliciano Pontual\n",
        "\n",
        "\n"
      ],
      "metadata": {
        "id": "MpsNw3D1ktN8"
      }
    },
    {
      "cell_type": "markdown",
      "metadata": {
        "id": "5yQgzdjbf9RT"
      },
      "source": [
        "# Regressão Linear com NumPy"
      ]
    },
    {
      "cell_type": "markdown",
      "metadata": {
        "heading_collapsed": true,
        "id": "p5HfrYM3f9RU"
      },
      "source": [
        "## Objetivos deste experimento"
      ]
    },
    {
      "cell_type": "markdown",
      "metadata": {
        "hidden": true,
        "id": "IIYC2db7f9RW"
      },
      "source": [
        "Este exemplo utiliza regressão linear para estimar o comprimento das sépalas da íris a partir do seu comprimento das pétalas.\n",
        "Utiliza-se programação totalmente NumPy com:\n",
        "- o **cálculo do gradiente**,\n",
        "- a **função de perda** e\n",
        "- a atualização dos parâmetros são feitos de forma explícita.\n",
        "- A rede é criada com uma camada como uma classe"
      ]
    },
    {
      "cell_type": "markdown",
      "metadata": {
        "hidden": true,
        "id": "ImJOZIiNf9RW"
      },
      "source": [
        "![alt text](https://raw.githubusercontent.com/vcasadei/images/master/RegressaoLinear_Otimizacao.png)"
      ]
    },
    {
      "cell_type": "markdown",
      "metadata": {
        "heading_collapsed": true,
        "id": "EeTHWCuMf9RX"
      },
      "source": [
        "## Importação dos pacotes"
      ]
    },
    {
      "cell_type": "code",
      "execution_count": 1,
      "metadata": {
        "ExecuteTime": {
          "end_time": "2017-10-08T11:19:38.728936Z",
          "start_time": "2017-10-08T11:19:36.888541Z"
        },
        "hidden": true,
        "id": "5yPytaCLf9RY"
      },
      "outputs": [],
      "source": [
        "%matplotlib inline\n",
        "import matplotlib.pyplot as plt   # para plotting\n",
        "\n",
        "from sklearn.datasets import load_iris  # para carregar dataset\n",
        "\n",
        "import numpy as np  # processamento matricial\n",
        "\n",
        "np.random.seed(1234)"
      ]
    },
    {
      "cell_type": "markdown",
      "metadata": {
        "heading_collapsed": true,
        "id": "wDkSLSnmf9Rc"
      },
      "source": [
        "## Dataset"
      ]
    },
    {
      "cell_type": "markdown",
      "metadata": {
        "heading_collapsed": true,
        "hidden": true,
        "id": "ldcOnrBvf9Rd"
      },
      "source": [
        "### Leitura dos dados"
      ]
    },
    {
      "cell_type": "code",
      "execution_count": 2,
      "metadata": {
        "ExecuteTime": {
          "end_time": "2017-10-08T11:19:38.747769Z",
          "start_time": "2017-10-08T11:19:38.730907Z"
        },
        "colab": {
          "base_uri": "https://localhost:8080/"
        },
        "hidden": true,
        "id": "l3t1qaa0f9Re",
        "outputId": "9a3f0fe7-862f-4426-a49a-051c25697820"
      },
      "outputs": [
        {
          "output_type": "stream",
          "name": "stdout",
          "text": [
            "x_train.shape: (50, 1) float64\n",
            "y_train.shape: (50, 1) float64\n",
            "x_train[:5]:\n",
            " [[7. ]\n",
            " [6.4]\n",
            " [6.9]\n",
            " [5.5]\n",
            " [6.5]]\n",
            "y_train[:5]:\n",
            " [[4.7]\n",
            " [4.5]\n",
            " [4.9]\n",
            " [4. ]\n",
            " [4.6]]\n"
          ]
        }
      ],
      "source": [
        "iris = load_iris()\n",
        "data = iris.data[iris.target==1,::2]  # comprimento das sépalas e pétalas, indices 0 e 2\n",
        "\n",
        "x_train = data[:,0:1]\n",
        "y_train = data[:,1:2]\n",
        "\n",
        "n_samples = x_train.shape[0]\n",
        "print('x_train.shape:',x_train.shape, x_train.dtype)\n",
        "print('y_train.shape:',y_train.shape, y_train.dtype)\n",
        "\n",
        "print('x_train[:5]:\\n', x_train[:5])\n",
        "print('y_train[:5]:\\n', y_train[:5])"
      ]
    },
    {
      "cell_type": "markdown",
      "metadata": {
        "hidden": true,
        "id": "aPQ-L6FVf9Rk"
      },
      "source": [
        "### Normalização dos dados"
      ]
    },
    {
      "cell_type": "code",
      "execution_count": 3,
      "metadata": {
        "ExecuteTime": {
          "end_time": "2017-10-08T11:19:38.756343Z",
          "start_time": "2017-10-08T11:19:38.750395Z"
        },
        "hidden": true,
        "id": "POM323GEf9Rl"
      },
      "outputs": [],
      "source": [
        "x_train -= x_train.min()\n",
        "x_train /= x_train.max()\n",
        "y_train -= y_train.min()\n",
        "y_train /= y_train.max()"
      ]
    },
    {
      "cell_type": "code",
      "execution_count": 4,
      "metadata": {
        "ExecuteTime": {
          "end_time": "2017-10-08T11:19:39.127199Z",
          "start_time": "2017-10-08T11:19:38.759104Z"
        },
        "colab": {
          "base_uri": "https://localhost:8080/",
          "height": 466
        },
        "hidden": true,
        "id": "dx5AO9Qxf9Rn",
        "outputId": "f5026c66-ae83-4639-a050-c5af73458c38"
      },
      "outputs": [
        {
          "output_type": "execute_result",
          "data": {
            "text/plain": [
              "Text(0, 0.5, 'Comprimento petalas')"
            ]
          },
          "metadata": {},
          "execution_count": 4
        },
        {
          "output_type": "display_data",
          "data": {
            "text/plain": [
              "<Figure size 640x480 with 1 Axes>"
            ],
            "image/png": "[encoded data removed]"
          },
          "metadata": {}
        }
      ],
      "source": [
        "plt.scatter(x_train,y_train)\n",
        "plt.xlabel('Comprimento sepalas')\n",
        "plt.ylabel('Comprimento petalas')"
      ]
    },
    {
      "cell_type": "markdown",
      "metadata": {
        "heading_collapsed": true,
        "id": "poW81teqf9Rr"
      },
      "source": [
        "## Modelo da rede"
      ]
    },
    {
      "cell_type": "markdown",
      "metadata": {
        "hidden": true,
        "id": "QXFLlJ0_f9Rt"
      },
      "source": [
        "### Reta de ajuste"
      ]
    },
    {
      "cell_type": "markdown",
      "metadata": {
        "hidden": true,
        "id": "s7JuPXysf9Rt"
      },
      "source": [
        "A equação da reta no plano necessita de dois parâmetros, aqui denominados $w_0$ (*bias*) e inclinação $w_1$. Veja figura:\n",
        "\n",
        "![alt text](https://raw.githubusercontent.com/vcasadei/images/master/linhareta.png)\n",
        "\n",
        "A reta de ajuste será dada por:\n",
        "\n",
        "$$ \\hat{y} = w_0 + w_1 x $$\n",
        "\n",
        "onde\n",
        "* $w_1$ é o coeficiente angular da reta e\n",
        "* $w_0$ é a interseção do eixo vertical quando x é igual a zero, também denominado de *bias*.\n",
        "* $x$ é a variável de entrada (comprimento das sépalas) e\n",
        "* $\\hat{y}$ é a predição (comprimento estimado das pétalas)."
      ]
    },
    {
      "cell_type": "markdown",
      "metadata": {
        "hidden": true,
        "id": "hwin_xPff9Ru"
      },
      "source": [
        "### Linear Regression Model"
      ]
    },
    {
      "cell_type": "markdown",
      "metadata": {
        "hidden": true,
        "id": "c7ilOLnkf9Rw"
      },
      "source": [
        "![alt text](https://raw.githubusercontent.com/vcasadei/images/master/RegressaoLinearNeuronio.png)"
      ]
    },
    {
      "cell_type": "markdown",
      "metadata": {
        "hidden": true,
        "id": "H0CzMB91f9Rx"
      },
      "source": [
        "### Formulação matricial do neurônio"
      ]
    },
    {
      "cell_type": "markdown",
      "metadata": {
        "hidden": true,
        "id": "-wWz_wpYf9Ry"
      },
      "source": [
        "* $\\mathbf{w} = [w_0 \\ w_1]$ é vetor linha de parâmetros e\n",
        "* $\\mathbf{x} = [1 \\ x_0] $ é vetor linha de uma amostra (com *bias*).\n",
        "\n",
        "$$ \\hat{y} = 1 w_0 + x_0 w_1 $$\n",
        "\n",
        "$$ [\\hat{y}] = [1 \\ x_0] \\begin{bmatrix} w_0 \\\\ w_1 \\end{bmatrix} $$\n",
        "\n",
        "$$ \\mathbf{\\hat{y}} = \\mathbf{x} \\mathbf{w^T} $$"
      ]
    },
    {
      "cell_type": "markdown",
      "metadata": {
        "hidden": true,
        "id": "rQ1lc-dYf9Rz"
      },
      "source": [
        "### Fazendo o predict de várias amostras"
      ]
    },
    {
      "cell_type": "markdown",
      "metadata": {
        "hidden": true,
        "id": "fh068Clrf9R0"
      },
      "source": [
        "$$ \\begin{matrix}\n",
        "\\begin{bmatrix}\n",
        "\\hat{y}_0\\\\\n",
        "\\hat{y}_1\\\\\n",
        "\\\\\n",
        "\\hat{y}_{M-1}\n",
        "\\end{bmatrix} &=& \\begin{bmatrix}\n",
        "1 & x_0 \\\\\n",
        "1 & x_1\\\\\n",
        "\\\\\n",
        "1 & x_{M-1} \\\\\n",
        "\\end{bmatrix}\n",
        "&\n",
        "\\begin{bmatrix}\n",
        "w_0\\\\\n",
        "w_1\n",
        "\\end{bmatrix} \\\\\n",
        "(M,1) & & (M,2) & (2,1) \\\\\n",
        "\\end{matrix} $$"
      ]
    },
    {
      "cell_type": "markdown",
      "metadata": {
        "hidden": true,
        "id": "jjSchAsZf9R2"
      },
      "source": [
        "### Preenchendo x com coluna de 1's para bias"
      ]
    },
    {
      "cell_type": "code",
      "execution_count": 11,
      "metadata": {
        "ExecuteTime": {
          "end_time": "2017-10-08T11:19:39.135089Z",
          "start_time": "2017-10-08T11:19:39.129385Z"
        },
        "hidden": true,
        "id": "plZEY5-tf9R2"
      },
      "outputs": [],
      "source": [
        "x_train_bias = np.hstack([np.ones(shape=(n_samples,1)), x_train])"
      ]
    },
    {
      "cell_type": "code",
      "execution_count": 12,
      "metadata": {
        "colab": {
          "base_uri": "https://localhost:8080/"
        },
        "id": "tXYx3JdMf9R6",
        "outputId": "0e1af6bf-0afc-4f8e-b6d3-dd99d9c995e6"
      },
      "outputs": [
        {
          "output_type": "execute_result",
          "data": {
            "text/plain": [
              "array([[1.        , 1.        ],\n",
              "       [1.        , 0.71428571],\n",
              "       [1.        , 0.95238095],\n",
              "       [1.        , 0.28571429],\n",
              "       [1.        , 0.76190476],\n",
              "       [1.        , 0.38095238],\n",
              "       [1.        , 0.66666667],\n",
              "       [1.        , 0.        ],\n",
              "       [1.        , 0.80952381],\n",
              "       [1.        , 0.14285714],\n",
              "       [1.        , 0.04761905],\n",
              "       [1.        , 0.47619048],\n",
              "       [1.        , 0.52380952],\n",
              "       [1.        , 0.57142857],\n",
              "       [1.        , 0.33333333],\n",
              "       [1.        , 0.85714286],\n",
              "       [1.        , 0.33333333],\n",
              "       [1.        , 0.42857143],\n",
              "       [1.        , 0.61904762],\n",
              "       [1.        , 0.33333333],\n",
              "       [1.        , 0.47619048],\n",
              "       [1.        , 0.57142857],\n",
              "       [1.        , 0.66666667],\n",
              "       [1.        , 0.57142857],\n",
              "       [1.        , 0.71428571],\n",
              "       [1.        , 0.80952381],\n",
              "       [1.        , 0.9047619 ],\n",
              "       [1.        , 0.85714286],\n",
              "       [1.        , 0.52380952],\n",
              "       [1.        , 0.38095238],\n",
              "       [1.        , 0.28571429],\n",
              "       [1.        , 0.28571429],\n",
              "       [1.        , 0.42857143],\n",
              "       [1.        , 0.52380952],\n",
              "       [1.        , 0.23809524],\n",
              "       [1.        , 0.52380952],\n",
              "       [1.        , 0.85714286],\n",
              "       [1.        , 0.66666667],\n",
              "       [1.        , 0.33333333],\n",
              "       [1.        , 0.28571429],\n",
              "       [1.        , 0.28571429],\n",
              "       [1.        , 0.57142857],\n",
              "       [1.        , 0.42857143],\n",
              "       [1.        , 0.04761905],\n",
              "       [1.        , 0.33333333],\n",
              "       [1.        , 0.38095238],\n",
              "       [1.        , 0.38095238],\n",
              "       [1.        , 0.61904762],\n",
              "       [1.        , 0.0952381 ],\n",
              "       [1.        , 0.38095238]])"
            ]
          },
          "metadata": {},
          "execution_count": 12
        }
      ],
      "source": [
        "x_train_bias"
      ]
    },
    {
      "cell_type": "markdown",
      "metadata": {
        "hidden": true,
        "id": "GOtS_8OSf9SC"
      },
      "source": [
        "### Classe com o modelo da rede"
      ]
    },
    {
      "cell_type": "code",
      "execution_count": 13,
      "metadata": {
        "ExecuteTime": {
          "end_time": "2017-10-08T11:19:39.143879Z",
          "start_time": "2017-10-08T11:19:39.137134Z"
        },
        "hidden": true,
        "id": "aKLVIQUtf9SD"
      },
      "outputs": [],
      "source": [
        "class Net():\n",
        "    def __init__(self, n_in, n_out):\n",
        "        self.w = np.random.uniform(-0.1,0.1,(n_out,n_in)) #inicialização dos parâmetros\n",
        "\n",
        "    def forward(self, x_bias):\n",
        "        return x_bias.dot(self.w.T)"
      ]
    },
    {
      "cell_type": "markdown",
      "metadata": {
        "hidden": true,
        "id": "0j0hN9l_f9SH"
      },
      "source": [
        "### Criando a rede, instanciando o objeto model"
      ]
    },
    {
      "cell_type": "code",
      "execution_count": 14,
      "metadata": {
        "ExecuteTime": {
          "end_time": "2017-10-08T11:19:39.151717Z",
          "start_time": "2017-10-08T11:19:39.146858Z"
        },
        "hidden": true,
        "id": "5o5Zkqn5f9SI"
      },
      "outputs": [],
      "source": [
        "model = Net(2,1) # duas entradas (1 + x0) e uma saída y_pred"
      ]
    },
    {
      "cell_type": "markdown",
      "metadata": {
        "hidden": true,
        "id": "F3yolUOGf9SL"
      },
      "source": [
        "### Testando o predict da rede (mesmo sem treiná-la)"
      ]
    },
    {
      "cell_type": "code",
      "execution_count": 15,
      "metadata": {
        "ExecuteTime": {
          "end_time": "2017-10-08T11:19:39.162189Z",
          "start_time": "2017-10-08T11:19:39.156018Z"
        },
        "colab": {
          "base_uri": "https://localhost:8080/"
        },
        "hidden": true,
        "id": "BzkEurfof9SN",
        "outputId": "4fbb6477-e026-4f01-cbdb-349dc0914549"
      },
      "outputs": [
        {
          "output_type": "execute_result",
          "data": {
            "text/plain": [
              "array([[-0.05100507],\n",
              "       [-0.01216805],\n",
              "       [ 0.02717522],\n",
              "       [-0.01732928]])"
            ]
          },
          "metadata": {},
          "execution_count": 15
        }
      ],
      "source": [
        "xin = np.random.randn(4,2) # 4 amostras, 2 entradas (1 + x0)\n",
        "ypred = model.forward(xin)\n",
        "ypred"
      ]
    },
    {
      "cell_type": "markdown",
      "metadata": {
        "heading_collapsed": true,
        "id": "edoSiy--f9SS"
      },
      "source": [
        "## Treinamento via gradiente descendente"
      ]
    },
    {
      "cell_type": "markdown",
      "metadata": {
        "hidden": true,
        "id": "SnkXXFref9ST"
      },
      "source": [
        "Função de perda:\n",
        "$$ J(\\hat{y_i},y_i) = \\frac{1}{M} \\sum_{i=0}^{M-1} (\\hat{y_i} - y_i)^2 $$"
      ]
    },
    {
      "cell_type": "markdown",
      "metadata": {
        "ExecuteTime": {
          "end_time": "2017-10-05T14:05:06.244776",
          "start_time": "2017-10-05T14:05:06.240743"
        },
        "hidden": true,
        "id": "6W5QcPwUf9SU"
      },
      "source": [
        "Gradiente:\n",
        "$$  \\mathbf{\\nabla{J_w}} = \\frac{2}{M}\\mathbf{x^T}(\\mathbf{x w^T} - \\mathbf{y}) $$"
      ]
    },
    {
      "cell_type": "markdown",
      "metadata": {
        "ExecuteTime": {
          "end_time": "2017-10-05T14:06:17.929718",
          "start_time": "2017-10-05T14:06:17.925519"
        },
        "hidden": true,
        "id": "6OoQuuvAf9SU"
      },
      "source": [
        "Atualização dos parâmetros pelo gradiente descendente:\n",
        "$$ \\mathbf{w} = \\mathbf{w} − \\eta (\\mathbf{\\nabla J_w})^T $$"
      ]
    },
    {
      "cell_type": "markdown",
      "metadata": {
        "hidden": true,
        "id": "YM0fEnAdf9SW"
      },
      "source": [
        "### Laço de treinamento"
      ]
    },
    {
      "cell_type": "code",
      "execution_count": 16,
      "metadata": {
        "ExecuteTime": {
          "end_time": "2017-10-08T11:19:39.183784Z",
          "start_time": "2017-10-08T11:19:39.165347Z"
        },
        "colab": {
          "base_uri": "https://localhost:8080/"
        },
        "hidden": true,
        "id": "BiCGgqp6f9SX",
        "outputId": "f1f55b67-84ef-4783-873c-0a5bfbfe6a9e",
        "scrolled": false
      },
      "outputs": [
        {
          "output_type": "stream",
          "name": "stdout",
          "text": [
            "Epoch[1/100], loss: 0.339831\n",
            "Epoch[2/100], loss: 0.050684\n",
            "Epoch[3/100], loss: 0.031016\n",
            "Epoch[4/100], loss: 0.029003\n",
            "Epoch[5/100], loss: 0.028210\n",
            "Epoch[6/100], loss: 0.027556\n",
            "Epoch[7/100], loss: 0.026968\n",
            "Epoch[8/100], loss: 0.026434\n",
            "Epoch[9/100], loss: 0.025949\n",
            "Epoch[10/100], loss: 0.025509\n",
            "Epoch[11/100], loss: 0.025109\n",
            "Epoch[12/100], loss: 0.024746\n",
            "Epoch[13/100], loss: 0.024417\n",
            "Epoch[14/100], loss: 0.024118\n",
            "Epoch[15/100], loss: 0.023846\n",
            "Epoch[16/100], loss: 0.023600\n",
            "Epoch[17/100], loss: 0.023376\n",
            "Epoch[18/100], loss: 0.023173\n",
            "Epoch[19/100], loss: 0.022988\n",
            "Epoch[20/100], loss: 0.022821\n",
            "Epoch[21/100], loss: 0.022669\n",
            "Epoch[22/100], loss: 0.022531\n",
            "Epoch[23/100], loss: 0.022405\n",
            "Epoch[24/100], loss: 0.022291\n",
            "Epoch[25/100], loss: 0.022188\n",
            "Epoch[26/100], loss: 0.022094\n",
            "Epoch[27/100], loss: 0.022009\n",
            "Epoch[28/100], loss: 0.021932\n",
            "Epoch[29/100], loss: 0.021862\n",
            "Epoch[30/100], loss: 0.021798\n",
            "Epoch[31/100], loss: 0.021740\n",
            "Epoch[32/100], loss: 0.021687\n",
            "Epoch[33/100], loss: 0.021640\n",
            "Epoch[34/100], loss: 0.021596\n",
            "Epoch[35/100], loss: 0.021557\n",
            "Epoch[36/100], loss: 0.021521\n",
            "Epoch[37/100], loss: 0.021489\n",
            "Epoch[38/100], loss: 0.021460\n",
            "Epoch[39/100], loss: 0.021433\n",
            "Epoch[40/100], loss: 0.021409\n",
            "Epoch[41/100], loss: 0.021387\n",
            "Epoch[42/100], loss: 0.021367\n",
            "Epoch[43/100], loss: 0.021348\n",
            "Epoch[44/100], loss: 0.021332\n",
            "Epoch[45/100], loss: 0.021317\n",
            "Epoch[46/100], loss: 0.021303\n",
            "Epoch[47/100], loss: 0.021291\n",
            "Epoch[48/100], loss: 0.021280\n",
            "Epoch[49/100], loss: 0.021270\n",
            "Epoch[50/100], loss: 0.021260\n",
            "Epoch[51/100], loss: 0.021252\n",
            "Epoch[52/100], loss: 0.021244\n",
            "Epoch[53/100], loss: 0.021238\n",
            "Epoch[54/100], loss: 0.021231\n",
            "Epoch[55/100], loss: 0.021226\n",
            "Epoch[56/100], loss: 0.021220\n",
            "Epoch[57/100], loss: 0.021216\n",
            "Epoch[58/100], loss: 0.021211\n",
            "Epoch[59/100], loss: 0.021208\n",
            "Epoch[60/100], loss: 0.021204\n",
            "Epoch[61/100], loss: 0.021201\n",
            "Epoch[62/100], loss: 0.021198\n",
            "Epoch[63/100], loss: 0.021195\n",
            "Epoch[64/100], loss: 0.021193\n",
            "Epoch[65/100], loss: 0.021191\n",
            "Epoch[66/100], loss: 0.021189\n",
            "Epoch[67/100], loss: 0.021187\n",
            "Epoch[68/100], loss: 0.021185\n",
            "Epoch[69/100], loss: 0.021184\n",
            "Epoch[70/100], loss: 0.021183\n",
            "Epoch[71/100], loss: 0.021181\n",
            "Epoch[72/100], loss: 0.021180\n",
            "Epoch[73/100], loss: 0.021179\n",
            "Epoch[74/100], loss: 0.021178\n",
            "Epoch[75/100], loss: 0.021178\n",
            "Epoch[76/100], loss: 0.021177\n",
            "Epoch[77/100], loss: 0.021176\n",
            "Epoch[78/100], loss: 0.021176\n",
            "Epoch[79/100], loss: 0.021175\n",
            "Epoch[80/100], loss: 0.021174\n",
            "Epoch[81/100], loss: 0.021174\n",
            "Epoch[82/100], loss: 0.021174\n",
            "Epoch[83/100], loss: 0.021173\n",
            "Epoch[84/100], loss: 0.021173\n",
            "Epoch[85/100], loss: 0.021173\n",
            "Epoch[86/100], loss: 0.021172\n",
            "Epoch[87/100], loss: 0.021172\n",
            "Epoch[88/100], loss: 0.021172\n",
            "Epoch[89/100], loss: 0.021172\n",
            "Epoch[90/100], loss: 0.021171\n",
            "Epoch[91/100], loss: 0.021171\n",
            "Epoch[92/100], loss: 0.021171\n",
            "Epoch[93/100], loss: 0.021171\n",
            "Epoch[94/100], loss: 0.021171\n",
            "Epoch[95/100], loss: 0.021171\n",
            "Epoch[96/100], loss: 0.021170\n",
            "Epoch[97/100], loss: 0.021170\n",
            "Epoch[98/100], loss: 0.021170\n",
            "Epoch[99/100], loss: 0.021170\n",
            "Epoch[100/100], loss: 0.021170\n"
          ]
        }
      ],
      "source": [
        "num_epochs = 100\n",
        "learning_rate = 0.5\n",
        "for epoch in range(num_epochs):\n",
        "\n",
        "    # forward - predict\n",
        "    y_pred = model.forward(x_train_bias)\n",
        "\n",
        "    #loss cálculo da função de perda\n",
        "    loss = np.square(y_pred - y_train).mean()\n",
        "\n",
        "    # cálculo do gradiente pelas derivadas parciais\n",
        "    w_grad = (2.0/n_samples) * (x_train_bias.T).dot(x_train_bias.dot(model.w.T) - y_train)\n",
        "\n",
        "    # gradiente descendente\n",
        "    model.w = model.w - learning_rate * w_grad.T\n",
        "\n",
        "    # verbose\n",
        "    if (epoch+1) % 1 == 0:\n",
        "        print('Epoch[{}/{}], loss: {:.6f}'\n",
        "              .format(epoch+1, num_epochs, loss))"
      ]
    },
    {
      "cell_type": "markdown",
      "metadata": {
        "heading_collapsed": true,
        "id": "1QGlDZABf9Sd"
      },
      "source": [
        "## Avaliação"
      ]
    },
    {
      "cell_type": "markdown",
      "metadata": {
        "hidden": true,
        "id": "6TIimlCmf9Si"
      },
      "source": [
        "### Predict"
      ]
    },
    {
      "cell_type": "code",
      "execution_count": 17,
      "metadata": {
        "ExecuteTime": {
          "end_time": "2017-10-08T11:19:39.408412Z",
          "start_time": "2017-10-08T11:19:39.186021Z"
        },
        "colab": {
          "base_uri": "https://localhost:8080/",
          "height": 0
        },
        "hidden": true,
        "id": "ToXwbrlsf9Sk",
        "outputId": "e7f7d7fd-b1a0-40cf-8375-16f5ae13d985"
      },
      "outputs": [
        {
          "output_type": "execute_result",
          "data": {
            "text/plain": [
              "[<matplotlib.lines.Line2D at 0x798ea4121bd0>]"
            ]
          },
          "metadata": {},
          "execution_count": 17
        },
        {
          "output_type": "display_data",
          "data": {
            "text/plain": [
              "<Figure size 640x480 with 1 Axes>"
            ],
            "image/png": "[encoded data removed]"
          },
          "metadata": {}
        }
      ],
      "source": [
        "y_pred = model.forward(x_train_bias)\n",
        "plt.plot(x_train, y_train, 'ro', label='Original data')\n",
        "plt.plot(x_train, y_pred, 'kx-', label='Fitting Line')"
      ]
    },
    {
      "cell_type": "markdown",
      "metadata": {
        "hidden": true,
        "id": "kQ1hGdItf9So"
      },
      "source": [
        "### Parâmetros treinados"
      ]
    },
    {
      "cell_type": "code",
      "execution_count": 18,
      "metadata": {
        "ExecuteTime": {
          "end_time": "2017-10-08T11:19:39.417569Z",
          "start_time": "2017-10-08T11:19:39.411060Z"
        },
        "colab": {
          "base_uri": "https://localhost:8080/"
        },
        "hidden": true,
        "id": "IcEOxTg9f9Sp",
        "outputId": "209d49dd-be13-48cd-b6f0-83b97922048c"
      },
      "outputs": [
        {
          "output_type": "stream",
          "name": "stdout",
          "text": [
            "[[0.26306045 0.68314988]]\n"
          ]
        }
      ],
      "source": [
        "print(model.w)"
      ]
    },
    {
      "cell_type": "markdown",
      "metadata": {
        "hidden": true,
        "id": "73n0qSOMf9Sr"
      },
      "source": [
        "### Avaliação do modelo"
      ]
    },
    {
      "cell_type": "code",
      "execution_count": 19,
      "metadata": {
        "colab": {
          "base_uri": "https://localhost:8080/"
        },
        "hidden": true,
        "id": "dI2TE8W6f9Ss",
        "outputId": "ecbdaf34-0e98-4385-bf14-b42894237ac2"
      },
      "outputs": [
        {
          "output_type": "execute_result",
          "data": {
            "text/plain": [
              "0.02117008324736041"
            ]
          },
          "metadata": {},
          "execution_count": 19
        }
      ],
      "source": [
        "loss = np.square(y_pred - y_train).mean()\n",
        "loss"
      ]
    },
    {
      "cell_type": "markdown",
      "metadata": {
        "hidden": true,
        "id": "cv6q3ElSf9Sv"
      },
      "source": [
        "### Valor ótimo, solução analítica"
      ]
    },
    {
      "cell_type": "markdown",
      "metadata": {
        "hidden": true,
        "id": "qYgHOaNmf9Sv"
      },
      "source": [
        "$$  \\mathbf{w} =(\\mathbf{x^T} \\mathbf{x})^{−1}\\mathbf{x^T} \\mathbf{y} $$"
      ]
    },
    {
      "cell_type": "code",
      "execution_count": 20,
      "metadata": {
        "ExecuteTime": {
          "end_time": "2017-10-08T11:19:39.432480Z",
          "start_time": "2017-10-08T11:19:39.420006Z"
        },
        "colab": {
          "base_uri": "https://localhost:8080/"
        },
        "hidden": true,
        "id": "OmrggYvmf9Sw",
        "outputId": "05e8e726-a0a2-4da8-ea79-9d3d380b2f24"
      },
      "outputs": [
        {
          "output_type": "stream",
          "name": "stdout",
          "text": [
            "[[0.26134159 0.68646976]]\n"
          ]
        }
      ],
      "source": [
        "x = x_train_bias\n",
        "y = y_train\n",
        "w_opt = (np.linalg.inv((x.T).dot(x)).dot(x.T)).dot(y)\n",
        "print(w_opt.T)"
      ]
    },
    {
      "cell_type": "markdown",
      "metadata": {
        "heading_collapsed": true,
        "id": "2eMOcW8Ff9Sz"
      },
      "source": [
        "# Exercícios"
      ]
    },
    {
      "cell_type": "markdown",
      "metadata": {
        "hidden": true,
        "id": "tCKeOB1-f9S1"
      },
      "source": [
        "## Questões"
      ]
    },
    {
      "cell_type": "markdown",
      "metadata": {
        "hidden": true,
        "id": "c-KyP13vf9S2"
      },
      "source": [
        "**1. Quantos parâmetros são treinados nesse modelo?**\n",
        "\n",
        "Os parâmetros treinados nesse modelo são W0 e W1.\n",
        "\n",
        "**2. Qual é o número de atributos de entrada para a rede?**\n",
        "\n",
        "São 2 atributos: Bias e X.\n",
        "\n",
        "**3. Qual é o número de saídas da rede?**\n",
        "\n",
        "É uma saída.\n",
        "\n",
        "4. Suponha que eu tenha agora 5 mil amostras para fazer a predição. Qual é o shape da matriz de entrada? Qual é o shape do matriz de saída?\n",
        "\n",
        "\n",
        "A shape da **matriz de entrada** é [5000, 2], onde 5000 é a quantidade de dados e 2 são os atributos de entrada: Bias e X.\n",
        "\n",
        "\n",
        "A shape da **matriz de saída** é [5000, 1], onde 5000 é a quantidade de dados e 1 é o atributo de saída: saída do y.\n"
      ]
    },
    {
      "cell_type": "markdown",
      "metadata": {
        "hidden": true,
        "id": "oaj0t2gpf9S3"
      },
      "source": [
        "## Atividades"
      ]
    },
    {
      "cell_type": "markdown",
      "metadata": {
        "hidden": true,
        "id": "pR_fNYurf9S3"
      },
      "source": [
        "1. Modifique o laço do treinamento via gradiente descendente para guardar em uma lista, o valor da perda no final\n",
        "   de cada época. Após o treinamento, plote o valor da perda em função da época.\n",
        "2. Calcule o valor da perda (MSE) da rede com os parâmetros inicializados, sem serem treinados.\n",
        "3. Coloque os valores dos pesos da solução ótima analítica no modelo da rede e calcule o valor da perda (MSE) e\n",
        "   compare com o valor da perda obtida pelo método da otimização via gradiente descendente."
      ]
    },
    {
      "cell_type": "code",
      "source": [
        "# primeira atividade\n",
        "\n",
        "model2 = Net(2,1)\n",
        "losses = []\n",
        "num_epochs = 100\n",
        "learning_rate = 0.5\n",
        "\n",
        "for epoch in range(num_epochs):\n",
        "\n",
        "    # forward - predict\n",
        "    y_pred = model.forward(x_train_bias)\n",
        "\n",
        "    #loss cálculo da função de perda\n",
        "    loss = np.square(y_pred - y_train).mean()\n",
        "    losses.append(loss)\n",
        "\n",
        "    # cálculo do gradiente pelas derivadas parciais\n",
        "    w_grad = (2.0/n_samples) * (x_train_bias.T).dot(x_train_bias.dot(model.w.T) - y_train)\n",
        "\n",
        "    # gradiente descendente\n",
        "    model.w = model.w - learning_rate * w_grad.T\n",
        "\n",
        "    # verbose\n",
        "    if (epoch+1) % 1 == 0:\n",
        "        print('Epoch[{}/{}], loss: {:.6f}'\n",
        "              .format(epoch+1, num_epochs, loss))\n",
        "        print(losses)\n"
      ],
      "metadata": {
        "colab": {
          "base_uri": "https://localhost:8080/"
        },
        "id": "zlHzHvqfVTVG",
        "outputId": "86efbd47-38d2-4d1b-c566-3d5ef4d28a6d"
      },
      "execution_count": 21,
      "outputs": [
        {
          "output_type": "stream",
          "name": "stdout",
          "text": [
            "Epoch[1/100], loss: 0.021170\n",
            "[0.02117008324736041]\n",
            "Epoch[2/100], loss: 0.021170\n",
            "[0.02117008324736041, 0.021170022542859615]\n",
            "Epoch[3/100], loss: 0.021170\n",
            "[0.02117008324736041, 0.021170022542859615, 0.021169967429131697]\n",
            "Epoch[4/100], loss: 0.021170\n",
            "[0.02117008324736041, 0.021170022542859615, 0.021169967429131697, 0.021169917391276757]\n",
            "Epoch[5/100], loss: 0.021170\n",
            "[0.02117008324736041, 0.021170022542859615, 0.021169967429131697, 0.021169917391276757, 0.02116987196181622]\n",
            "Epoch[6/100], loss: 0.021170\n",
            "[0.02117008324736041, 0.021170022542859615, 0.021169967429131697, 0.021169917391276757, 0.02116987196181622, 0.021169830716325458]\n",
            "Epoch[7/100], loss: 0.021170\n",
            "[0.02117008324736041, 0.021170022542859615, 0.021169967429131697, 0.021169917391276757, 0.02116987196181622, 0.021169830716325458, 0.02116979326946853]\n",
            "Epoch[8/100], loss: 0.021170\n",
            "[0.02117008324736041, 0.021170022542859615, 0.021169967429131697, 0.021169917391276757, 0.02116987196181622, 0.021169830716325458, 0.02116979326946853, 0.021169759271398258]\n",
            "Epoch[9/100], loss: 0.021170\n",
            "[0.02117008324736041, 0.021170022542859615, 0.021169967429131697, 0.021169917391276757, 0.02116987196181622, 0.021169830716325458, 0.02116979326946853, 0.021169759271398258, 0.02116972840448773]\n",
            "Epoch[10/100], loss: 0.021170\n",
            "[0.02117008324736041, 0.021170022542859615, 0.021169967429131697, 0.021169917391276757, 0.02116987196181622, 0.021169830716325458, 0.02116979326946853, 0.021169759271398258, 0.02116972840448773, 0.021169700380362887]\n",
            "Epoch[11/100], loss: 0.021170\n",
            "[0.02117008324736041, 0.021170022542859615, 0.021169967429131697, 0.021169917391276757, 0.02116987196181622, 0.021169830716325458, 0.02116979326946853, 0.021169759271398258, 0.02116972840448773, 0.021169700380362887, 0.021169674937208404]\n",
            "Epoch[12/100], loss: 0.021170\n",
            "[0.02117008324736041, 0.021170022542859615, 0.021169967429131697, 0.021169917391276757, 0.02116987196181622, 0.021169830716325458, 0.02116979326946853, 0.021169759271398258, 0.02116972840448773, 0.021169700380362887, 0.021169674937208404, 0.021169651837321654]\n",
            "Epoch[13/100], loss: 0.021170\n",
            "[0.02117008324736041, 0.021170022542859615, 0.021169967429131697, 0.021169917391276757, 0.02116987196181622, 0.021169830716325458, 0.02116979326946853, 0.021169759271398258, 0.02116972840448773, 0.021169700380362887, 0.021169674937208404, 0.021169651837321654, 0.021169630864891997]\n",
            "Epoch[14/100], loss: 0.021170\n",
            "[0.02117008324736041, 0.021170022542859615, 0.021169967429131697, 0.021169917391276757, 0.02116987196181622, 0.021169830716325458, 0.02116979326946853, 0.021169759271398258, 0.02116972840448773, 0.021169700380362887, 0.021169674937208404, 0.021169651837321654, 0.021169630864891997, 0.021169611823984528]\n",
            "Epoch[15/100], loss: 0.021170\n",
            "[0.02117008324736041, 0.021170022542859615, 0.021169967429131697, 0.021169917391276757, 0.02116987196181622, 0.021169830716325458, 0.02116979326946853, 0.021169759271398258, 0.02116972840448773, 0.021169700380362887, 0.021169674937208404, 0.021169651837321654, 0.021169630864891997, 0.021169611823984528, 0.021169594536709625]\n",
            "Epoch[16/100], loss: 0.021170\n",
            "[0.02117008324736041, 0.021170022542859615, 0.021169967429131697, 0.021169917391276757, 0.02116987196181622, 0.021169830716325458, 0.02116979326946853, 0.021169759271398258, 0.02116972840448773, 0.021169700380362887, 0.021169674937208404, 0.021169651837321654, 0.021169630864891997, 0.021169611823984528, 0.021169594536709625, 0.021169578841560947]\n",
            "Epoch[17/100], loss: 0.021170\n",
            "[0.02117008324736041, 0.021170022542859615, 0.021169967429131697, 0.021169917391276757, 0.02116987196181622, 0.021169830716325458, 0.02116979326946853, 0.021169759271398258, 0.02116972840448773, 0.021169700380362887, 0.021169674937208404, 0.021169651837321654, 0.021169630864891997, 0.021169611823984528, 0.021169594536709625, 0.021169578841560947, 0.021169564591906585]\n",
            "Epoch[18/100], loss: 0.021170\n",
            "[0.02117008324736041, 0.021170022542859615, 0.021169967429131697, 0.021169917391276757, 0.02116987196181622, 0.021169830716325458, 0.02116979326946853, 0.021169759271398258, 0.02116972840448773, 0.021169700380362887, 0.021169674937208404, 0.021169651837321654, 0.021169630864891997, 0.021169611823984528, 0.021169594536709625, 0.021169578841560947, 0.021169564591906585, 0.021169551654619197]\n",
            "Epoch[19/100], loss: 0.021170\n",
            "[0.02117008324736041, 0.021170022542859615, 0.021169967429131697, 0.021169917391276757, 0.02116987196181622, 0.021169830716325458, 0.02116979326946853, 0.021169759271398258, 0.02116972840448773, 0.021169700380362887, 0.021169674937208404, 0.021169651837321654, 0.021169630864891997, 0.021169611823984528, 0.021169594536709625, 0.021169578841560947, 0.021169564591906585, 0.021169551654619197, 0.021169539908832174]\n",
            "Epoch[20/100], loss: 0.021170\n",
            "[0.02117008324736041, 0.021170022542859615, 0.021169967429131697, 0.021169917391276757, 0.02116987196181622, 0.021169830716325458, 0.02116979326946853, 0.021169759271398258, 0.02116972840448773, 0.021169700380362887, 0.021169674937208404, 0.021169651837321654, 0.021169630864891997, 0.021169611823984528, 0.021169594536709625, 0.021169578841560947, 0.021169564591906585, 0.021169551654619197, 0.021169539908832174, 0.02116952924481054]\n",
            "Epoch[21/100], loss: 0.021170\n",
            "[0.02117008324736041, 0.021170022542859615, 0.021169967429131697, 0.021169917391276757, 0.02116987196181622, 0.021169830716325458, 0.02116979326946853, 0.021169759271398258, 0.02116972840448773, 0.021169700380362887, 0.021169674937208404, 0.021169651837321654, 0.021169630864891997, 0.021169611823984528, 0.021169594536709625, 0.021169578841560947, 0.021169564591906585, 0.021169551654619197, 0.021169539908832174, 0.02116952924481054, 0.02116951956292568]\n",
            "Epoch[22/100], loss: 0.021170\n",
            "[0.02117008324736041, 0.021170022542859615, 0.021169967429131697, 0.021169917391276757, 0.02116987196181622, 0.021169830716325458, 0.02116979326946853, 0.021169759271398258, 0.02116972840448773, 0.021169700380362887, 0.021169674937208404, 0.021169651837321654, 0.021169630864891997, 0.021169611823984528, 0.021169594536709625, 0.021169578841560947, 0.021169564591906585, 0.021169551654619197, 0.021169539908832174, 0.02116952924481054, 0.02116951956292568, 0.021169510772724606]\n",
            "Epoch[23/100], loss: 0.021170\n",
            "[0.02117008324736041, 0.021170022542859615, 0.021169967429131697, 0.021169917391276757, 0.02116987196181622, 0.021169830716325458, 0.02116979326946853, 0.021169759271398258, 0.02116972840448773, 0.021169700380362887, 0.021169674937208404, 0.021169651837321654, 0.021169630864891997, 0.021169611823984528, 0.021169594536709625, 0.021169578841560947, 0.021169564591906585, 0.021169551654619197, 0.021169539908832174, 0.02116952924481054, 0.02116951956292568, 0.021169510772724606, 0.021169502792084894]\n",
            "Epoch[24/100], loss: 0.021169\n",
            "[0.02117008324736041, 0.021170022542859615, 0.021169967429131697, 0.021169917391276757, 0.02116987196181622, 0.021169830716325458, 0.02116979326946853, 0.021169759271398258, 0.02116972840448773, 0.021169700380362887, 0.021169674937208404, 0.021169651837321654, 0.021169630864891997, 0.021169611823984528, 0.021169594536709625, 0.021169578841560947, 0.021169564591906585, 0.021169551654619197, 0.021169539908832174, 0.02116952924481054, 0.02116951956292568, 0.021169510772724606, 0.021169502792084894, 0.021169495546447415]\n",
            "Epoch[25/100], loss: 0.021169\n",
            "[0.02117008324736041, 0.021170022542859615, 0.021169967429131697, 0.021169917391276757, 0.02116987196181622, 0.021169830716325458, 0.02116979326946853, 0.021169759271398258, 0.02116972840448773, 0.021169700380362887, 0.021169674937208404, 0.021169651837321654, 0.021169630864891997, 0.021169611823984528, 0.021169594536709625, 0.021169578841560947, 0.021169564591906585, 0.021169551654619197, 0.021169539908832174, 0.02116952924481054, 0.02116951956292568, 0.021169510772724606, 0.021169502792084894, 0.021169495546447415, 0.021169488968119824]\n",
            "Epoch[26/100], loss: 0.021169\n",
            "[0.02117008324736041, 0.021170022542859615, 0.021169967429131697, 0.021169917391276757, 0.02116987196181622, 0.021169830716325458, 0.02116979326946853, 0.021169759271398258, 0.02116972840448773, 0.021169700380362887, 0.021169674937208404, 0.021169651837321654, 0.021169630864891997, 0.021169611823984528, 0.021169594536709625, 0.021169578841560947, 0.021169564591906585, 0.021169551654619197, 0.021169539908832174, 0.02116952924481054, 0.02116951956292568, 0.021169510772724606, 0.021169502792084894, 0.021169495546447415, 0.021169488968119824, 0.0211694829956441]\n",
            "Epoch[27/100], loss: 0.021169\n",
            "[0.02117008324736041, 0.021170022542859615, 0.021169967429131697, 0.021169917391276757, 0.02116987196181622, 0.021169830716325458, 0.02116979326946853, 0.021169759271398258, 0.02116972840448773, 0.021169700380362887, 0.021169674937208404, 0.021169651837321654, 0.021169630864891997, 0.021169611823984528, 0.021169594536709625, 0.021169578841560947, 0.021169564591906585, 0.021169551654619197, 0.021169539908832174, 0.02116952924481054, 0.02116951956292568, 0.021169510772724606, 0.021169502792084894, 0.021169495546447415, 0.021169488968119824, 0.0211694829956441, 0.021169477573222416]\n",
            "Epoch[28/100], loss: 0.021169\n",
            "[0.02117008324736041, 0.021170022542859615, 0.021169967429131697, 0.021169917391276757, 0.02116987196181622, 0.021169830716325458, 0.02116979326946853, 0.021169759271398258, 0.02116972840448773, 0.021169700380362887, 0.021169674937208404, 0.021169651837321654, 0.021169630864891997, 0.021169611823984528, 0.021169594536709625, 0.021169578841560947, 0.021169564591906585, 0.021169551654619197, 0.021169539908832174, 0.02116952924481054, 0.02116951956292568, 0.021169510772724606, 0.021169502792084894, 0.021169495546447415, 0.021169488968119824, 0.0211694829956441, 0.021169477573222416, 0.021169472650195795]\n",
            "Epoch[29/100], loss: 0.021169\n",
            "[0.02117008324736041, 0.021170022542859615, 0.021169967429131697, 0.021169917391276757, 0.02116987196181622, 0.021169830716325458, 0.02116979326946853, 0.021169759271398258, 0.02116972840448773, 0.021169700380362887, 0.021169674937208404, 0.021169651837321654, 0.021169630864891997, 0.021169611823984528, 0.021169594536709625, 0.021169578841560947, 0.021169564591906585, 0.021169551654619197, 0.021169539908832174, 0.02116952924481054, 0.02116951956292568, 0.021169510772724606, 0.021169502792084894, 0.021169495546447415, 0.021169488968119824, 0.0211694829956441, 0.021169477573222416, 0.021169472650195795, 0.02116946818057086]\n",
            "Epoch[30/100], loss: 0.021169\n",
            "[0.02117008324736041, 0.021170022542859615, 0.021169967429131697, 0.021169917391276757, 0.02116987196181622, 0.021169830716325458, 0.02116979326946853, 0.021169759271398258, 0.02116972840448773, 0.021169700380362887, 0.021169674937208404, 0.021169651837321654, 0.021169630864891997, 0.021169611823984528, 0.021169594536709625, 0.021169578841560947, 0.021169564591906585, 0.021169551654619197, 0.021169539908832174, 0.02116952924481054, 0.02116951956292568, 0.021169510772724606, 0.021169502792084894, 0.021169495546447415, 0.021169488968119824, 0.0211694829956441, 0.021169477573222416, 0.021169472650195795, 0.02116946818057086, 0.021169464122590173]\n",
            "Epoch[31/100], loss: 0.021169\n",
            "[0.02117008324736041, 0.021170022542859615, 0.021169967429131697, 0.021169917391276757, 0.02116987196181622, 0.021169830716325458, 0.02116979326946853, 0.021169759271398258, 0.02116972840448773, 0.021169700380362887, 0.021169674937208404, 0.021169651837321654, 0.021169630864891997, 0.021169611823984528, 0.021169594536709625, 0.021169578841560947, 0.021169564591906585, 0.021169551654619197, 0.021169539908832174, 0.02116952924481054, 0.02116951956292568, 0.021169510772724606, 0.021169502792084894, 0.021169495546447415, 0.021169488968119824, 0.0211694829956441, 0.021169477573222416, 0.021169472650195795, 0.02116946818057086, 0.021169464122590173, 0.021169460438342034]\n",
            "Epoch[32/100], loss: 0.021169\n",
            "[0.02117008324736041, 0.021170022542859615, 0.021169967429131697, 0.021169917391276757, 0.02116987196181622, 0.021169830716325458, 0.02116979326946853, 0.021169759271398258, 0.02116972840448773, 0.021169700380362887, 0.021169674937208404, 0.021169651837321654, 0.021169630864891997, 0.021169611823984528, 0.021169594536709625, 0.021169578841560947, 0.021169564591906585, 0.021169551654619197, 0.021169539908832174, 0.02116952924481054, 0.02116951956292568, 0.021169510772724606, 0.021169502792084894, 0.021169495546447415, 0.021169488968119824, 0.0211694829956441, 0.021169477573222416, 0.021169472650195795, 0.02116946818057086, 0.021169464122590173, 0.021169460438342034, 0.021169457093406386]\n",
            "Epoch[33/100], loss: 0.021169\n",
            "[0.02117008324736041, 0.021170022542859615, 0.021169967429131697, 0.021169917391276757, 0.02116987196181622, 0.021169830716325458, 0.02116979326946853, 0.021169759271398258, 0.02116972840448773, 0.021169700380362887, 0.021169674937208404, 0.021169651837321654, 0.021169630864891997, 0.021169611823984528, 0.021169594536709625, 0.021169578841560947, 0.021169564591906585, 0.021169551654619197, 0.021169539908832174, 0.02116952924481054, 0.02116951956292568, 0.021169510772724606, 0.021169502792084894, 0.021169495546447415, 0.021169488968119824, 0.0211694829956441, 0.021169477573222416, 0.021169472650195795, 0.02116946818057086, 0.021169464122590173, 0.021169460438342034, 0.021169457093406386, 0.021169454056533147]\n",
            "Epoch[34/100], loss: 0.021169\n",
            "[0.02117008324736041, 0.021170022542859615, 0.021169967429131697, 0.021169917391276757, 0.02116987196181622, 0.021169830716325458, 0.02116979326946853, 0.021169759271398258, 0.02116972840448773, 0.021169700380362887, 0.021169674937208404, 0.021169651837321654, 0.021169630864891997, 0.021169611823984528, 0.021169594536709625, 0.021169578841560947, 0.021169564591906585, 0.021169551654619197, 0.021169539908832174, 0.02116952924481054, 0.02116951956292568, 0.021169510772724606, 0.021169502792084894, 0.021169495546447415, 0.021169488968119824, 0.0211694829956441, 0.021169477573222416, 0.021169472650195795, 0.02116946818057086, 0.021169464122590173, 0.021169460438342034, 0.021169457093406386, 0.021169454056533147, 0.021169451299350356]\n",
            "Epoch[35/100], loss: 0.021169\n",
            "[0.02117008324736041, 0.021170022542859615, 0.021169967429131697, 0.021169917391276757, 0.02116987196181622, 0.021169830716325458, 0.02116979326946853, 0.021169759271398258, 0.02116972840448773, 0.021169700380362887, 0.021169674937208404, 0.021169651837321654, 0.021169630864891997, 0.021169611823984528, 0.021169594536709625, 0.021169578841560947, 0.021169564591906585, 0.021169551654619197, 0.021169539908832174, 0.02116952924481054, 0.02116951956292568, 0.021169510772724606, 0.021169502792084894, 0.021169495546447415, 0.021169488968119824, 0.0211694829956441, 0.021169477573222416, 0.021169472650195795, 0.02116946818057086, 0.021169464122590173, 0.021169460438342034, 0.021169457093406386, 0.021169454056533147, 0.021169451299350356, 0.021169448796099024]\n",
            "Epoch[36/100], loss: 0.021169\n",
            "[0.02117008324736041, 0.021170022542859615, 0.021169967429131697, 0.021169917391276757, 0.02116987196181622, 0.021169830716325458, 0.02116979326946853, 0.021169759271398258, 0.02116972840448773, 0.021169700380362887, 0.021169674937208404, 0.021169651837321654, 0.021169630864891997, 0.021169611823984528, 0.021169594536709625, 0.021169578841560947, 0.021169564591906585, 0.021169551654619197, 0.021169539908832174, 0.02116952924481054, 0.02116951956292568, 0.021169510772724606, 0.021169502792084894, 0.021169495546447415, 0.021169488968119824, 0.0211694829956441, 0.021169477573222416, 0.021169472650195795, 0.02116946818057086, 0.021169464122590173, 0.021169460438342034, 0.021169457093406386, 0.021169454056533147, 0.021169451299350356, 0.021169448796099024, 0.021169446523392536]\n",
            "Epoch[37/100], loss: 0.021169\n",
            "[0.02117008324736041, 0.021170022542859615, 0.021169967429131697, 0.021169917391276757, 0.02116987196181622, 0.021169830716325458, 0.02116979326946853, 0.021169759271398258, 0.02116972840448773, 0.021169700380362887, 0.021169674937208404, 0.021169651837321654, 0.021169630864891997, 0.021169611823984528, 0.021169594536709625, 0.021169578841560947, 0.021169564591906585, 0.021169551654619197, 0.021169539908832174, 0.02116952924481054, 0.02116951956292568, 0.021169510772724606, 0.021169502792084894, 0.021169495546447415, 0.021169488968119824, 0.0211694829956441, 0.021169477573222416, 0.021169472650195795, 0.02116946818057086, 0.021169464122590173, 0.021169460438342034, 0.021169457093406386, 0.021169454056533147, 0.021169451299350356, 0.021169448796099024, 0.021169446523392536, 0.021169444459998136]\n",
            "Epoch[38/100], loss: 0.021169\n",
            "[0.02117008324736041, 0.021170022542859615, 0.021169967429131697, 0.021169917391276757, 0.02116987196181622, 0.021169830716325458, 0.02116979326946853, 0.021169759271398258, 0.02116972840448773, 0.021169700380362887, 0.021169674937208404, 0.021169651837321654, 0.021169630864891997, 0.021169611823984528, 0.021169594536709625, 0.021169578841560947, 0.021169564591906585, 0.021169551654619197, 0.021169539908832174, 0.02116952924481054, 0.02116951956292568, 0.021169510772724606, 0.021169502792084894, 0.021169495546447415, 0.021169488968119824, 0.0211694829956441, 0.021169477573222416, 0.021169472650195795, 0.02116946818057086, 0.021169464122590173, 0.021169460438342034, 0.021169457093406386, 0.021169454056533147, 0.021169451299350356, 0.021169448796099024, 0.021169446523392536, 0.021169444459998136, 0.021169442586638568]\n",
            "Epoch[39/100], loss: 0.021169\n",
            "[0.02117008324736041, 0.021170022542859615, 0.021169967429131697, 0.021169917391276757, 0.02116987196181622, 0.021169830716325458, 0.02116979326946853, 0.021169759271398258, 0.02116972840448773, 0.021169700380362887, 0.021169674937208404, 0.021169651837321654, 0.021169630864891997, 0.021169611823984528, 0.021169594536709625, 0.021169578841560947, 0.021169564591906585, 0.021169551654619197, 0.021169539908832174, 0.02116952924481054, 0.02116951956292568, 0.021169510772724606, 0.021169502792084894, 0.021169495546447415, 0.021169488968119824, 0.0211694829956441, 0.021169477573222416, 0.021169472650195795, 0.02116946818057086, 0.021169464122590173, 0.021169460438342034, 0.021169457093406386, 0.021169454056533147, 0.021169451299350356, 0.021169448796099024, 0.021169446523392536, 0.021169444459998136, 0.021169442586638568, 0.021169440885811974]\n",
            "Epoch[40/100], loss: 0.021169\n",
            "[0.02117008324736041, 0.021170022542859615, 0.021169967429131697, 0.021169917391276757, 0.02116987196181622, 0.021169830716325458, 0.02116979326946853, 0.021169759271398258, 0.02116972840448773, 0.021169700380362887, 0.021169674937208404, 0.021169651837321654, 0.021169630864891997, 0.021169611823984528, 0.021169594536709625, 0.021169578841560947, 0.021169564591906585, 0.021169551654619197, 0.021169539908832174, 0.02116952924481054, 0.02116951956292568, 0.021169510772724606, 0.021169502792084894, 0.021169495546447415, 0.021169488968119824, 0.0211694829956441, 0.021169477573222416, 0.021169472650195795, 0.02116946818057086, 0.021169464122590173, 0.021169460438342034, 0.021169457093406386, 0.021169454056533147, 0.021169451299350356, 0.021169448796099024, 0.021169446523392536, 0.021169444459998136, 0.021169442586638568, 0.021169440885811974, 0.021169439341628373]\n",
            "Epoch[41/100], loss: 0.021169\n",
            "[0.02117008324736041, 0.021170022542859615, 0.021169967429131697, 0.021169917391276757, 0.02116987196181622, 0.021169830716325458, 0.02116979326946853, 0.021169759271398258, 0.02116972840448773, 0.021169700380362887, 0.021169674937208404, 0.021169651837321654, 0.021169630864891997, 0.021169611823984528, 0.021169594536709625, 0.021169578841560947, 0.021169564591906585, 0.021169551654619197, 0.021169539908832174, 0.02116952924481054, 0.02116951956292568, 0.021169510772724606, 0.021169502792084894, 0.021169495546447415, 0.021169488968119824, 0.0211694829956441, 0.021169477573222416, 0.021169472650195795, 0.02116946818057086, 0.021169464122590173, 0.021169460438342034, 0.021169457093406386, 0.021169454056533147, 0.021169451299350356, 0.021169448796099024, 0.021169446523392536, 0.021169444459998136, 0.021169442586638568, 0.021169440885811974, 0.021169439341628373, 0.021169437939661244]\n",
            "Epoch[42/100], loss: 0.021169\n",
            "[0.02117008324736041, 0.021170022542859615, 0.021169967429131697, 0.021169917391276757, 0.02116987196181622, 0.021169830716325458, 0.02116979326946853, 0.021169759271398258, 0.02116972840448773, 0.021169700380362887, 0.021169674937208404, 0.021169651837321654, 0.021169630864891997, 0.021169611823984528, 0.021169594536709625, 0.021169578841560947, 0.021169564591906585, 0.021169551654619197, 0.021169539908832174, 0.02116952924481054, 0.02116951956292568, 0.021169510772724606, 0.021169502792084894, 0.021169495546447415, 0.021169488968119824, 0.0211694829956441, 0.021169477573222416, 0.021169472650195795, 0.02116946818057086, 0.021169464122590173, 0.021169460438342034, 0.021169457093406386, 0.021169454056533147, 0.021169451299350356, 0.021169448796099024, 0.021169446523392536, 0.021169444459998136, 0.021169442586638568, 0.021169440885811974, 0.021169439341628373, 0.021169437939661244, 0.021169436666812706]\n",
            "Epoch[43/100], loss: 0.021169\n",
            "[0.02117008324736041, 0.021170022542859615, 0.021169967429131697, 0.021169917391276757, 0.02116987196181622, 0.021169830716325458, 0.02116979326946853, 0.021169759271398258, 0.02116972840448773, 0.021169700380362887, 0.021169674937208404, 0.021169651837321654, 0.021169630864891997, 0.021169611823984528, 0.021169594536709625, 0.021169578841560947, 0.021169564591906585, 0.021169551654619197, 0.021169539908832174, 0.02116952924481054, 0.02116951956292568, 0.021169510772724606, 0.021169502792084894, 0.021169495546447415, 0.021169488968119824, 0.0211694829956441, 0.021169477573222416, 0.021169472650195795, 0.02116946818057086, 0.021169464122590173, 0.021169460438342034, 0.021169457093406386, 0.021169454056533147, 0.021169451299350356, 0.021169448796099024, 0.021169446523392536, 0.021169444459998136, 0.021169442586638568, 0.021169440885811974, 0.021169439341628373, 0.021169437939661244, 0.021169436666812706, 0.021169435511191183]\n",
            "Epoch[44/100], loss: 0.021169\n",
            "[0.02117008324736041, 0.021170022542859615, 0.021169967429131697, 0.021169917391276757, 0.02116987196181622, 0.021169830716325458, 0.02116979326946853, 0.021169759271398258, 0.02116972840448773, 0.021169700380362887, 0.021169674937208404, 0.021169651837321654, 0.021169630864891997, 0.021169611823984528, 0.021169594536709625, 0.021169578841560947, 0.021169564591906585, 0.021169551654619197, 0.021169539908832174, 0.02116952924481054, 0.02116951956292568, 0.021169510772724606, 0.021169502792084894, 0.021169495546447415, 0.021169488968119824, 0.0211694829956441, 0.021169477573222416, 0.021169472650195795, 0.02116946818057086, 0.021169464122590173, 0.021169460438342034, 0.021169457093406386, 0.021169454056533147, 0.021169451299350356, 0.021169448796099024, 0.021169446523392536, 0.021169444459998136, 0.021169442586638568, 0.021169440885811974, 0.021169439341628373, 0.021169437939661244, 0.021169436666812706, 0.021169435511191183, 0.021169434462000276]\n",
            "Epoch[45/100], loss: 0.021169\n",
            "[0.02117008324736041, 0.021170022542859615, 0.021169967429131697, 0.021169917391276757, 0.02116987196181622, 0.021169830716325458, 0.02116979326946853, 0.021169759271398258, 0.02116972840448773, 0.021169700380362887, 0.021169674937208404, 0.021169651837321654, 0.021169630864891997, 0.021169611823984528, 0.021169594536709625, 0.021169578841560947, 0.021169564591906585, 0.021169551654619197, 0.021169539908832174, 0.02116952924481054, 0.02116951956292568, 0.021169510772724606, 0.021169502792084894, 0.021169495546447415, 0.021169488968119824, 0.0211694829956441, 0.021169477573222416, 0.021169472650195795, 0.02116946818057086, 0.021169464122590173, 0.021169460438342034, 0.021169457093406386, 0.021169454056533147, 0.021169451299350356, 0.021169448796099024, 0.021169446523392536, 0.021169444459998136, 0.021169442586638568, 0.021169440885811974, 0.021169439341628373, 0.021169437939661244, 0.021169436666812706, 0.021169435511191183, 0.021169434462000276, 0.021169433509437924]\n",
            "Epoch[46/100], loss: 0.021169\n",
            "[0.02117008324736041, 0.021170022542859615, 0.021169967429131697, 0.021169917391276757, 0.02116987196181622, 0.021169830716325458, 0.02116979326946853, 0.021169759271398258, 0.02116972840448773, 0.021169700380362887, 0.021169674937208404, 0.021169651837321654, 0.021169630864891997, 0.021169611823984528, 0.021169594536709625, 0.021169578841560947, 0.021169564591906585, 0.021169551654619197, 0.021169539908832174, 0.02116952924481054, 0.02116951956292568, 0.021169510772724606, 0.021169502792084894, 0.021169495546447415, 0.021169488968119824, 0.0211694829956441, 0.021169477573222416, 0.021169472650195795, 0.02116946818057086, 0.021169464122590173, 0.021169460438342034, 0.021169457093406386, 0.021169454056533147, 0.021169451299350356, 0.021169448796099024, 0.021169446523392536, 0.021169444459998136, 0.021169442586638568, 0.021169440885811974, 0.021169439341628373, 0.021169437939661244, 0.021169436666812706, 0.021169435511191183, 0.021169434462000276, 0.021169433509437924, 0.021169432644604812]\n",
            "Epoch[47/100], loss: 0.021169\n",
            "[0.02117008324736041, 0.021170022542859615, 0.021169967429131697, 0.021169917391276757, 0.02116987196181622, 0.021169830716325458, 0.02116979326946853, 0.021169759271398258, 0.02116972840448773, 0.021169700380362887, 0.021169674937208404, 0.021169651837321654, 0.021169630864891997, 0.021169611823984528, 0.021169594536709625, 0.021169578841560947, 0.021169564591906585, 0.021169551654619197, 0.021169539908832174, 0.02116952924481054, 0.02116951956292568, 0.021169510772724606, 0.021169502792084894, 0.021169495546447415, 0.021169488968119824, 0.0211694829956441, 0.021169477573222416, 0.021169472650195795, 0.02116946818057086, 0.021169464122590173, 0.021169460438342034, 0.021169457093406386, 0.021169454056533147, 0.021169451299350356, 0.021169448796099024, 0.021169446523392536, 0.021169444459998136, 0.021169442586638568, 0.021169440885811974, 0.021169439341628373, 0.021169437939661244, 0.021169436666812706, 0.021169435511191183, 0.021169434462000276, 0.021169433509437924, 0.021169432644604812, 0.021169431859421235]\n",
            "Epoch[48/100], loss: 0.021169\n",
            "[0.02117008324736041, 0.021170022542859615, 0.021169967429131697, 0.021169917391276757, 0.02116987196181622, 0.021169830716325458, 0.02116979326946853, 0.021169759271398258, 0.02116972840448773, 0.021169700380362887, 0.021169674937208404, 0.021169651837321654, 0.021169630864891997, 0.021169611823984528, 0.021169594536709625, 0.021169578841560947, 0.021169564591906585, 0.021169551654619197, 0.021169539908832174, 0.02116952924481054, 0.02116951956292568, 0.021169510772724606, 0.021169502792084894, 0.021169495546447415, 0.021169488968119824, 0.0211694829956441, 0.021169477573222416, 0.021169472650195795, 0.02116946818057086, 0.021169464122590173, 0.021169460438342034, 0.021169457093406386, 0.021169454056533147, 0.021169451299350356, 0.021169448796099024, 0.021169446523392536, 0.021169444459998136, 0.021169442586638568, 0.021169440885811974, 0.021169439341628373, 0.021169437939661244, 0.021169436666812706, 0.021169435511191183, 0.021169434462000276, 0.021169433509437924, 0.021169432644604812, 0.021169431859421235, 0.021169431146551627]\n",
            "Epoch[49/100], loss: 0.021169\n",
            "[0.02117008324736041, 0.021170022542859615, 0.021169967429131697, 0.021169917391276757, 0.02116987196181622, 0.021169830716325458, 0.02116979326946853, 0.021169759271398258, 0.02116972840448773, 0.021169700380362887, 0.021169674937208404, 0.021169651837321654, 0.021169630864891997, 0.021169611823984528, 0.021169594536709625, 0.021169578841560947, 0.021169564591906585, 0.021169551654619197, 0.021169539908832174, 0.02116952924481054, 0.02116951956292568, 0.021169510772724606, 0.021169502792084894, 0.021169495546447415, 0.021169488968119824, 0.0211694829956441, 0.021169477573222416, 0.021169472650195795, 0.02116946818057086, 0.021169464122590173, 0.021169460438342034, 0.021169457093406386, 0.021169454056533147, 0.021169451299350356, 0.021169448796099024, 0.021169446523392536, 0.021169444459998136, 0.021169442586638568, 0.021169440885811974, 0.021169439341628373, 0.021169437939661244, 0.021169436666812706, 0.021169435511191183, 0.021169434462000276, 0.021169433509437924, 0.021169432644604812, 0.021169431859421235, 0.021169431146551627, 0.021169430499335992]\n",
            "Epoch[50/100], loss: 0.021169\n",
            "[0.02117008324736041, 0.021170022542859615, 0.021169967429131697, 0.021169917391276757, 0.02116987196181622, 0.021169830716325458, 0.02116979326946853, 0.021169759271398258, 0.02116972840448773, 0.021169700380362887, 0.021169674937208404, 0.021169651837321654, 0.021169630864891997, 0.021169611823984528, 0.021169594536709625, 0.021169578841560947, 0.021169564591906585, 0.021169551654619197, 0.021169539908832174, 0.02116952924481054, 0.02116951956292568, 0.021169510772724606, 0.021169502792084894, 0.021169495546447415, 0.021169488968119824, 0.0211694829956441, 0.021169477573222416, 0.021169472650195795, 0.02116946818057086, 0.021169464122590173, 0.021169460438342034, 0.021169457093406386, 0.021169454056533147, 0.021169451299350356, 0.021169448796099024, 0.021169446523392536, 0.021169444459998136, 0.021169442586638568, 0.021169440885811974, 0.021169439341628373, 0.021169437939661244, 0.021169436666812706, 0.021169435511191183, 0.021169434462000276, 0.021169433509437924, 0.021169432644604812, 0.021169431859421235, 0.021169431146551627, 0.021169430499335992, 0.02116942991172773]\n",
            "Epoch[51/100], loss: 0.021169\n",
            "[0.02117008324736041, 0.021170022542859615, 0.021169967429131697, 0.021169917391276757, 0.02116987196181622, 0.021169830716325458, 0.02116979326946853, 0.021169759271398258, 0.02116972840448773, 0.021169700380362887, 0.021169674937208404, 0.021169651837321654, 0.021169630864891997, 0.021169611823984528, 0.021169594536709625, 0.021169578841560947, 0.021169564591906585, 0.021169551654619197, 0.021169539908832174, 0.02116952924481054, 0.02116951956292568, 0.021169510772724606, 0.021169502792084894, 0.021169495546447415, 0.021169488968119824, 0.0211694829956441, 0.021169477573222416, 0.021169472650195795, 0.02116946818057086, 0.021169464122590173, 0.021169460438342034, 0.021169457093406386, 0.021169454056533147, 0.021169451299350356, 0.021169448796099024, 0.021169446523392536, 0.021169444459998136, 0.021169442586638568, 0.021169440885811974, 0.021169439341628373, 0.021169437939661244, 0.021169436666812706, 0.021169435511191183, 0.021169434462000276, 0.021169433509437924, 0.021169432644604812, 0.021169431859421235, 0.021169431146551627, 0.021169430499335992, 0.02116942991172773, 0.021169429378237112]\n",
            "Epoch[52/100], loss: 0.021169\n",
            "[0.02117008324736041, 0.021170022542859615, 0.021169967429131697, 0.021169917391276757, 0.02116987196181622, 0.021169830716325458, 0.02116979326946853, 0.021169759271398258, 0.02116972840448773, 0.021169700380362887, 0.021169674937208404, 0.021169651837321654, 0.021169630864891997, 0.021169611823984528, 0.021169594536709625, 0.021169578841560947, 0.021169564591906585, 0.021169551654619197, 0.021169539908832174, 0.02116952924481054, 0.02116951956292568, 0.021169510772724606, 0.021169502792084894, 0.021169495546447415, 0.021169488968119824, 0.0211694829956441, 0.021169477573222416, 0.021169472650195795, 0.02116946818057086, 0.021169464122590173, 0.021169460438342034, 0.021169457093406386, 0.021169454056533147, 0.021169451299350356, 0.021169448796099024, 0.021169446523392536, 0.021169444459998136, 0.021169442586638568, 0.021169440885811974, 0.021169439341628373, 0.021169437939661244, 0.021169436666812706, 0.021169435511191183, 0.021169434462000276, 0.021169433509437924, 0.021169432644604812, 0.021169431859421235, 0.021169431146551627, 0.021169430499335992, 0.02116942991172773, 0.021169429378237112, 0.021169428893879995]\n",
            "Epoch[53/100], loss: 0.021169\n",
            "[0.02117008324736041, 0.021170022542859615, 0.021169967429131697, 0.021169917391276757, 0.02116987196181622, 0.021169830716325458, 0.02116979326946853, 0.021169759271398258, 0.02116972840448773, 0.021169700380362887, 0.021169674937208404, 0.021169651837321654, 0.021169630864891997, 0.021169611823984528, 0.021169594536709625, 0.021169578841560947, 0.021169564591906585, 0.021169551654619197, 0.021169539908832174, 0.02116952924481054, 0.02116951956292568, 0.021169510772724606, 0.021169502792084894, 0.021169495546447415, 0.021169488968119824, 0.0211694829956441, 0.021169477573222416, 0.021169472650195795, 0.02116946818057086, 0.021169464122590173, 0.021169460438342034, 0.021169457093406386, 0.021169454056533147, 0.021169451299350356, 0.021169448796099024, 0.021169446523392536, 0.021169444459998136, 0.021169442586638568, 0.021169440885811974, 0.021169439341628373, 0.021169437939661244, 0.021169436666812706, 0.021169435511191183, 0.021169434462000276, 0.021169433509437924, 0.021169432644604812, 0.021169431859421235, 0.021169431146551627, 0.021169430499335992, 0.02116942991172773, 0.021169429378237112, 0.021169428893879995, 0.021169428454131275]\n",
            "Epoch[54/100], loss: 0.021169\n",
            "[0.02117008324736041, 0.021170022542859615, 0.021169967429131697, 0.021169917391276757, 0.02116987196181622, 0.021169830716325458, 0.02116979326946853, 0.021169759271398258, 0.02116972840448773, 0.021169700380362887, 0.021169674937208404, 0.021169651837321654, 0.021169630864891997, 0.021169611823984528, 0.021169594536709625, 0.021169578841560947, 0.021169564591906585, 0.021169551654619197, 0.021169539908832174, 0.02116952924481054, 0.02116951956292568, 0.021169510772724606, 0.021169502792084894, 0.021169495546447415, 0.021169488968119824, 0.0211694829956441, 0.021169477573222416, 0.021169472650195795, 0.02116946818057086, 0.021169464122590173, 0.021169460438342034, 0.021169457093406386, 0.021169454056533147, 0.021169451299350356, 0.021169448796099024, 0.021169446523392536, 0.021169444459998136, 0.021169442586638568, 0.021169440885811974, 0.021169439341628373, 0.021169437939661244, 0.021169436666812706, 0.021169435511191183, 0.021169434462000276, 0.021169433509437924, 0.021169432644604812, 0.021169431859421235, 0.021169431146551627, 0.021169430499335992, 0.02116942991172773, 0.021169429378237112, 0.021169428893879995, 0.021169428454131275, 0.0211694280548826]\n",
            "Epoch[55/100], loss: 0.021169\n",
            "[0.02117008324736041, 0.021170022542859615, 0.021169967429131697, 0.021169917391276757, 0.02116987196181622, 0.021169830716325458, 0.02116979326946853, 0.021169759271398258, 0.02116972840448773, 0.021169700380362887, 0.021169674937208404, 0.021169651837321654, 0.021169630864891997, 0.021169611823984528, 0.021169594536709625, 0.021169578841560947, 0.021169564591906585, 0.021169551654619197, 0.021169539908832174, 0.02116952924481054, 0.02116951956292568, 0.021169510772724606, 0.021169502792084894, 0.021169495546447415, 0.021169488968119824, 0.0211694829956441, 0.021169477573222416, 0.021169472650195795, 0.02116946818057086, 0.021169464122590173, 0.021169460438342034, 0.021169457093406386, 0.021169454056533147, 0.021169451299350356, 0.021169448796099024, 0.021169446523392536, 0.021169444459998136, 0.021169442586638568, 0.021169440885811974, 0.021169439341628373, 0.021169437939661244, 0.021169436666812706, 0.021169435511191183, 0.021169434462000276, 0.021169433509437924, 0.021169432644604812, 0.021169431859421235, 0.021169431146551627, 0.021169430499335992, 0.02116942991172773, 0.021169429378237112, 0.021169428893879995, 0.021169428454131275, 0.0211694280548826, 0.021169427692404]\n",
            "Epoch[56/100], loss: 0.021169\n",
            "[0.02117008324736041, 0.021170022542859615, 0.021169967429131697, 0.021169917391276757, 0.02116987196181622, 0.021169830716325458, 0.02116979326946853, 0.021169759271398258, 0.02116972840448773, 0.021169700380362887, 0.021169674937208404, 0.021169651837321654, 0.021169630864891997, 0.021169611823984528, 0.021169594536709625, 0.021169578841560947, 0.021169564591906585, 0.021169551654619197, 0.021169539908832174, 0.02116952924481054, 0.02116951956292568, 0.021169510772724606, 0.021169502792084894, 0.021169495546447415, 0.021169488968119824, 0.0211694829956441, 0.021169477573222416, 0.021169472650195795, 0.02116946818057086, 0.021169464122590173, 0.021169460438342034, 0.021169457093406386, 0.021169454056533147, 0.021169451299350356, 0.021169448796099024, 0.021169446523392536, 0.021169444459998136, 0.021169442586638568, 0.021169440885811974, 0.021169439341628373, 0.021169437939661244, 0.021169436666812706, 0.021169435511191183, 0.021169434462000276, 0.021169433509437924, 0.021169432644604812, 0.021169431859421235, 0.021169431146551627, 0.021169430499335992, 0.02116942991172773, 0.021169429378237112, 0.021169428893879995, 0.021169428454131275, 0.0211694280548826, 0.021169427692404, 0.02116942736330902]\n",
            "Epoch[57/100], loss: 0.021169\n",
            "[0.02117008324736041, 0.021170022542859615, 0.021169967429131697, 0.021169917391276757, 0.02116987196181622, 0.021169830716325458, 0.02116979326946853, 0.021169759271398258, 0.02116972840448773, 0.021169700380362887, 0.021169674937208404, 0.021169651837321654, 0.021169630864891997, 0.021169611823984528, 0.021169594536709625, 0.021169578841560947, 0.021169564591906585, 0.021169551654619197, 0.021169539908832174, 0.02116952924481054, 0.02116951956292568, 0.021169510772724606, 0.021169502792084894, 0.021169495546447415, 0.021169488968119824, 0.0211694829956441, 0.021169477573222416, 0.021169472650195795, 0.02116946818057086, 0.021169464122590173, 0.021169460438342034, 0.021169457093406386, 0.021169454056533147, 0.021169451299350356, 0.021169448796099024, 0.021169446523392536, 0.021169444459998136, 0.021169442586638568, 0.021169440885811974, 0.021169439341628373, 0.021169437939661244, 0.021169436666812706, 0.021169435511191183, 0.021169434462000276, 0.021169433509437924, 0.021169432644604812, 0.021169431859421235, 0.021169431146551627, 0.021169430499335992, 0.02116942991172773, 0.021169429378237112, 0.021169428893879995, 0.021169428454131275, 0.0211694280548826, 0.021169427692404, 0.02116942736330902, 0.02116942706452307]\n",
            "Epoch[58/100], loss: 0.021169\n",
            "[0.02117008324736041, 0.021170022542859615, 0.021169967429131697, 0.021169917391276757, 0.02116987196181622, 0.021169830716325458, 0.02116979326946853, 0.021169759271398258, 0.02116972840448773, 0.021169700380362887, 0.021169674937208404, 0.021169651837321654, 0.021169630864891997, 0.021169611823984528, 0.021169594536709625, 0.021169578841560947, 0.021169564591906585, 0.021169551654619197, 0.021169539908832174, 0.02116952924481054, 0.02116951956292568, 0.021169510772724606, 0.021169502792084894, 0.021169495546447415, 0.021169488968119824, 0.0211694829956441, 0.021169477573222416, 0.021169472650195795, 0.02116946818057086, 0.021169464122590173, 0.021169460438342034, 0.021169457093406386, 0.021169454056533147, 0.021169451299350356, 0.021169448796099024, 0.021169446523392536, 0.021169444459998136, 0.021169442586638568, 0.021169440885811974, 0.021169439341628373, 0.021169437939661244, 0.021169436666812706, 0.021169435511191183, 0.021169434462000276, 0.021169433509437924, 0.021169432644604812, 0.021169431859421235, 0.021169431146551627, 0.021169430499335992, 0.02116942991172773, 0.021169429378237112, 0.021169428893879995, 0.021169428454131275, 0.0211694280548826, 0.021169427692404, 0.02116942736330902, 0.02116942706452307, 0.021169426793254762]\n",
            "Epoch[59/100], loss: 0.021169\n",
            "[0.02117008324736041, 0.021170022542859615, 0.021169967429131697, 0.021169917391276757, 0.02116987196181622, 0.021169830716325458, 0.02116979326946853, 0.021169759271398258, 0.02116972840448773, 0.021169700380362887, 0.021169674937208404, 0.021169651837321654, 0.021169630864891997, 0.021169611823984528, 0.021169594536709625, 0.021169578841560947, 0.021169564591906585, 0.021169551654619197, 0.021169539908832174, 0.02116952924481054, 0.02116951956292568, 0.021169510772724606, 0.021169502792084894, 0.021169495546447415, 0.021169488968119824, 0.0211694829956441, 0.021169477573222416, 0.021169472650195795, 0.02116946818057086, 0.021169464122590173, 0.021169460438342034, 0.021169457093406386, 0.021169454056533147, 0.021169451299350356, 0.021169448796099024, 0.021169446523392536, 0.021169444459998136, 0.021169442586638568, 0.021169440885811974, 0.021169439341628373, 0.021169437939661244, 0.021169436666812706, 0.021169435511191183, 0.021169434462000276, 0.021169433509437924, 0.021169432644604812, 0.021169431859421235, 0.021169431146551627, 0.021169430499335992, 0.02116942991172773, 0.021169429378237112, 0.021169428893879995, 0.021169428454131275, 0.0211694280548826, 0.021169427692404, 0.02116942736330902, 0.02116942706452307, 0.021169426793254762, 0.021169426546969766]\n",
            "Epoch[60/100], loss: 0.021169\n",
            "[0.02117008324736041, 0.021170022542859615, 0.021169967429131697, 0.021169917391276757, 0.02116987196181622, 0.021169830716325458, 0.02116979326946853, 0.021169759271398258, 0.02116972840448773, 0.021169700380362887, 0.021169674937208404, 0.021169651837321654, 0.021169630864891997, 0.021169611823984528, 0.021169594536709625, 0.021169578841560947, 0.021169564591906585, 0.021169551654619197, 0.021169539908832174, 0.02116952924481054, 0.02116951956292568, 0.021169510772724606, 0.021169502792084894, 0.021169495546447415, 0.021169488968119824, 0.0211694829956441, 0.021169477573222416, 0.021169472650195795, 0.02116946818057086, 0.021169464122590173, 0.021169460438342034, 0.021169457093406386, 0.021169454056533147, 0.021169451299350356, 0.021169448796099024, 0.021169446523392536, 0.021169444459998136, 0.021169442586638568, 0.021169440885811974, 0.021169439341628373, 0.021169437939661244, 0.021169436666812706, 0.021169435511191183, 0.021169434462000276, 0.021169433509437924, 0.021169432644604812, 0.021169431859421235, 0.021169431146551627, 0.021169430499335992, 0.02116942991172773, 0.021169429378237112, 0.021169428893879995, 0.021169428454131275, 0.0211694280548826, 0.021169427692404, 0.02116942736330902, 0.02116942706452307, 0.021169426793254762, 0.021169426546969766, 0.02116942632336716]\n",
            "Epoch[61/100], loss: 0.021169\n",
            "[0.02117008324736041, 0.021170022542859615, 0.021169967429131697, 0.021169917391276757, 0.02116987196181622, 0.021169830716325458, 0.02116979326946853, 0.021169759271398258, 0.02116972840448773, 0.021169700380362887, 0.021169674937208404, 0.021169651837321654, 0.021169630864891997, 0.021169611823984528, 0.021169594536709625, 0.021169578841560947, 0.021169564591906585, 0.021169551654619197, 0.021169539908832174, 0.02116952924481054, 0.02116951956292568, 0.021169510772724606, 0.021169502792084894, 0.021169495546447415, 0.021169488968119824, 0.0211694829956441, 0.021169477573222416, 0.021169472650195795, 0.02116946818057086, 0.021169464122590173, 0.021169460438342034, 0.021169457093406386, 0.021169454056533147, 0.021169451299350356, 0.021169448796099024, 0.021169446523392536, 0.021169444459998136, 0.021169442586638568, 0.021169440885811974, 0.021169439341628373, 0.021169437939661244, 0.021169436666812706, 0.021169435511191183, 0.021169434462000276, 0.021169433509437924, 0.021169432644604812, 0.021169431859421235, 0.021169431146551627, 0.021169430499335992, 0.02116942991172773, 0.021169429378237112, 0.021169428893879995, 0.021169428454131275, 0.0211694280548826, 0.021169427692404, 0.02116942736330902, 0.02116942706452307, 0.021169426793254762, 0.021169426546969766, 0.02116942632336716, 0.021169426120357947]\n",
            "Epoch[62/100], loss: 0.021169\n",
            "[0.02117008324736041, 0.021170022542859615, 0.021169967429131697, 0.021169917391276757, 0.02116987196181622, 0.021169830716325458, 0.02116979326946853, 0.021169759271398258, 0.02116972840448773, 0.021169700380362887, 0.021169674937208404, 0.021169651837321654, 0.021169630864891997, 0.021169611823984528, 0.021169594536709625, 0.021169578841560947, 0.021169564591906585, 0.021169551654619197, 0.021169539908832174, 0.02116952924481054, 0.02116951956292568, 0.021169510772724606, 0.021169502792084894, 0.021169495546447415, 0.021169488968119824, 0.0211694829956441, 0.021169477573222416, 0.021169472650195795, 0.02116946818057086, 0.021169464122590173, 0.021169460438342034, 0.021169457093406386, 0.021169454056533147, 0.021169451299350356, 0.021169448796099024, 0.021169446523392536, 0.021169444459998136, 0.021169442586638568, 0.021169440885811974, 0.021169439341628373, 0.021169437939661244, 0.021169436666812706, 0.021169435511191183, 0.021169434462000276, 0.021169433509437924, 0.021169432644604812, 0.021169431859421235, 0.021169431146551627, 0.021169430499335992, 0.02116942991172773, 0.021169429378237112, 0.021169428893879995, 0.021169428454131275, 0.0211694280548826, 0.021169427692404, 0.02116942736330902, 0.02116942706452307, 0.021169426793254762, 0.021169426546969766, 0.02116942632336716, 0.021169426120357947, 0.02116942593604551]\n",
            "Epoch[63/100], loss: 0.021169\n",
            "[0.02117008324736041, 0.021170022542859615, 0.021169967429131697, 0.021169917391276757, 0.02116987196181622, 0.021169830716325458, 0.02116979326946853, 0.021169759271398258, 0.02116972840448773, 0.021169700380362887, 0.021169674937208404, 0.021169651837321654, 0.021169630864891997, 0.021169611823984528, 0.021169594536709625, 0.021169578841560947, 0.021169564591906585, 0.021169551654619197, 0.021169539908832174, 0.02116952924481054, 0.02116951956292568, 0.021169510772724606, 0.021169502792084894, 0.021169495546447415, 0.021169488968119824, 0.0211694829956441, 0.021169477573222416, 0.021169472650195795, 0.02116946818057086, 0.021169464122590173, 0.021169460438342034, 0.021169457093406386, 0.021169454056533147, 0.021169451299350356, 0.021169448796099024, 0.021169446523392536, 0.021169444459998136, 0.021169442586638568, 0.021169440885811974, 0.021169439341628373, 0.021169437939661244, 0.021169436666812706, 0.021169435511191183, 0.021169434462000276, 0.021169433509437924, 0.021169432644604812, 0.021169431859421235, 0.021169431146551627, 0.021169430499335992, 0.02116942991172773, 0.021169429378237112, 0.021169428893879995, 0.021169428454131275, 0.0211694280548826, 0.021169427692404, 0.02116942736330902, 0.02116942706452307, 0.021169426793254762, 0.021169426546969766, 0.02116942632336716, 0.021169426120357947, 0.02116942593604551, 0.02116942576870791]\n",
            "Epoch[64/100], loss: 0.021169\n",
            "[0.02117008324736041, 0.021170022542859615, 0.021169967429131697, 0.021169917391276757, 0.02116987196181622, 0.021169830716325458, 0.02116979326946853, 0.021169759271398258, 0.02116972840448773, 0.021169700380362887, 0.021169674937208404, 0.021169651837321654, 0.021169630864891997, 0.021169611823984528, 0.021169594536709625, 0.021169578841560947, 0.021169564591906585, 0.021169551654619197, 0.021169539908832174, 0.02116952924481054, 0.02116951956292568, 0.021169510772724606, 0.021169502792084894, 0.021169495546447415, 0.021169488968119824, 0.0211694829956441, 0.021169477573222416, 0.021169472650195795, 0.02116946818057086, 0.021169464122590173, 0.021169460438342034, 0.021169457093406386, 0.021169454056533147, 0.021169451299350356, 0.021169448796099024, 0.021169446523392536, 0.021169444459998136, 0.021169442586638568, 0.021169440885811974, 0.021169439341628373, 0.021169437939661244, 0.021169436666812706, 0.021169435511191183, 0.021169434462000276, 0.021169433509437924, 0.021169432644604812, 0.021169431859421235, 0.021169431146551627, 0.021169430499335992, 0.02116942991172773, 0.021169429378237112, 0.021169428893879995, 0.021169428454131275, 0.0211694280548826, 0.021169427692404, 0.02116942736330902, 0.02116942706452307, 0.021169426793254762, 0.021169426546969766, 0.02116942632336716, 0.021169426120357947, 0.02116942593604551, 0.02116942576870791, 0.02116942561678179]\n",
            "Epoch[65/100], loss: 0.021169\n",
            "[0.02117008324736041, 0.021170022542859615, 0.021169967429131697, 0.021169917391276757, 0.02116987196181622, 0.021169830716325458, 0.02116979326946853, 0.021169759271398258, 0.02116972840448773, 0.021169700380362887, 0.021169674937208404, 0.021169651837321654, 0.021169630864891997, 0.021169611823984528, 0.021169594536709625, 0.021169578841560947, 0.021169564591906585, 0.021169551654619197, 0.021169539908832174, 0.02116952924481054, 0.02116951956292568, 0.021169510772724606, 0.021169502792084894, 0.021169495546447415, 0.021169488968119824, 0.0211694829956441, 0.021169477573222416, 0.021169472650195795, 0.02116946818057086, 0.021169464122590173, 0.021169460438342034, 0.021169457093406386, 0.021169454056533147, 0.021169451299350356, 0.021169448796099024, 0.021169446523392536, 0.021169444459998136, 0.021169442586638568, 0.021169440885811974, 0.021169439341628373, 0.021169437939661244, 0.021169436666812706, 0.021169435511191183, 0.021169434462000276, 0.021169433509437924, 0.021169432644604812, 0.021169431859421235, 0.021169431146551627, 0.021169430499335992, 0.02116942991172773, 0.021169429378237112, 0.021169428893879995, 0.021169428454131275, 0.0211694280548826, 0.021169427692404, 0.02116942736330902, 0.02116942706452307, 0.021169426793254762, 0.021169426546969766, 0.02116942632336716, 0.021169426120357947, 0.02116942593604551, 0.02116942576870791, 0.02116942561678179, 0.021169425478847793]\n",
            "Epoch[66/100], loss: 0.021169\n",
            "[0.02117008324736041, 0.021170022542859615, 0.021169967429131697, 0.021169917391276757, 0.02116987196181622, 0.021169830716325458, 0.02116979326946853, 0.021169759271398258, 0.02116972840448773, 0.021169700380362887, 0.021169674937208404, 0.021169651837321654, 0.021169630864891997, 0.021169611823984528, 0.021169594536709625, 0.021169578841560947, 0.021169564591906585, 0.021169551654619197, 0.021169539908832174, 0.02116952924481054, 0.02116951956292568, 0.021169510772724606, 0.021169502792084894, 0.021169495546447415, 0.021169488968119824, 0.0211694829956441, 0.021169477573222416, 0.021169472650195795, 0.02116946818057086, 0.021169464122590173, 0.021169460438342034, 0.021169457093406386, 0.021169454056533147, 0.021169451299350356, 0.021169448796099024, 0.021169446523392536, 0.021169444459998136, 0.021169442586638568, 0.021169440885811974, 0.021169439341628373, 0.021169437939661244, 0.021169436666812706, 0.021169435511191183, 0.021169434462000276, 0.021169433509437924, 0.021169432644604812, 0.021169431859421235, 0.021169431146551627, 0.021169430499335992, 0.02116942991172773, 0.021169429378237112, 0.021169428893879995, 0.021169428454131275, 0.0211694280548826, 0.021169427692404, 0.02116942736330902, 0.02116942706452307, 0.021169426793254762, 0.021169426546969766, 0.02116942632336716, 0.021169426120357947, 0.02116942593604551, 0.02116942576870791, 0.02116942561678179, 0.021169425478847793, 0.02116942535361726]\n",
            "Epoch[67/100], loss: 0.021169\n",
            "[0.02117008324736041, 0.021170022542859615, 0.021169967429131697, 0.021169917391276757, 0.02116987196181622, 0.021169830716325458, 0.02116979326946853, 0.021169759271398258, 0.02116972840448773, 0.021169700380362887, 0.021169674937208404, 0.021169651837321654, 0.021169630864891997, 0.021169611823984528, 0.021169594536709625, 0.021169578841560947, 0.021169564591906585, 0.021169551654619197, 0.021169539908832174, 0.02116952924481054, 0.02116951956292568, 0.021169510772724606, 0.021169502792084894, 0.021169495546447415, 0.021169488968119824, 0.0211694829956441, 0.021169477573222416, 0.021169472650195795, 0.02116946818057086, 0.021169464122590173, 0.021169460438342034, 0.021169457093406386, 0.021169454056533147, 0.021169451299350356, 0.021169448796099024, 0.021169446523392536, 0.021169444459998136, 0.021169442586638568, 0.021169440885811974, 0.021169439341628373, 0.021169437939661244, 0.021169436666812706, 0.021169435511191183, 0.021169434462000276, 0.021169433509437924, 0.021169432644604812, 0.021169431859421235, 0.021169431146551627, 0.021169430499335992, 0.02116942991172773, 0.021169429378237112, 0.021169428893879995, 0.021169428454131275, 0.0211694280548826, 0.021169427692404, 0.02116942736330902, 0.02116942706452307, 0.021169426793254762, 0.021169426546969766, 0.02116942632336716, 0.021169426120357947, 0.02116942593604551, 0.02116942576870791, 0.02116942561678179, 0.021169425478847793, 0.02116942535361726, 0.021169425239920228]\n",
            "Epoch[68/100], loss: 0.021169\n",
            "[0.02117008324736041, 0.021170022542859615, 0.021169967429131697, 0.021169917391276757, 0.02116987196181622, 0.021169830716325458, 0.02116979326946853, 0.021169759271398258, 0.02116972840448773, 0.021169700380362887, 0.021169674937208404, 0.021169651837321654, 0.021169630864891997, 0.021169611823984528, 0.021169594536709625, 0.021169578841560947, 0.021169564591906585, 0.021169551654619197, 0.021169539908832174, 0.02116952924481054, 0.02116951956292568, 0.021169510772724606, 0.021169502792084894, 0.021169495546447415, 0.021169488968119824, 0.0211694829956441, 0.021169477573222416, 0.021169472650195795, 0.02116946818057086, 0.021169464122590173, 0.021169460438342034, 0.021169457093406386, 0.021169454056533147, 0.021169451299350356, 0.021169448796099024, 0.021169446523392536, 0.021169444459998136, 0.021169442586638568, 0.021169440885811974, 0.021169439341628373, 0.021169437939661244, 0.021169436666812706, 0.021169435511191183, 0.021169434462000276, 0.021169433509437924, 0.021169432644604812, 0.021169431859421235, 0.021169431146551627, 0.021169430499335992, 0.02116942991172773, 0.021169429378237112, 0.021169428893879995, 0.021169428454131275, 0.0211694280548826, 0.021169427692404, 0.02116942736330902, 0.02116942706452307, 0.021169426793254762, 0.021169426546969766, 0.02116942632336716, 0.021169426120357947, 0.02116942593604551, 0.02116942576870791, 0.02116942561678179, 0.021169425478847793, 0.02116942535361726, 0.021169425239920228, 0.02116942513669449]\n",
            "Epoch[69/100], loss: 0.021169\n",
            "[0.02117008324736041, 0.021170022542859615, 0.021169967429131697, 0.021169917391276757, 0.02116987196181622, 0.021169830716325458, 0.02116979326946853, 0.021169759271398258, 0.02116972840448773, 0.021169700380362887, 0.021169674937208404, 0.021169651837321654, 0.021169630864891997, 0.021169611823984528, 0.021169594536709625, 0.021169578841560947, 0.021169564591906585, 0.021169551654619197, 0.021169539908832174, 0.02116952924481054, 0.02116951956292568, 0.021169510772724606, 0.021169502792084894, 0.021169495546447415, 0.021169488968119824, 0.0211694829956441, 0.021169477573222416, 0.021169472650195795, 0.02116946818057086, 0.021169464122590173, 0.021169460438342034, 0.021169457093406386, 0.021169454056533147, 0.021169451299350356, 0.021169448796099024, 0.021169446523392536, 0.021169444459998136, 0.021169442586638568, 0.021169440885811974, 0.021169439341628373, 0.021169437939661244, 0.021169436666812706, 0.021169435511191183, 0.021169434462000276, 0.021169433509437924, 0.021169432644604812, 0.021169431859421235, 0.021169431146551627, 0.021169430499335992, 0.02116942991172773, 0.021169429378237112, 0.021169428893879995, 0.021169428454131275, 0.0211694280548826, 0.021169427692404, 0.02116942736330902, 0.02116942706452307, 0.021169426793254762, 0.021169426546969766, 0.02116942632336716, 0.021169426120357947, 0.02116942593604551, 0.02116942576870791, 0.02116942561678179, 0.021169425478847793, 0.02116942535361726, 0.021169425239920228, 0.02116942513669449, 0.021169425042975646]\n",
            "Epoch[70/100], loss: 0.021169\n",
            "[0.02117008324736041, 0.021170022542859615, 0.021169967429131697, 0.021169917391276757, 0.02116987196181622, 0.021169830716325458, 0.02116979326946853, 0.021169759271398258, 0.02116972840448773, 0.021169700380362887, 0.021169674937208404, 0.021169651837321654, 0.021169630864891997, 0.021169611823984528, 0.021169594536709625, 0.021169578841560947, 0.021169564591906585, 0.021169551654619197, 0.021169539908832174, 0.02116952924481054, 0.02116951956292568, 0.021169510772724606, 0.021169502792084894, 0.021169495546447415, 0.021169488968119824, 0.0211694829956441, 0.021169477573222416, 0.021169472650195795, 0.02116946818057086, 0.021169464122590173, 0.021169460438342034, 0.021169457093406386, 0.021169454056533147, 0.021169451299350356, 0.021169448796099024, 0.021169446523392536, 0.021169444459998136, 0.021169442586638568, 0.021169440885811974, 0.021169439341628373, 0.021169437939661244, 0.021169436666812706, 0.021169435511191183, 0.021169434462000276, 0.021169433509437924, 0.021169432644604812, 0.021169431859421235, 0.021169431146551627, 0.021169430499335992, 0.02116942991172773, 0.021169429378237112, 0.021169428893879995, 0.021169428454131275, 0.0211694280548826, 0.021169427692404, 0.02116942736330902, 0.02116942706452307, 0.021169426793254762, 0.021169426546969766, 0.02116942632336716, 0.021169426120357947, 0.02116942593604551, 0.02116942576870791, 0.02116942561678179, 0.021169425478847793, 0.02116942535361726, 0.021169425239920228, 0.02116942513669449, 0.021169425042975646, 0.02116942495788814]\n",
            "Epoch[71/100], loss: 0.021169\n",
            "[0.02117008324736041, 0.021170022542859615, 0.021169967429131697, 0.021169917391276757, 0.02116987196181622, 0.021169830716325458, 0.02116979326946853, 0.021169759271398258, 0.02116972840448773, 0.021169700380362887, 0.021169674937208404, 0.021169651837321654, 0.021169630864891997, 0.021169611823984528, 0.021169594536709625, 0.021169578841560947, 0.021169564591906585, 0.021169551654619197, 0.021169539908832174, 0.02116952924481054, 0.02116951956292568, 0.021169510772724606, 0.021169502792084894, 0.021169495546447415, 0.021169488968119824, 0.0211694829956441, 0.021169477573222416, 0.021169472650195795, 0.02116946818057086, 0.021169464122590173, 0.021169460438342034, 0.021169457093406386, 0.021169454056533147, 0.021169451299350356, 0.021169448796099024, 0.021169446523392536, 0.021169444459998136, 0.021169442586638568, 0.021169440885811974, 0.021169439341628373, 0.021169437939661244, 0.021169436666812706, 0.021169435511191183, 0.021169434462000276, 0.021169433509437924, 0.021169432644604812, 0.021169431859421235, 0.021169431146551627, 0.021169430499335992, 0.02116942991172773, 0.021169429378237112, 0.021169428893879995, 0.021169428454131275, 0.0211694280548826, 0.021169427692404, 0.02116942736330902, 0.02116942706452307, 0.021169426793254762, 0.021169426546969766, 0.02116942632336716, 0.021169426120357947, 0.02116942593604551, 0.02116942576870791, 0.02116942561678179, 0.021169425478847793, 0.02116942535361726, 0.021169425239920228, 0.02116942513669449, 0.021169425042975646, 0.02116942495788814, 0.021169424880637028]\n",
            "Epoch[72/100], loss: 0.021169\n",
            "[0.02117008324736041, 0.021170022542859615, 0.021169967429131697, 0.021169917391276757, 0.02116987196181622, 0.021169830716325458, 0.02116979326946853, 0.021169759271398258, 0.02116972840448773, 0.021169700380362887, 0.021169674937208404, 0.021169651837321654, 0.021169630864891997, 0.021169611823984528, 0.021169594536709625, 0.021169578841560947, 0.021169564591906585, 0.021169551654619197, 0.021169539908832174, 0.02116952924481054, 0.02116951956292568, 0.021169510772724606, 0.021169502792084894, 0.021169495546447415, 0.021169488968119824, 0.0211694829956441, 0.021169477573222416, 0.021169472650195795, 0.02116946818057086, 0.021169464122590173, 0.021169460438342034, 0.021169457093406386, 0.021169454056533147, 0.021169451299350356, 0.021169448796099024, 0.021169446523392536, 0.021169444459998136, 0.021169442586638568, 0.021169440885811974, 0.021169439341628373, 0.021169437939661244, 0.021169436666812706, 0.021169435511191183, 0.021169434462000276, 0.021169433509437924, 0.021169432644604812, 0.021169431859421235, 0.021169431146551627, 0.021169430499335992, 0.02116942991172773, 0.021169429378237112, 0.021169428893879995, 0.021169428454131275, 0.0211694280548826, 0.021169427692404, 0.02116942736330902, 0.02116942706452307, 0.021169426793254762, 0.021169426546969766, 0.02116942632336716, 0.021169426120357947, 0.02116942593604551, 0.02116942576870791, 0.02116942561678179, 0.021169425478847793, 0.02116942535361726, 0.021169425239920228, 0.02116942513669449, 0.021169425042975646, 0.02116942495788814, 0.021169424880637028, 0.021169424810500607]\n",
            "Epoch[73/100], loss: 0.021169\n",
            "[0.02117008324736041, 0.021170022542859615, 0.021169967429131697, 0.021169917391276757, 0.02116987196181622, 0.021169830716325458, 0.02116979326946853, 0.021169759271398258, 0.02116972840448773, 0.021169700380362887, 0.021169674937208404, 0.021169651837321654, 0.021169630864891997, 0.021169611823984528, 0.021169594536709625, 0.021169578841560947, 0.021169564591906585, 0.021169551654619197, 0.021169539908832174, 0.02116952924481054, 0.02116951956292568, 0.021169510772724606, 0.021169502792084894, 0.021169495546447415, 0.021169488968119824, 0.0211694829956441, 0.021169477573222416, 0.021169472650195795, 0.02116946818057086, 0.021169464122590173, 0.021169460438342034, 0.021169457093406386, 0.021169454056533147, 0.021169451299350356, 0.021169448796099024, 0.021169446523392536, 0.021169444459998136, 0.021169442586638568, 0.021169440885811974, 0.021169439341628373, 0.021169437939661244, 0.021169436666812706, 0.021169435511191183, 0.021169434462000276, 0.021169433509437924, 0.021169432644604812, 0.021169431859421235, 0.021169431146551627, 0.021169430499335992, 0.02116942991172773, 0.021169429378237112, 0.021169428893879995, 0.021169428454131275, 0.0211694280548826, 0.021169427692404, 0.02116942736330902, 0.02116942706452307, 0.021169426793254762, 0.021169426546969766, 0.02116942632336716, 0.021169426120357947, 0.02116942593604551, 0.02116942576870791, 0.02116942561678179, 0.021169425478847793, 0.02116942535361726, 0.021169425239920228, 0.02116942513669449, 0.021169425042975646, 0.02116942495788814, 0.021169424880637028, 0.021169424810500607, 0.021169424746823623]\n",
            "Epoch[74/100], loss: 0.021169\n",
            "[0.02117008324736041, 0.021170022542859615, 0.021169967429131697, 0.021169917391276757, 0.02116987196181622, 0.021169830716325458, 0.02116979326946853, 0.021169759271398258, 0.02116972840448773, 0.021169700380362887, 0.021169674937208404, 0.021169651837321654, 0.021169630864891997, 0.021169611823984528, 0.021169594536709625, 0.021169578841560947, 0.021169564591906585, 0.021169551654619197, 0.021169539908832174, 0.02116952924481054, 0.02116951956292568, 0.021169510772724606, 0.021169502792084894, 0.021169495546447415, 0.021169488968119824, 0.0211694829956441, 0.021169477573222416, 0.021169472650195795, 0.02116946818057086, 0.021169464122590173, 0.021169460438342034, 0.021169457093406386, 0.021169454056533147, 0.021169451299350356, 0.021169448796099024, 0.021169446523392536, 0.021169444459998136, 0.021169442586638568, 0.021169440885811974, 0.021169439341628373, 0.021169437939661244, 0.021169436666812706, 0.021169435511191183, 0.021169434462000276, 0.021169433509437924, 0.021169432644604812, 0.021169431859421235, 0.021169431146551627, 0.021169430499335992, 0.02116942991172773, 0.021169429378237112, 0.021169428893879995, 0.021169428454131275, 0.0211694280548826, 0.021169427692404, 0.02116942736330902, 0.02116942706452307, 0.021169426793254762, 0.021169426546969766, 0.02116942632336716, 0.021169426120357947, 0.02116942593604551, 0.02116942576870791, 0.02116942561678179, 0.021169425478847793, 0.02116942535361726, 0.021169425239920228, 0.02116942513669449, 0.021169425042975646, 0.02116942495788814, 0.021169424880637028, 0.021169424810500607, 0.021169424746823623, 0.02116942468901117]\n",
            "Epoch[75/100], loss: 0.021169\n",
            "[0.02117008324736041, 0.021170022542859615, 0.021169967429131697, 0.021169917391276757, 0.02116987196181622, 0.021169830716325458, 0.02116979326946853, 0.021169759271398258, 0.02116972840448773, 0.021169700380362887, 0.021169674937208404, 0.021169651837321654, 0.021169630864891997, 0.021169611823984528, 0.021169594536709625, 0.021169578841560947, 0.021169564591906585, 0.021169551654619197, 0.021169539908832174, 0.02116952924481054, 0.02116951956292568, 0.021169510772724606, 0.021169502792084894, 0.021169495546447415, 0.021169488968119824, 0.0211694829956441, 0.021169477573222416, 0.021169472650195795, 0.02116946818057086, 0.021169464122590173, 0.021169460438342034, 0.021169457093406386, 0.021169454056533147, 0.021169451299350356, 0.021169448796099024, 0.021169446523392536, 0.021169444459998136, 0.021169442586638568, 0.021169440885811974, 0.021169439341628373, 0.021169437939661244, 0.021169436666812706, 0.021169435511191183, 0.021169434462000276, 0.021169433509437924, 0.021169432644604812, 0.021169431859421235, 0.021169431146551627, 0.021169430499335992, 0.02116942991172773, 0.021169429378237112, 0.021169428893879995, 0.021169428454131275, 0.0211694280548826, 0.021169427692404, 0.02116942736330902, 0.02116942706452307, 0.021169426793254762, 0.021169426546969766, 0.02116942632336716, 0.021169426120357947, 0.02116942593604551, 0.02116942576870791, 0.02116942561678179, 0.021169425478847793, 0.02116942535361726, 0.021169425239920228, 0.02116942513669449, 0.021169425042975646, 0.02116942495788814, 0.021169424880637028, 0.021169424810500607, 0.021169424746823623, 0.02116942468901117, 0.02116942463652314]\n",
            "Epoch[76/100], loss: 0.021169\n",
            "[0.02117008324736041, 0.021170022542859615, 0.021169967429131697, 0.021169917391276757, 0.02116987196181622, 0.021169830716325458, 0.02116979326946853, 0.021169759271398258, 0.02116972840448773, 0.021169700380362887, 0.021169674937208404, 0.021169651837321654, 0.021169630864891997, 0.021169611823984528, 0.021169594536709625, 0.021169578841560947, 0.021169564591906585, 0.021169551654619197, 0.021169539908832174, 0.02116952924481054, 0.02116951956292568, 0.021169510772724606, 0.021169502792084894, 0.021169495546447415, 0.021169488968119824, 0.0211694829956441, 0.021169477573222416, 0.021169472650195795, 0.02116946818057086, 0.021169464122590173, 0.021169460438342034, 0.021169457093406386, 0.021169454056533147, 0.021169451299350356, 0.021169448796099024, 0.021169446523392536, 0.021169444459998136, 0.021169442586638568, 0.021169440885811974, 0.021169439341628373, 0.021169437939661244, 0.021169436666812706, 0.021169435511191183, 0.021169434462000276, 0.021169433509437924, 0.021169432644604812, 0.021169431859421235, 0.021169431146551627, 0.021169430499335992, 0.02116942991172773, 0.021169429378237112, 0.021169428893879995, 0.021169428454131275, 0.0211694280548826, 0.021169427692404, 0.02116942736330902, 0.02116942706452307, 0.021169426793254762, 0.021169426546969766, 0.02116942632336716, 0.021169426120357947, 0.02116942593604551, 0.02116942576870791, 0.02116942561678179, 0.021169425478847793, 0.02116942535361726, 0.021169425239920228, 0.02116942513669449, 0.021169425042975646, 0.02116942495788814, 0.021169424880637028, 0.021169424810500607, 0.021169424746823623, 0.02116942468901117, 0.02116942463652314, 0.021169424588869157]\n",
            "Epoch[77/100], loss: 0.021169\n",
            "[0.02117008324736041, 0.021170022542859615, 0.021169967429131697, 0.021169917391276757, 0.02116987196181622, 0.021169830716325458, 0.02116979326946853, 0.021169759271398258, 0.02116972840448773, 0.021169700380362887, 0.021169674937208404, 0.021169651837321654, 0.021169630864891997, 0.021169611823984528, 0.021169594536709625, 0.021169578841560947, 0.021169564591906585, 0.021169551654619197, 0.021169539908832174, 0.02116952924481054, 0.02116951956292568, 0.021169510772724606, 0.021169502792084894, 0.021169495546447415, 0.021169488968119824, 0.0211694829956441, 0.021169477573222416, 0.021169472650195795, 0.02116946818057086, 0.021169464122590173, 0.021169460438342034, 0.021169457093406386, 0.021169454056533147, 0.021169451299350356, 0.021169448796099024, 0.021169446523392536, 0.021169444459998136, 0.021169442586638568, 0.021169440885811974, 0.021169439341628373, 0.021169437939661244, 0.021169436666812706, 0.021169435511191183, 0.021169434462000276, 0.021169433509437924, 0.021169432644604812, 0.021169431859421235, 0.021169431146551627, 0.021169430499335992, 0.02116942991172773, 0.021169429378237112, 0.021169428893879995, 0.021169428454131275, 0.0211694280548826, 0.021169427692404, 0.02116942736330902, 0.02116942706452307, 0.021169426793254762, 0.021169426546969766, 0.02116942632336716, 0.021169426120357947, 0.02116942593604551, 0.02116942576870791, 0.02116942561678179, 0.021169425478847793, 0.02116942535361726, 0.021169425239920228, 0.02116942513669449, 0.021169425042975646, 0.02116942495788814, 0.021169424880637028, 0.021169424810500607, 0.021169424746823623, 0.02116942468901117, 0.02116942463652314, 0.021169424588869157, 0.02116942454560402]\n",
            "Epoch[78/100], loss: 0.021169\n",
            "[0.02117008324736041, 0.021170022542859615, 0.021169967429131697, 0.021169917391276757, 0.02116987196181622, 0.021169830716325458, 0.02116979326946853, 0.021169759271398258, 0.02116972840448773, 0.021169700380362887, 0.021169674937208404, 0.021169651837321654, 0.021169630864891997, 0.021169611823984528, 0.021169594536709625, 0.021169578841560947, 0.021169564591906585, 0.021169551654619197, 0.021169539908832174, 0.02116952924481054, 0.02116951956292568, 0.021169510772724606, 0.021169502792084894, 0.021169495546447415, 0.021169488968119824, 0.0211694829956441, 0.021169477573222416, 0.021169472650195795, 0.02116946818057086, 0.021169464122590173, 0.021169460438342034, 0.021169457093406386, 0.021169454056533147, 0.021169451299350356, 0.021169448796099024, 0.021169446523392536, 0.021169444459998136, 0.021169442586638568, 0.021169440885811974, 0.021169439341628373, 0.021169437939661244, 0.021169436666812706, 0.021169435511191183, 0.021169434462000276, 0.021169433509437924, 0.021169432644604812, 0.021169431859421235, 0.021169431146551627, 0.021169430499335992, 0.02116942991172773, 0.021169429378237112, 0.021169428893879995, 0.021169428454131275, 0.0211694280548826, 0.021169427692404, 0.02116942736330902, 0.02116942706452307, 0.021169426793254762, 0.021169426546969766, 0.02116942632336716, 0.021169426120357947, 0.02116942593604551, 0.02116942576870791, 0.02116942561678179, 0.021169425478847793, 0.02116942535361726, 0.021169425239920228, 0.02116942513669449, 0.021169425042975646, 0.02116942495788814, 0.021169424880637028, 0.021169424810500607, 0.021169424746823623, 0.02116942468901117, 0.02116942463652314, 0.021169424588869157, 0.02116942454560402, 0.02116942450632352]\n",
            "Epoch[79/100], loss: 0.021169\n",
            "[0.02117008324736041, 0.021170022542859615, 0.021169967429131697, 0.021169917391276757, 0.02116987196181622, 0.021169830716325458, 0.02116979326946853, 0.021169759271398258, 0.02116972840448773, 0.021169700380362887, 0.021169674937208404, 0.021169651837321654, 0.021169630864891997, 0.021169611823984528, 0.021169594536709625, 0.021169578841560947, 0.021169564591906585, 0.021169551654619197, 0.021169539908832174, 0.02116952924481054, 0.02116951956292568, 0.021169510772724606, 0.021169502792084894, 0.021169495546447415, 0.021169488968119824, 0.0211694829956441, 0.021169477573222416, 0.021169472650195795, 0.02116946818057086, 0.021169464122590173, 0.021169460438342034, 0.021169457093406386, 0.021169454056533147, 0.021169451299350356, 0.021169448796099024, 0.021169446523392536, 0.021169444459998136, 0.021169442586638568, 0.021169440885811974, 0.021169439341628373, 0.021169437939661244, 0.021169436666812706, 0.021169435511191183, 0.021169434462000276, 0.021169433509437924, 0.021169432644604812, 0.021169431859421235, 0.021169431146551627, 0.021169430499335992, 0.02116942991172773, 0.021169429378237112, 0.021169428893879995, 0.021169428454131275, 0.0211694280548826, 0.021169427692404, 0.02116942736330902, 0.02116942706452307, 0.021169426793254762, 0.021169426546969766, 0.02116942632336716, 0.021169426120357947, 0.02116942593604551, 0.02116942576870791, 0.02116942561678179, 0.021169425478847793, 0.02116942535361726, 0.021169425239920228, 0.02116942513669449, 0.021169425042975646, 0.02116942495788814, 0.021169424880637028, 0.021169424810500607, 0.021169424746823623, 0.02116942468901117, 0.02116942463652314, 0.021169424588869157, 0.02116942454560402, 0.02116942450632352, 0.021169424470660683]\n",
            "Epoch[80/100], loss: 0.021169\n",
            "[0.02117008324736041, 0.021170022542859615, 0.021169967429131697, 0.021169917391276757, 0.02116987196181622, 0.021169830716325458, 0.02116979326946853, 0.021169759271398258, 0.02116972840448773, 0.021169700380362887, 0.021169674937208404, 0.021169651837321654, 0.021169630864891997, 0.021169611823984528, 0.021169594536709625, 0.021169578841560947, 0.021169564591906585, 0.021169551654619197, 0.021169539908832174, 0.02116952924481054, 0.02116951956292568, 0.021169510772724606, 0.021169502792084894, 0.021169495546447415, 0.021169488968119824, 0.0211694829956441, 0.021169477573222416, 0.021169472650195795, 0.02116946818057086, 0.021169464122590173, 0.021169460438342034, 0.021169457093406386, 0.021169454056533147, 0.021169451299350356, 0.021169448796099024, 0.021169446523392536, 0.021169444459998136, 0.021169442586638568, 0.021169440885811974, 0.021169439341628373, 0.021169437939661244, 0.021169436666812706, 0.021169435511191183, 0.021169434462000276, 0.021169433509437924, 0.021169432644604812, 0.021169431859421235, 0.021169431146551627, 0.021169430499335992, 0.02116942991172773, 0.021169429378237112, 0.021169428893879995, 0.021169428454131275, 0.0211694280548826, 0.021169427692404, 0.02116942736330902, 0.02116942706452307, 0.021169426793254762, 0.021169426546969766, 0.02116942632336716, 0.021169426120357947, 0.02116942593604551, 0.02116942576870791, 0.02116942561678179, 0.021169425478847793, 0.02116942535361726, 0.021169425239920228, 0.02116942513669449, 0.021169425042975646, 0.02116942495788814, 0.021169424880637028, 0.021169424810500607, 0.021169424746823623, 0.02116942468901117, 0.02116942463652314, 0.021169424588869157, 0.02116942454560402, 0.02116942450632352, 0.021169424470660683, 0.021169424438282333]\n",
            "Epoch[81/100], loss: 0.021169\n",
            "[0.02117008324736041, 0.021170022542859615, 0.021169967429131697, 0.021169917391276757, 0.02116987196181622, 0.021169830716325458, 0.02116979326946853, 0.021169759271398258, 0.02116972840448773, 0.021169700380362887, 0.021169674937208404, 0.021169651837321654, 0.021169630864891997, 0.021169611823984528, 0.021169594536709625, 0.021169578841560947, 0.021169564591906585, 0.021169551654619197, 0.021169539908832174, 0.02116952924481054, 0.02116951956292568, 0.021169510772724606, 0.021169502792084894, 0.021169495546447415, 0.021169488968119824, 0.0211694829956441, 0.021169477573222416, 0.021169472650195795, 0.02116946818057086, 0.021169464122590173, 0.021169460438342034, 0.021169457093406386, 0.021169454056533147, 0.021169451299350356, 0.021169448796099024, 0.021169446523392536, 0.021169444459998136, 0.021169442586638568, 0.021169440885811974, 0.021169439341628373, 0.021169437939661244, 0.021169436666812706, 0.021169435511191183, 0.021169434462000276, 0.021169433509437924, 0.021169432644604812, 0.021169431859421235, 0.021169431146551627, 0.021169430499335992, 0.02116942991172773, 0.021169429378237112, 0.021169428893879995, 0.021169428454131275, 0.0211694280548826, 0.021169427692404, 0.02116942736330902, 0.02116942706452307, 0.021169426793254762, 0.021169426546969766, 0.02116942632336716, 0.021169426120357947, 0.02116942593604551, 0.02116942576870791, 0.02116942561678179, 0.021169425478847793, 0.02116942535361726, 0.021169425239920228, 0.02116942513669449, 0.021169425042975646, 0.02116942495788814, 0.021169424880637028, 0.021169424810500607, 0.021169424746823623, 0.02116942468901117, 0.02116942463652314, 0.021169424588869157, 0.02116942454560402, 0.02116942450632352, 0.021169424470660683, 0.021169424438282333, 0.021169424408885966]\n",
            "Epoch[82/100], loss: 0.021169\n",
            "[0.02117008324736041, 0.021170022542859615, 0.021169967429131697, 0.021169917391276757, 0.02116987196181622, 0.021169830716325458, 0.02116979326946853, 0.021169759271398258, 0.02116972840448773, 0.021169700380362887, 0.021169674937208404, 0.021169651837321654, 0.021169630864891997, 0.021169611823984528, 0.021169594536709625, 0.021169578841560947, 0.021169564591906585, 0.021169551654619197, 0.021169539908832174, 0.02116952924481054, 0.02116951956292568, 0.021169510772724606, 0.021169502792084894, 0.021169495546447415, 0.021169488968119824, 0.0211694829956441, 0.021169477573222416, 0.021169472650195795, 0.02116946818057086, 0.021169464122590173, 0.021169460438342034, 0.021169457093406386, 0.021169454056533147, 0.021169451299350356, 0.021169448796099024, 0.021169446523392536, 0.021169444459998136, 0.021169442586638568, 0.021169440885811974, 0.021169439341628373, 0.021169437939661244, 0.021169436666812706, 0.021169435511191183, 0.021169434462000276, 0.021169433509437924, 0.021169432644604812, 0.021169431859421235, 0.021169431146551627, 0.021169430499335992, 0.02116942991172773, 0.021169429378237112, 0.021169428893879995, 0.021169428454131275, 0.0211694280548826, 0.021169427692404, 0.02116942736330902, 0.02116942706452307, 0.021169426793254762, 0.021169426546969766, 0.02116942632336716, 0.021169426120357947, 0.02116942593604551, 0.02116942576870791, 0.02116942561678179, 0.021169425478847793, 0.02116942535361726, 0.021169425239920228, 0.02116942513669449, 0.021169425042975646, 0.02116942495788814, 0.021169424880637028, 0.021169424810500607, 0.021169424746823623, 0.02116942468901117, 0.02116942463652314, 0.021169424588869157, 0.02116942454560402, 0.02116942450632352, 0.021169424470660683, 0.021169424438282333, 0.021169424408885966, 0.021169424382196947]\n",
            "Epoch[83/100], loss: 0.021169\n",
            "[0.02117008324736041, 0.021170022542859615, 0.021169967429131697, 0.021169917391276757, 0.02116987196181622, 0.021169830716325458, 0.02116979326946853, 0.021169759271398258, 0.02116972840448773, 0.021169700380362887, 0.021169674937208404, 0.021169651837321654, 0.021169630864891997, 0.021169611823984528, 0.021169594536709625, 0.021169578841560947, 0.021169564591906585, 0.021169551654619197, 0.021169539908832174, 0.02116952924481054, 0.02116951956292568, 0.021169510772724606, 0.021169502792084894, 0.021169495546447415, 0.021169488968119824, 0.0211694829956441, 0.021169477573222416, 0.021169472650195795, 0.02116946818057086, 0.021169464122590173, 0.021169460438342034, 0.021169457093406386, 0.021169454056533147, 0.021169451299350356, 0.021169448796099024, 0.021169446523392536, 0.021169444459998136, 0.021169442586638568, 0.021169440885811974, 0.021169439341628373, 0.021169437939661244, 0.021169436666812706, 0.021169435511191183, 0.021169434462000276, 0.021169433509437924, 0.021169432644604812, 0.021169431859421235, 0.021169431146551627, 0.021169430499335992, 0.02116942991172773, 0.021169429378237112, 0.021169428893879995, 0.021169428454131275, 0.0211694280548826, 0.021169427692404, 0.02116942736330902, 0.02116942706452307, 0.021169426793254762, 0.021169426546969766, 0.02116942632336716, 0.021169426120357947, 0.02116942593604551, 0.02116942576870791, 0.02116942561678179, 0.021169425478847793, 0.02116942535361726, 0.021169425239920228, 0.02116942513669449, 0.021169425042975646, 0.02116942495788814, 0.021169424880637028, 0.021169424810500607, 0.021169424746823623, 0.02116942468901117, 0.02116942463652314, 0.021169424588869157, 0.02116942454560402, 0.02116942450632352, 0.021169424470660683, 0.021169424438282333, 0.021169424408885966, 0.021169424382196947, 0.021169424357965948]\n",
            "Epoch[84/100], loss: 0.021169\n",
            "[0.02117008324736041, 0.021170022542859615, 0.021169967429131697, 0.021169917391276757, 0.02116987196181622, 0.021169830716325458, 0.02116979326946853, 0.021169759271398258, 0.02116972840448773, 0.021169700380362887, 0.021169674937208404, 0.021169651837321654, 0.021169630864891997, 0.021169611823984528, 0.021169594536709625, 0.021169578841560947, 0.021169564591906585, 0.021169551654619197, 0.021169539908832174, 0.02116952924481054, 0.02116951956292568, 0.021169510772724606, 0.021169502792084894, 0.021169495546447415, 0.021169488968119824, 0.0211694829956441, 0.021169477573222416, 0.021169472650195795, 0.02116946818057086, 0.021169464122590173, 0.021169460438342034, 0.021169457093406386, 0.021169454056533147, 0.021169451299350356, 0.021169448796099024, 0.021169446523392536, 0.021169444459998136, 0.021169442586638568, 0.021169440885811974, 0.021169439341628373, 0.021169437939661244, 0.021169436666812706, 0.021169435511191183, 0.021169434462000276, 0.021169433509437924, 0.021169432644604812, 0.021169431859421235, 0.021169431146551627, 0.021169430499335992, 0.02116942991172773, 0.021169429378237112, 0.021169428893879995, 0.021169428454131275, 0.0211694280548826, 0.021169427692404, 0.02116942736330902, 0.02116942706452307, 0.021169426793254762, 0.021169426546969766, 0.02116942632336716, 0.021169426120357947, 0.02116942593604551, 0.02116942576870791, 0.02116942561678179, 0.021169425478847793, 0.02116942535361726, 0.021169425239920228, 0.02116942513669449, 0.021169425042975646, 0.02116942495788814, 0.021169424880637028, 0.021169424810500607, 0.021169424746823623, 0.02116942468901117, 0.02116942463652314, 0.021169424588869157, 0.02116942454560402, 0.02116942450632352, 0.021169424470660683, 0.021169424438282333, 0.021169424408885966, 0.021169424382196947, 0.021169424357965948, 0.021169424335966566]\n",
            "Epoch[85/100], loss: 0.021169\n",
            "[0.02117008324736041, 0.021170022542859615, 0.021169967429131697, 0.021169917391276757, 0.02116987196181622, 0.021169830716325458, 0.02116979326946853, 0.021169759271398258, 0.02116972840448773, 0.021169700380362887, 0.021169674937208404, 0.021169651837321654, 0.021169630864891997, 0.021169611823984528, 0.021169594536709625, 0.021169578841560947, 0.021169564591906585, 0.021169551654619197, 0.021169539908832174, 0.02116952924481054, 0.02116951956292568, 0.021169510772724606, 0.021169502792084894, 0.021169495546447415, 0.021169488968119824, 0.0211694829956441, 0.021169477573222416, 0.021169472650195795, 0.02116946818057086, 0.021169464122590173, 0.021169460438342034, 0.021169457093406386, 0.021169454056533147, 0.021169451299350356, 0.021169448796099024, 0.021169446523392536, 0.021169444459998136, 0.021169442586638568, 0.021169440885811974, 0.021169439341628373, 0.021169437939661244, 0.021169436666812706, 0.021169435511191183, 0.021169434462000276, 0.021169433509437924, 0.021169432644604812, 0.021169431859421235, 0.021169431146551627, 0.021169430499335992, 0.02116942991172773, 0.021169429378237112, 0.021169428893879995, 0.021169428454131275, 0.0211694280548826, 0.021169427692404, 0.02116942736330902, 0.02116942706452307, 0.021169426793254762, 0.021169426546969766, 0.02116942632336716, 0.021169426120357947, 0.02116942593604551, 0.02116942576870791, 0.02116942561678179, 0.021169425478847793, 0.02116942535361726, 0.021169425239920228, 0.02116942513669449, 0.021169425042975646, 0.02116942495788814, 0.021169424880637028, 0.021169424810500607, 0.021169424746823623, 0.02116942468901117, 0.02116942463652314, 0.021169424588869157, 0.02116942454560402, 0.02116942450632352, 0.021169424470660683, 0.021169424438282333, 0.021169424408885966, 0.021169424382196947, 0.021169424357965948, 0.021169424335966566, 0.02116942431599329]\n",
            "Epoch[86/100], loss: 0.021169\n",
            "[0.02117008324736041, 0.021170022542859615, 0.021169967429131697, 0.021169917391276757, 0.02116987196181622, 0.021169830716325458, 0.02116979326946853, 0.021169759271398258, 0.02116972840448773, 0.021169700380362887, 0.021169674937208404, 0.021169651837321654, 0.021169630864891997, 0.021169611823984528, 0.021169594536709625, 0.021169578841560947, 0.021169564591906585, 0.021169551654619197, 0.021169539908832174, 0.02116952924481054, 0.02116951956292568, 0.021169510772724606, 0.021169502792084894, 0.021169495546447415, 0.021169488968119824, 0.0211694829956441, 0.021169477573222416, 0.021169472650195795, 0.02116946818057086, 0.021169464122590173, 0.021169460438342034, 0.021169457093406386, 0.021169454056533147, 0.021169451299350356, 0.021169448796099024, 0.021169446523392536, 0.021169444459998136, 0.021169442586638568, 0.021169440885811974, 0.021169439341628373, 0.021169437939661244, 0.021169436666812706, 0.021169435511191183, 0.021169434462000276, 0.021169433509437924, 0.021169432644604812, 0.021169431859421235, 0.021169431146551627, 0.021169430499335992, 0.02116942991172773, 0.021169429378237112, 0.021169428893879995, 0.021169428454131275, 0.0211694280548826, 0.021169427692404, 0.02116942736330902, 0.02116942706452307, 0.021169426793254762, 0.021169426546969766, 0.02116942632336716, 0.021169426120357947, 0.02116942593604551, 0.02116942576870791, 0.02116942561678179, 0.021169425478847793, 0.02116942535361726, 0.021169425239920228, 0.02116942513669449, 0.021169425042975646, 0.02116942495788814, 0.021169424880637028, 0.021169424810500607, 0.021169424746823623, 0.02116942468901117, 0.02116942463652314, 0.021169424588869157, 0.02116942454560402, 0.02116942450632352, 0.021169424470660683, 0.021169424438282333, 0.021169424408885966, 0.021169424382196947, 0.021169424357965948, 0.021169424335966566, 0.02116942431599329, 0.02116942429785952]\n",
            "Epoch[87/100], loss: 0.021169\n",
            "[0.02117008324736041, 0.021170022542859615, 0.021169967429131697, 0.021169917391276757, 0.02116987196181622, 0.021169830716325458, 0.02116979326946853, 0.021169759271398258, 0.02116972840448773, 0.021169700380362887, 0.021169674937208404, 0.021169651837321654, 0.021169630864891997, 0.021169611823984528, 0.021169594536709625, 0.021169578841560947, 0.021169564591906585, 0.021169551654619197, 0.021169539908832174, 0.02116952924481054, 0.02116951956292568, 0.021169510772724606, 0.021169502792084894, 0.021169495546447415, 0.021169488968119824, 0.0211694829956441, 0.021169477573222416, 0.021169472650195795, 0.02116946818057086, 0.021169464122590173, 0.021169460438342034, 0.021169457093406386, 0.021169454056533147, 0.021169451299350356, 0.021169448796099024, 0.021169446523392536, 0.021169444459998136, 0.021169442586638568, 0.021169440885811974, 0.021169439341628373, 0.021169437939661244, 0.021169436666812706, 0.021169435511191183, 0.021169434462000276, 0.021169433509437924, 0.021169432644604812, 0.021169431859421235, 0.021169431146551627, 0.021169430499335992, 0.02116942991172773, 0.021169429378237112, 0.021169428893879995, 0.021169428454131275, 0.0211694280548826, 0.021169427692404, 0.02116942736330902, 0.02116942706452307, 0.021169426793254762, 0.021169426546969766, 0.02116942632336716, 0.021169426120357947, 0.02116942593604551, 0.02116942576870791, 0.02116942561678179, 0.021169425478847793, 0.02116942535361726, 0.021169425239920228, 0.02116942513669449, 0.021169425042975646, 0.02116942495788814, 0.021169424880637028, 0.021169424810500607, 0.021169424746823623, 0.02116942468901117, 0.02116942463652314, 0.021169424588869157, 0.02116942454560402, 0.02116942450632352, 0.021169424470660683, 0.021169424438282333, 0.021169424408885966, 0.021169424382196947, 0.021169424357965948, 0.021169424335966566, 0.02116942431599329, 0.02116942429785952, 0.021169424281395836]\n",
            "Epoch[88/100], loss: 0.021169\n",
            "[0.02117008324736041, 0.021170022542859615, 0.021169967429131697, 0.021169917391276757, 0.02116987196181622, 0.021169830716325458, 0.02116979326946853, 0.021169759271398258, 0.02116972840448773, 0.021169700380362887, 0.021169674937208404, 0.021169651837321654, 0.021169630864891997, 0.021169611823984528, 0.021169594536709625, 0.021169578841560947, 0.021169564591906585, 0.021169551654619197, 0.021169539908832174, 0.02116952924481054, 0.02116951956292568, 0.021169510772724606, 0.021169502792084894, 0.021169495546447415, 0.021169488968119824, 0.0211694829956441, 0.021169477573222416, 0.021169472650195795, 0.02116946818057086, 0.021169464122590173, 0.021169460438342034, 0.021169457093406386, 0.021169454056533147, 0.021169451299350356, 0.021169448796099024, 0.021169446523392536, 0.021169444459998136, 0.021169442586638568, 0.021169440885811974, 0.021169439341628373, 0.021169437939661244, 0.021169436666812706, 0.021169435511191183, 0.021169434462000276, 0.021169433509437924, 0.021169432644604812, 0.021169431859421235, 0.021169431146551627, 0.021169430499335992, 0.02116942991172773, 0.021169429378237112, 0.021169428893879995, 0.021169428454131275, 0.0211694280548826, 0.021169427692404, 0.02116942736330902, 0.02116942706452307, 0.021169426793254762, 0.021169426546969766, 0.02116942632336716, 0.021169426120357947, 0.02116942593604551, 0.02116942576870791, 0.02116942561678179, 0.021169425478847793, 0.02116942535361726, 0.021169425239920228, 0.02116942513669449, 0.021169425042975646, 0.02116942495788814, 0.021169424880637028, 0.021169424810500607, 0.021169424746823623, 0.02116942468901117, 0.02116942463652314, 0.021169424588869157, 0.02116942454560402, 0.02116942450632352, 0.021169424470660683, 0.021169424438282333, 0.021169424408885966, 0.021169424382196947, 0.021169424357965948, 0.021169424335966566, 0.02116942431599329, 0.02116942429785952, 0.021169424281395836, 0.021169424266448425]\n",
            "Epoch[89/100], loss: 0.021169\n",
            "[0.02117008324736041, 0.021170022542859615, 0.021169967429131697, 0.021169917391276757, 0.02116987196181622, 0.021169830716325458, 0.02116979326946853, 0.021169759271398258, 0.02116972840448773, 0.021169700380362887, 0.021169674937208404, 0.021169651837321654, 0.021169630864891997, 0.021169611823984528, 0.021169594536709625, 0.021169578841560947, 0.021169564591906585, 0.021169551654619197, 0.021169539908832174, 0.02116952924481054, 0.02116951956292568, 0.021169510772724606, 0.021169502792084894, 0.021169495546447415, 0.021169488968119824, 0.0211694829956441, 0.021169477573222416, 0.021169472650195795, 0.02116946818057086, 0.021169464122590173, 0.021169460438342034, 0.021169457093406386, 0.021169454056533147, 0.021169451299350356, 0.021169448796099024, 0.021169446523392536, 0.021169444459998136, 0.021169442586638568, 0.021169440885811974, 0.021169439341628373, 0.021169437939661244, 0.021169436666812706, 0.021169435511191183, 0.021169434462000276, 0.021169433509437924, 0.021169432644604812, 0.021169431859421235, 0.021169431146551627, 0.021169430499335992, 0.02116942991172773, 0.021169429378237112, 0.021169428893879995, 0.021169428454131275, 0.0211694280548826, 0.021169427692404, 0.02116942736330902, 0.02116942706452307, 0.021169426793254762, 0.021169426546969766, 0.02116942632336716, 0.021169426120357947, 0.02116942593604551, 0.02116942576870791, 0.02116942561678179, 0.021169425478847793, 0.02116942535361726, 0.021169425239920228, 0.02116942513669449, 0.021169425042975646, 0.02116942495788814, 0.021169424880637028, 0.021169424810500607, 0.021169424746823623, 0.02116942468901117, 0.02116942463652314, 0.021169424588869157, 0.02116942454560402, 0.02116942450632352, 0.021169424470660683, 0.021169424438282333, 0.021169424408885966, 0.021169424382196947, 0.021169424357965948, 0.021169424335966566, 0.02116942431599329, 0.02116942429785952, 0.021169424281395836, 0.021169424266448425, 0.021169424252877645]\n",
            "Epoch[90/100], loss: 0.021169\n",
            "[0.02117008324736041, 0.021170022542859615, 0.021169967429131697, 0.021169917391276757, 0.02116987196181622, 0.021169830716325458, 0.02116979326946853, 0.021169759271398258, 0.02116972840448773, 0.021169700380362887, 0.021169674937208404, 0.021169651837321654, 0.021169630864891997, 0.021169611823984528, 0.021169594536709625, 0.021169578841560947, 0.021169564591906585, 0.021169551654619197, 0.021169539908832174, 0.02116952924481054, 0.02116951956292568, 0.021169510772724606, 0.021169502792084894, 0.021169495546447415, 0.021169488968119824, 0.0211694829956441, 0.021169477573222416, 0.021169472650195795, 0.02116946818057086, 0.021169464122590173, 0.021169460438342034, 0.021169457093406386, 0.021169454056533147, 0.021169451299350356, 0.021169448796099024, 0.021169446523392536, 0.021169444459998136, 0.021169442586638568, 0.021169440885811974, 0.021169439341628373, 0.021169437939661244, 0.021169436666812706, 0.021169435511191183, 0.021169434462000276, 0.021169433509437924, 0.021169432644604812, 0.021169431859421235, 0.021169431146551627, 0.021169430499335992, 0.02116942991172773, 0.021169429378237112, 0.021169428893879995, 0.021169428454131275, 0.0211694280548826, 0.021169427692404, 0.02116942736330902, 0.02116942706452307, 0.021169426793254762, 0.021169426546969766, 0.02116942632336716, 0.021169426120357947, 0.02116942593604551, 0.02116942576870791, 0.02116942561678179, 0.021169425478847793, 0.02116942535361726, 0.021169425239920228, 0.02116942513669449, 0.021169425042975646, 0.02116942495788814, 0.021169424880637028, 0.021169424810500607, 0.021169424746823623, 0.02116942468901117, 0.02116942463652314, 0.021169424588869157, 0.02116942454560402, 0.02116942450632352, 0.021169424470660683, 0.021169424438282333, 0.021169424408885966, 0.021169424382196947, 0.021169424357965948, 0.021169424335966566, 0.02116942431599329, 0.02116942429785952, 0.021169424281395836, 0.021169424266448425, 0.021169424252877645, 0.021169424240556713]\n",
            "Epoch[91/100], loss: 0.021169\n",
            "[0.02117008324736041, 0.021170022542859615, 0.021169967429131697, 0.021169917391276757, 0.02116987196181622, 0.021169830716325458, 0.02116979326946853, 0.021169759271398258, 0.02116972840448773, 0.021169700380362887, 0.021169674937208404, 0.021169651837321654, 0.021169630864891997, 0.021169611823984528, 0.021169594536709625, 0.021169578841560947, 0.021169564591906585, 0.021169551654619197, 0.021169539908832174, 0.02116952924481054, 0.02116951956292568, 0.021169510772724606, 0.021169502792084894, 0.021169495546447415, 0.021169488968119824, 0.0211694829956441, 0.021169477573222416, 0.021169472650195795, 0.02116946818057086, 0.021169464122590173, 0.021169460438342034, 0.021169457093406386, 0.021169454056533147, 0.021169451299350356, 0.021169448796099024, 0.021169446523392536, 0.021169444459998136, 0.021169442586638568, 0.021169440885811974, 0.021169439341628373, 0.021169437939661244, 0.021169436666812706, 0.021169435511191183, 0.021169434462000276, 0.021169433509437924, 0.021169432644604812, 0.021169431859421235, 0.021169431146551627, 0.021169430499335992, 0.02116942991172773, 0.021169429378237112, 0.021169428893879995, 0.021169428454131275, 0.0211694280548826, 0.021169427692404, 0.02116942736330902, 0.02116942706452307, 0.021169426793254762, 0.021169426546969766, 0.02116942632336716, 0.021169426120357947, 0.02116942593604551, 0.02116942576870791, 0.02116942561678179, 0.021169425478847793, 0.02116942535361726, 0.021169425239920228, 0.02116942513669449, 0.021169425042975646, 0.02116942495788814, 0.021169424880637028, 0.021169424810500607, 0.021169424746823623, 0.02116942468901117, 0.02116942463652314, 0.021169424588869157, 0.02116942454560402, 0.02116942450632352, 0.021169424470660683, 0.021169424438282333, 0.021169424408885966, 0.021169424382196947, 0.021169424357965948, 0.021169424335966566, 0.02116942431599329, 0.02116942429785952, 0.021169424281395836, 0.021169424266448425, 0.021169424252877645, 0.021169424240556713, 0.021169424229370504]\n",
            "Epoch[92/100], loss: 0.021169\n",
            "[0.02117008324736041, 0.021170022542859615, 0.021169967429131697, 0.021169917391276757, 0.02116987196181622, 0.021169830716325458, 0.02116979326946853, 0.021169759271398258, 0.02116972840448773, 0.021169700380362887, 0.021169674937208404, 0.021169651837321654, 0.021169630864891997, 0.021169611823984528, 0.021169594536709625, 0.021169578841560947, 0.021169564591906585, 0.021169551654619197, 0.021169539908832174, 0.02116952924481054, 0.02116951956292568, 0.021169510772724606, 0.021169502792084894, 0.021169495546447415, 0.021169488968119824, 0.0211694829956441, 0.021169477573222416, 0.021169472650195795, 0.02116946818057086, 0.021169464122590173, 0.021169460438342034, 0.021169457093406386, 0.021169454056533147, 0.021169451299350356, 0.021169448796099024, 0.021169446523392536, 0.021169444459998136, 0.021169442586638568, 0.021169440885811974, 0.021169439341628373, 0.021169437939661244, 0.021169436666812706, 0.021169435511191183, 0.021169434462000276, 0.021169433509437924, 0.021169432644604812, 0.021169431859421235, 0.021169431146551627, 0.021169430499335992, 0.02116942991172773, 0.021169429378237112, 0.021169428893879995, 0.021169428454131275, 0.0211694280548826, 0.021169427692404, 0.02116942736330902, 0.02116942706452307, 0.021169426793254762, 0.021169426546969766, 0.02116942632336716, 0.021169426120357947, 0.02116942593604551, 0.02116942576870791, 0.02116942561678179, 0.021169425478847793, 0.02116942535361726, 0.021169425239920228, 0.02116942513669449, 0.021169425042975646, 0.02116942495788814, 0.021169424880637028, 0.021169424810500607, 0.021169424746823623, 0.02116942468901117, 0.02116942463652314, 0.021169424588869157, 0.02116942454560402, 0.02116942450632352, 0.021169424470660683, 0.021169424438282333, 0.021169424408885966, 0.021169424382196947, 0.021169424357965948, 0.021169424335966566, 0.02116942431599329, 0.02116942429785952, 0.021169424281395836, 0.021169424266448425, 0.021169424252877645, 0.021169424240556713, 0.021169424229370504, 0.02116942421921453]\n",
            "Epoch[93/100], loss: 0.021169\n",
            "[0.02117008324736041, 0.021170022542859615, 0.021169967429131697, 0.021169917391276757, 0.02116987196181622, 0.021169830716325458, 0.02116979326946853, 0.021169759271398258, 0.02116972840448773, 0.021169700380362887, 0.021169674937208404, 0.021169651837321654, 0.021169630864891997, 0.021169611823984528, 0.021169594536709625, 0.021169578841560947, 0.021169564591906585, 0.021169551654619197, 0.021169539908832174, 0.02116952924481054, 0.02116951956292568, 0.021169510772724606, 0.021169502792084894, 0.021169495546447415, 0.021169488968119824, 0.0211694829956441, 0.021169477573222416, 0.021169472650195795, 0.02116946818057086, 0.021169464122590173, 0.021169460438342034, 0.021169457093406386, 0.021169454056533147, 0.021169451299350356, 0.021169448796099024, 0.021169446523392536, 0.021169444459998136, 0.021169442586638568, 0.021169440885811974, 0.021169439341628373, 0.021169437939661244, 0.021169436666812706, 0.021169435511191183, 0.021169434462000276, 0.021169433509437924, 0.021169432644604812, 0.021169431859421235, 0.021169431146551627, 0.021169430499335992, 0.02116942991172773, 0.021169429378237112, 0.021169428893879995, 0.021169428454131275, 0.0211694280548826, 0.021169427692404, 0.02116942736330902, 0.02116942706452307, 0.021169426793254762, 0.021169426546969766, 0.02116942632336716, 0.021169426120357947, 0.02116942593604551, 0.02116942576870791, 0.02116942561678179, 0.021169425478847793, 0.02116942535361726, 0.021169425239920228, 0.02116942513669449, 0.021169425042975646, 0.02116942495788814, 0.021169424880637028, 0.021169424810500607, 0.021169424746823623, 0.02116942468901117, 0.02116942463652314, 0.021169424588869157, 0.02116942454560402, 0.02116942450632352, 0.021169424470660683, 0.021169424438282333, 0.021169424408885966, 0.021169424382196947, 0.021169424357965948, 0.021169424335966566, 0.02116942431599329, 0.02116942429785952, 0.021169424281395836, 0.021169424266448425, 0.021169424252877645, 0.021169424240556713, 0.021169424229370504, 0.02116942421921453, 0.021169424209993914]\n",
            "Epoch[94/100], loss: 0.021169\n",
            "[0.02117008324736041, 0.021170022542859615, 0.021169967429131697, 0.021169917391276757, 0.02116987196181622, 0.021169830716325458, 0.02116979326946853, 0.021169759271398258, 0.02116972840448773, 0.021169700380362887, 0.021169674937208404, 0.021169651837321654, 0.021169630864891997, 0.021169611823984528, 0.021169594536709625, 0.021169578841560947, 0.021169564591906585, 0.021169551654619197, 0.021169539908832174, 0.02116952924481054, 0.02116951956292568, 0.021169510772724606, 0.021169502792084894, 0.021169495546447415, 0.021169488968119824, 0.0211694829956441, 0.021169477573222416, 0.021169472650195795, 0.02116946818057086, 0.021169464122590173, 0.021169460438342034, 0.021169457093406386, 0.021169454056533147, 0.021169451299350356, 0.021169448796099024, 0.021169446523392536, 0.021169444459998136, 0.021169442586638568, 0.021169440885811974, 0.021169439341628373, 0.021169437939661244, 0.021169436666812706, 0.021169435511191183, 0.021169434462000276, 0.021169433509437924, 0.021169432644604812, 0.021169431859421235, 0.021169431146551627, 0.021169430499335992, 0.02116942991172773, 0.021169429378237112, 0.021169428893879995, 0.021169428454131275, 0.0211694280548826, 0.021169427692404, 0.02116942736330902, 0.02116942706452307, 0.021169426793254762, 0.021169426546969766, 0.02116942632336716, 0.021169426120357947, 0.02116942593604551, 0.02116942576870791, 0.02116942561678179, 0.021169425478847793, 0.02116942535361726, 0.021169425239920228, 0.02116942513669449, 0.021169425042975646, 0.02116942495788814, 0.021169424880637028, 0.021169424810500607, 0.021169424746823623, 0.02116942468901117, 0.02116942463652314, 0.021169424588869157, 0.02116942454560402, 0.02116942450632352, 0.021169424470660683, 0.021169424438282333, 0.021169424408885966, 0.021169424382196947, 0.021169424357965948, 0.021169424335966566, 0.02116942431599329, 0.02116942429785952, 0.021169424281395836, 0.021169424266448425, 0.021169424252877645, 0.021169424240556713, 0.021169424229370504, 0.02116942421921453, 0.021169424209993914, 0.02116942420162249]\n",
            "Epoch[95/100], loss: 0.021169\n",
            "[0.02117008324736041, 0.021170022542859615, 0.021169967429131697, 0.021169917391276757, 0.02116987196181622, 0.021169830716325458, 0.02116979326946853, 0.021169759271398258, 0.02116972840448773, 0.021169700380362887, 0.021169674937208404, 0.021169651837321654, 0.021169630864891997, 0.021169611823984528, 0.021169594536709625, 0.021169578841560947, 0.021169564591906585, 0.021169551654619197, 0.021169539908832174, 0.02116952924481054, 0.02116951956292568, 0.021169510772724606, 0.021169502792084894, 0.021169495546447415, 0.021169488968119824, 0.0211694829956441, 0.021169477573222416, 0.021169472650195795, 0.02116946818057086, 0.021169464122590173, 0.021169460438342034, 0.021169457093406386, 0.021169454056533147, 0.021169451299350356, 0.021169448796099024, 0.021169446523392536, 0.021169444459998136, 0.021169442586638568, 0.021169440885811974, 0.021169439341628373, 0.021169437939661244, 0.021169436666812706, 0.021169435511191183, 0.021169434462000276, 0.021169433509437924, 0.021169432644604812, 0.021169431859421235, 0.021169431146551627, 0.021169430499335992, 0.02116942991172773, 0.021169429378237112, 0.021169428893879995, 0.021169428454131275, 0.0211694280548826, 0.021169427692404, 0.02116942736330902, 0.02116942706452307, 0.021169426793254762, 0.021169426546969766, 0.02116942632336716, 0.021169426120357947, 0.02116942593604551, 0.02116942576870791, 0.02116942561678179, 0.021169425478847793, 0.02116942535361726, 0.021169425239920228, 0.02116942513669449, 0.021169425042975646, 0.02116942495788814, 0.021169424880637028, 0.021169424810500607, 0.021169424746823623, 0.02116942468901117, 0.02116942463652314, 0.021169424588869157, 0.02116942454560402, 0.02116942450632352, 0.021169424470660683, 0.021169424438282333, 0.021169424408885966, 0.021169424382196947, 0.021169424357965948, 0.021169424335966566, 0.02116942431599329, 0.02116942429785952, 0.021169424281395836, 0.021169424266448425, 0.021169424252877645, 0.021169424240556713, 0.021169424229370504, 0.02116942421921453, 0.021169424209993914, 0.02116942420162249, 0.021169424194022055]\n",
            "Epoch[96/100], loss: 0.021169\n",
            "[0.02117008324736041, 0.021170022542859615, 0.021169967429131697, 0.021169917391276757, 0.02116987196181622, 0.021169830716325458, 0.02116979326946853, 0.021169759271398258, 0.02116972840448773, 0.021169700380362887, 0.021169674937208404, 0.021169651837321654, 0.021169630864891997, 0.021169611823984528, 0.021169594536709625, 0.021169578841560947, 0.021169564591906585, 0.021169551654619197, 0.021169539908832174, 0.02116952924481054, 0.02116951956292568, 0.021169510772724606, 0.021169502792084894, 0.021169495546447415, 0.021169488968119824, 0.0211694829956441, 0.021169477573222416, 0.021169472650195795, 0.02116946818057086, 0.021169464122590173, 0.021169460438342034, 0.021169457093406386, 0.021169454056533147, 0.021169451299350356, 0.021169448796099024, 0.021169446523392536, 0.021169444459998136, 0.021169442586638568, 0.021169440885811974, 0.021169439341628373, 0.021169437939661244, 0.021169436666812706, 0.021169435511191183, 0.021169434462000276, 0.021169433509437924, 0.021169432644604812, 0.021169431859421235, 0.021169431146551627, 0.021169430499335992, 0.02116942991172773, 0.021169429378237112, 0.021169428893879995, 0.021169428454131275, 0.0211694280548826, 0.021169427692404, 0.02116942736330902, 0.02116942706452307, 0.021169426793254762, 0.021169426546969766, 0.02116942632336716, 0.021169426120357947, 0.02116942593604551, 0.02116942576870791, 0.02116942561678179, 0.021169425478847793, 0.02116942535361726, 0.021169425239920228, 0.02116942513669449, 0.021169425042975646, 0.02116942495788814, 0.021169424880637028, 0.021169424810500607, 0.021169424746823623, 0.02116942468901117, 0.02116942463652314, 0.021169424588869157, 0.02116942454560402, 0.02116942450632352, 0.021169424470660683, 0.021169424438282333, 0.021169424408885966, 0.021169424382196947, 0.021169424357965948, 0.021169424335966566, 0.02116942431599329, 0.02116942429785952, 0.021169424281395836, 0.021169424266448425, 0.021169424252877645, 0.021169424240556713, 0.021169424229370504, 0.02116942421921453, 0.021169424209993914, 0.02116942420162249, 0.021169424194022055, 0.021169424187121613]\n",
            "Epoch[97/100], loss: 0.021169\n",
            "[0.02117008324736041, 0.021170022542859615, 0.021169967429131697, 0.021169917391276757, 0.02116987196181622, 0.021169830716325458, 0.02116979326946853, 0.021169759271398258, 0.02116972840448773, 0.021169700380362887, 0.021169674937208404, 0.021169651837321654, 0.021169630864891997, 0.021169611823984528, 0.021169594536709625, 0.021169578841560947, 0.021169564591906585, 0.021169551654619197, 0.021169539908832174, 0.02116952924481054, 0.02116951956292568, 0.021169510772724606, 0.021169502792084894, 0.021169495546447415, 0.021169488968119824, 0.0211694829956441, 0.021169477573222416, 0.021169472650195795, 0.02116946818057086, 0.021169464122590173, 0.021169460438342034, 0.021169457093406386, 0.021169454056533147, 0.021169451299350356, 0.021169448796099024, 0.021169446523392536, 0.021169444459998136, 0.021169442586638568, 0.021169440885811974, 0.021169439341628373, 0.021169437939661244, 0.021169436666812706, 0.021169435511191183, 0.021169434462000276, 0.021169433509437924, 0.021169432644604812, 0.021169431859421235, 0.021169431146551627, 0.021169430499335992, 0.02116942991172773, 0.021169429378237112, 0.021169428893879995, 0.021169428454131275, 0.0211694280548826, 0.021169427692404, 0.02116942736330902, 0.02116942706452307, 0.021169426793254762, 0.021169426546969766, 0.02116942632336716, 0.021169426120357947, 0.02116942593604551, 0.02116942576870791, 0.02116942561678179, 0.021169425478847793, 0.02116942535361726, 0.021169425239920228, 0.02116942513669449, 0.021169425042975646, 0.02116942495788814, 0.021169424880637028, 0.021169424810500607, 0.021169424746823623, 0.02116942468901117, 0.02116942463652314, 0.021169424588869157, 0.02116942454560402, 0.02116942450632352, 0.021169424470660683, 0.021169424438282333, 0.021169424408885966, 0.021169424382196947, 0.021169424357965948, 0.021169424335966566, 0.02116942431599329, 0.02116942429785952, 0.021169424281395836, 0.021169424266448425, 0.021169424252877645, 0.021169424240556713, 0.021169424229370504, 0.02116942421921453, 0.021169424209993914, 0.02116942420162249, 0.021169424194022055, 0.021169424187121613, 0.021169424180856686]\n",
            "Epoch[98/100], loss: 0.021169\n",
            "[0.02117008324736041, 0.021170022542859615, 0.021169967429131697, 0.021169917391276757, 0.02116987196181622, 0.021169830716325458, 0.02116979326946853, 0.021169759271398258, 0.02116972840448773, 0.021169700380362887, 0.021169674937208404, 0.021169651837321654, 0.021169630864891997, 0.021169611823984528, 0.021169594536709625, 0.021169578841560947, 0.021169564591906585, 0.021169551654619197, 0.021169539908832174, 0.02116952924481054, 0.02116951956292568, 0.021169510772724606, 0.021169502792084894, 0.021169495546447415, 0.021169488968119824, 0.0211694829956441, 0.021169477573222416, 0.021169472650195795, 0.02116946818057086, 0.021169464122590173, 0.021169460438342034, 0.021169457093406386, 0.021169454056533147, 0.021169451299350356, 0.021169448796099024, 0.021169446523392536, 0.021169444459998136, 0.021169442586638568, 0.021169440885811974, 0.021169439341628373, 0.021169437939661244, 0.021169436666812706, 0.021169435511191183, 0.021169434462000276, 0.021169433509437924, 0.021169432644604812, 0.021169431859421235, 0.021169431146551627, 0.021169430499335992, 0.02116942991172773, 0.021169429378237112, 0.021169428893879995, 0.021169428454131275, 0.0211694280548826, 0.021169427692404, 0.02116942736330902, 0.02116942706452307, 0.021169426793254762, 0.021169426546969766, 0.02116942632336716, 0.021169426120357947, 0.02116942593604551, 0.02116942576870791, 0.02116942561678179, 0.021169425478847793, 0.02116942535361726, 0.021169425239920228, 0.02116942513669449, 0.021169425042975646, 0.02116942495788814, 0.021169424880637028, 0.021169424810500607, 0.021169424746823623, 0.02116942468901117, 0.02116942463652314, 0.021169424588869157, 0.02116942454560402, 0.02116942450632352, 0.021169424470660683, 0.021169424438282333, 0.021169424408885966, 0.021169424382196947, 0.021169424357965948, 0.021169424335966566, 0.02116942431599329, 0.02116942429785952, 0.021169424281395836, 0.021169424266448425, 0.021169424252877645, 0.021169424240556713, 0.021169424229370504, 0.02116942421921453, 0.021169424209993914, 0.02116942420162249, 0.021169424194022055, 0.021169424187121613, 0.021169424180856686, 0.021169424175168747]\n",
            "Epoch[99/100], loss: 0.021169\n",
            "[0.02117008324736041, 0.021170022542859615, 0.021169967429131697, 0.021169917391276757, 0.02116987196181622, 0.021169830716325458, 0.02116979326946853, 0.021169759271398258, 0.02116972840448773, 0.021169700380362887, 0.021169674937208404, 0.021169651837321654, 0.021169630864891997, 0.021169611823984528, 0.021169594536709625, 0.021169578841560947, 0.021169564591906585, 0.021169551654619197, 0.021169539908832174, 0.02116952924481054, 0.02116951956292568, 0.021169510772724606, 0.021169502792084894, 0.021169495546447415, 0.021169488968119824, 0.0211694829956441, 0.021169477573222416, 0.021169472650195795, 0.02116946818057086, 0.021169464122590173, 0.021169460438342034, 0.021169457093406386, 0.021169454056533147, 0.021169451299350356, 0.021169448796099024, 0.021169446523392536, 0.021169444459998136, 0.021169442586638568, 0.021169440885811974, 0.021169439341628373, 0.021169437939661244, 0.021169436666812706, 0.021169435511191183, 0.021169434462000276, 0.021169433509437924, 0.021169432644604812, 0.021169431859421235, 0.021169431146551627, 0.021169430499335992, 0.02116942991172773, 0.021169429378237112, 0.021169428893879995, 0.021169428454131275, 0.0211694280548826, 0.021169427692404, 0.02116942736330902, 0.02116942706452307, 0.021169426793254762, 0.021169426546969766, 0.02116942632336716, 0.021169426120357947, 0.02116942593604551, 0.02116942576870791, 0.02116942561678179, 0.021169425478847793, 0.02116942535361726, 0.021169425239920228, 0.02116942513669449, 0.021169425042975646, 0.02116942495788814, 0.021169424880637028, 0.021169424810500607, 0.021169424746823623, 0.02116942468901117, 0.02116942463652314, 0.021169424588869157, 0.02116942454560402, 0.02116942450632352, 0.021169424470660683, 0.021169424438282333, 0.021169424408885966, 0.021169424382196947, 0.021169424357965948, 0.021169424335966566, 0.02116942431599329, 0.02116942429785952, 0.021169424281395836, 0.021169424266448425, 0.021169424252877645, 0.021169424240556713, 0.021169424229370504, 0.02116942421921453, 0.021169424209993914, 0.02116942420162249, 0.021169424194022055, 0.021169424187121613, 0.021169424180856686, 0.021169424175168747, 0.021169424170004655]\n",
            "Epoch[100/100], loss: 0.021169\n",
            "[0.02117008324736041, 0.021170022542859615, 0.021169967429131697, 0.021169917391276757, 0.02116987196181622, 0.021169830716325458, 0.02116979326946853, 0.021169759271398258, 0.02116972840448773, 0.021169700380362887, 0.021169674937208404, 0.021169651837321654, 0.021169630864891997, 0.021169611823984528, 0.021169594536709625, 0.021169578841560947, 0.021169564591906585, 0.021169551654619197, 0.021169539908832174, 0.02116952924481054, 0.02116951956292568, 0.021169510772724606, 0.021169502792084894, 0.021169495546447415, 0.021169488968119824, 0.0211694829956441, 0.021169477573222416, 0.021169472650195795, 0.02116946818057086, 0.021169464122590173, 0.021169460438342034, 0.021169457093406386, 0.021169454056533147, 0.021169451299350356, 0.021169448796099024, 0.021169446523392536, 0.021169444459998136, 0.021169442586638568, 0.021169440885811974, 0.021169439341628373, 0.021169437939661244, 0.021169436666812706, 0.021169435511191183, 0.021169434462000276, 0.021169433509437924, 0.021169432644604812, 0.021169431859421235, 0.021169431146551627, 0.021169430499335992, 0.02116942991172773, 0.021169429378237112, 0.021169428893879995, 0.021169428454131275, 0.0211694280548826, 0.021169427692404, 0.02116942736330902, 0.02116942706452307, 0.021169426793254762, 0.021169426546969766, 0.02116942632336716, 0.021169426120357947, 0.02116942593604551, 0.02116942576870791, 0.02116942561678179, 0.021169425478847793, 0.02116942535361726, 0.021169425239920228, 0.02116942513669449, 0.021169425042975646, 0.02116942495788814, 0.021169424880637028, 0.021169424810500607, 0.021169424746823623, 0.02116942468901117, 0.02116942463652314, 0.021169424588869157, 0.02116942454560402, 0.02116942450632352, 0.021169424470660683, 0.021169424438282333, 0.021169424408885966, 0.021169424382196947, 0.021169424357965948, 0.021169424335966566, 0.02116942431599329, 0.02116942429785952, 0.021169424281395836, 0.021169424266448425, 0.021169424252877645, 0.021169424240556713, 0.021169424229370504, 0.02116942421921453, 0.021169424209993914, 0.02116942420162249, 0.021169424194022055, 0.021169424187121613, 0.021169424180856686, 0.021169424175168747, 0.021169424170004655, 0.02116942416531617]\n"
          ]
        }
      ]
    },
    {
      "cell_type": "code",
      "source": [
        "# 2ª atividade\n",
        "model3 = Net(2,1)\n",
        "print(model3.w)\n",
        "y_pred = model3.forward(x_train_bias)\n",
        "#loss calculo da função de perda\n",
        "loss = np.square (y_pred - y_train.mean())\n",
        "print(\"perda sem treinamento\")\n",
        "print(loss)\n"
      ],
      "metadata": {
        "colab": {
          "base_uri": "https://localhost:8080/"
        },
        "id": "VSApgfNJW4Q6",
        "outputId": "3233b192-6ccf-4eff-967e-83294e746ba3"
      },
      "execution_count": 22,
      "outputs": [
        {
          "output_type": "stream",
          "name": "stdout",
          "text": [
            "[[0.08662802 0.03027563]]\n",
            "perda sem treinamento\n",
            "[[0.23338208]\n",
            " [0.24181465]\n",
            " [0.23477712]\n",
            " [0.2547441 ]\n",
            " [0.24039883]\n",
            " [0.25184179]\n",
            " [0.24323463]\n",
            " [0.26355079]\n",
            " [0.23898717]\n",
            " [0.25912874]\n",
            " [0.26207261]\n",
            " [0.24895611]\n",
            " [0.2475195 ]\n",
            " [0.24608705]\n",
            " [0.25329086]\n",
            " [0.23757966]\n",
            " [0.25329086]\n",
            " [0.25039687]\n",
            " [0.24465876]\n",
            " [0.25329086]\n",
            " [0.24895611]\n",
            " [0.24608705]\n",
            " [0.24323463]\n",
            " [0.24608705]\n",
            " [0.24181465]\n",
            " [0.23898717]\n",
            " [0.23617631]\n",
            " [0.23757966]\n",
            " [0.2475195 ]\n",
            " [0.25184179]\n",
            " [0.2547441 ]\n",
            " [0.2547441 ]\n",
            " [0.25039687]\n",
            " [0.2475195 ]\n",
            " [0.25620149]\n",
            " [0.2475195 ]\n",
            " [0.23757966]\n",
            " [0.24323463]\n",
            " [0.25329086]\n",
            " [0.2547441 ]\n",
            " [0.2547441 ]\n",
            " [0.24608705]\n",
            " [0.25039687]\n",
            " [0.26207261]\n",
            " [0.25329086]\n",
            " [0.25184179]\n",
            " [0.25184179]\n",
            " [0.24465876]\n",
            " [0.2605986 ]\n",
            " [0.25184179]]\n"
          ]
        }
      ]
    },
    {
      "cell_type": "code",
      "source": [
        "# 3ª Atividade\n",
        "model4 = Net(2,1)\n",
        "x = x_train_bias\n",
        "y = y_train\n",
        "w_opt = (np.linalg.inv((x.T).dot(x)).dot(x.T).dot(y))\n",
        "model4.w[0][0] = w_opt[0]\n",
        "model4.w[0][1] = w_opt [1]\n",
        "print (model4.w)\n",
        "\n",
        "y_pred_otimo = model4.forward(x_train_bias)\n",
        "loss_otima = np.square(y_pred_otimo - y_train).mean()\n",
        "print(\"Perda_ótimo\")\n",
        "print(loss_otima)\n",
        "\n",
        "y_pred_treinamento = model.forward (x_train_bias)\n",
        "loss_treinamento = np.square(y_pred_treinamento - y_train).mean()\n",
        "print(\"Perda de Treinamento\")\n",
        "print(loss_treinamento)\n"
      ],
      "metadata": {
        "colab": {
          "base_uri": "https://localhost:8080/"
        },
        "id": "23Km2v3BY548",
        "outputId": "b32adb23-a8af-48ea-ac38-75734b2f2ad4"
      },
      "execution_count": 23,
      "outputs": [
        {
          "output_type": "stream",
          "name": "stdout",
          "text": [
            "[[0.26134159 0.68646976]]\n",
            "Perda_ótimo\n",
            "0.021169424119097165\n",
            "Perda de Treinamento\n",
            "0.02116942416105948\n"
          ]
        },
        {
          "output_type": "stream",
          "name": "stderr",
          "text": [
            "<ipython-input-23-674be2db380d>:6: DeprecationWarning: Conversion of an array with ndim > 0 to a scalar is deprecated, and will error in future. Ensure you extract a single element from your array before performing this operation. (Deprecated NumPy 1.25.)\n",
            "  model4.w[0][0] = w_opt[0]\n",
            "<ipython-input-23-674be2db380d>:7: DeprecationWarning: Conversion of an array with ndim > 0 to a scalar is deprecated, and will error in future. Ensure you extract a single element from your array before performing this operation. (Deprecated NumPy 1.25.)\n",
            "  model4.w[0][1] = w_opt [1]\n"
          ]
        }
      ]
    },
    {
      "cell_type": "markdown",
      "metadata": {
        "collapsed": true,
        "id": "tgmMhSm2f9S4"
      },
      "source": [
        "# Aprendizados"
      ]
    },
    {
      "cell_type": "markdown",
      "source": [
        "Neste trabalho, foi explorada a aplicação de regressão linear utilizando a biblioteca Numpy para prever o comprimento das sépalas da íris com base no comprimento das pétalas.\n",
        "\n",
        "Para isso, foram realizadas as etapas de importação das bibliotecas, leitura dos dados e normalização adequada das informações.\n",
        "\n",
        "Na construção do modelo, foram desenvolvidos diversos processos, como a plotagem da reta de ajuste, a implementação do modelo de regressão linear, a formulação matricial do neurônio, a previsão de várias amostras, a inclusão da coluna de 1's em x para o termo de bias, a criação da rede e a inicialização do modelo, a validação inicial do predict da rede (antes do treinamento), o treinamento por gradiente descendente e, finalmente, a análise dos resultados obtidos.\n",
        "\n",
        "Dessa forma, é essencial estruturar cada etapa com atenção para garantir a otimização dos resultados."
      ],
      "metadata": {
        "id": "WRWD47Ozh76u"
      }
    }
  ],
  "metadata": {
    "colab": {
      "provenance": []
    },
    "kernelspec": {
      "display_name": "Python 3",
      "name": "python3"
    },
    "language_info": {
      "name": "python",
      "version": "3.10.2"
    },
    "vscode": {
      "interpreter": {
        "hash": "5fe3e6f0cdaab8afdc61c52912fda83f7c0a71baaea1897dd7498e2df01e69ec"
      }
    }
  },
  "nbformat": 4,
  "nbformat_minor": 0
}